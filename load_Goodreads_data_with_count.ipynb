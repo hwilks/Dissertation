{
 "cells": [
  {
   "cell_type": "code",
   "execution_count": 2,
   "id": "883473bc-5690-482f-b1e8-f887d15838b1",
   "metadata": {},
   "outputs": [],
   "source": [
    "import gzip\n",
    "import json\n",
    "import re\n",
    "import os\n",
    "import sys\n",
    "import numpy as np\n",
    "import pandas as pd"
   ]
  },
  {
   "cell_type": "code",
   "execution_count": 10,
   "id": "1a393b71-789d-4831-a5d6-8b5011660c1b",
   "metadata": {},
   "outputs": [],
   "source": [
    "#https://github.com/MengtingWan/goodreads/blob/master/samples.ipynb\n",
    "def load_data_books(file_name, head = None):\n",
    "    count = 0\n",
    "    data = []\n",
    "    with gzip.open(file_name) as fin:\n",
    "        for l in fin:\n",
    "            d = json.loads(l)\n",
    "            authors = d['authors']\n",
    "            aut_ids = []\n",
    "            for author in authors:\n",
    "                aut_ids.append(author['author_id'])\n",
    "            item = {'book_id': d['book_id'], \n",
    "                    'title':d['title'], \n",
    "                    'author_ids':aut_ids, \n",
    "                    'average_rating':d['average_rating'],\n",
    "                    'ratings_count':d['ratings_count']}\n",
    "            count += 1\n",
    "            data.append(item)\n",
    "    \n",
    "            # break if reaches head\n",
    "            if (head is not None) and (count > head):\n",
    "                break\n",
    "            \n",
    "    return data"
   ]
  },
  {
   "cell_type": "code",
   "execution_count": 8,
   "id": "64425158-8191-4c1d-ae78-afdfc01734af",
   "metadata": {},
   "outputs": [],
   "source": [
    "#https://github.com/MengtingWan/goodreads/blob/master/samples.ipynb\n",
    "def load_data_reviews(file_name, head = None):\n",
    "    count = 0\n",
    "    data = []\n",
    "    with gzip.open(file_name) as fin:\n",
    "        for l in fin:\n",
    "            d = json.loads(l)\n",
    "            item = {'book_id': d['book_id'], 'rating':d['rating'], 'review_text':d['review_text']}\n",
    "            count += 1\n",
    "            data.append(item)\n",
    "    \n",
    "            # break if reaches head\n",
    "            if (head is not None) and (count > head):\n",
    "                break\n",
    "            \n",
    "    return data"
   ]
  },
  {
   "cell_type": "code",
   "execution_count": 5,
   "id": "d1d5ab50-6928-46be-b5f5-afd34a1e3f95",
   "metadata": {},
   "outputs": [],
   "source": [
    "#https://github.com/MengtingWan/goodreads/blob/master/samples.ipynb\n",
    "def load_data_authors(file_name, head = None):\n",
    "    count = 0\n",
    "    data = []\n",
    "    with gzip.open(file_name) as fin:\n",
    "        for l in fin:\n",
    "            d = json.loads(l)\n",
    "            item = {'id': d['author_id'], 'name':d['name']}\n",
    "            count += 1\n",
    "            data.append(item)\n",
    "    \n",
    "            # break if reaches head\n",
    "            if (head is not None) and (count > head):\n",
    "                break\n",
    "            \n",
    "    return data"
   ]
  },
  {
   "cell_type": "code",
   "execution_count": 11,
   "id": "a840d485-6eb2-40b5-a68a-164f6fe70be0",
   "metadata": {},
   "outputs": [],
   "source": [
    "DIR = './'\n",
    "\n",
    "BOOKS = load_data_books(os.path.join(DIR, 'goodreads_books.json.gz'))"
   ]
  },
  {
   "cell_type": "code",
   "execution_count": 12,
   "id": "c10d3c96-192a-4919-a7c5-aad0c6a82b38",
   "metadata": {},
   "outputs": [
    {
     "name": "stdout",
     "output_type": "stream",
     "text": [
      "{'book_id': '287141', 'title': 'The Aeneid for Boys and Girls', 'author_ids': ['3041852'], 'average_rating': '4.13', 'ratings_count': '46'}\n"
     ]
    }
   ],
   "source": [
    "print(BOOKS[5])"
   ]
  },
  {
   "cell_type": "code",
   "execution_count": 13,
   "id": "70932f29-c5f3-4796-8640-3159e07f9648",
   "metadata": {},
   "outputs": [
    {
     "name": "stdout",
     "output_type": "stream",
     "text": [
      "1333909 Good Harbor 3.23\n",
      "2360655\n"
     ]
    }
   ],
   "source": [
    "print(BOOKS[1]['book_id'],BOOKS[1]['title'], BOOKS[1]['average_rating'])\n",
    "print(len(BOOKS))"
   ]
  },
  {
   "cell_type": "code",
   "execution_count": 14,
   "id": "ceed944d-af0f-4776-b575-35f0cc989142",
   "metadata": {},
   "outputs": [],
   "source": [
    "REVIEWS = load_data_reviews(os.path.join(DIR, 'goodreads_reviews_dedup.json.gz'))"
   ]
  },
  {
   "cell_type": "code",
   "execution_count": 15,
   "id": "9da31aff-696b-4d28-9c27-798c58e75aea",
   "metadata": {},
   "outputs": [
    {
     "name": "stdout",
     "output_type": "stream",
     "text": [
      "{'book_id': '6392944', 'rating': 3, 'review_text': \"I haven't read a fun mystery book in a while and not sure I've ever read Poirot. Was looking for a fun read set in France while I was on holiday there and this didn't disappoint! Fast paced and good mystery. \\n One that struck me was how similar Poirot is to Sherlock. They are both detectives, have a ex-military sidekick who is telling the story, and solve mysteries using their superior wit. Poirot seems like a French Sherlock. I'm curious if he was inspired by Sherlock.\"}\n",
      "15739967\n"
     ]
    }
   ],
   "source": [
    "print(REVIEWS[2])\n",
    "print(len(REVIEWS))"
   ]
  },
  {
   "cell_type": "code",
   "execution_count": 16,
   "id": "cabe1de5-0a91-45b9-a89f-e10ec1212a83",
   "metadata": {},
   "outputs": [],
   "source": [
    "AUTHORS = load_data_authors(os.path.join(DIR, 'goodreads_book_authors.json.gz'))"
   ]
  },
  {
   "cell_type": "code",
   "execution_count": 17,
   "id": "7c17e083-97ab-472d-8827-45c209771ac1",
   "metadata": {},
   "outputs": [
    {
     "name": "stdout",
     "output_type": "stream",
     "text": [
      "{'id': '626222', 'name': 'Anita Diamant'}\n"
     ]
    }
   ],
   "source": [
    "print(AUTHORS[1])"
   ]
  },
  {
   "cell_type": "markdown",
   "id": "81b36ae6-222b-41d6-96bb-32a0e3635609",
   "metadata": {},
   "source": [
    "## Create data"
   ]
  },
  {
   "cell_type": "code",
   "execution_count": 18,
   "id": "ec67083b-a5c5-40be-95f7-7659a92321b4",
   "metadata": {},
   "outputs": [],
   "source": [
    "stories = []\n",
    "with open(\"short_stories_under_2k.jsonl\", \"r\", encoding=\"utf-8\") as f:\n",
    "    for line in f:\n",
    "        stories.append(json.loads(line))"
   ]
  },
  {
   "cell_type": "code",
   "execution_count": 20,
   "id": "9c0e34b0-3d75-4d6b-ae52-140e5450a1e3",
   "metadata": {},
   "outputs": [],
   "source": [
    "def find_id_by_title_2(title_to_find, author):\n",
    "    skip = False\n",
    "    ids = []\n",
    "    total_ratings = 0\n",
    "    count = 0\n",
    "    author_ids = []\n",
    "    for item in BOOKS:\n",
    "        if title_to_find in item['title']:\n",
    "            if title_to_find == item['title']:\n",
    "                names = []\n",
    "                for aut_id in item['author_ids']:\n",
    "                    name = find_name_by_id(aut_id)\n",
    "                    if name:\n",
    "                        names.append(name)\n",
    "                    \n",
    "                if author not in names:\n",
    "                    print('Check this makes sense for', title_to_find, ':', author, names)\n",
    "                    response = input('Does this make sense y/n? ')\n",
    "                    if response == 'n':\n",
    "                        continue\n",
    "            elif (skip == False):\n",
    "                print('Compare books:', title_to_find,' by ',author, ' , ',item['title'])\n",
    "                response = input('Are these the same? y/n ')\n",
    "                if response == 'n':\n",
    "                    continue\n",
    "                elif response == 's':\n",
    "                    skip = True\n",
    "                    continue\n",
    "\n",
    "            ids.append(item['book_id'])\n",
    "            try:\n",
    "                rating_av = float(item['average_rating'])\n",
    "                num = int(item['ratings_count'])\n",
    "                total_ratings += rating_av * num\n",
    "                count += num\n",
    "            except (ValueError, TypeError, KeyError):\n",
    "                pass\n",
    "            \n",
    "            for aut in item['author_ids']:\n",
    "                if aut not in author_ids:\n",
    "                    author_ids.append(aut)\n",
    "    if count == 0:\n",
    "        average_rating = 0\n",
    "    else:\n",
    "        average_rating = total_ratings / count\n",
    "    return ids, average_rating, author_ids, count\n",
    "\n",
    "\n",
    "def find_info_by_title(title_to_find,author):\n",
    "    ids = []\n",
    "    total_ratings = 0\n",
    "    count = 0\n",
    "    author_ids = []\n",
    "    for item in BOOKS:\n",
    "        if title_to_find == item['title']:\n",
    "            names = []\n",
    "            for aut_id in item['author_ids']:\n",
    "                name = find_name_by_id(aut_id)\n",
    "                if name:\n",
    "                    names.append(name)\n",
    "                \n",
    "            if author not in names:\n",
    "                continue\n",
    "\n",
    "\n",
    "            ids.append(item['book_id'])\n",
    "            try:\n",
    "                rating_av = float(item['average_rating'])\n",
    "                num = int(item['ratings_count'])\n",
    "                total_ratings += rating_av * num\n",
    "                count += num\n",
    "            except (ValueError, TypeError, KeyError):\n",
    "                pass\n",
    "            \n",
    "            for aut in item['author_ids']:\n",
    "                if aut not in author_ids:\n",
    "                    author_ids.append(aut)\n",
    "                    \n",
    "    if count == 0:\n",
    "        average_rating = 0\n",
    "    else:\n",
    "        average_rating = total_ratings / count\n",
    "    return ids, average_rating, author_ids, count\n",
    "\n",
    "def find_reviews_by_id(ids):\n",
    "    this_book_reviews = []\n",
    "    for id in ids:\n",
    "        for item in REVIEWS:\n",
    "            if item['book_id'] == id:\n",
    "                review = {'rating': item['rating'], 'text': item['review_text']}\n",
    "                this_book_reviews.append(review)\n",
    "    return this_book_reviews\n",
    "\n",
    "def find_name_by_id(id):\n",
    "    for author in AUTHORS:\n",
    "        if author['id'] == id:\n",
    "            return author['name']\n",
    "    return None\n",
    "\n",
    "\n"
   ]
  },
  {
   "cell_type": "code",
   "execution_count": 21,
   "id": "99c96160-51a0-4280-a99e-f4ffea798b7b",
   "metadata": {
    "scrolled": true
   },
   "outputs": [
    {
     "name": "stdout",
     "output_type": "stream",
     "text": [
      "The Child’s Story by Charles Dickens  not found in Goodreads\n",
      "The Bookshop by Aldous Huxley  not found in Goodreads\n",
      "Dead Woman’s Secret by Guy de Maupassant  not found in Goodreads\n",
      "The Little Red Christmas Tree by Aleksandr I. Kuprin  not found in Goodreads\n",
      "The Land of Counterpane by Robert Louis Stevenson  not found in Goodreads\n",
      "Clancy of the Overflow by Banjo Paterson  not found in Goodreads\n",
      "Old Pardon, the Son of Reprieve by Banjo Paterson  not found in Goodreads\n",
      "Black Swans by Banjo Paterson  not found in Goodreads\n",
      "An Idyll of Dandaloo by Banjo Paterson  not found in Goodreads\n",
      "The Dog by Banjo Paterson  not found in Goodreads\n",
      "The Virgin by Rudyard Kipling  not found in Goodreads\n",
      "A Diagnosis of Death by Ambrose Bierce  not found in Goodreads\n",
      "Praise the Generous Gods by William Ernest Henley  not found in Goodreads\n",
      "The Eagle and the Fox by Aesop  not found in Goodreads\n",
      "The North Wind and the Sun by Aesop  not found in Goodreads\n",
      "The Crab and His Mother by Aesop  not found in Goodreads\n",
      "The Leopard Man’s Story by Jack London  not found in Goodreads\n",
      "The Miller, His Son, and Their Ass by Aesop  not found in Goodreads\n",
      "Mr. and Mrs. Vinegar by Flora Annie Steel  not found in Goodreads\n",
      "The Thing in the Moonlight by H. P. Lovecraft  not found in Goodreads\n",
      "Demir-kayá by Aleksandr I. Kuprin  not found in Goodreads\n",
      "The Farmer and the Fox by Aesop  not found in Goodreads\n",
      "Come-By-Chance by Banjo Paterson  not found in Goodreads\n",
      "The Laidly Worm by Flora Annie Steel  not found in Goodreads\n",
      "The Boar-Pig by Saki  not found in Goodreads\n",
      "The Recovery by Kate Chopin  not found in Goodreads\n",
      "A Love by The Sea by William Ernest Henley  not found in Goodreads\n",
      "The Wolf in Sheep’s Clothing by Aesop  not found in Goodreads\n",
      "The Last Incantation by Clark Ashton Smith  not found in Goodreads\n",
      "Coming by Charlotte Perkins Gilman  not found in Goodreads\n",
      "Jim Carew by Banjo Paterson  not found in Goodreads\n",
      "The Feast of Nemesis by Saki  not found in Goodreads\n",
      "The Fox and the Crow by Aesop  not found in Goodreads\n",
      "The Doer of Good by Oscar Wilde  not found in Goodreads\n",
      "The Oracle at the Private Bar by Banjo Paterson  not found in Goodreads\n",
      "The Boy and the Filberts by Aesop  not found in Goodreads\n",
      "Lost by Banjo Paterson  not found in Goodreads\n",
      "She Walketh Veiled and Sleeping by Charlotte Perkins Gilman  not found in Goodreads\n",
      "A Strange Story by O. Henry  not found in Goodreads\n",
      "Rapunzel by Brothers Grimm  not found in Goodreads\n",
      "Ibid by H. P. Lovecraft  not found in Goodreads\n",
      "The Mice and the Weasels by Aesop  not found in Goodreads\n",
      "The Amateur Rider by Banjo Paterson  not found in Goodreads\n",
      "Requiescat by Oscar Wilde  not found in Goodreads\n",
      "Saltbush Bill by Banjo Paterson  not found in Goodreads\n",
      "The Heavenly Christmas Tree by Fyodor Dostoevsky  not found in Goodreads\n",
      "The Rose Tree by Flora Annie Steel  not found in Goodreads\n",
      "Father and Sons by Aesop  not found in Goodreads\n",
      "A Legend by Aleksandr I. Kuprin  not found in Goodreads\n",
      "Lawkamercyme by Flora Annie Steel  not found in Goodreads\n",
      "Ex Oblivione by H. P. Lovecraft  not found in Goodreads\n",
      "Steelman’s Pupil by Henry Lawson  not found in Goodreads\n",
      "The Dog and the Shadow by Aesop  not found in Goodreads\n",
      "How The Whale Got His Throat by Rudyard Kipling  not found in Goodreads\n",
      "Filboid Studge, The Story of a Mouse that Helped by Saki  not found in Goodreads\n",
      "The Emperor’s New Clothes by Hans Christian Andersen  not found in Goodreads\n",
      "Hills Like White Elephants by Ernest Hemmingway  not found in Goodreads\n",
      "The Last Parade by Banjo Paterson  not found in Goodreads\n",
      "Chiming a Dream by William Ernest Henley  not found in Goodreads\n",
      "The Frog-Prince by Brothers Grimm  not found in Goodreads\n",
      "Under the Shadow of Kiley’s Hill by Banjo Paterson  not found in Goodreads\n",
      "The Evil Clergyman by H. P. Lovecraft  not found in Goodreads\n",
      "In the Forest of Villefère by Robert E. Howard  not found in Goodreads\n",
      "The Thief by René Maizeroy  not found in Goodreads\n",
      "A Vision of Judgment by H. G. Wells  not found in Goodreads\n",
      "In Defence of the Bush by Banjo Paterson  not found in Goodreads\n",
      "Work, Death and Sickness by Leo Tolstoy  not found in Goodreads\n",
      "The Eyes Have It by Phillip K. Dick  not found in Goodreads\n",
      "The Old Woman and Her Pig by Flora Annie Steel  not found in Goodreads\n",
      "“For All We Have And Are” by Rudyard Kipling  not found in Goodreads\n",
      "The Fox and the Stork by Aesop  not found in Goodreads\n",
      "On Kiley’s Run by Banjo Paterson  not found in Goodreads\n",
      "The Relic by Guy de Maupassant  not found in Goodreads\n",
      "The Story-Teller by Saki  not found in Goodreads\n",
      "The Frogs Asking for a King by Aesop  not found in Goodreads\n",
      "The Two Sisters by Flora Annie Steel  not found in Goodreads\n",
      "A Child’s Dream of a Star by Charles Dickens  not found in Goodreads\n",
      "How Gilbert Died by Banjo Paterson  not found in Goodreads\n",
      "How The Camel Got His Hump by Rudyard Kipling  not found in Goodreads\n",
      "Wit Inspirations of the “Two-Year-Olds” by Mark Twain  not found in Goodreads\n",
      "Faces in the Street by Henry Lawson  not found in Goodreads\n",
      "The Cobbler Turned Doctor by Aesop  not found in Goodreads\n",
      "Magnetism by Guy de Maupassant  not found in Goodreads\n",
      "The Milkmaid and Her Pail by Aesop  not found in Goodreads\n",
      "An Astrologer’s Song by Rudyard Kipling  not found in Goodreads\n",
      "The Farmer and His Sons by Aesop  not found in Goodreads\n",
      "The Shirt-Collar by Hans Christian Andersen  not found in Goodreads\n",
      "The Oracle at the Races by Banjo Paterson  not found in Goodreads\n",
      "Locked Inside by Charlotte Perkins Gilman  not found in Goodreads\n",
      "A Voice from the Town by Banjo Paterson  not found in Goodreads\n",
      "How The Rhinocerous Got His Skin by Rudyard Kipling  not found in Goodreads\n",
      "How Jack Went Out To Seek His Fortune by Flora Annie Steel  not found in Goodreads\n",
      "The Two Devines by Banjo Paterson  not found in Goodreads\n",
      "The Birds, the Beasts, and the Bat by Aesop  not found in Goodreads\n",
      "A Vendetta by Guy de Maupassant  not found in Goodreads\n",
      "The Descendant by H. P. Lovecraft  not found in Goodreads\n",
      "The Bogey-Beast by Flora Annie Steel  not found in Goodreads\n",
      "Between the Dusk of a Summer Night by William Ernest Henley  not found in Goodreads\n",
      "The Bee and Jupiter by Aesop  not found in Goodreads\n",
      "The Clockmaker by Robert Louis Stevenson  not found in Goodreads\n",
      "Those Names by Banjo Paterson  not found in Goodreads\n",
      "The Sniper by Liam O’Flaherty  not found in Goodreads\n",
      "The Wind’s Message by Banjo Paterson  not found in Goodreads\n",
      "Azathoth by H. P. Lovecraft  not found in Goodreads\n",
      "Ambition and Art by Banjo Paterson  not found in Goodreads\n",
      "A Mother of Monsters by Guy de Maupassant  not found in Goodreads\n",
      "Life is Bitter by William Ernest Henley  not found in Goodreads\n",
      "Nyarlathotep by H. P. Lovecraft  not found in Goodreads\n",
      "Justice by Rudyard Kipling  not found in Goodreads\n",
      "The History of the Necronomicon by H. P. Lovecraft  not found in Goodreads\n",
      "The Orator by Anton Chekhov  not found in Goodreads\n",
      "The Past Was Goodly Once by William Ernest Henley  not found in Goodreads\n",
      "The Wee Bannock by Flora Annie Steel  not found in Goodreads\n",
      "A Bush Christening by Banjo Paterson  not found in Goodreads\n",
      "The Pendulum by Ray Bradbury  not found in Goodreads\n",
      "The Eagle, the Cat, and the Wild Sow by Aesop  not found in Goodreads\n",
      "A Dream Lies Dead by Dorothy Parker  not found in Goodreads\n",
      "The Man Who Was Away by Banjo Paterson  not found in Goodreads\n",
      "The Detective Detector by O. Henry  not found in Goodreads\n",
      "Hunting the Deceitful Turkey by Mark Twain  not found in Goodreads\n",
      "A Death Bed by Rudyard Kipling  not found in Goodreads\n",
      "The Bear and the Travellers by Aesop  not found in Goodreads\n",
      "The Bat, the Bramble, and the Seagull by Aesop  not found in Goodreads\n",
      "An Incident by Anton Chekhov  not found in Goodreads\n",
      "Mesopotamia by Rudyard Kipling  not found in Goodreads\n",
      "The Drover’s Sweetheart by Henry Lawson  not found in Goodreads\n",
      "The Book by H. P. Lovecraft  not found in Goodreads\n",
      "The Daylight Is Dying by Banjo Paterson  not found in Goodreads\n",
      "Song of the Future by Banjo Paterson  not found in Goodreads\n",
      "A Chameleon by Anton Chekhov  not found in Goodreads\n",
      "The Open Steeplechase by Banjo Paterson  not found in Goodreads\n",
      "Memory by H. P. Lovecraft  not found in Goodreads\n",
      "The Old Australian Ways by Banjo Paterson  not found in Goodreads\n",
      "The Poets of the Tomb by Henry Lawson  not found in Goodreads\n",
      "The Mystery of Dave Regan by Henry Lawson  not found in Goodreads\n",
      "Tattercoats by Flora Annie Steel  not found in Goodreads\n",
      "Polaris by H. P. Lovecraft  not found in Goodreads\n",
      "Johnson’s Antidote by Banjo Paterson  not found in Goodreads\n",
      "Been There Before by Banjo Paterson  not found in Goodreads\n",
      "What the Moon Brings by H. P. Lovecraft  not found in Goodreads\n",
      "Clair De Lune by Guy de Maupassant  not found in Goodreads\n",
      "The Cat by Banjo Paterson  not found in Goodreads\n",
      "The Roaring Days by Henry Lawson  not found in Goodreads\n",
      "The Female of the Species by Rudyard Kipling  not found in Goodreads\n",
      "Happiness by Aleksandr I. Kuprin  not found in Goodreads\n",
      "Only a Jockey by Banjo Paterson  not found in Goodreads\n",
      "The Red Ettin by Flora Annie Steel  not found in Goodreads\n",
      "The Geebung Polo Club by Banjo Paterson  not found in Goodreads\n",
      "Henny Penny by Flora Annie Steel  not found in Goodreads\n",
      "The Belly and the Members by Aesop  not found in Goodreads\n",
      "The Wise Men Of Gotham by Flora Annie Steel  not found in Goodreads\n",
      "The Great Calamity by Banjo Paterson  not found in Goodreads\n",
      "Oh! The Public by Anton Chekhov  not found in Goodreads\n",
      "Bill, the Ventriloquial Rooster by Henry Lawson  not found in Goodreads\n",
      "The Brogue by Saki  not found in Goodreads\n",
      "A Clean Well Lighted Place by Ernest Hemmingway  not found in Goodreads\n",
      "A Fairly Sad Tale by Dorothy Parker  not found in Goodreads\n",
      "The Beautiful Suit by H. G. Wells  not found in Goodreads\n",
      "A Mountain Station by Banjo Paterson  not found in Goodreads\n",
      "Rumpelstiltskin by Brothers Grimm  not found in Goodreads\n",
      "The Spring My Dear by William Ernest Henley  not found in Goodreads\n",
      "Little Red Riding-Hood by Flora Annie Steel  not found in Goodreads\n",
      "Lazy Jack by Flora Annie Steel  not found in Goodreads\n",
      "The Three Sillies by Flora Annie Steel  not found in Goodreads\n",
      "Our New Horse by Banjo Paterson  not found in Goodreads\n",
      "The Man from Ironbark by Banjo Paterson  not found in Goodreads\n",
      "How the Favourite Beat Us by Banjo Paterson  not found in Goodreads\n",
      "A Certain Lady by Dorothy Parker  not found in Goodreads\n",
      "How M’Ginnis Went Missing by Banjo Paterson  not found in Goodreads\n",
      "To the Sun by Clark Ashton Smith  not found in Goodreads\n",
      "The Puppet-show Man by Hans Christian Andersen  not found in Goodreads\n",
      "The Fish and the Ring by Flora Annie Steel  not found in Goodreads\n",
      "Last Week by Banjo Paterson  not found in Goodreads\n",
      "The Ant by Aesop  not found in Goodreads\n",
      "The Flying Gang by Banjo Paterson  not found in Goodreads\n",
      "Mrs. Packletide’s Tiger by Saki  not found in Goodreads\n",
      "The Triumphs of a Taxidermist by H. G. Wells  not found in Goodreads\n",
      "The Lion and the Mouse by Aesop  not found in Goodreads\n",
      "Conroy’s Gap by Banjo Paterson  not found in Goodreads\n",
      "The Eagle and the Cocks by Aesop  not found in Goodreads\n",
      "The Boston Massacre by Nathaniel Hawthorne  not found in Goodreads\n",
      "The Story Of The Three Bears by Flora Annie Steel  not found in Goodreads\n",
      "In Answer to Various Bards by Banjo Paterson  not found in Goodreads\n",
      "The Pearl of Love by H. G. Wells  not found in Goodreads\n",
      "Shearing at Castlereagh by Banjo Paterson  not found in Goodreads\n",
      "The All Right ’Un by Banjo Paterson  not found in Goodreads\n",
      "A Deal In Ostriches by H. G. Wells  not found in Goodreads\n",
      "The Hen by Saki  not found in Goodreads\n",
      "The Eagle and the Beetle by Aesop  not found in Goodreads\n",
      "A Bunch of Roses by Banjo Paterson  not found in Goodreads\n",
      "A Bushman’s Song by Banjo Paterson  not found in Goodreads\n",
      "An Extinct Angel by Charlotte Perkins Gilman  not found in Goodreads\n",
      "The Ass and the Mule by Aesop  not found in Goodreads\n",
      "The Well of the World’s End by Flora Annie Steel  not found in Goodreads\n",
      "Over the Range by Banjo Paterson  not found in Goodreads\n",
      "The Tree by H. P. Lovecraft  not found in Goodreads\n",
      "“allez!” by Aleksandr I. Kuprin  not found in Goodreads\n",
      "In the Droving Days by Banjo Paterson  not found in Goodreads\n",
      "A Tent in Agony by Stephen Crane  not found in Goodreads\n",
      "The Garden Of The Holy Virgin by Aleksandr I. Kuprin  not found in Goodreads\n",
      "The Golden Ball by Flora Annie Steel  not found in Goodreads\n",
      "‘Sez You’ by Henry Lawson  not found in Goodreads\n",
      "The Fox and the Grapes by Aesop  not found in Goodreads\n",
      "The Man From Snowy River by Banjo Paterson  not found in Goodreads\n",
      "The Boss of the ‘Admiral Lynch’ by Banjo Paterson  not found in Goodreads\n",
      "The City Bushman by Henry Lawson  not found in Goodreads\n",
      "A Defenceless Creature by Anton Chekhov  not found in Goodreads\n",
      "A Charm by Rudyard Kipling  not found in Goodreads\n",
      "39 by Henry Lawson  not found in Goodreads\n",
      "The Cats of Ulthar by H. P. Lovecraft  not found in Goodreads\n",
      "The Swagman’s Rest by Banjo Paterson  not found in Goodreads\n",
      "The Temptation of Harringay by H. G. Wells  not found in Goodreads\n",
      "The Travelling Post Office by Banjo Paterson  not found in Goodreads\n",
      "The Babes In The Wood by Flora Annie Steel  not found in Goodreads\n",
      "Mr. Fox by Flora Annie Steel  not found in Goodreads\n",
      "The Song And The Dance by Aleksandr I. Kuprin  not found in Goodreads\n",
      "The Three Little Pigs by Flora Annie Steel  not found in Goodreads\n",
      "The Amateur Gardener by Banjo Paterson  not found in Goodreads\n",
      "Borderland by Henry Lawson  not found in Goodreads\n",
      "The Terrible Old Man by H. P. Lovecraft  not found in Goodreads\n"
     ]
    }
   ],
   "source": [
    "\n",
    "# Main processing loop\n",
    "unfound = []\n",
    "data = []\n",
    "\n",
    "for story in stories:\n",
    "    # Find book id\n",
    "    ids, av_rating, author_ids, num_ratings = find_info_by_title(story['title'],story['author'])\n",
    "    if ids == []:\n",
    "        print(story['title'], 'by', story['author'], ' not found in Goodreads')\n",
    "        unfound.append(story)\n",
    "        continue\n",
    "\n",
    "    # Get the reviews\n",
    "    book_reviews = find_reviews_by_id(ids)\n",
    "\n",
    "    # Combine into final record\n",
    "    book = {\n",
    "        'id': ids,\n",
    "        'title': story['title'],\n",
    "        'author': story['author'],\n",
    "        'story': story['text'],\n",
    "        'av_rating': av_rating,\n",
    "        'num_ratings': num_ratings,\n",
    "        'reviews': book_reviews\n",
    "    }\n",
    "    data.append(book)\n",
    "\n",
    "with open(\"all_data_together_auto_with_count.jsonl\", \"w\", encoding=\"utf-8\") as f:\n",
    "        for book in data:\n",
    "            f.write(json.dumps(book, ensure_ascii=False) + \"\\n\")"
   ]
  },
  {
   "cell_type": "code",
   "execution_count": 22,
   "id": "22407f40-2443-4bd3-92a4-85447cd8e9aa",
   "metadata": {},
   "outputs": [
    {
     "name": "stdout",
     "output_type": "stream",
     "text": [
      "57\n"
     ]
    }
   ],
   "source": [
    "print(len(data))"
   ]
  },
  {
   "cell_type": "markdown",
   "id": "8ee6b569-1429-48e6-b99e-5e6d1be0c71f",
   "metadata": {},
   "source": [
    "## Manually check for ones not found"
   ]
  },
  {
   "cell_type": "code",
   "execution_count": 25,
   "id": "8854dbcc-ff62-44f1-9797-a510531a3cef",
   "metadata": {},
   "outputs": [],
   "source": [
    "def find_id_by_title_3(title_to_find,author):\n",
    "    skip = False\n",
    "    ids = []\n",
    "    total_ratings = 0\n",
    "    count = 0\n",
    "    author_ids = []\n",
    "    for item in BOOKS:\n",
    "        if title_to_find == item['title']:\n",
    "            names = []\n",
    "            for aut_id in item['author_ids']:\n",
    "                name = find_name_by_id(aut_id)\n",
    "                if name:\n",
    "                    names.append(name)\n",
    "                \n",
    "            if author not in names:\n",
    "                if skip == True:\n",
    "                    continue\n",
    "                else:\n",
    "                    print('Check this makes sense for', title_to_find, ':', author, names)\n",
    "                    response = input('Does this make sense y/n? ')\n",
    "                    if response == 'n':\n",
    "                        continue\n",
    "                    elif response == 's':\n",
    "                        skip = True\n",
    "                        continue\n",
    "\n",
    "            ids.append(item['book_id'])\n",
    "            try:\n",
    "                rating_av = float(item['average_rating'])\n",
    "                num = int(item['ratings_count'])\n",
    "                total_ratings += rating_av * num\n",
    "                count += num\n",
    "            except (ValueError, TypeError, KeyError):\n",
    "                pass\n",
    "            \n",
    "            for aut in item['author_ids']:\n",
    "                if aut not in author_ids:\n",
    "                    author_ids.append(aut)\n",
    "                    \n",
    "    if count == 0:\n",
    "        average_rating = 0\n",
    "    else:\n",
    "        average_rating = total_ratings / count\n",
    "    \n",
    "    return ids, average_rating, author_ids, count"
   ]
  },
  {
   "cell_type": "code",
   "execution_count": 26,
   "id": "3d7ffb5a-a25c-4b55-a559-ef9d687f62e4",
   "metadata": {
    "scrolled": true
   },
   "outputs": [
    {
     "name": "stdout",
     "output_type": "stream",
     "text": [
      "The Child’s Story by Charles Dickens  not found in Goodreads\n",
      "Check this makes sense for The Bookshop : Aldous Huxley ['Penelope Fitzgerald']\n"
     ]
    },
    {
     "name": "stdin",
     "output_type": "stream",
     "text": [
      "Does this make sense y/n?  s\n"
     ]
    },
    {
     "name": "stdout",
     "output_type": "stream",
     "text": [
      "The Bookshop by Aldous Huxley  not found in Goodreads\n",
      "Dead Woman’s Secret by Guy de Maupassant  not found in Goodreads\n",
      "The Little Red Christmas Tree by Aleksandr I. Kuprin  not found in Goodreads\n",
      "The Land of Counterpane by Robert Louis Stevenson  not found in Goodreads\n",
      "Clancy of the Overflow by Banjo Paterson  not found in Goodreads\n",
      "Old Pardon, the Son of Reprieve by Banjo Paterson  not found in Goodreads\n",
      "Check this makes sense for Black Swans : Banjo Paterson ['Eve Babitz']\n"
     ]
    },
    {
     "name": "stdin",
     "output_type": "stream",
     "text": [
      "Does this make sense y/n?  s\n"
     ]
    },
    {
     "name": "stdout",
     "output_type": "stream",
     "text": [
      "Black Swans by Banjo Paterson  not found in Goodreads\n",
      "An Idyll of Dandaloo by Banjo Paterson  not found in Goodreads\n",
      "Check this makes sense for The Dog : Banjo Paterson ['Amy Cross']\n"
     ]
    },
    {
     "name": "stdin",
     "output_type": "stream",
     "text": [
      "Does this make sense y/n?  s\n"
     ]
    },
    {
     "name": "stdout",
     "output_type": "stream",
     "text": [
      "The Dog by Banjo Paterson  not found in Goodreads\n",
      "Check this makes sense for The Virgin : Rudyard Kipling ['Tiffany Reisz']\n"
     ]
    },
    {
     "name": "stdin",
     "output_type": "stream",
     "text": [
      "Does this make sense y/n?  n\n"
     ]
    },
    {
     "name": "stdout",
     "output_type": "stream",
     "text": [
      "Check this makes sense for The Virgin : Rudyard Kipling ['H.G. Longwood']\n"
     ]
    },
    {
     "name": "stdin",
     "output_type": "stream",
     "text": [
      "Does this make sense y/n?  n\n"
     ]
    },
    {
     "name": "stdout",
     "output_type": "stream",
     "text": [
      "Check this makes sense for The Virgin : Rudyard Kipling ['Tiffany Reisz']\n"
     ]
    },
    {
     "name": "stdin",
     "output_type": "stream",
     "text": [
      "Does this make sense y/n?  n\n"
     ]
    },
    {
     "name": "stdout",
     "output_type": "stream",
     "text": [
      "The Virgin by Rudyard Kipling  not found in Goodreads\n",
      "A Diagnosis of Death by Ambrose Bierce  not found in Goodreads\n",
      "Praise the Generous Gods by William Ernest Henley  not found in Goodreads\n",
      "The Eagle and the Fox by Aesop  not found in Goodreads\n",
      "Check this makes sense for The North Wind and the Sun : Aesop ['Brian Wildsmith']\n"
     ]
    },
    {
     "name": "stdin",
     "output_type": "stream",
     "text": [
      "Does this make sense y/n?  s\n"
     ]
    },
    {
     "name": "stdout",
     "output_type": "stream",
     "text": [
      "The North Wind and the Sun by Aesop  not found in Goodreads\n",
      "The Crab and His Mother by Aesop  not found in Goodreads\n",
      "The Leopard Man’s Story by Jack London  not found in Goodreads\n",
      "The Miller, His Son, and Their Ass by Aesop  not found in Goodreads\n",
      "Mr. and Mrs. Vinegar by Flora Annie Steel  not found in Goodreads\n",
      "Check this makes sense for The Thing in the Moonlight : H. P. Lovecraft ['H.P. Lovecraft']\n"
     ]
    },
    {
     "name": "stdin",
     "output_type": "stream",
     "text": [
      "Does this make sense y/n?  i\n"
     ]
    },
    {
     "name": "stdout",
     "output_type": "stream",
     "text": [
      "Check this makes sense for The Thing in the Moonlight : H. P. Lovecraft ['H.P. Lovecraft']\n"
     ]
    },
    {
     "name": "stdin",
     "output_type": "stream",
     "text": [
      "Does this make sense y/n?  i\n"
     ]
    },
    {
     "name": "stdout",
     "output_type": "stream",
     "text": [
      "Demir-kayá by Aleksandr I. Kuprin  not found in Goodreads\n",
      "The Farmer and the Fox by Aesop  not found in Goodreads\n",
      "Come-By-Chance by Banjo Paterson  not found in Goodreads\n",
      "The Laidly Worm by Flora Annie Steel  not found in Goodreads\n",
      "The Boar-Pig by Saki  not found in Goodreads\n",
      "The Recovery by Kate Chopin  not found in Goodreads\n",
      "A Love by The Sea by William Ernest Henley  not found in Goodreads\n",
      "The Wolf in Sheep’s Clothing by Aesop  not found in Goodreads\n",
      "The Last Incantation by Clark Ashton Smith  not found in Goodreads\n",
      "Check this makes sense for Coming : Charlotte Perkins Gilman ['Jean-Luc Nancy', 'Adele van Reeth', 'Charlotte Mandell']\n"
     ]
    },
    {
     "name": "stdin",
     "output_type": "stream",
     "text": [
      "Does this make sense y/n?  s\n"
     ]
    },
    {
     "name": "stdout",
     "output_type": "stream",
     "text": [
      "Coming by Charlotte Perkins Gilman  not found in Goodreads\n",
      "Jim Carew by Banjo Paterson  not found in Goodreads\n",
      "The Feast of Nemesis by Saki  not found in Goodreads\n",
      "Check this makes sense for The Fox and the Crow : Aesop ['Manasi Subramaniam', 'Culpeo S. Fox', 'Shobha Viswanath']\n"
     ]
    },
    {
     "name": "stdin",
     "output_type": "stream",
     "text": [
      "Does this make sense y/n?  n\n"
     ]
    },
    {
     "name": "stdout",
     "output_type": "stream",
     "text": [
      "Check this makes sense for The Fox and the Crow : Aesop ['Mairi Mackinnon', 'Rocio Martinez']\n"
     ]
    },
    {
     "name": "stdin",
     "output_type": "stream",
     "text": [
      "Does this make sense y/n?  n\n"
     ]
    },
    {
     "name": "stdout",
     "output_type": "stream",
     "text": [
      "The Fox and the Crow by Aesop  not found in Goodreads\n",
      "The Doer of Good by Oscar Wilde  not found in Goodreads\n",
      "The Oracle at the Private Bar by Banjo Paterson  not found in Goodreads\n",
      "The Boy and the Filberts by Aesop  not found in Goodreads\n",
      "Check this makes sense for Lost : Banjo Paterson ['Ker Dukey', 'D.H. Sidebottom']\n"
     ]
    },
    {
     "name": "stdin",
     "output_type": "stream",
     "text": [
      "Does this make sense y/n?  n\n"
     ]
    },
    {
     "name": "stdout",
     "output_type": "stream",
     "text": [
      "Check this makes sense for Lost : Banjo Paterson ['G.A. Hauser', 'Dennis Dean']\n"
     ]
    },
    {
     "name": "stdin",
     "output_type": "stream",
     "text": [
      "Does this make sense y/n?  n\n"
     ]
    },
    {
     "name": "stdout",
     "output_type": "stream",
     "text": [
      "Check this makes sense for Lost : Banjo Paterson ['Gregory Maguire']\n"
     ]
    },
    {
     "name": "stdin",
     "output_type": "stream",
     "text": [
      "Does this make sense y/n?  n\n"
     ]
    },
    {
     "name": "stdout",
     "output_type": "stream",
     "text": [
      "Check this makes sense for Lost : Banjo Paterson ['Gregory Maguire']\n"
     ]
    },
    {
     "name": "stdin",
     "output_type": "stream",
     "text": [
      "Does this make sense y/n?  n\n"
     ]
    },
    {
     "name": "stdout",
     "output_type": "stream",
     "text": [
      "Check this makes sense for Lost : Banjo Paterson ['A.A. Paton', 'Ainslie Paton']\n"
     ]
    },
    {
     "name": "stdin",
     "output_type": "stream",
     "text": [
      "Does this make sense y/n?  n\n"
     ]
    },
    {
     "name": "stdout",
     "output_type": "stream",
     "text": [
      "Check this makes sense for Lost : Banjo Paterson ['Alice Lichtenstein']\n"
     ]
    },
    {
     "name": "stdin",
     "output_type": "stream",
     "text": [
      "Does this make sense y/n?  n\n"
     ]
    },
    {
     "name": "stdout",
     "output_type": "stream",
     "text": [
      "Check this makes sense for Lost : Banjo Paterson ['Zoe Nichols']\n"
     ]
    },
    {
     "name": "stdin",
     "output_type": "stream",
     "text": [
      "Does this make sense y/n?  s\n"
     ]
    },
    {
     "name": "stdout",
     "output_type": "stream",
     "text": [
      "Lost by Banjo Paterson  not found in Goodreads\n",
      "She Walketh Veiled and Sleeping by Charlotte Perkins Gilman  not found in Goodreads\n",
      "Check this makes sense for A Strange Story : O. Henry ['Edward Bulwer-Lytton']\n"
     ]
    },
    {
     "name": "stdin",
     "output_type": "stream",
     "text": [
      "Does this make sense y/n?  n\n"
     ]
    },
    {
     "name": "stdout",
     "output_type": "stream",
     "text": [
      "A Strange Story by O. Henry  not found in Goodreads\n",
      "Check this makes sense for Rapunzel : Brothers Grimm ['Paul O. Zelinsky', 'Jacob Grimm', 'Wilhelm Grimm']\n"
     ]
    },
    {
     "name": "stdin",
     "output_type": "stream",
     "text": [
      "Does this make sense y/n?  n\n"
     ]
    },
    {
     "name": "stdout",
     "output_type": "stream",
     "text": [
      "Check this makes sense for Rapunzel : Brothers Grimm ['Bernice Chardiet']\n"
     ]
    },
    {
     "name": "stdin",
     "output_type": "stream",
     "text": [
      "Does this make sense y/n?  n\n"
     ]
    },
    {
     "name": "stdout",
     "output_type": "stream",
     "text": [
      "Check this makes sense for Rapunzel : Brothers Grimm ['Bethan Woollvin']\n"
     ]
    },
    {
     "name": "stdin",
     "output_type": "stream",
     "text": [
      "Does this make sense y/n?  n\n"
     ]
    },
    {
     "name": "stdout",
     "output_type": "stream",
     "text": [
      "Check this makes sense for Rapunzel : Brothers Grimm ['Lynn Roberts', 'David   Roberts']\n"
     ]
    },
    {
     "name": "stdin",
     "output_type": "stream",
     "text": [
      "Does this make sense y/n?  n\n"
     ]
    },
    {
     "name": "stdout",
     "output_type": "stream",
     "text": [
      "Check this makes sense for Rapunzel : Brothers Grimm ['Rachel Isadora']\n"
     ]
    },
    {
     "name": "stdin",
     "output_type": "stream",
     "text": [
      "Does this make sense y/n?  n\n"
     ]
    },
    {
     "name": "stdout",
     "output_type": "stream",
     "text": [
      "Check this makes sense for Rapunzel : Brothers Grimm ['Robyn Bryant']\n"
     ]
    },
    {
     "name": "stdin",
     "output_type": "stream",
     "text": [
      "Does this make sense y/n?  n\n"
     ]
    },
    {
     "name": "stdout",
     "output_type": "stream",
     "text": [
      "Check this makes sense for Rapunzel : Brothers Grimm ['Bernice Chardiet']\n"
     ]
    },
    {
     "name": "stdin",
     "output_type": "stream",
     "text": [
      "Does this make sense y/n?  n\n"
     ]
    },
    {
     "name": "stdout",
     "output_type": "stream",
     "text": [
      "Check this makes sense for Rapunzel : Brothers Grimm ['A. Violet End']\n"
     ]
    },
    {
     "name": "stdin",
     "output_type": "stream",
     "text": [
      "Does this make sense y/n?  n\n"
     ]
    },
    {
     "name": "stdout",
     "output_type": "stream",
     "text": [
      "Check this makes sense for Rapunzel : Brothers Grimm ['Dan Taylor']\n"
     ]
    },
    {
     "name": "stdin",
     "output_type": "stream",
     "text": [
      "Does this make sense y/n?  n\n"
     ]
    },
    {
     "name": "stdout",
     "output_type": "stream",
     "text": [
      "Check this makes sense for Rapunzel : Brothers Grimm ['Chloe Perkins', 'Archana Sreenivasan']\n"
     ]
    },
    {
     "name": "stdin",
     "output_type": "stream",
     "text": [
      "Does this make sense y/n?  n\n"
     ]
    },
    {
     "name": "stdout",
     "output_type": "stream",
     "text": [
      "Check this makes sense for Rapunzel : Brothers Grimm ['Paul O. Zelinsky']\n"
     ]
    },
    {
     "name": "stdin",
     "output_type": "stream",
     "text": [
      "Does this make sense y/n?  n\n"
     ]
    },
    {
     "name": "stdout",
     "output_type": "stream",
     "text": [
      "Check this makes sense for Rapunzel : Brothers Grimm ['Barbara Rogasky', 'Jacob Grimm', 'Wilhelm Grimm', 'Trina Schart Hyman']\n"
     ]
    },
    {
     "name": "stdin",
     "output_type": "stream",
     "text": [
      "Does this make sense y/n?  n\n"
     ]
    },
    {
     "name": "stdout",
     "output_type": "stream",
     "text": [
      "Check this makes sense for Rapunzel : Brothers Grimm ['Alix Berenzy']\n"
     ]
    },
    {
     "name": "stdin",
     "output_type": "stream",
     "text": [
      "Does this make sense y/n?  n\n"
     ]
    },
    {
     "name": "stdout",
     "output_type": "stream",
     "text": [
      "Check this makes sense for Rapunzel : Brothers Grimm ['Felix Hoffmann', 'Wilhelm Grimm', 'Jacob Grimm']\n"
     ]
    },
    {
     "name": "stdin",
     "output_type": "stream",
     "text": [
      "Does this make sense y/n?  n\n"
     ]
    },
    {
     "name": "stdout",
     "output_type": "stream",
     "text": [
      "Check this makes sense for Rapunzel : Brothers Grimm ['Karin Blume', 'Jacob Grimm', 'Wilhelm Grimm']\n"
     ]
    },
    {
     "name": "stdin",
     "output_type": "stream",
     "text": [
      "Does this make sense y/n?  n\n"
     ]
    },
    {
     "name": "stdout",
     "output_type": "stream",
     "text": [
      "Check this makes sense for Rapunzel : Brothers Grimm ['Paul O. Zelinsky']\n"
     ]
    },
    {
     "name": "stdin",
     "output_type": "stream",
     "text": [
      "Does this make sense y/n?  n\n"
     ]
    },
    {
     "name": "stdout",
     "output_type": "stream",
     "text": [
      "Check this makes sense for Rapunzel : Brothers Grimm ['Thomas Pramendorfer']\n"
     ]
    },
    {
     "name": "stdin",
     "output_type": "stream",
     "text": [
      "Does this make sense y/n?  n\n"
     ]
    },
    {
     "name": "stdout",
     "output_type": "stream",
     "text": [
      "Check this makes sense for Rapunzel : Brothers Grimm ['Jacob Grimm', 'Wilhelm Grimm', 'Walter Crane', 'Arthur Rackham', 'Henry Justice Ford', 'Andrew Lang', 'Anne   Anderson']\n"
     ]
    },
    {
     "name": "stdin",
     "output_type": "stream",
     "text": [
      "Does this make sense y/n?  n\n"
     ]
    },
    {
     "name": "stdout",
     "output_type": "stream",
     "text": [
      "Check this makes sense for Rapunzel : Brothers Grimm ['Selena Kitt']\n"
     ]
    },
    {
     "name": "stdin",
     "output_type": "stream",
     "text": [
      "Does this make sense y/n?  n\n"
     ]
    },
    {
     "name": "stdout",
     "output_type": "stream",
     "text": [
      "Check this makes sense for Rapunzel : Brothers Grimm ['Parragon Publishing']\n"
     ]
    },
    {
     "name": "stdin",
     "output_type": "stream",
     "text": [
      "Does this make sense y/n?  n\n"
     ]
    },
    {
     "name": "stdout",
     "output_type": "stream",
     "text": [
      "Check this makes sense for Rapunzel : Brothers Grimm ['Jessica  Kaye']\n"
     ]
    },
    {
     "name": "stdin",
     "output_type": "stream",
     "text": [
      "Does this make sense y/n?  n\n"
     ]
    },
    {
     "name": "stdout",
     "output_type": "stream",
     "text": [
      "Check this makes sense for Rapunzel : Brothers Grimm ['Barbara Rogasky', 'Wilhelm Grimm', 'Trina Schart Hyman', 'Jacob Grimm']\n"
     ]
    },
    {
     "name": "stdin",
     "output_type": "stream",
     "text": [
      "Does this make sense y/n?  n\n"
     ]
    },
    {
     "name": "stdout",
     "output_type": "stream",
     "text": [
      "Check this makes sense for Rapunzel : Brothers Grimm ['Paul O. Zelinsky']\n"
     ]
    },
    {
     "name": "stdin",
     "output_type": "stream",
     "text": [
      "Does this make sense y/n?  n\n"
     ]
    },
    {
     "name": "stdout",
     "output_type": "stream",
     "text": [
      "Check this makes sense for Rapunzel : Brothers Grimm ['Leila Bryce Sin']\n"
     ]
    },
    {
     "name": "stdin",
     "output_type": "stream",
     "text": [
      "Does this make sense y/n?  n\n"
     ]
    },
    {
     "name": "stdout",
     "output_type": "stream",
     "text": [
      "Check this makes sense for Rapunzel : Brothers Grimm ['Jacob Grimm', 'Wilhelm Grimm', 'Jacqueline Wilson', 'Nick Sharratt']\n"
     ]
    },
    {
     "name": "stdin",
     "output_type": "stream",
     "text": [
      "Does this make sense y/n?  n\n"
     ]
    },
    {
     "name": "stdout",
     "output_type": "stream",
     "text": [
      "Check this makes sense for Rapunzel : Brothers Grimm ['Amy Ehrlich', 'Kris Waldherr']\n"
     ]
    },
    {
     "name": "stdin",
     "output_type": "stream",
     "text": [
      "Does this make sense y/n?  n\n"
     ]
    },
    {
     "name": "stdout",
     "output_type": "stream",
     "text": [
      "Check this makes sense for Rapunzel : Brothers Grimm ['Debbie Lavreys', 'Jacob Grimm']\n"
     ]
    },
    {
     "name": "stdin",
     "output_type": "stream",
     "text": [
      "Does this make sense y/n?  n\n"
     ]
    },
    {
     "name": "stdout",
     "output_type": "stream",
     "text": [
      "Check this makes sense for Rapunzel : Brothers Grimm ['John Cech', 'Fiona Sansom']\n"
     ]
    },
    {
     "name": "stdin",
     "output_type": "stream",
     "text": [
      "Does this make sense y/n?  n\n"
     ]
    },
    {
     "name": "stdout",
     "output_type": "stream",
     "text": [
      "Check this makes sense for Rapunzel : Brothers Grimm ['Jacob Grimm', 'Wilhelm Grimm']\n"
     ]
    },
    {
     "name": "stdin",
     "output_type": "stream",
     "text": [
      "Does this make sense y/n?  i\n"
     ]
    },
    {
     "name": "stdout",
     "output_type": "stream",
     "text": [
      "Check this makes sense for Rapunzel : Brothers Grimm ['Jacob Grimm', 'Maja Dusikova']\n"
     ]
    },
    {
     "name": "stdin",
     "output_type": "stream",
     "text": [
      "Does this make sense y/n?  s\n"
     ]
    },
    {
     "name": "stdout",
     "output_type": "stream",
     "text": [
      "Check this makes sense for Ibid : H. P. Lovecraft ['H.P. Lovecraft']\n"
     ]
    },
    {
     "name": "stdin",
     "output_type": "stream",
     "text": [
      "Does this make sense y/n?  i\n"
     ]
    },
    {
     "name": "stdout",
     "output_type": "stream",
     "text": [
      "Check this makes sense for Ibid : H. P. Lovecraft ['H.P. Lovecraft']\n"
     ]
    },
    {
     "name": "stdin",
     "output_type": "stream",
     "text": [
      "Does this make sense y/n?  i\n"
     ]
    },
    {
     "name": "stdout",
     "output_type": "stream",
     "text": [
      "Check this makes sense for Ibid : H. P. Lovecraft ['Mark Dunn']\n"
     ]
    },
    {
     "name": "stdin",
     "output_type": "stream",
     "text": [
      "Does this make sense y/n?  n\n"
     ]
    },
    {
     "name": "stdout",
     "output_type": "stream",
     "text": [
      "Check this makes sense for Ibid : H. P. Lovecraft ['Mark Dunn']\n"
     ]
    },
    {
     "name": "stdin",
     "output_type": "stream",
     "text": [
      "Does this make sense y/n?  n\n"
     ]
    },
    {
     "name": "stdout",
     "output_type": "stream",
     "text": [
      "Check this makes sense for Ibid : H. P. Lovecraft ['Mark Dunn']\n"
     ]
    },
    {
     "name": "stdin",
     "output_type": "stream",
     "text": [
      "Does this make sense y/n?  n\n"
     ]
    },
    {
     "name": "stdout",
     "output_type": "stream",
     "text": [
      "The Mice and the Weasels by Aesop  not found in Goodreads\n",
      "The Amateur Rider by Banjo Paterson  not found in Goodreads\n",
      "Requiescat by Oscar Wilde  not found in Goodreads\n",
      "Saltbush Bill by Banjo Paterson  not found in Goodreads\n",
      "Check this makes sense for The Heavenly Christmas Tree : Fyodor Dostoevsky ['Fyodor Dostoyevsky', 'Roberto Innocenti', 'Rita Marshall']\n"
     ]
    },
    {
     "name": "stdin",
     "output_type": "stream",
     "text": [
      "Does this make sense y/n?  i\n"
     ]
    },
    {
     "name": "stdout",
     "output_type": "stream",
     "text": [
      "Check this makes sense for The Rose Tree : Flora Annie Steel ['Joseph Jacobs']\n"
     ]
    },
    {
     "name": "stdin",
     "output_type": "stream",
     "text": [
      "Does this make sense y/n?  s\n"
     ]
    },
    {
     "name": "stdout",
     "output_type": "stream",
     "text": [
      "The Rose Tree by Flora Annie Steel  not found in Goodreads\n",
      "Father and Sons by Aesop  not found in Goodreads\n",
      "A Legend by Aleksandr I. Kuprin  not found in Goodreads\n",
      "Lawkamercyme by Flora Annie Steel  not found in Goodreads\n",
      "Check this makes sense for Ex Oblivione : H. P. Lovecraft ['H.P. Lovecraft']\n"
     ]
    },
    {
     "name": "stdin",
     "output_type": "stream",
     "text": [
      "Does this make sense y/n?  i\n"
     ]
    },
    {
     "name": "stdout",
     "output_type": "stream",
     "text": [
      "Check this makes sense for Ex Oblivione : H. P. Lovecraft ['H.P. Lovecraft']\n"
     ]
    },
    {
     "name": "stdin",
     "output_type": "stream",
     "text": [
      "Does this make sense y/n?  i\n"
     ]
    },
    {
     "name": "stdout",
     "output_type": "stream",
     "text": [
      "Steelman’s Pupil by Henry Lawson  not found in Goodreads\n",
      "The Dog and the Shadow by Aesop  not found in Goodreads\n",
      "How The Whale Got His Throat by Rudyard Kipling  not found in Goodreads\n",
      "Filboid Studge, The Story of a Mouse that Helped by Saki  not found in Goodreads\n",
      "The Emperor’s New Clothes by Hans Christian Andersen  not found in Goodreads\n",
      "Check this makes sense for Hills Like White Elephants : Ernest Hemmingway ['Ernest Hemingway']\n"
     ]
    },
    {
     "name": "stdin",
     "output_type": "stream",
     "text": [
      "Does this make sense y/n?  i\n"
     ]
    },
    {
     "name": "stdout",
     "output_type": "stream",
     "text": [
      "Check this makes sense for Hills Like White Elephants : Ernest Hemmingway ['Ernest Hemingway']\n"
     ]
    },
    {
     "name": "stdin",
     "output_type": "stream",
     "text": [
      "Does this make sense y/n?  i\n"
     ]
    },
    {
     "name": "stdout",
     "output_type": "stream",
     "text": [
      "The Last Parade by Banjo Paterson  not found in Goodreads\n",
      "Chiming a Dream by William Ernest Henley  not found in Goodreads\n",
      "The Frog-Prince by Brothers Grimm  not found in Goodreads\n",
      "Under the Shadow of Kiley’s Hill by Banjo Paterson  not found in Goodreads\n",
      "Check this makes sense for The Evil Clergyman : H. P. Lovecraft ['H.P. Lovecraft']\n"
     ]
    },
    {
     "name": "stdin",
     "output_type": "stream",
     "text": [
      "Does this make sense y/n?  i\n"
     ]
    },
    {
     "name": "stdout",
     "output_type": "stream",
     "text": [
      "Check this makes sense for The Evil Clergyman : H. P. Lovecraft ['H.P. Lovecraft']\n"
     ]
    },
    {
     "name": "stdin",
     "output_type": "stream",
     "text": [
      "Does this make sense y/n?  i\n"
     ]
    },
    {
     "name": "stdout",
     "output_type": "stream",
     "text": [
      "In the Forest of Villefère by Robert E. Howard  not found in Goodreads\n",
      "Check this makes sense for The Thief : René Maizeroy ['Fuminori Nakamura']\n"
     ]
    },
    {
     "name": "stdin",
     "output_type": "stream",
     "text": [
      "Does this make sense y/n?  n\n"
     ]
    },
    {
     "name": "stdout",
     "output_type": "stream",
     "text": [
      "Check this makes sense for The Thief : René Maizeroy ['Fuminori Nakamura']\n"
     ]
    },
    {
     "name": "stdin",
     "output_type": "stream",
     "text": [
      "Does this make sense y/n?  n\n"
     ]
    },
    {
     "name": "stdout",
     "output_type": "stream",
     "text": [
      "Check this makes sense for The Thief : René Maizeroy ['Fuminori Nakamura', 'Charlie Thurston']\n"
     ]
    },
    {
     "name": "stdin",
     "output_type": "stream",
     "text": [
      "Does this make sense y/n?  s\n"
     ]
    },
    {
     "name": "stdout",
     "output_type": "stream",
     "text": [
      "The Thief by René Maizeroy  not found in Goodreads\n",
      "A Vision of Judgment by H. G. Wells  not found in Goodreads\n",
      "In Defence of the Bush by Banjo Paterson  not found in Goodreads\n",
      "Work, Death and Sickness by Leo Tolstoy  not found in Goodreads\n",
      "Check this makes sense for The Eyes Have It : Phillip K. Dick ['Philip K. Dick']\n"
     ]
    },
    {
     "name": "stdin",
     "output_type": "stream",
     "text": [
      "Does this make sense y/n?  i\n"
     ]
    },
    {
     "name": "stdout",
     "output_type": "stream",
     "text": [
      "Check this makes sense for The Eyes Have It : Phillip K. Dick ['Philip K. Dick']\n"
     ]
    },
    {
     "name": "stdin",
     "output_type": "stream",
     "text": [
      "Does this make sense y/n?  i\n"
     ]
    },
    {
     "name": "stdout",
     "output_type": "stream",
     "text": [
      "Check this makes sense for The Eyes Have It : Phillip K. Dick ['Robert J. Randisi', 'Lawrence Block', 'Michael Z. Lewin', 'John Lutz', 'Marcia Muller', 'William F. Nolan', 'Sara Paretsky', 'Bill Pronzini', 'L.J. Washburn', 'Max Allan Collins', 'Michael Collins', 'Loren D. Estleman', 'Stephen Greenleaf', 'Edward D. Hoch', 'Richard Hoyt', 'Stuart M. Kaminsky', 'Rob Kantner']\n"
     ]
    },
    {
     "name": "stdin",
     "output_type": "stream",
     "text": [
      "Does this make sense y/n?  n\n"
     ]
    },
    {
     "name": "stdout",
     "output_type": "stream",
     "text": [
      "Check this makes sense for The Eyes Have It : Phillip K. Dick ['Philip K. Dick']\n"
     ]
    },
    {
     "name": "stdin",
     "output_type": "stream",
     "text": [
      "Does this make sense y/n?  i\n"
     ]
    },
    {
     "name": "stdout",
     "output_type": "stream",
     "text": [
      "Check this makes sense for The Eyes Have It : Phillip K. Dick ['Philip K. Dick']\n"
     ]
    },
    {
     "name": "stdin",
     "output_type": "stream",
     "text": [
      "Does this make sense y/n?  i\n"
     ]
    },
    {
     "name": "stdout",
     "output_type": "stream",
     "text": [
      "Check this makes sense for The Eyes Have It : Phillip K. Dick ['Philip K. Dick']\n"
     ]
    },
    {
     "name": "stdin",
     "output_type": "stream",
     "text": [
      "Does this make sense y/n?  i\n"
     ]
    },
    {
     "name": "stdout",
     "output_type": "stream",
     "text": [
      "Check this makes sense for The Eyes Have It : Phillip K. Dick ['Rose Estes']\n"
     ]
    },
    {
     "name": "stdin",
     "output_type": "stream",
     "text": [
      "Does this make sense y/n?  n\n"
     ]
    },
    {
     "name": "stdout",
     "output_type": "stream",
     "text": [
      "Check this makes sense for The Eyes Have It : Phillip K. Dick ['Denise Bartlett']\n"
     ]
    },
    {
     "name": "stdin",
     "output_type": "stream",
     "text": [
      "Does this make sense y/n?  n\n"
     ]
    },
    {
     "name": "stdout",
     "output_type": "stream",
     "text": [
      "Check this makes sense for The Old Woman and Her Pig : Flora Annie Steel ['Eric A. Kimmel', 'Giora Carmi']\n"
     ]
    },
    {
     "name": "stdin",
     "output_type": "stream",
     "text": [
      "Does this make sense y/n?  s\n"
     ]
    },
    {
     "name": "stdout",
     "output_type": "stream",
     "text": [
      "The Old Woman and Her Pig by Flora Annie Steel  not found in Goodreads\n",
      "“For All We Have And Are” by Rudyard Kipling  not found in Goodreads\n",
      "Check this makes sense for The Fox and the Stork : Aesop ['Mairi Mackinnon', 'Rocio Martinez']\n"
     ]
    },
    {
     "name": "stdin",
     "output_type": "stream",
     "text": [
      "Does this make sense y/n?  s\n"
     ]
    },
    {
     "name": "stdout",
     "output_type": "stream",
     "text": [
      "The Fox and the Stork by Aesop  not found in Goodreads\n",
      "On Kiley’s Run by Banjo Paterson  not found in Goodreads\n",
      "Check this makes sense for The Relic : Guy de Maupassant ['Joe Prentis']\n"
     ]
    },
    {
     "name": "stdin",
     "output_type": "stream",
     "text": [
      "Does this make sense y/n?  s\n"
     ]
    },
    {
     "name": "stdout",
     "output_type": "stream",
     "text": [
      "The Relic by Guy de Maupassant  not found in Goodreads\n",
      "Check this makes sense for The Story-Teller : Saki ['Harold Robbins']\n"
     ]
    },
    {
     "name": "stdin",
     "output_type": "stream",
     "text": [
      "Does this make sense y/n?  s\n"
     ]
    },
    {
     "name": "stdout",
     "output_type": "stream",
     "text": [
      "The Story-Teller by Saki  not found in Goodreads\n",
      "The Frogs Asking for a King by Aesop  not found in Goodreads\n",
      "Check this makes sense for The Two Sisters : Flora Annie Steel ['M.M. Pollard']\n"
     ]
    },
    {
     "name": "stdin",
     "output_type": "stream",
     "text": [
      "Does this make sense y/n?  s\n"
     ]
    },
    {
     "name": "stdout",
     "output_type": "stream",
     "text": [
      "The Two Sisters by Flora Annie Steel  not found in Goodreads\n",
      "A Child’s Dream of a Star by Charles Dickens  not found in Goodreads\n",
      "How Gilbert Died by Banjo Paterson  not found in Goodreads\n",
      "How The Camel Got His Hump by Rudyard Kipling  not found in Goodreads\n",
      "Wit Inspirations of the “Two-Year-Olds” by Mark Twain  not found in Goodreads\n",
      "Faces in the Street by Henry Lawson  not found in Goodreads\n",
      "The Cobbler Turned Doctor by Aesop  not found in Goodreads\n",
      "Magnetism by Guy de Maupassant  not found in Goodreads\n",
      "The Milkmaid and Her Pail by Aesop  not found in Goodreads\n",
      "An Astrologer’s Song by Rudyard Kipling  not found in Goodreads\n",
      "The Farmer and His Sons by Aesop  not found in Goodreads\n",
      "The Shirt-Collar by Hans Christian Andersen  not found in Goodreads\n",
      "The Oracle at the Races by Banjo Paterson  not found in Goodreads\n",
      "Check this makes sense for Locked Inside : Charlotte Perkins Gilman ['Nancy Werlin', 'Emily Durante']\n"
     ]
    },
    {
     "name": "stdin",
     "output_type": "stream",
     "text": [
      "Does this make sense y/n?  s\n"
     ]
    },
    {
     "name": "stdout",
     "output_type": "stream",
     "text": [
      "Locked Inside by Charlotte Perkins Gilman  not found in Goodreads\n",
      "A Voice from the Town by Banjo Paterson  not found in Goodreads\n",
      "How The Rhinocerous Got His Skin by Rudyard Kipling  not found in Goodreads\n",
      "How Jack Went Out To Seek His Fortune by Flora Annie Steel  not found in Goodreads\n",
      "The Two Devines by Banjo Paterson  not found in Goodreads\n",
      "The Birds, the Beasts, and the Bat by Aesop  not found in Goodreads\n",
      "A Vendetta by Guy de Maupassant  not found in Goodreads\n",
      "Check this makes sense for The Descendant : H. P. Lovecraft ['Kelley Grealis']\n"
     ]
    },
    {
     "name": "stdin",
     "output_type": "stream",
     "text": [
      "Does this make sense y/n?  n\n"
     ]
    },
    {
     "name": "stdout",
     "output_type": "stream",
     "text": [
      "Check this makes sense for The Descendant : H. P. Lovecraft ['Kelley Grealis']\n"
     ]
    },
    {
     "name": "stdin",
     "output_type": "stream",
     "text": [
      "Does this make sense y/n?  n\n"
     ]
    },
    {
     "name": "stdout",
     "output_type": "stream",
     "text": [
      "Check this makes sense for The Descendant : H. P. Lovecraft ['M.G. Harris']\n"
     ]
    },
    {
     "name": "stdin",
     "output_type": "stream",
     "text": [
      "Does this make sense y/n?  n\n"
     ]
    },
    {
     "name": "stdout",
     "output_type": "stream",
     "text": [
      "Check this makes sense for The Descendant : H. P. Lovecraft ['H.P. Lovecraft']\n"
     ]
    },
    {
     "name": "stdin",
     "output_type": "stream",
     "text": [
      "Does this make sense y/n?  i\n"
     ]
    },
    {
     "name": "stdout",
     "output_type": "stream",
     "text": [
      "Check this makes sense for The Descendant : H. P. Lovecraft ['H.P. Lovecraft']\n"
     ]
    },
    {
     "name": "stdin",
     "output_type": "stream",
     "text": [
      "Does this make sense y/n?  i\n"
     ]
    },
    {
     "name": "stdout",
     "output_type": "stream",
     "text": [
      "Check this makes sense for The Descendant : H. P. Lovecraft ['Kelley Grealis']\n"
     ]
    },
    {
     "name": "stdin",
     "output_type": "stream",
     "text": [
      "Does this make sense y/n?  n\n"
     ]
    },
    {
     "name": "stdout",
     "output_type": "stream",
     "text": [
      "The Bogey-Beast by Flora Annie Steel  not found in Goodreads\n",
      "Between the Dusk of a Summer Night by William Ernest Henley  not found in Goodreads\n",
      "The Bee and Jupiter by Aesop  not found in Goodreads\n",
      "Check this makes sense for The Clockmaker : Robert Louis Stevenson ['Georges Simenon', 'Norman Benny']\n"
     ]
    },
    {
     "name": "stdin",
     "output_type": "stream",
     "text": [
      "Does this make sense y/n?  s\n"
     ]
    },
    {
     "name": "stdout",
     "output_type": "stream",
     "text": [
      "The Clockmaker by Robert Louis Stevenson  not found in Goodreads\n",
      "Those Names by Banjo Paterson  not found in Goodreads\n",
      "Check this makes sense for The Sniper : Liam O’Flaherty ['James Riordan']\n"
     ]
    },
    {
     "name": "stdin",
     "output_type": "stream",
     "text": [
      "Does this make sense y/n?  n\n"
     ]
    },
    {
     "name": "stdout",
     "output_type": "stream",
     "text": [
      "Check this makes sense for The Sniper : Liam O’Flaherty ['Kimberly Van Meter']\n"
     ]
    },
    {
     "name": "stdin",
     "output_type": "stream",
     "text": [
      "Does this make sense y/n?  n\n"
     ]
    },
    {
     "name": "stdout",
     "output_type": "stream",
     "text": [
      "Check this makes sense for The Sniper : Liam O’Flaherty ['Jack Cannon']\n"
     ]
    },
    {
     "name": "stdin",
     "output_type": "stream",
     "text": [
      "Does this make sense y/n?  n\n"
     ]
    },
    {
     "name": "stdout",
     "output_type": "stream",
     "text": [
      "Check this makes sense for The Sniper : Liam O’Flaherty [\"Liam O'Flaherty\"]\n"
     ]
    },
    {
     "name": "stdin",
     "output_type": "stream",
     "text": [
      "Does this make sense y/n?  i\n"
     ]
    },
    {
     "name": "stdout",
     "output_type": "stream",
     "text": [
      "Check this makes sense for The Sniper : Liam O’Flaherty ['Dawn Blackridge']\n"
     ]
    },
    {
     "name": "stdin",
     "output_type": "stream",
     "text": [
      "Does this make sense y/n?  s\n"
     ]
    },
    {
     "name": "stdout",
     "output_type": "stream",
     "text": [
      "The Wind’s Message by Banjo Paterson  not found in Goodreads\n",
      "Check this makes sense for Azathoth : H. P. Lovecraft ['H.P. Lovecraft']\n"
     ]
    },
    {
     "name": "stdin",
     "output_type": "stream",
     "text": [
      "Does this make sense y/n?  i\n"
     ]
    },
    {
     "name": "stdout",
     "output_type": "stream",
     "text": [
      "Ambition and Art by Banjo Paterson  not found in Goodreads\n",
      "A Mother of Monsters by Guy de Maupassant  not found in Goodreads\n",
      "Life is Bitter by William Ernest Henley  not found in Goodreads\n",
      "Check this makes sense for Nyarlathotep : H. P. Lovecraft ['H.P. Lovecraft']\n"
     ]
    },
    {
     "name": "stdin",
     "output_type": "stream",
     "text": [
      "Does this make sense y/n?  i\n"
     ]
    },
    {
     "name": "stdout",
     "output_type": "stream",
     "text": [
      "Check this makes sense for Nyarlathotep : H. P. Lovecraft ['H.P. Lovecraft']\n"
     ]
    },
    {
     "name": "stdin",
     "output_type": "stream",
     "text": [
      "Does this make sense y/n?  i\n"
     ]
    },
    {
     "name": "stdout",
     "output_type": "stream",
     "text": [
      "Check this makes sense for Nyarlathotep : H. P. Lovecraft ['H.P. Lovecraft']\n"
     ]
    },
    {
     "name": "stdin",
     "output_type": "stream",
     "text": [
      "Does this make sense y/n?  i\n"
     ]
    },
    {
     "name": "stdout",
     "output_type": "stream",
     "text": [
      "Check this makes sense for Nyarlathotep : H. P. Lovecraft ['H.P. Lovecraft']\n"
     ]
    },
    {
     "name": "stdin",
     "output_type": "stream",
     "text": [
      "Does this make sense y/n?  i\n"
     ]
    },
    {
     "name": "stdout",
     "output_type": "stream",
     "text": [
      "Check this makes sense for Nyarlathotep : H. P. Lovecraft ['H.P. Lovecraft', 'Chuck BB']\n"
     ]
    },
    {
     "name": "stdin",
     "output_type": "stream",
     "text": [
      "Does this make sense y/n?  i\n"
     ]
    },
    {
     "name": "stdout",
     "output_type": "stream",
     "text": [
      "Check this makes sense for Nyarlathotep : H. P. Lovecraft ['H.P. Lovecraft']\n"
     ]
    },
    {
     "name": "stdin",
     "output_type": "stream",
     "text": [
      "Does this make sense y/n?  i\n"
     ]
    },
    {
     "name": "stdout",
     "output_type": "stream",
     "text": [
      "Check this makes sense for Nyarlathotep : H. P. Lovecraft ['H.P. Lovecraft']\n"
     ]
    },
    {
     "name": "stdin",
     "output_type": "stream",
     "text": [
      "Does this make sense y/n?  i\n"
     ]
    },
    {
     "name": "stdout",
     "output_type": "stream",
     "text": [
      "Check this makes sense for Justice : Rudyard Kipling ['Sara Bell']\n"
     ]
    },
    {
     "name": "stdin",
     "output_type": "stream",
     "text": [
      "Does this make sense y/n?  n\n"
     ]
    },
    {
     "name": "stdout",
     "output_type": "stream",
     "text": [
      "Check this makes sense for Justice : Rudyard Kipling ['Karen Robards']\n"
     ]
    },
    {
     "name": "stdin",
     "output_type": "stream",
     "text": [
      "Does this make sense y/n?  s\n"
     ]
    },
    {
     "name": "stdout",
     "output_type": "stream",
     "text": [
      "Justice by Rudyard Kipling  not found in Goodreads\n",
      "The History of the Necronomicon by H. P. Lovecraft  not found in Goodreads\n",
      "Check this makes sense for The Orator : Anton Chekhov ['Edgar Wallace']\n"
     ]
    },
    {
     "name": "stdin",
     "output_type": "stream",
     "text": [
      "Does this make sense y/n?  n\n"
     ]
    },
    {
     "name": "stdout",
     "output_type": "stream",
     "text": [
      "The Orator by Anton Chekhov  not found in Goodreads\n",
      "The Past Was Goodly Once by William Ernest Henley  not found in Goodreads\n",
      "The Wee Bannock by Flora Annie Steel  not found in Goodreads\n",
      "A Bush Christening by Banjo Paterson  not found in Goodreads\n",
      "Check this makes sense for The Pendulum : Ray Bradbury ['Anne Elizabeth']\n"
     ]
    },
    {
     "name": "stdin",
     "output_type": "stream",
     "text": [
      "Does this make sense y/n?  s\n"
     ]
    },
    {
     "name": "stdout",
     "output_type": "stream",
     "text": [
      "The Pendulum by Ray Bradbury  not found in Goodreads\n",
      "The Eagle, the Cat, and the Wild Sow by Aesop  not found in Goodreads\n",
      "A Dream Lies Dead by Dorothy Parker  not found in Goodreads\n",
      "The Man Who Was Away by Banjo Paterson  not found in Goodreads\n",
      "The Detective Detector by O. Henry  not found in Goodreads\n",
      "Hunting the Deceitful Turkey by Mark Twain  not found in Goodreads\n",
      "A Death Bed by Rudyard Kipling  not found in Goodreads\n",
      "The Bear and the Travellers by Aesop  not found in Goodreads\n",
      "The Bat, the Bramble, and the Seagull by Aesop  not found in Goodreads\n",
      "An Incident by Anton Chekhov  not found in Goodreads\n",
      "Check this makes sense for Mesopotamia : Rudyard Kipling ['Julian Reade']\n"
     ]
    },
    {
     "name": "stdin",
     "output_type": "stream",
     "text": [
      "Does this make sense y/n?  s\n"
     ]
    },
    {
     "name": "stdout",
     "output_type": "stream",
     "text": [
      "Mesopotamia by Rudyard Kipling  not found in Goodreads\n",
      "The Drover’s Sweetheart by Henry Lawson  not found in Goodreads\n",
      "Check this makes sense for The Book : H. P. Lovecraft ['M. Clifford']\n"
     ]
    },
    {
     "name": "stdin",
     "output_type": "stream",
     "text": [
      "Does this make sense y/n?  n\n"
     ]
    },
    {
     "name": "stdout",
     "output_type": "stream",
     "text": [
      "Check this makes sense for The Book : H. P. Lovecraft ['H.P. Lovecraft']\n"
     ]
    },
    {
     "name": "stdin",
     "output_type": "stream",
     "text": [
      "Does this make sense y/n?  i\n"
     ]
    },
    {
     "name": "stdout",
     "output_type": "stream",
     "text": [
      "Check this makes sense for The Book : H. P. Lovecraft ['M. Clifford']\n"
     ]
    },
    {
     "name": "stdin",
     "output_type": "stream",
     "text": [
      "Does this make sense y/n?  n\n"
     ]
    },
    {
     "name": "stdout",
     "output_type": "stream",
     "text": [
      "Check this makes sense for The Book : H. P. Lovecraft ['H.P. Lovecraft']\n"
     ]
    },
    {
     "name": "stdin",
     "output_type": "stream",
     "text": [
      "Does this make sense y/n?  i\n"
     ]
    },
    {
     "name": "stdout",
     "output_type": "stream",
     "text": [
      "Check this makes sense for The Book : H. P. Lovecraft ['Michael Shaara']\n"
     ]
    },
    {
     "name": "stdin",
     "output_type": "stream",
     "text": [
      "Does this make sense y/n?  n\n"
     ]
    },
    {
     "name": "stdout",
     "output_type": "stream",
     "text": [
      "Check this makes sense for The Book : H. P. Lovecraft ['Jessica Bell']\n"
     ]
    },
    {
     "name": "stdin",
     "output_type": "stream",
     "text": [
      "Does this make sense y/n?  n\n"
     ]
    },
    {
     "name": "stdout",
     "output_type": "stream",
     "text": [
      "Check this makes sense for The Book : H. P. Lovecraft ['Pete Anstice']\n"
     ]
    },
    {
     "name": "stdin",
     "output_type": "stream",
     "text": [
      "Does this make sense y/n?  n\n"
     ]
    },
    {
     "name": "stdout",
     "output_type": "stream",
     "text": [
      "Check this makes sense for The Book : H. P. Lovecraft ['Allie Cresswell']\n"
     ]
    },
    {
     "name": "stdin",
     "output_type": "stream",
     "text": [
      "Does this make sense y/n?  n\n"
     ]
    },
    {
     "name": "stdout",
     "output_type": "stream",
     "text": [
      "Check this makes sense for The Book : H. P. Lovecraft ['Jessica Bell']\n"
     ]
    },
    {
     "name": "stdin",
     "output_type": "stream",
     "text": [
      "Does this make sense y/n?  n\n"
     ]
    },
    {
     "name": "stdout",
     "output_type": "stream",
     "text": [
      "Check this makes sense for The Book : H. P. Lovecraft ['Jessica Bell']\n"
     ]
    },
    {
     "name": "stdin",
     "output_type": "stream",
     "text": [
      "Does this make sense y/n?  n\n"
     ]
    },
    {
     "name": "stdout",
     "output_type": "stream",
     "text": [
      "Check this makes sense for The Book : H. P. Lovecraft ['Julius Friedman', 'Jill Gage', 'Pico Iyer']\n"
     ]
    },
    {
     "name": "stdin",
     "output_type": "stream",
     "text": [
      "Does this make sense y/n?  n\n"
     ]
    },
    {
     "name": "stdout",
     "output_type": "stream",
     "text": [
      "The Daylight Is Dying by Banjo Paterson  not found in Goodreads\n",
      "Song of the Future by Banjo Paterson  not found in Goodreads\n",
      "A Chameleon by Anton Chekhov  not found in Goodreads\n",
      "The Open Steeplechase by Banjo Paterson  not found in Goodreads\n",
      "Check this makes sense for Memory : H. P. Lovecraft ['Donald E. Westlake']\n"
     ]
    },
    {
     "name": "stdin",
     "output_type": "stream",
     "text": [
      "Does this make sense y/n?  n\n"
     ]
    },
    {
     "name": "stdout",
     "output_type": "stream",
     "text": [
      "Check this makes sense for Memory : H. P. Lovecraft ['Linda Nagata']\n"
     ]
    },
    {
     "name": "stdin",
     "output_type": "stream",
     "text": [
      "Does this make sense y/n?  n\n"
     ]
    },
    {
     "name": "stdout",
     "output_type": "stream",
     "text": [
      "Check this makes sense for Memory : H. P. Lovecraft ['Nicci French', 'Roberta Zuppet']\n"
     ]
    },
    {
     "name": "stdin",
     "output_type": "stream",
     "text": [
      "Does this make sense y/n?  n\n"
     ]
    },
    {
     "name": "stdout",
     "output_type": "stream",
     "text": [
      "Check this makes sense for Memory : H. P. Lovecraft ['Bernadette Mayer']\n"
     ]
    },
    {
     "name": "stdin",
     "output_type": "stream",
     "text": [
      "Does this make sense y/n?  n\n"
     ]
    },
    {
     "name": "stdout",
     "output_type": "stream",
     "text": [
      "Check this makes sense for Memory : H. P. Lovecraft ['H.P. Lovecraft']\n"
     ]
    },
    {
     "name": "stdin",
     "output_type": "stream",
     "text": [
      "Does this make sense y/n?  i\n"
     ]
    },
    {
     "name": "stdout",
     "output_type": "stream",
     "text": [
      "Check this makes sense for Memory : H. P. Lovecraft ['Donald E. Westlake']\n"
     ]
    },
    {
     "name": "stdin",
     "output_type": "stream",
     "text": [
      "Does this make sense y/n?  n\n"
     ]
    },
    {
     "name": "stdout",
     "output_type": "stream",
     "text": [
      "Check this makes sense for Memory : H. P. Lovecraft ['H.P. Lovecraft']\n"
     ]
    },
    {
     "name": "stdin",
     "output_type": "stream",
     "text": [
      "Does this make sense y/n?  i\n"
     ]
    },
    {
     "name": "stdout",
     "output_type": "stream",
     "text": [
      "Check this makes sense for Memory : H. P. Lovecraft ['Linda Nagata']\n"
     ]
    },
    {
     "name": "stdin",
     "output_type": "stream",
     "text": [
      "Does this make sense y/n?  n\n"
     ]
    },
    {
     "name": "stdout",
     "output_type": "stream",
     "text": [
      "Check this makes sense for Memory : H. P. Lovecraft ['Margaret Mahy']\n"
     ]
    },
    {
     "name": "stdin",
     "output_type": "stream",
     "text": [
      "Does this make sense y/n?  n\n"
     ]
    },
    {
     "name": "stdout",
     "output_type": "stream",
     "text": [
      "Check this makes sense for Memory : H. P. Lovecraft ['Doug Lloyd']\n"
     ]
    },
    {
     "name": "stdin",
     "output_type": "stream",
     "text": [
      "Does this make sense y/n?  n\n"
     ]
    },
    {
     "name": "stdout",
     "output_type": "stream",
     "text": [
      "Check this makes sense for Memory : H. P. Lovecraft ['Alan Baddeley', 'Michael W. Eysenck', 'Michael C. Anderson']\n"
     ]
    },
    {
     "name": "stdin",
     "output_type": "stream",
     "text": [
      "Does this make sense y/n?  n\n"
     ]
    },
    {
     "name": "stdout",
     "output_type": "stream",
     "text": [
      "Check this makes sense for Memory : H. P. Lovecraft ['Bennett Davlin']\n"
     ]
    },
    {
     "name": "stdin",
     "output_type": "stream",
     "text": [
      "Does this make sense y/n?  n\n"
     ]
    },
    {
     "name": "stdout",
     "output_type": "stream",
     "text": [
      "Check this makes sense for Memory : H. P. Lovecraft ['H.P. Lovecraft']\n"
     ]
    },
    {
     "name": "stdin",
     "output_type": "stream",
     "text": [
      "Does this make sense y/n?  i\n"
     ]
    },
    {
     "name": "stdout",
     "output_type": "stream",
     "text": [
      "Check this makes sense for Memory : H. P. Lovecraft ['Christoph Marzi']\n"
     ]
    },
    {
     "name": "stdin",
     "output_type": "stream",
     "text": [
      "Does this make sense y/n?  n\n"
     ]
    },
    {
     "name": "stdout",
     "output_type": "stream",
     "text": [
      "Check this makes sense for Memory : H. P. Lovecraft ['Margaret Mahy']\n"
     ]
    },
    {
     "name": "stdin",
     "output_type": "stream",
     "text": [
      "Does this make sense y/n?  n\n"
     ]
    },
    {
     "name": "stdout",
     "output_type": "stream",
     "text": [
      "Check this makes sense for Memory : H. P. Lovecraft ['Philippe Grimbert']\n"
     ]
    },
    {
     "name": "stdin",
     "output_type": "stream",
     "text": [
      "Does this make sense y/n?  n\n"
     ]
    },
    {
     "name": "stdout",
     "output_type": "stream",
     "text": [
      "Check this makes sense for Memory : H. P. Lovecraft ['Linda Nagata']\n"
     ]
    },
    {
     "name": "stdin",
     "output_type": "stream",
     "text": [
      "Does this make sense y/n?  n\n"
     ]
    },
    {
     "name": "stdout",
     "output_type": "stream",
     "text": [
      "Check this makes sense for Memory : H. P. Lovecraft ['Linda Nagata']\n"
     ]
    },
    {
     "name": "stdin",
     "output_type": "stream",
     "text": [
      "Does this make sense y/n?  n\n"
     ]
    },
    {
     "name": "stdout",
     "output_type": "stream",
     "text": [
      "Check this makes sense for Memory : H. P. Lovecraft ['H.P. Lovecraft']\n"
     ]
    },
    {
     "name": "stdin",
     "output_type": "stream",
     "text": [
      "Does this make sense y/n?  i\n"
     ]
    },
    {
     "name": "stdout",
     "output_type": "stream",
     "text": [
      "Check this makes sense for Memory : H. P. Lovecraft ['Laura Jensen']\n"
     ]
    },
    {
     "name": "stdin",
     "output_type": "stream",
     "text": [
      "Does this make sense y/n?  n\n"
     ]
    },
    {
     "name": "stdout",
     "output_type": "stream",
     "text": [
      "Check this makes sense for Memory : H. P. Lovecraft ['Anne Whitehead']\n"
     ]
    },
    {
     "name": "stdin",
     "output_type": "stream",
     "text": [
      "Does this make sense y/n?  n\n"
     ]
    },
    {
     "name": "stdout",
     "output_type": "stream",
     "text": [
      "Check this makes sense for Memory : H. P. Lovecraft ['Philippe Grimbert']\n"
     ]
    },
    {
     "name": "stdin",
     "output_type": "stream",
     "text": [
      "Does this make sense y/n?  n\n"
     ]
    },
    {
     "name": "stdout",
     "output_type": "stream",
     "text": [
      "Check this makes sense for Memory : H. P. Lovecraft ['Philippe Grimbert', 'Polly McLean']\n"
     ]
    },
    {
     "name": "stdin",
     "output_type": "stream",
     "text": [
      "Does this make sense y/n?  n\n"
     ]
    },
    {
     "name": "stdout",
     "output_type": "stream",
     "text": [
      "Check this makes sense for Memory : H. P. Lovecraft ['Margaret Mahy']\n"
     ]
    },
    {
     "name": "stdin",
     "output_type": "stream",
     "text": [
      "Does this make sense y/n?  n\n"
     ]
    },
    {
     "name": "stdout",
     "output_type": "stream",
     "text": [
      "Check this makes sense for Memory : H. P. Lovecraft ['Filippo Parisi']\n"
     ]
    },
    {
     "name": "stdin",
     "output_type": "stream",
     "text": [
      "Does this make sense y/n?  n\n"
     ]
    },
    {
     "name": "stdout",
     "output_type": "stream",
     "text": [
      "Check this makes sense for Memory : H. P. Lovecraft ['Linda Nagata']\n"
     ]
    },
    {
     "name": "stdin",
     "output_type": "stream",
     "text": [
      "Does this make sense y/n?  n\n"
     ]
    },
    {
     "name": "stdout",
     "output_type": "stream",
     "text": [
      "Check this makes sense for Memory : H. P. Lovecraft ['Bennett Davlin']\n"
     ]
    },
    {
     "name": "stdin",
     "output_type": "stream",
     "text": [
      "Does this make sense y/n?  n\n"
     ]
    },
    {
     "name": "stdout",
     "output_type": "stream",
     "text": [
      "Check this makes sense for Memory : H. P. Lovecraft ['Donald E. Westlake']\n"
     ]
    },
    {
     "name": "stdin",
     "output_type": "stream",
     "text": [
      "Does this make sense y/n?  n\n"
     ]
    },
    {
     "name": "stdout",
     "output_type": "stream",
     "text": [
      "The Old Australian Ways by Banjo Paterson  not found in Goodreads\n",
      "The Poets of the Tomb by Henry Lawson  not found in Goodreads\n",
      "The Mystery of Dave Regan by Henry Lawson  not found in Goodreads\n",
      "Check this makes sense for Tattercoats : Flora Annie Steel ['Margot Tomes', 'Joseph Jacobs']\n"
     ]
    },
    {
     "name": "stdin",
     "output_type": "stream",
     "text": [
      "Does this make sense y/n?  s\n"
     ]
    },
    {
     "name": "stdout",
     "output_type": "stream",
     "text": [
      "Tattercoats by Flora Annie Steel  not found in Goodreads\n",
      "Check this makes sense for Polaris : H. P. Lovecraft ['Jack McDevitt', 'Raul Sastre', 'John Harris']\n"
     ]
    },
    {
     "name": "stdin",
     "output_type": "stream",
     "text": [
      "Does this make sense y/n?  n\n"
     ]
    },
    {
     "name": "stdout",
     "output_type": "stream",
     "text": [
      "Check this makes sense for Polaris : H. P. Lovecraft ['Beth Bowland']\n"
     ]
    },
    {
     "name": "stdin",
     "output_type": "stream",
     "text": [
      "Does this make sense y/n?  n\n"
     ]
    },
    {
     "name": "stdout",
     "output_type": "stream",
     "text": [
      "Check this makes sense for Polaris : H. P. Lovecraft ['Timothy   Brown']\n"
     ]
    },
    {
     "name": "stdin",
     "output_type": "stream",
     "text": [
      "Does this make sense y/n?  n\n"
     ]
    },
    {
     "name": "stdout",
     "output_type": "stream",
     "text": [
      "Check this makes sense for Polaris : H. P. Lovecraft ['H.P. Lovecraft']\n"
     ]
    },
    {
     "name": "stdin",
     "output_type": "stream",
     "text": [
      "Does this make sense y/n?  i\n"
     ]
    },
    {
     "name": "stdout",
     "output_type": "stream",
     "text": [
      "Check this makes sense for Polaris : H. P. Lovecraft ['H.P. Lovecraft']\n"
     ]
    },
    {
     "name": "stdin",
     "output_type": "stream",
     "text": [
      "Does this make sense y/n?  i\n"
     ]
    },
    {
     "name": "stdout",
     "output_type": "stream",
     "text": [
      "Check this makes sense for Polaris : H. P. Lovecraft ['Mindee Arnett']\n"
     ]
    },
    {
     "name": "stdin",
     "output_type": "stream",
     "text": [
      "Does this make sense y/n?  n\n"
     ]
    },
    {
     "name": "stdout",
     "output_type": "stream",
     "text": [
      "Check this makes sense for Polaris : H. P. Lovecraft ['Mindee Arnett']\n"
     ]
    },
    {
     "name": "stdin",
     "output_type": "stream",
     "text": [
      "Does this make sense y/n?  n\n"
     ]
    },
    {
     "name": "stdout",
     "output_type": "stream",
     "text": [
      "Check this makes sense for Polaris : H. P. Lovecraft ['H.P. Lovecraft']\n"
     ]
    },
    {
     "name": "stdin",
     "output_type": "stream",
     "text": [
      "Does this make sense y/n?  i\n"
     ]
    },
    {
     "name": "stdout",
     "output_type": "stream",
     "text": [
      "Check this makes sense for Polaris : H. P. Lovecraft ['Beth Bowland']\n"
     ]
    },
    {
     "name": "stdin",
     "output_type": "stream",
     "text": [
      "Does this make sense y/n?  n\n"
     ]
    },
    {
     "name": "stdout",
     "output_type": "stream",
     "text": [
      "Check this makes sense for Polaris : H. P. Lovecraft ['Michael Northrop']\n"
     ]
    },
    {
     "name": "stdin",
     "output_type": "stream",
     "text": [
      "Does this make sense y/n?  n\n"
     ]
    },
    {
     "name": "stdout",
     "output_type": "stream",
     "text": [
      "Check this makes sense for Polaris : H. P. Lovecraft ['Lorena Martinez', 'Miriam Martinez']\n"
     ]
    },
    {
     "name": "stdin",
     "output_type": "stream",
     "text": [
      "Does this make sense y/n?  n\n"
     ]
    },
    {
     "name": "stdout",
     "output_type": "stream",
     "text": [
      "Johnson’s Antidote by Banjo Paterson  not found in Goodreads\n",
      "Been There Before by Banjo Paterson  not found in Goodreads\n",
      "Check this makes sense for What the Moon Brings : H. P. Lovecraft ['H.P. Lovecraft']\n"
     ]
    },
    {
     "name": "stdin",
     "output_type": "stream",
     "text": [
      "Does this make sense y/n?  i\n"
     ]
    },
    {
     "name": "stdout",
     "output_type": "stream",
     "text": [
      "Check this makes sense for What the Moon Brings : H. P. Lovecraft ['H.P. Lovecraft']\n"
     ]
    },
    {
     "name": "stdin",
     "output_type": "stream",
     "text": [
      "Does this make sense y/n?  i\n"
     ]
    },
    {
     "name": "stdout",
     "output_type": "stream",
     "text": [
      "Check this makes sense for What the Moon Brings : H. P. Lovecraft ['H.P. Lovecraft']\n"
     ]
    },
    {
     "name": "stdin",
     "output_type": "stream",
     "text": [
      "Does this make sense y/n?  i\n"
     ]
    },
    {
     "name": "stdout",
     "output_type": "stream",
     "text": [
      "Check this makes sense for Clair De Lune : Guy de Maupassant ['Amberdeengirl']\n"
     ]
    },
    {
     "name": "stdin",
     "output_type": "stream",
     "text": [
      "Does this make sense y/n?  n\n"
     ]
    },
    {
     "name": "stdout",
     "output_type": "stream",
     "text": [
      "Clair De Lune by Guy de Maupassant  not found in Goodreads\n",
      "Check this makes sense for The Cat : Banjo Paterson ['Georges Simenon', 'Bernard Frechtman']\n"
     ]
    },
    {
     "name": "stdin",
     "output_type": "stream",
     "text": [
      "Does this make sense y/n?  n\n"
     ]
    },
    {
     "name": "stdout",
     "output_type": "stream",
     "text": [
      "Check this makes sense for The Cat : Banjo Paterson ['A.B. Paterson']\n"
     ]
    },
    {
     "name": "stdin",
     "output_type": "stream",
     "text": [
      "Does this make sense y/n?  i\n"
     ]
    },
    {
     "name": "stdout",
     "output_type": "stream",
     "text": [
      "Check this makes sense for The Cat : Banjo Paterson ['Edeet Ravel']\n"
     ]
    },
    {
     "name": "stdin",
     "output_type": "stream",
     "text": [
      "Does this make sense y/n?  n\n"
     ]
    },
    {
     "name": "stdout",
     "output_type": "stream",
     "text": [
      "Check this makes sense for The Cat : Banjo Paterson ['Edeet Ravel']\n"
     ]
    },
    {
     "name": "stdin",
     "output_type": "stream",
     "text": [
      "Does this make sense y/n?  n\n"
     ]
    },
    {
     "name": "stdout",
     "output_type": "stream",
     "text": [
      "The Roaring Days by Henry Lawson  not found in Goodreads\n",
      "Check this makes sense for The Female of the Species : Rudyard Kipling ['Mindy McGinnis']\n"
     ]
    },
    {
     "name": "stdin",
     "output_type": "stream",
     "text": [
      "Does this make sense y/n?  s\n"
     ]
    },
    {
     "name": "stdout",
     "output_type": "stream",
     "text": [
      "The Female of the Species by Rudyard Kipling  not found in Goodreads\n",
      "Check this makes sense for Happiness : Aleksandr I. Kuprin ['Frederic Lenoir']\n"
     ]
    },
    {
     "name": "stdin",
     "output_type": "stream",
     "text": [
      "Does this make sense y/n?  n\n"
     ]
    },
    {
     "name": "stdout",
     "output_type": "stream",
     "text": [
      "Check this makes sense for Happiness : Aleksandr I. Kuprin ['Aminatta Forna']\n"
     ]
    },
    {
     "name": "stdin",
     "output_type": "stream",
     "text": [
      "Does this make sense y/n?  s\n"
     ]
    },
    {
     "name": "stdout",
     "output_type": "stream",
     "text": [
      "Happiness by Aleksandr I. Kuprin  not found in Goodreads\n",
      "Only a Jockey by Banjo Paterson  not found in Goodreads\n",
      "The Red Ettin by Flora Annie Steel  not found in Goodreads\n",
      "The Geebung Polo Club by Banjo Paterson  not found in Goodreads\n",
      "Check this makes sense for Henny Penny : Flora Annie Steel ['Paul Galdone']\n"
     ]
    },
    {
     "name": "stdin",
     "output_type": "stream",
     "text": [
      "Does this make sense y/n?  s\n"
     ]
    },
    {
     "name": "stdout",
     "output_type": "stream",
     "text": [
      "Henny Penny by Flora Annie Steel  not found in Goodreads\n",
      "The Belly and the Members by Aesop  not found in Goodreads\n",
      "The Wise Men Of Gotham by Flora Annie Steel  not found in Goodreads\n",
      "The Great Calamity by Banjo Paterson  not found in Goodreads\n",
      "Oh! The Public by Anton Chekhov  not found in Goodreads\n",
      "Bill, the Ventriloquial Rooster by Henry Lawson  not found in Goodreads\n",
      "The Brogue by Saki  not found in Goodreads\n",
      "Check this makes sense for A Clean Well Lighted Place : Ernest Hemmingway ['Ernest Hemingway']\n"
     ]
    },
    {
     "name": "stdin",
     "output_type": "stream",
     "text": [
      "Does this make sense y/n?  i\n"
     ]
    },
    {
     "name": "stdout",
     "output_type": "stream",
     "text": [
      "A Fairly Sad Tale by Dorothy Parker  not found in Goodreads\n",
      "Check this makes sense for The Beautiful Suit : H. G. Wells ['H.G. Wells']\n"
     ]
    },
    {
     "name": "stdin",
     "output_type": "stream",
     "text": [
      "Does this make sense y/n?  i\n"
     ]
    },
    {
     "name": "stdout",
     "output_type": "stream",
     "text": [
      "A Mountain Station by Banjo Paterson  not found in Goodreads\n",
      "Check this makes sense for Rumpelstiltskin : Brothers Grimm ['Jacob Grimm', 'Nicola Baxter']\n"
     ]
    },
    {
     "name": "stdin",
     "output_type": "stream",
     "text": [
      "Does this make sense y/n?  n\n"
     ]
    },
    {
     "name": "stdout",
     "output_type": "stream",
     "text": [
      "Check this makes sense for Rumpelstiltskin : Brothers Grimm ['E.R. Walder', 'Marc Philipps']\n"
     ]
    },
    {
     "name": "stdin",
     "output_type": "stream",
     "text": [
      "Does this make sense y/n?  n\n"
     ]
    },
    {
     "name": "stdout",
     "output_type": "stream",
     "text": [
      "Check this makes sense for Rumpelstiltskin : Brothers Grimm ['Travis Baker']\n"
     ]
    },
    {
     "name": "stdin",
     "output_type": "stream",
     "text": [
      "Does this make sense y/n?  n\n"
     ]
    },
    {
     "name": "stdout",
     "output_type": "stream",
     "text": [
      "Check this makes sense for Rumpelstiltskin : Brothers Grimm ['Vera Southgate', 'Eric Winter']\n"
     ]
    },
    {
     "name": "stdin",
     "output_type": "stream",
     "text": [
      "Does this make sense y/n?  n\n"
     ]
    },
    {
     "name": "stdout",
     "output_type": "stream",
     "text": [
      "Check this makes sense for Rumpelstiltskin : Brothers Grimm ['Ann Wade']\n"
     ]
    },
    {
     "name": "stdin",
     "output_type": "stream",
     "text": [
      "Does this make sense y/n?  n\n"
     ]
    },
    {
     "name": "stdout",
     "output_type": "stream",
     "text": [
      "Check this makes sense for Rumpelstiltskin : Brothers Grimm ['Chris  Noel']\n"
     ]
    },
    {
     "name": "stdin",
     "output_type": "stream",
     "text": [
      "Does this make sense y/n?  n\n"
     ]
    },
    {
     "name": "stdout",
     "output_type": "stream",
     "text": [
      "Check this makes sense for Rumpelstiltskin : Brothers Grimm ['Ed McBain']\n"
     ]
    },
    {
     "name": "stdin",
     "output_type": "stream",
     "text": [
      "Does this make sense y/n?  n\n"
     ]
    },
    {
     "name": "stdout",
     "output_type": "stream",
     "text": [
      "Check this makes sense for Rumpelstiltskin : Brothers Grimm ['Alison Sage', 'Gennady Spirin']\n"
     ]
    },
    {
     "name": "stdin",
     "output_type": "stream",
     "text": [
      "Does this make sense y/n?  n\n"
     ]
    },
    {
     "name": "stdout",
     "output_type": "stream",
     "text": [
      "Check this makes sense for Rumpelstiltskin : Brothers Grimm ['Edith Tarcov', 'Edward Gorey']\n"
     ]
    },
    {
     "name": "stdin",
     "output_type": "stream",
     "text": [
      "Does this make sense y/n?  n\n"
     ]
    },
    {
     "name": "stdout",
     "output_type": "stream",
     "text": [
      "Check this makes sense for Rumpelstiltskin : Brothers Grimm ['Paul O. Zelinsky', 'Jacob Grimm']\n"
     ]
    },
    {
     "name": "stdin",
     "output_type": "stream",
     "text": [
      "Does this make sense y/n?  n\n"
     ]
    },
    {
     "name": "stdout",
     "output_type": "stream",
     "text": [
      "Check this makes sense for Rumpelstiltskin : Brothers Grimm ['Edith H. Tarcov', 'Edward Gorey']\n"
     ]
    },
    {
     "name": "stdin",
     "output_type": "stream",
     "text": [
      "Does this make sense y/n?  n\n"
     ]
    },
    {
     "name": "stdout",
     "output_type": "stream",
     "text": [
      "Check this makes sense for Rumpelstiltskin : Brothers Grimm ['Paul O. Zelinsky']\n"
     ]
    },
    {
     "name": "stdin",
     "output_type": "stream",
     "text": [
      "Does this make sense y/n?  n\n"
     ]
    },
    {
     "name": "stdout",
     "output_type": "stream",
     "text": [
      "Check this makes sense for Rumpelstiltskin : Brothers Grimm ['Stella Nathan']\n"
     ]
    },
    {
     "name": "stdin",
     "output_type": "stream",
     "text": [
      "Does this make sense y/n?  n\n"
     ]
    },
    {
     "name": "stdout",
     "output_type": "stream",
     "text": [
      "Check this makes sense for Rumpelstiltskin : Brothers Grimm ['Jacob Grimm', 'Wilhelm Grimm', 'Bernadette Watts']\n"
     ]
    },
    {
     "name": "stdin",
     "output_type": "stream",
     "text": [
      "Does this make sense y/n?  n\n"
     ]
    },
    {
     "name": "stdout",
     "output_type": "stream",
     "text": [
      "Check this makes sense for Rumpelstiltskin : Brothers Grimm ['Paul Galdone']\n"
     ]
    },
    {
     "name": "stdin",
     "output_type": "stream",
     "text": [
      "Does this make sense y/n?  n\n"
     ]
    },
    {
     "name": "stdout",
     "output_type": "stream",
     "text": [
      "Check this makes sense for Rumpelstiltskin : Brothers Grimm ['Robyn Bryant', 'Jacob Grimm']\n"
     ]
    },
    {
     "name": "stdin",
     "output_type": "stream",
     "text": [
      "Does this make sense y/n?  n\n"
     ]
    },
    {
     "name": "stdout",
     "output_type": "stream",
     "text": [
      "Check this makes sense for Rumpelstiltskin : Brothers Grimm ['Jacob Grimm']\n"
     ]
    },
    {
     "name": "stdin",
     "output_type": "stream",
     "text": [
      "Does this make sense y/n?  i\n"
     ]
    },
    {
     "name": "stdout",
     "output_type": "stream",
     "text": [
      "Check this makes sense for Rumpelstiltskin : Brothers Grimm ['Paul Galdone']\n"
     ]
    },
    {
     "name": "stdin",
     "output_type": "stream",
     "text": [
      "Does this make sense y/n?  n\n"
     ]
    },
    {
     "name": "stdout",
     "output_type": "stream",
     "text": [
      "Check this makes sense for Rumpelstiltskin : Brothers Grimm ['Paul O. Zelinsky']\n"
     ]
    },
    {
     "name": "stdin",
     "output_type": "stream",
     "text": [
      "Does this make sense y/n?  n\n"
     ]
    },
    {
     "name": "stdout",
     "output_type": "stream",
     "text": [
      "Check this makes sense for Rumpelstiltskin : Brothers Grimm ['Xavier Carrasco', 'Francesc Infante', 'Jacob Grimm']\n"
     ]
    },
    {
     "name": "stdin",
     "output_type": "stream",
     "text": [
      "Does this make sense y/n?  n\n"
     ]
    },
    {
     "name": "stdout",
     "output_type": "stream",
     "text": [
      "Check this makes sense for Rumpelstiltskin : Brothers Grimm ['Marie-Louise Gay']\n"
     ]
    },
    {
     "name": "stdin",
     "output_type": "stream",
     "text": [
      "Does this make sense y/n?  n\n"
     ]
    },
    {
     "name": "stdout",
     "output_type": "stream",
     "text": [
      "Check this makes sense for Rumpelstiltskin : Brothers Grimm ['Paul Galdone']\n"
     ]
    },
    {
     "name": "stdin",
     "output_type": "stream",
     "text": [
      "Does this make sense y/n?  n\n"
     ]
    },
    {
     "name": "stdout",
     "output_type": "stream",
     "text": [
      "The Spring My Dear by William Ernest Henley  not found in Goodreads\n",
      "Little Red Riding-Hood by Flora Annie Steel  not found in Goodreads\n",
      "Check this makes sense for Lazy Jack : Flora Annie Steel ['Vivian French', 'Russell Ayto']\n"
     ]
    },
    {
     "name": "stdin",
     "output_type": "stream",
     "text": [
      "Does this make sense y/n?  s\n"
     ]
    },
    {
     "name": "stdout",
     "output_type": "stream",
     "text": [
      "Lazy Jack by Flora Annie Steel  not found in Goodreads\n",
      "Check this makes sense for The Three Sillies : Flora Annie Steel ['Steven Kellogg']\n"
     ]
    },
    {
     "name": "stdin",
     "output_type": "stream",
     "text": [
      "Does this make sense y/n?  s\n"
     ]
    },
    {
     "name": "stdout",
     "output_type": "stream",
     "text": [
      "The Three Sillies by Flora Annie Steel  not found in Goodreads\n",
      "Our New Horse by Banjo Paterson  not found in Goodreads\n",
      "The Man from Ironbark by Banjo Paterson  not found in Goodreads\n",
      "How the Favourite Beat Us by Banjo Paterson  not found in Goodreads\n",
      "A Certain Lady by Dorothy Parker  not found in Goodreads\n",
      "How M’Ginnis Went Missing by Banjo Paterson  not found in Goodreads\n",
      "To the Sun by Clark Ashton Smith  not found in Goodreads\n",
      "The Puppet-show Man by Hans Christian Andersen  not found in Goodreads\n",
      "The Fish and the Ring by Flora Annie Steel  not found in Goodreads\n",
      "Check this makes sense for Last Week : Banjo Paterson ['Lucy Wild']\n"
     ]
    },
    {
     "name": "stdin",
     "output_type": "stream",
     "text": [
      "Does this make sense y/n?  s\n"
     ]
    },
    {
     "name": "stdout",
     "output_type": "stream",
     "text": [
      "Last Week by Banjo Paterson  not found in Goodreads\n",
      "The Ant by Aesop  not found in Goodreads\n",
      "The Flying Gang by Banjo Paterson  not found in Goodreads\n",
      "Mrs. Packletide’s Tiger by Saki  not found in Goodreads\n",
      "The Triumphs of a Taxidermist by H. G. Wells  not found in Goodreads\n",
      "Check this makes sense for The Lion and the Mouse : Aesop ['Jerry Pinkney']\n"
     ]
    },
    {
     "name": "stdin",
     "output_type": "stream",
     "text": [
      "Does this make sense y/n?  s\n"
     ]
    },
    {
     "name": "stdout",
     "output_type": "stream",
     "text": [
      "The Lion and the Mouse by Aesop  not found in Goodreads\n",
      "Conroy’s Gap by Banjo Paterson  not found in Goodreads\n",
      "The Eagle and the Cocks by Aesop  not found in Goodreads\n",
      "Check this makes sense for The Boston Massacre : Nathaniel Hawthorne ['Michael Burgan']\n"
     ]
    },
    {
     "name": "stdin",
     "output_type": "stream",
     "text": [
      "Does this make sense y/n?  s\n"
     ]
    },
    {
     "name": "stdout",
     "output_type": "stream",
     "text": [
      "The Boston Massacre by Nathaniel Hawthorne  not found in Goodreads\n",
      "The Story Of The Three Bears by Flora Annie Steel  not found in Goodreads\n",
      "In Answer to Various Bards by Banjo Paterson  not found in Goodreads\n",
      "Check this makes sense for The Pearl of Love : H. G. Wells ['H.G. Wells']\n"
     ]
    },
    {
     "name": "stdin",
     "output_type": "stream",
     "text": [
      "Does this make sense y/n?  i\n"
     ]
    },
    {
     "name": "stdout",
     "output_type": "stream",
     "text": [
      "Shearing at Castlereagh by Banjo Paterson  not found in Goodreads\n",
      "The All Right ’Un by Banjo Paterson  not found in Goodreads\n",
      "A Deal In Ostriches by H. G. Wells  not found in Goodreads\n",
      "The Hen by Saki  not found in Goodreads\n",
      "The Eagle and the Beetle by Aesop  not found in Goodreads\n",
      "A Bunch of Roses by Banjo Paterson  not found in Goodreads\n",
      "A Bushman’s Song by Banjo Paterson  not found in Goodreads\n",
      "An Extinct Angel by Charlotte Perkins Gilman  not found in Goodreads\n",
      "The Ass and the Mule by Aesop  not found in Goodreads\n",
      "The Well of the World’s End by Flora Annie Steel  not found in Goodreads\n",
      "Over the Range by Banjo Paterson  not found in Goodreads\n",
      "Check this makes sense for The Tree : H. P. Lovecraft ['Dana   Lyons']\n"
     ]
    },
    {
     "name": "stdin",
     "output_type": "stream",
     "text": [
      "Does this make sense y/n?  n\n"
     ]
    },
    {
     "name": "stdout",
     "output_type": "stream",
     "text": [
      "Check this makes sense for The Tree : H. P. Lovecraft ['Karen Gray Ruelle', 'Deborah Durland DeSaix']\n"
     ]
    },
    {
     "name": "stdin",
     "output_type": "stream",
     "text": [
      "Does this make sense y/n?  n\n"
     ]
    },
    {
     "name": "stdout",
     "output_type": "stream",
     "text": [
      "Check this makes sense for The Tree : H. P. Lovecraft ['H.P. Lovecraft']\n"
     ]
    },
    {
     "name": "stdin",
     "output_type": "stream",
     "text": [
      "Does this make sense y/n?  i\n"
     ]
    },
    {
     "name": "stdout",
     "output_type": "stream",
     "text": [
      "Check this makes sense for The Tree : H. P. Lovecraft ['Chris  Ward']\n"
     ]
    },
    {
     "name": "stdin",
     "output_type": "stream",
     "text": [
      "Does this make sense y/n?  n\n"
     ]
    },
    {
     "name": "stdout",
     "output_type": "stream",
     "text": [
      "Check this makes sense for The Tree : H. P. Lovecraft ['H.P. Lovecraft']\n"
     ]
    },
    {
     "name": "stdin",
     "output_type": "stream",
     "text": [
      "Does this make sense y/n?  i\n"
     ]
    },
    {
     "name": "stdout",
     "output_type": "stream",
     "text": [
      "Check this makes sense for The Tree : H. P. Lovecraft ['Ashley Barron']\n"
     ]
    },
    {
     "name": "stdin",
     "output_type": "stream",
     "text": [
      "Does this make sense y/n?  n\n"
     ]
    },
    {
     "name": "stdout",
     "output_type": "stream",
     "text": [
      "Check this makes sense for The Tree : H. P. Lovecraft ['Patricia Wielinski']\n"
     ]
    },
    {
     "name": "stdin",
     "output_type": "stream",
     "text": [
      "Does this make sense y/n?  n\n"
     ]
    },
    {
     "name": "stdout",
     "output_type": "stream",
     "text": [
      "Check this makes sense for The Tree : H. P. Lovecraft ['John Fowles', 'Frank Horvat']\n"
     ]
    },
    {
     "name": "stdin",
     "output_type": "stream",
     "text": [
      "Does this make sense y/n?  n\n"
     ]
    },
    {
     "name": "stdout",
     "output_type": "stream",
     "text": [
      "Check this makes sense for The Tree : H. P. Lovecraft ['John Fowles']\n"
     ]
    },
    {
     "name": "stdin",
     "output_type": "stream",
     "text": [
      "Does this make sense y/n?  n\n"
     ]
    },
    {
     "name": "stdout",
     "output_type": "stream",
     "text": [
      "Check this makes sense for The Tree : H. P. Lovecraft ['Sandy Barton', 'A.T. Baron']\n"
     ]
    },
    {
     "name": "stdin",
     "output_type": "stream",
     "text": [
      "Does this make sense y/n?  n\n"
     ]
    },
    {
     "name": "stdout",
     "output_type": "stream",
     "text": [
      "Check this makes sense for The Tree : H. P. Lovecraft ['Deborah Ratliff']\n"
     ]
    },
    {
     "name": "stdin",
     "output_type": "stream",
     "text": [
      "Does this make sense y/n?  n\n"
     ]
    },
    {
     "name": "stdout",
     "output_type": "stream",
     "text": [
      "Check this makes sense for The Tree : H. P. Lovecraft ['John Fowles']\n"
     ]
    },
    {
     "name": "stdin",
     "output_type": "stream",
     "text": [
      "Does this make sense y/n?  n\n"
     ]
    },
    {
     "name": "stdout",
     "output_type": "stream",
     "text": [
      "Check this makes sense for The Tree : H. P. Lovecraft ['Naomi Russell']\n"
     ]
    },
    {
     "name": "stdin",
     "output_type": "stream",
     "text": [
      "Does this make sense y/n?  n\n"
     ]
    },
    {
     "name": "stdout",
     "output_type": "stream",
     "text": [
      "Check this makes sense for The Tree : H. P. Lovecraft ['Mike     Lynch']\n"
     ]
    },
    {
     "name": "stdin",
     "output_type": "stream",
     "text": [
      "Does this make sense y/n?  n\n"
     ]
    },
    {
     "name": "stdout",
     "output_type": "stream",
     "text": [
      "Check this makes sense for The Tree : H. P. Lovecraft ['Colin Trudge']\n"
     ]
    },
    {
     "name": "stdin",
     "output_type": "stream",
     "text": [
      "Does this make sense y/n?  n\n"
     ]
    },
    {
     "name": "stdout",
     "output_type": "stream",
     "text": [
      "Check this makes sense for The Tree : H. P. Lovecraft ['Karen Ferrand Carroll']\n"
     ]
    },
    {
     "name": "stdin",
     "output_type": "stream",
     "text": [
      "Does this make sense y/n?  n\n"
     ]
    },
    {
     "name": "stdout",
     "output_type": "stream",
     "text": [
      "Check this makes sense for The Tree : H. P. Lovecraft ['Dana   Lyons']\n"
     ]
    },
    {
     "name": "stdin",
     "output_type": "stream",
     "text": [
      "Does this make sense y/n?  n\n"
     ]
    },
    {
     "name": "stdout",
     "output_type": "stream",
     "text": [
      "“allez!” by Aleksandr I. Kuprin  not found in Goodreads\n",
      "In the Droving Days by Banjo Paterson  not found in Goodreads\n",
      "A Tent in Agony by Stephen Crane  not found in Goodreads\n",
      "The Garden Of The Holy Virgin by Aleksandr I. Kuprin  not found in Goodreads\n",
      "The Golden Ball by Flora Annie Steel  not found in Goodreads\n",
      "‘Sez You’ by Henry Lawson  not found in Goodreads\n",
      "Check this makes sense for The Fox and the Grapes : Aesop ['Mary Berendes', 'Nancy Harrison']\n"
     ]
    },
    {
     "name": "stdin",
     "output_type": "stream",
     "text": [
      "Does this make sense y/n?  s\n"
     ]
    },
    {
     "name": "stdout",
     "output_type": "stream",
     "text": [
      "The Fox and the Grapes by Aesop  not found in Goodreads\n",
      "Check this makes sense for The Man From Snowy River : Banjo Paterson ['Elyne Mitchell', 'Richard Aspel']\n"
     ]
    },
    {
     "name": "stdin",
     "output_type": "stream",
     "text": [
      "Does this make sense y/n?  n\n"
     ]
    },
    {
     "name": "stdout",
     "output_type": "stream",
     "text": [
      "Check this makes sense for The Man From Snowy River : Banjo Paterson ['A.B. Paterson', 'Freya Blackwood']\n"
     ]
    },
    {
     "name": "stdin",
     "output_type": "stream",
     "text": [
      "Does this make sense y/n?  i\n"
     ]
    },
    {
     "name": "stdout",
     "output_type": "stream",
     "text": [
      "Check this makes sense for The Man From Snowy River : Banjo Paterson ['Elyne Mitchell']\n"
     ]
    },
    {
     "name": "stdin",
     "output_type": "stream",
     "text": [
      "Does this make sense y/n?  n\n"
     ]
    },
    {
     "name": "stdout",
     "output_type": "stream",
     "text": [
      "The Boss of the ‘Admiral Lynch’ by Banjo Paterson  not found in Goodreads\n",
      "The City Bushman by Henry Lawson  not found in Goodreads\n",
      "A Defenceless Creature by Anton Chekhov  not found in Goodreads\n",
      "A Charm by Rudyard Kipling  not found in Goodreads\n",
      "Check this makes sense for 39 : Henry Lawson ['Amanda  Green']\n"
     ]
    },
    {
     "name": "stdin",
     "output_type": "stream",
     "text": [
      "Does this make sense y/n?  n\n"
     ]
    },
    {
     "name": "stdout",
     "output_type": "stream",
     "text": [
      "39 by Henry Lawson  not found in Goodreads\n",
      "Check this makes sense for The Cats of Ulthar : H. P. Lovecraft ['H.P. Lovecraft', 'Finn Baker-James']\n"
     ]
    },
    {
     "name": "stdin",
     "output_type": "stream",
     "text": [
      "Does this make sense y/n?  i\n"
     ]
    },
    {
     "name": "stdout",
     "output_type": "stream",
     "text": [
      "Check this makes sense for The Cats of Ulthar : H. P. Lovecraft ['H.P. Lovecraft', 'Abigail Larson']\n"
     ]
    },
    {
     "name": "stdin",
     "output_type": "stream",
     "text": [
      "Does this make sense y/n?  n\n"
     ]
    },
    {
     "name": "stdout",
     "output_type": "stream",
     "text": [
      "Check this makes sense for The Cats of Ulthar : H. P. Lovecraft ['H.P. Lovecraft']\n"
     ]
    },
    {
     "name": "stdin",
     "output_type": "stream",
     "text": [
      "Does this make sense y/n?  i\n"
     ]
    },
    {
     "name": "stdout",
     "output_type": "stream",
     "text": [
      "Check this makes sense for The Cats of Ulthar : H. P. Lovecraft ['H.P. Lovecraft']\n"
     ]
    },
    {
     "name": "stdin",
     "output_type": "stream",
     "text": [
      "Does this make sense y/n?  i\n"
     ]
    },
    {
     "name": "stdout",
     "output_type": "stream",
     "text": [
      "Check this makes sense for The Cats of Ulthar : H. P. Lovecraft ['H.P. Lovecraft']\n"
     ]
    },
    {
     "name": "stdin",
     "output_type": "stream",
     "text": [
      "Does this make sense y/n?  i\n"
     ]
    },
    {
     "name": "stdout",
     "output_type": "stream",
     "text": [
      "The Swagman’s Rest by Banjo Paterson  not found in Goodreads\n",
      "The Temptation of Harringay by H. G. Wells  not found in Goodreads\n",
      "The Travelling Post Office by Banjo Paterson  not found in Goodreads\n",
      "Check this makes sense for The Babes In The Wood : Flora Annie Steel ['Ruth Rendell']\n"
     ]
    },
    {
     "name": "stdin",
     "output_type": "stream",
     "text": [
      "Does this make sense y/n?  s\n"
     ]
    },
    {
     "name": "stdout",
     "output_type": "stream",
     "text": [
      "The Babes In The Wood by Flora Annie Steel  not found in Goodreads\n",
      "Check this makes sense for Mr. Fox : Flora Annie Steel ['Helen Oyeyemi']\n"
     ]
    },
    {
     "name": "stdin",
     "output_type": "stream",
     "text": [
      "Does this make sense y/n?  s\n"
     ]
    },
    {
     "name": "stdout",
     "output_type": "stream",
     "text": [
      "Mr. Fox by Flora Annie Steel  not found in Goodreads\n",
      "The Song And The Dance by Aleksandr I. Kuprin  not found in Goodreads\n",
      "Check this makes sense for The Three Little Pigs : Flora Annie Steel ['Knowledge Works Company', 'R. Milburn']\n"
     ]
    },
    {
     "name": "stdin",
     "output_type": "stream",
     "text": [
      "Does this make sense y/n?  s\n"
     ]
    },
    {
     "name": "stdout",
     "output_type": "stream",
     "text": [
      "The Three Little Pigs by Flora Annie Steel  not found in Goodreads\n",
      "The Amateur Gardener by Banjo Paterson  not found in Goodreads\n",
      "Check this makes sense for Borderland : Henry Lawson ['Anson Scott']\n"
     ]
    },
    {
     "name": "stdin",
     "output_type": "stream",
     "text": [
      "Does this make sense y/n?  n\n"
     ]
    },
    {
     "name": "stdout",
     "output_type": "stream",
     "text": [
      "Check this makes sense for Borderland : Henry Lawson ['Graham Akhurst']\n"
     ]
    },
    {
     "name": "stdin",
     "output_type": "stream",
     "text": [
      "Does this make sense y/n?  s\n"
     ]
    },
    {
     "name": "stdout",
     "output_type": "stream",
     "text": [
      "Borderland by Henry Lawson  not found in Goodreads\n",
      "Check this makes sense for The Terrible Old Man : H. P. Lovecraft ['H.P. Lovecraft']\n"
     ]
    },
    {
     "name": "stdin",
     "output_type": "stream",
     "text": [
      "Does this make sense y/n?  i\n"
     ]
    },
    {
     "name": "stdout",
     "output_type": "stream",
     "text": [
      "Check this makes sense for The Terrible Old Man : H. P. Lovecraft ['H.P. Lovecraft']\n"
     ]
    },
    {
     "name": "stdin",
     "output_type": "stream",
     "text": [
      "Does this make sense y/n?  i\n"
     ]
    },
    {
     "name": "stdout",
     "output_type": "stream",
     "text": [
      "Check this makes sense for The Terrible Old Man : H. P. Lovecraft ['H.P. Lovecraft']\n"
     ]
    },
    {
     "name": "stdin",
     "output_type": "stream",
     "text": [
      "Does this make sense y/n?  i\n"
     ]
    }
   ],
   "source": [
    "still_unfound = []\n",
    "data_2 = []\n",
    "\n",
    "for story in unfound:\n",
    "    # Find book id\n",
    "    ids, av_rating, author_ids, num_ratings = find_id_by_title_3(story['title'],story['author'])\n",
    "    if ids == []:\n",
    "        print(story['title'], 'by', story['author'], ' not found in Goodreads')\n",
    "        still_unfound.append(story)\n",
    "        continue\n",
    "\n",
    "    # Get the REVIEWS\n",
    "    book_reviews = find_reviews_by_id(ids)\n",
    "\n",
    "    # Combine into final record\n",
    "    book = {\n",
    "        'id': ids,\n",
    "        'title': story['title'],\n",
    "        'author': story['author'],\n",
    "        'story': story['text'],\n",
    "        'av_rating': av_rating,\n",
    "        'num_ratings': num_ratings,\n",
    "        'reviews': book_reviews\n",
    "    }\n",
    "    data_2.append(book)"
   ]
  },
  {
   "cell_type": "code",
   "execution_count": 27,
   "id": "bbeea232-dc87-4e4c-98ad-24937e0e3b65",
   "metadata": {},
   "outputs": [
    {
     "name": "stdout",
     "output_type": "stream",
     "text": [
      "25\n"
     ]
    }
   ],
   "source": [
    "print(len(data_2))"
   ]
  },
  {
   "cell_type": "code",
   "execution_count": 28,
   "id": "12274715-e91c-499d-8b77-866dfa08fe53",
   "metadata": {},
   "outputs": [
    {
     "name": "stdout",
     "output_type": "stream",
     "text": [
      "82\n"
     ]
    }
   ],
   "source": [
    "data.extend(data_2)\n",
    "print(len(data))"
   ]
  },
  {
   "cell_type": "code",
   "execution_count": 29,
   "id": "9530f763-7f3b-4717-a20c-02f7a4389d01",
   "metadata": {},
   "outputs": [],
   "source": [
    "with open(\"all_data_together_auto_and_some_added_with_count.jsonl\", \"w\", encoding=\"utf-8\") as f:\n",
    "        for book in data:\n",
    "            f.write(json.dumps(book, ensure_ascii=False) + \"\\n\")"
   ]
  },
  {
   "cell_type": "markdown",
   "id": "c0c7757f-92c0-4d5e-95ef-f37ed2f92586",
   "metadata": {},
   "source": [
    "## Really Manually"
   ]
  },
  {
   "cell_type": "code",
   "execution_count": 30,
   "id": "dd5ed0e2-d6dc-47d2-b774-2beaacd1a3e9",
   "metadata": {},
   "outputs": [],
   "source": [
    "import copy\n",
    "data_3 = copy.deepcopy(data)"
   ]
  },
  {
   "cell_type": "code",
   "execution_count": 31,
   "id": "9ac259ff-6516-4f29-851d-8b20840dc939",
   "metadata": {
    "scrolled": true
   },
   "outputs": [
    {
     "name": "stdout",
     "output_type": "stream",
     "text": [
      "The Child’s Story, by Charles Dickens\n",
      "The Bookshop, by Aldous Huxley\n",
      "Dead Woman’s Secret, by Guy de Maupassant\n",
      "The Little Red Christmas Tree, by Aleksandr I. Kuprin\n",
      "The Land of Counterpane, by Robert Louis Stevenson\n",
      "Clancy of the Overflow, by Banjo Paterson\n",
      "Old Pardon, the Son of Reprieve, by Banjo Paterson\n",
      "Black Swans, by Banjo Paterson\n",
      "An Idyll of Dandaloo, by Banjo Paterson\n",
      "The Dog, by Banjo Paterson\n",
      "The Virgin, by Rudyard Kipling\n",
      "A Diagnosis of Death, by Ambrose Bierce\n",
      "Praise the Generous Gods, by William Ernest Henley\n",
      "The Eagle and the Fox, by Aesop\n",
      "The North Wind and the Sun, by Aesop\n",
      "The Crab and His Mother, by Aesop\n",
      "The Leopard Man’s Story, by Jack London\n",
      "The Miller, His Son, and Their Ass, by Aesop\n",
      "Mr. and Mrs. Vinegar, by Flora Annie Steel\n",
      "Demir-kayá, by Aleksandr I. Kuprin\n",
      "The Farmer and the Fox, by Aesop\n",
      "Come-By-Chance, by Banjo Paterson\n",
      "The Laidly Worm, by Flora Annie Steel\n",
      "The Boar-Pig, by Saki\n",
      "The Recovery, by Kate Chopin\n",
      "A Love by The Sea, by William Ernest Henley\n",
      "The Wolf in Sheep’s Clothing, by Aesop\n",
      "The Last Incantation, by Clark Ashton Smith\n",
      "Coming, by Charlotte Perkins Gilman\n",
      "Jim Carew, by Banjo Paterson\n",
      "The Feast of Nemesis, by Saki\n",
      "The Fox and the Crow, by Aesop\n",
      "The Doer of Good, by Oscar Wilde\n",
      "The Oracle at the Private Bar, by Banjo Paterson\n",
      "The Boy and the Filberts, by Aesop\n",
      "Lost, by Banjo Paterson\n",
      "She Walketh Veiled and Sleeping, by Charlotte Perkins Gilman\n",
      "A Strange Story, by O. Henry\n",
      "The Mice and the Weasels, by Aesop\n",
      "The Amateur Rider, by Banjo Paterson\n",
      "Requiescat, by Oscar Wilde\n",
      "Saltbush Bill, by Banjo Paterson\n",
      "The Rose Tree, by Flora Annie Steel\n",
      "Father and Sons, by Aesop\n",
      "A Legend, by Aleksandr I. Kuprin\n",
      "Lawkamercyme, by Flora Annie Steel\n",
      "Steelman’s Pupil, by Henry Lawson\n",
      "The Dog and the Shadow, by Aesop\n",
      "How The Whale Got His Throat, by Rudyard Kipling\n",
      "Filboid Studge, The Story of a Mouse that Helped, by Saki\n",
      "The Emperor’s New Clothes, by Hans Christian Andersen\n",
      "The Last Parade, by Banjo Paterson\n",
      "Chiming a Dream, by William Ernest Henley\n",
      "The Frog-Prince, by Brothers Grimm\n",
      "Under the Shadow of Kiley’s Hill, by Banjo Paterson\n",
      "In the Forest of Villefère, by Robert E. Howard\n",
      "The Thief, by René Maizeroy\n",
      "A Vision of Judgment, by H. G. Wells\n",
      "In Defence of the Bush, by Banjo Paterson\n",
      "Work, Death and Sickness, by Leo Tolstoy\n",
      "The Old Woman and Her Pig, by Flora Annie Steel\n",
      "“For All We Have And Are”, by Rudyard Kipling\n",
      "The Fox and the Stork, by Aesop\n",
      "On Kiley’s Run, by Banjo Paterson\n",
      "The Relic, by Guy de Maupassant\n",
      "The Story-Teller, by Saki\n",
      "The Frogs Asking for a King, by Aesop\n",
      "The Two Sisters, by Flora Annie Steel\n",
      "A Child’s Dream of a Star, by Charles Dickens\n",
      "How Gilbert Died, by Banjo Paterson\n",
      "How The Camel Got His Hump, by Rudyard Kipling\n",
      "Wit Inspirations of the “Two-Year-Olds”, by Mark Twain\n",
      "Faces in the Street, by Henry Lawson\n",
      "The Cobbler Turned Doctor, by Aesop\n",
      "Magnetism, by Guy de Maupassant\n",
      "The Milkmaid and Her Pail, by Aesop\n",
      "An Astrologer’s Song, by Rudyard Kipling\n",
      "The Farmer and His Sons, by Aesop\n",
      "The Shirt-Collar, by Hans Christian Andersen\n",
      "The Oracle at the Races, by Banjo Paterson\n",
      "Locked Inside, by Charlotte Perkins Gilman\n",
      "A Voice from the Town, by Banjo Paterson\n",
      "How The Rhinocerous Got His Skin, by Rudyard Kipling\n",
      "How Jack Went Out To Seek His Fortune, by Flora Annie Steel\n",
      "The Two Devines, by Banjo Paterson\n",
      "The Birds, the Beasts, and the Bat, by Aesop\n",
      "A Vendetta, by Guy de Maupassant\n",
      "The Bogey-Beast, by Flora Annie Steel\n",
      "Between the Dusk of a Summer Night, by William Ernest Henley\n",
      "The Bee and Jupiter, by Aesop\n",
      "The Clockmaker, by Robert Louis Stevenson\n",
      "Those Names, by Banjo Paterson\n",
      "The Wind’s Message, by Banjo Paterson\n",
      "Ambition and Art, by Banjo Paterson\n",
      "A Mother of Monsters, by Guy de Maupassant\n",
      "Life is Bitter, by William Ernest Henley\n",
      "Justice, by Rudyard Kipling\n",
      "The History of the Necronomicon, by H. P. Lovecraft\n",
      "The Orator, by Anton Chekhov\n",
      "The Past Was Goodly Once, by William Ernest Henley\n",
      "The Wee Bannock, by Flora Annie Steel\n",
      "A Bush Christening, by Banjo Paterson\n",
      "The Pendulum, by Ray Bradbury\n",
      "The Eagle, the Cat, and the Wild Sow, by Aesop\n",
      "A Dream Lies Dead, by Dorothy Parker\n",
      "The Man Who Was Away, by Banjo Paterson\n",
      "The Detective Detector, by O. Henry\n",
      "Hunting the Deceitful Turkey, by Mark Twain\n",
      "A Death Bed, by Rudyard Kipling\n",
      "The Bear and the Travellers, by Aesop\n",
      "The Bat, the Bramble, and the Seagull, by Aesop\n",
      "An Incident, by Anton Chekhov\n",
      "Mesopotamia, by Rudyard Kipling\n",
      "The Drover’s Sweetheart, by Henry Lawson\n",
      "The Daylight Is Dying, by Banjo Paterson\n",
      "Song of the Future, by Banjo Paterson\n",
      "A Chameleon, by Anton Chekhov\n",
      "The Open Steeplechase, by Banjo Paterson\n",
      "The Old Australian Ways, by Banjo Paterson\n",
      "The Poets of the Tomb, by Henry Lawson\n",
      "The Mystery of Dave Regan, by Henry Lawson\n",
      "Tattercoats, by Flora Annie Steel\n",
      "Johnson’s Antidote, by Banjo Paterson\n",
      "Been There Before, by Banjo Paterson\n",
      "Clair De Lune, by Guy de Maupassant\n",
      "The Roaring Days, by Henry Lawson\n",
      "The Female of the Species, by Rudyard Kipling\n",
      "Happiness, by Aleksandr I. Kuprin\n",
      "Only a Jockey, by Banjo Paterson\n",
      "The Red Ettin, by Flora Annie Steel\n",
      "The Geebung Polo Club, by Banjo Paterson\n",
      "Henny Penny, by Flora Annie Steel\n",
      "The Belly and the Members, by Aesop\n",
      "The Wise Men Of Gotham, by Flora Annie Steel\n",
      "The Great Calamity, by Banjo Paterson\n",
      "Oh! The Public, by Anton Chekhov\n",
      "Bill, the Ventriloquial Rooster, by Henry Lawson\n",
      "The Brogue, by Saki\n",
      "A Fairly Sad Tale, by Dorothy Parker\n",
      "A Mountain Station, by Banjo Paterson\n",
      "The Spring My Dear, by William Ernest Henley\n",
      "Little Red Riding-Hood, by Flora Annie Steel\n",
      "Lazy Jack, by Flora Annie Steel\n",
      "The Three Sillies, by Flora Annie Steel\n",
      "Our New Horse, by Banjo Paterson\n",
      "The Man from Ironbark, by Banjo Paterson\n",
      "How the Favourite Beat Us, by Banjo Paterson\n",
      "A Certain Lady, by Dorothy Parker\n",
      "How M’Ginnis Went Missing, by Banjo Paterson\n",
      "To the Sun, by Clark Ashton Smith\n",
      "The Puppet-show Man, by Hans Christian Andersen\n",
      "The Fish and the Ring, by Flora Annie Steel\n",
      "Last Week, by Banjo Paterson\n",
      "The Ant, by Aesop\n",
      "The Flying Gang, by Banjo Paterson\n",
      "Mrs. Packletide’s Tiger, by Saki\n",
      "The Triumphs of a Taxidermist, by H. G. Wells\n",
      "The Lion and the Mouse, by Aesop\n",
      "Conroy’s Gap, by Banjo Paterson\n",
      "The Eagle and the Cocks, by Aesop\n",
      "The Boston Massacre, by Nathaniel Hawthorne\n",
      "The Story Of The Three Bears, by Flora Annie Steel\n",
      "In Answer to Various Bards, by Banjo Paterson\n",
      "Shearing at Castlereagh, by Banjo Paterson\n",
      "The All Right ’Un, by Banjo Paterson\n",
      "A Deal In Ostriches, by H. G. Wells\n",
      "The Hen, by Saki\n",
      "The Eagle and the Beetle, by Aesop\n",
      "A Bunch of Roses, by Banjo Paterson\n",
      "A Bushman’s Song, by Banjo Paterson\n",
      "An Extinct Angel, by Charlotte Perkins Gilman\n",
      "The Ass and the Mule, by Aesop\n",
      "The Well of the World’s End, by Flora Annie Steel\n",
      "Over the Range, by Banjo Paterson\n",
      "“allez!”, by Aleksandr I. Kuprin\n",
      "In the Droving Days, by Banjo Paterson\n",
      "A Tent in Agony, by Stephen Crane\n",
      "The Garden Of The Holy Virgin, by Aleksandr I. Kuprin\n",
      "The Golden Ball, by Flora Annie Steel\n",
      "‘Sez You’, by Henry Lawson\n",
      "The Fox and the Grapes, by Aesop\n",
      "The Boss of the ‘Admiral Lynch’, by Banjo Paterson\n",
      "The City Bushman, by Henry Lawson\n",
      "A Defenceless Creature, by Anton Chekhov\n",
      "A Charm, by Rudyard Kipling\n",
      "39, by Henry Lawson\n",
      "The Swagman’s Rest, by Banjo Paterson\n",
      "The Temptation of Harringay, by H. G. Wells\n",
      "The Travelling Post Office, by Banjo Paterson\n",
      "The Babes In The Wood, by Flora Annie Steel\n",
      "Mr. Fox, by Flora Annie Steel\n",
      "The Song And The Dance, by Aleksandr I. Kuprin\n",
      "The Three Little Pigs, by Flora Annie Steel\n",
      "The Amateur Gardener, by Banjo Paterson\n",
      "Borderland, by Henry Lawson\n"
     ]
    }
   ],
   "source": [
    "for book in still_unfound:\n",
    "    print(f\"{book['title']}, by {book['author']}\")"
   ]
  },
  {
   "cell_type": "code",
   "execution_count": 32,
   "id": "21d74b05-29b0-4034-9d9f-9e8bb86ba4a6",
   "metadata": {},
   "outputs": [],
   "source": [
    "def find_id_by_name(name):\n",
    "    for author in AUTHORS:\n",
    "        if author['name'] == name:\n",
    "            return author['id']\n",
    "\n",
    "def find_books_by_author(author):\n",
    "    titles = []\n",
    "    id = find_id_by_name(author)\n",
    "    for book in BOOKS:\n",
    "        if(id in book['author_ids']):\n",
    "            titles.append([book['title'],book['book_id']])\n",
    "    return titles"
   ]
  },
  {
   "cell_type": "markdown",
   "id": "11a39745-a7e1-4123-962c-76ce8eb33bdb",
   "metadata": {},
   "source": [
    "### The Child's Story"
   ]
  },
  {
   "cell_type": "code",
   "execution_count": 35,
   "id": "29ce2cff-59d3-4af2-9a6b-164e1b46aaae",
   "metadata": {
    "scrolled": true
   },
   "outputs": [],
   "source": [
    "chls_dic_bks = find_books_by_author('Charles Dickens')\n",
    "#print(chls_dic_bks)"
   ]
  },
  {
   "cell_type": "code",
   "execution_count": 36,
   "id": "e7257e5a-394b-4329-b320-bbc00b79b610",
   "metadata": {},
   "outputs": [
    {
     "name": "stdout",
     "output_type": "stream",
     "text": [
      "[[\"The Child's Story\", '922878'], [\"Children's Stories from Dickens\", '329943'], [\"A Child's Dream of a Star\", '10975557'], [\"A Child's History of England\", '1775352'], [\"Best in Children's Books, Volume 4\", '17157765'], ['Holiday Romance and Other Writings for Children', '5661'], ['The Life of Our Lord: Written for His Children During the Years 1846 to 1849', '5342'], ['The Life of Our Lord: Written for His Children During the Years 1846 to 1849', '25108031'], [\"A Child's Dream of a Star\", '11271813'], [\"A Child's History Of England\", '11459671'], [\"A Child's History of England\", '26223129'], [\"The Children's Dickens - Great Expectations\", '9827865'], [\"A Child's History of England\", '22093452'], ['Classics to Read Aloud to Your Children: Selections from Shakespeare, Twain, Dickens, O.Henry, London, Longfellow, Irving Aesop, Homer, Cervantes, Hawthorne, and More', '110463'], [\"The Viking Treasury of Children's Stories\", '4917036'], [\"Charles Dickens' Children Stories\", '12490289'], [\"The Child's Story (Original 1852 Edition): Annotated\", '23844713'], [\"Master Humphrey's Clock and a Child's History of England\", '330017']]\n"
     ]
    }
   ],
   "source": [
    "matches = [s for s in chls_dic_bks if 'Child' in s[0]]\n",
    "print(matches)"
   ]
  },
  {
   "cell_type": "markdown",
   "id": "14b42d44-0107-481e-b822-26049d33bbd2",
   "metadata": {},
   "source": [
    "Ids: 922878, 23844713"
   ]
  },
  {
   "cell_type": "code",
   "execution_count": 37,
   "id": "b2a431cf-cb05-4b03-b90c-4f95fe401ce0",
   "metadata": {},
   "outputs": [
    {
     "name": "stdout",
     "output_type": "stream",
     "text": [
      "The Child’s Story\n"
     ]
    }
   ],
   "source": [
    "new_ids = ['922878', '23844713']\n",
    "\n",
    "total_ratings = 0\n",
    "count = 0\n",
    "for id in new_ids:\n",
    "    for item in BOOKS:\n",
    "        if id == item['book_id']:\n",
    "            try:\n",
    "                rating_av = float(item['average_rating'])\n",
    "                num = int(item['ratings_count'])\n",
    "                total_ratings += rating_av * num\n",
    "                count += num\n",
    "            except (ValueError, TypeError, KeyError):\n",
    "                pass\n",
    "                    \n",
    "if count == 0:\n",
    "    average_rating = 0\n",
    "else:\n",
    "    average_rating = total_ratings / count\n",
    "\n",
    "story = still_unfound[0]\n",
    "print(story['title'])\n",
    "book_reviews = find_reviews_by_id(new_ids)\n",
    "\n",
    "# Combine into final record\n",
    "book = {\n",
    "    'id': new_ids,\n",
    "    'title': story['title'],\n",
    "    'author': story['author'],\n",
    "    'story': story['text'],\n",
    "    'av_rating': average_rating,\n",
    "    'num_ratings':count,\n",
    "    'reviews': book_reviews\n",
    "}\n",
    "\n",
    "data_3.append(book)"
   ]
  },
  {
   "cell_type": "code",
   "execution_count": 38,
   "id": "04d9856a-669e-4a88-b1a3-07868002c8bd",
   "metadata": {},
   "outputs": [
    {
     "name": "stdout",
     "output_type": "stream",
     "text": [
      "83\n"
     ]
    }
   ],
   "source": [
    "print(len(data_3))"
   ]
  },
  {
   "cell_type": "markdown",
   "id": "ed8073d5-986e-4b24-a831-0f3557b0feed",
   "metadata": {},
   "source": [
    "#### The BOOKShop"
   ]
  },
  {
   "cell_type": "code",
   "execution_count": 139,
   "id": "4f92f36e-940c-46b1-8ee9-af8f71c18139",
   "metadata": {},
   "outputs": [
    {
     "data": {
      "text/plain": [
       "'The Bookshop'"
      ]
     },
     "execution_count": 139,
     "metadata": {},
     "output_type": "execute_result"
    }
   ],
   "source": [
    "still_unfound[1]['title']"
   ]
  },
  {
   "cell_type": "markdown",
   "id": "50a511ad-e41c-4911-9867-4cf1dd82ba80",
   "metadata": {},
   "source": [
    "not there"
   ]
  },
  {
   "cell_type": "markdown",
   "id": "e58f9e3c-fa08-498f-9a66-2104a9e866c8",
   "metadata": {},
   "source": [
    "#### A dead woman's secret"
   ]
  },
  {
   "cell_type": "code",
   "execution_count": 142,
   "id": "7c83c2cc-1672-4776-bd95-1324e36e2006",
   "metadata": {},
   "outputs": [
    {
     "data": {
      "text/plain": [
       "'Dead Woman’s Secret'"
      ]
     },
     "execution_count": 142,
     "metadata": {},
     "output_type": "execute_result"
    }
   ],
   "source": [
    "still_unfound[2]['title']"
   ]
  },
  {
   "cell_type": "code",
   "execution_count": 39,
   "id": "92dba4fe-01ee-4ad2-a951-9b8291ddfcd5",
   "metadata": {},
   "outputs": [],
   "source": [
    "story = still_unfound[2]\n",
    "for item in BOOKS:\n",
    "    if item['title'] == \"A Dead Woman's Secret\":\n",
    "        new_ids = [item['book_id']]\n",
    "        average_rating = item['average_rating']\n",
    "        num_ratings = item['ratings_count']\n",
    "        \n",
    "book_reviews = find_reviews_by_id(new_ids)\n",
    "book = {\n",
    "    'id': new_ids,\n",
    "    'title': \"A Dead Woman's Secret\",\n",
    "    'author': story['author'],\n",
    "    'story': story['text'],\n",
    "    'av_rating': average_rating,\n",
    "    'num_ratings':num_ratings,\n",
    "    'reviews': book_reviews\n",
    "}\n",
    "\n",
    "data_3.append(book)"
   ]
  },
  {
   "cell_type": "code",
   "execution_count": 40,
   "id": "1ff3629d-050a-4670-99d9-dfa593b28b25",
   "metadata": {},
   "outputs": [
    {
     "name": "stdout",
     "output_type": "stream",
     "text": [
      "{'id': ['35993742'], 'title': \"A Dead Woman's Secret\", 'author': 'Guy de Maupassant', 'story': 'The woman had died without pain, quietly, as a woman should whose life had been blameless. Now she was resting in her bed, lying on her back, her eyes closed, her features calm, her long white hair carefully arranged as though she had done it up ten minutes before dying. The whole pale countenance of the dead woman was so collected, so calm, so resigned that one could feel what a sweet soul had lived in that body, what a quiet existence this old soul had led, how easy and pure the death of this parent had been.\\n\\nKneeling beside the bed, her son, a magistrate with inflexible principles, and her daughter, Marguerite, known as Sister Eulalie, were weeping as though their hearts would break. She had, from childhood up, armed them with a strict moral code, teaching them religion, without weakness, and duty, without compromise. He, the man, had become a judge and handled the law as a weapon with which he smote the weak ones without pity. She, the girl, influenced by the virtue which had bathed her in this austere family, had become the bride of the Church through her loathing for man.\\n\\nThey had hardly known their father, knowing only that he had made their mother most unhappy, without being told any other details.\\n\\nThe nun was wildly-kissing the dead woman’s hand, an ivory hand as white as the large crucifix lying across the bed. On the other side of the long body the other hand seemed still to be holding the sheet in the death grasp; and the sheet had preserved the little creases as a memory of those last movements which precede eternal immobility.\\n\\nA few light taps on the door caused the two sobbing heads to look up, and the priest, who had just come from dinner, returned. He was red and out of breath from his interrupted digestion, for he had made himself a strong mixture of coffee and brandy in order to combat the fatigue of the last few nights and of the wake which was beginning.\\n\\nHe looked sad, with that assumed sadness of the priest for whom death is a bread winner. He crossed himself and approaching with his professional gesture: “Well, my poor children! I have come to help you pass these last sad hours.” But Sister Eulalie suddenly arose. “Thank you, father, but my brother and I prefer to remain alone with her. This is our last chance to see her, and we wish to be together, all three of us, as we—we—used to be when we were small and our poor mo—mother——”\\n\\nGrief and tears stopped her; she could not continue.\\n\\nOnce more serene, the priest bowed, thinking of his bed. “As you wish, my children.” He kneeled, crossed himself, prayed, arose and went out quietly, murmuring: “She was a saint!”\\n\\nThey remained alone, the dead woman and her children. The ticking of the clock, hidden in the shadow, could be heard distinctly, and through the open window drifted in the sweet smell of hay and of woods, together with the soft moonlight. No other noise could be heard over the land except the occasional croaking of the frog or the chirping of some belated insect. An infinite peace, a divine melancholy, a silent serenity surrounded this dead woman, seemed to be breathed out from her and to appease nature itself.\\n\\nThen the judge, still kneeling, his head buried in the bed clothes, cried in a voice altered by grief and deadened by the sheets and blankets: “Mamma, mamma, mamma!” And his sister, frantically striking her forehead against the woodwork, convulsed, twitching and trembling as in an epileptic fit, moaned: “Jesus, Jesus, mamma, Jesus!” And both of them, shaken by a storm of grief, gasped and choked.\\n\\nThe crisis slowly calmed down and they began to weep quietly, just as on the sea when a calm follows a squall.\\n\\nA rather long time passed and they arose and looked at their dead. And the memories, those distant memories, yesterday so dear, to-day so torturing, came to their minds with all the little forgotten details, those little intimate familiar details which bring back to life the one who has left. They recalled to each other circumstances, words, smiles, intonations of the mother who was no longer to speak to them. They saw her again happy and calm. They remembered things which she had said, and a little motion of the hand, like beating time, which she often used when emphasizing something important.\\n\\nAnd they loved her as they never had loved her before. They measured the depth of their grief, and thus they discovered how lonely they would find themselves.\\n\\nIt was their prop, their guide, their whole youth, all the best part of their lives which was disappearing. It was their bond with life, their mother, their mamma, the connecting link with their forefathers which they would thenceforth miss. They now became solitary, lonely beings; they could no longer look back.\\n\\nThe nun said to her brother: “You remember how mamma used always to read her old letters; they are all there in that drawer. Let us, in turn, read them; let us live her whole life through tonight beside her! It would be like a road to the cross, like making the acquaintance of her mother, of our grandparents, whom we never knew, but whose letters are there and of whom she so often spoke, do you remember?”\\n\\nOut of the drawer they took about ten little packages of yellow paper, tied with care and arranged one beside the other. They threw these relics on the bed and chose one of them on which the word “Father” was written. They opened and read it.\\n\\nIt was one of those old-fashioned letters which one finds in old family desk drawers, those epistles which smell of another century. The first one started: “My dear,” another one: “My beautiful little girl,” others: “My dear child,” or: “My dear (laughter).” And suddenly the nun began to read aloud, to read over to the dead woman her whole history, all her tender memories. The judge, resting his elbow on the bed, was listening with his eyes fastened on his mother. The motionless body seemed happy.\\n\\nSister Eulalie, interrupting herself, said suddenly:\\n\\n“These ought to be put in the grave with her; they ought to be used as a shroud and she ought to be buried in it.” She took another package, on which no name was written. She began to read in a firm voice: “My adored one, I love you wildly. Since yesterday I have been suffering the tortures of the damned, haunted by our memory. I feel your lips against mine, your eyes in mine, your breast against mine. I love you, I love you! You have driven me mad. My arms open, I gasp, moved by a wild desire to hold you again. My whole soul and body cries out for you, wants you. I have kept in my mouth the taste of your kisses—”\\n\\nThe judge had straightened himself up. The nun stopped reading. He snatched the letter from her and looked for the signature. There was none, but only under the words, “The man who adores you,” the name “Henry.” Their father’s name was Rene. Therefore this was not from him. The son then quickly rummaged through the package of letters, took one out and read: “I can no longer live without your caresses.” Standing erect, severe as when sitting on the bench, he looked unmoved at the dead woman. The nun, straight as a statue, tears trembling in the corners of her eyes, was watching her brother, waiting. Then he crossed the room slowly, went to the window and stood there, gazing out into the dark night.\\n\\nWhen he turned around again Sister Eulalie, her eyes dry now, was still standing near the bed, her head bent down.\\n\\nHe stepped forward, quickly picked up the letters and threw them pell-mell back into the drawer. Then he closed the curtains of the bed.\\n\\nWhen daylight made the candles on the table turn pale the son slowly left his armchair, and without looking again at the mother upon whom he had passed sentence, severing the tie that united her to son and daughter, he said slowly: “Let us now retire, sister.”', 'av_rating': '2.80', 'num_ratings': '5', 'reviews': []}\n"
     ]
    }
   ],
   "source": [
    "print(book)"
   ]
  },
  {
   "cell_type": "markdown",
   "id": "9b88ada5-9dd9-4f7e-b796-b10408e7de97",
   "metadata": {},
   "source": [
    "#### The Little Red Christmas Tree"
   ]
  },
  {
   "cell_type": "code",
   "execution_count": 166,
   "id": "a46c4dcd-0f2a-4289-a96e-168336d6ab08",
   "metadata": {},
   "outputs": [
    {
     "data": {
      "text/plain": [
       "'The Little Red Christmas Tree'"
      ]
     },
     "execution_count": 166,
     "metadata": {},
     "output_type": "execute_result"
    }
   ],
   "source": [
    "still_unfound[3]['title']"
   ]
  },
  {
   "cell_type": "markdown",
   "id": "81c58355-5699-4448-8b16-03a1aec68215",
   "metadata": {},
   "source": [
    "not there"
   ]
  },
  {
   "cell_type": "markdown",
   "id": "a58a04f8-31be-408f-955a-def673aefecf",
   "metadata": {},
   "source": [
    "#### The land of counterpane"
   ]
  },
  {
   "cell_type": "code",
   "execution_count": 172,
   "id": "7979cd3a-fe41-4955-9978-f34912d371dc",
   "metadata": {},
   "outputs": [
    {
     "data": {
      "text/plain": [
       "'The Land of Counterpane'"
      ]
     },
     "execution_count": 172,
     "metadata": {},
     "output_type": "execute_result"
    }
   ],
   "source": [
    "still_unfound[4]['title']"
   ]
  },
  {
   "cell_type": "code",
   "execution_count": 42,
   "id": "2942a975-d927-46db-b4b4-18a47a0d9e53",
   "metadata": {},
   "outputs": [
    {
     "name": "stdout",
     "output_type": "stream",
     "text": [
      "[['The Little Land', '3047241'], ['The Land of Nod', '29633854']]\n"
     ]
    }
   ],
   "source": [
    "rls =find_books_by_author('Robert Louis Stevenson')\n",
    "matches = [s for s in rls if 'Land' in s[0]]\n",
    "print(matches)"
   ]
  },
  {
   "cell_type": "markdown",
   "id": "2d06d30a-ddc1-4b79-9fdb-49627c69d42d",
   "metadata": {},
   "source": [
    "still not there"
   ]
  },
  {
   "cell_type": "markdown",
   "id": "85c85798-7c6d-41b7-8c95-e340755bd6b5",
   "metadata": {},
   "source": [
    "#### Clancy of the Overflow"
   ]
  },
  {
   "cell_type": "code",
   "execution_count": 174,
   "id": "86cd68ef-cbc7-4e0f-8792-80a1a244cbd6",
   "metadata": {},
   "outputs": [
    {
     "data": {
      "text/plain": [
       "'Clancy of the Overflow'"
      ]
     },
     "execution_count": 174,
     "metadata": {},
     "output_type": "execute_result"
    }
   ],
   "source": [
    "still_unfound[5]['title']"
   ]
  },
  {
   "cell_type": "code",
   "execution_count": 43,
   "id": "b8722bc9-d7aa-48dc-90c6-040e3bf5c4b7",
   "metadata": {},
   "outputs": [
    {
     "data": {
      "text/plain": [
       "[['The Merino Sheep', '33391789'],\n",
       " ['Complete Poems', '745346'],\n",
       " ['Twas the Night Before Christmas and Other Christmas Stories', '8468620'],\n",
       " [\"We're All Australians Now\", '31847636'],\n",
       " ['Poems of Banjo Paterson', '20995192'],\n",
       " [\"We're All Australians Now\", '24358240'],\n",
       " ['The Cat', '23633435'],\n",
       " ['Waltzing Matilda', '111281'],\n",
       " ['The Best Of Banjo Patterson: An Illustrated Collection', '3172903'],\n",
       " ['The Man from Snowy River', '1841075'],\n",
       " ['Saltbush Bill, J. P', '12255399'],\n",
       " ['The Man From Snowy River', '6072732'],\n",
       " [\"The Banjo's Best-Loved Poems\", '11480077'],\n",
       " [\"Works of 'Banjo' Paterson\", '2746647'],\n",
       " ['The Man from Snowy River and Other Verses', '2725644'],\n",
       " [\"Mulga Bill's Bicycle\", '1651879'],\n",
       " ['The Man from Snowy River', '7902381'],\n",
       " ['An Outback Marriage', '6512349'],\n",
       " ['Clancy Of The Overflow', '397268'],\n",
       " ['Waltzing Matilda', '16074139']]"
      ]
     },
     "execution_count": 43,
     "metadata": {},
     "output_type": "execute_result"
    }
   ],
   "source": [
    "find_books_by_author('A.B. Paterson')\n"
   ]
  },
  {
   "cell_type": "code",
   "execution_count": 44,
   "id": "caf2e85d-b718-41e4-84d4-c7cd5b01df35",
   "metadata": {},
   "outputs": [
    {
     "name": "stdout",
     "output_type": "stream",
     "text": [
      "Clancy of the Overflow\n"
     ]
    }
   ],
   "source": [
    "new_ids = ['397268']\n",
    "\n",
    "total_ratings = 0\n",
    "count = 0\n",
    "for id in new_ids:\n",
    "    for item in BOOKS:\n",
    "        if id == item['book_id']:\n",
    "            try:\n",
    "                rating_av = float(item['average_rating'])\n",
    "                num = int(item['ratings_count'])\n",
    "                total_ratings += rating_av * num\n",
    "                count += num\n",
    "            except (ValueError, TypeError, KeyError):\n",
    "                pass\n",
    "                    \n",
    "if count == 0:\n",
    "    average_rating = 0\n",
    "else:\n",
    "    average_rating = total_ratings / count\n",
    "\n",
    "story = still_unfound[5]\n",
    "print(story['title'])\n",
    "book_reviews = find_reviews_by_id(new_ids)\n",
    "\n",
    "# Combine into final record\n",
    "book = {\n",
    "    'id': new_ids,\n",
    "    'title': story['title'],\n",
    "    'author': story['author'],\n",
    "    'story': story['text'],\n",
    "    'av_rating': average_rating,\n",
    "    'num_ratings':count,\n",
    "    'reviews': book_reviews\n",
    "}\n",
    "\n",
    "#print(book)\n",
    "data_3.append(book)"
   ]
  },
  {
   "cell_type": "code",
   "execution_count": 45,
   "id": "c861e1f0-3e4c-453a-a7e6-1893d5486b35",
   "metadata": {},
   "outputs": [
    {
     "name": "stdout",
     "output_type": "stream",
     "text": [
      "85\n"
     ]
    }
   ],
   "source": [
    "print(len(data_3))"
   ]
  },
  {
   "cell_type": "markdown",
   "id": "6cd45427-f95a-4a73-9ef1-e1776e51bbc0",
   "metadata": {},
   "source": [
    "#### Old Pardon, the son of reprieve"
   ]
  },
  {
   "cell_type": "code",
   "execution_count": 182,
   "id": "cdaf8bf6-7e77-4484-82f7-f65231a92b97",
   "metadata": {},
   "outputs": [
    {
     "data": {
      "text/plain": [
       "'Old Pardon, the Son of Reprieve'"
      ]
     },
     "execution_count": 182,
     "metadata": {},
     "output_type": "execute_result"
    }
   ],
   "source": [
    "still_unfound[6]['title']"
   ]
  },
  {
   "cell_type": "markdown",
   "id": "ebfaaaca-2e2e-4e0b-8949-5a8e784eb1d6",
   "metadata": {},
   "source": [
    "not there"
   ]
  },
  {
   "cell_type": "markdown",
   "id": "bd7f50c2-8c9c-445c-9a76-d1964038158b",
   "metadata": {},
   "source": [
    "#### Black swans"
   ]
  },
  {
   "cell_type": "code",
   "execution_count": 184,
   "id": "0991aaa8-63f0-41f8-aa77-e3c9a625f9e9",
   "metadata": {},
   "outputs": [
    {
     "data": {
      "text/plain": [
       "'Black Swans'"
      ]
     },
     "execution_count": 184,
     "metadata": {},
     "output_type": "execute_result"
    }
   ],
   "source": [
    "still_unfound[7]['title']"
   ]
  },
  {
   "cell_type": "markdown",
   "id": "055024ad-bbd1-4482-a288-d77f9ccc8c88",
   "metadata": {},
   "source": [
    "not there"
   ]
  },
  {
   "cell_type": "markdown",
   "id": "cd188f3d-1606-481d-9c48-ee9bceb23171",
   "metadata": {},
   "source": [
    "#### Idyll of Dandaloo"
   ]
  },
  {
   "cell_type": "code",
   "execution_count": 186,
   "id": "231d6466-b0b7-4c88-8998-fddc50e40ee7",
   "metadata": {},
   "outputs": [
    {
     "data": {
      "text/plain": [
       "'An Idyll of Dandaloo'"
      ]
     },
     "execution_count": 186,
     "metadata": {},
     "output_type": "execute_result"
    }
   ],
   "source": [
    "still_unfound[8]['title']"
   ]
  },
  {
   "cell_type": "markdown",
   "id": "04a82616-2a35-4286-86bb-c0a3255eddf7",
   "metadata": {},
   "source": [
    "#### The Dog"
   ]
  },
  {
   "cell_type": "code",
   "execution_count": 189,
   "id": "ce05529d-3394-49e9-9ffa-b08eb118db83",
   "metadata": {},
   "outputs": [
    {
     "data": {
      "text/plain": [
       "'The Dog'"
      ]
     },
     "execution_count": 189,
     "metadata": {},
     "output_type": "execute_result"
    }
   ],
   "source": [
    "still_unfound[9]['title']"
   ]
  },
  {
   "cell_type": "markdown",
   "id": "34764cf9-e36c-4f9c-aaf0-66d10b4eea49",
   "metadata": {},
   "source": [
    "#### The Virgin"
   ]
  },
  {
   "cell_type": "code",
   "execution_count": 192,
   "id": "3f4b40e7-f928-4503-8042-a50f0e8d0e33",
   "metadata": {},
   "outputs": [
    {
     "data": {
      "text/plain": [
       "'The Virgin'"
      ]
     },
     "execution_count": 192,
     "metadata": {},
     "output_type": "execute_result"
    }
   ],
   "source": [
    "still_unfound[10]['title']"
   ]
  },
  {
   "cell_type": "markdown",
   "id": "e9293ae9-f935-4783-a74d-01d46c90dbb2",
   "metadata": {},
   "source": [
    "#### A Diagnosis of Death"
   ]
  },
  {
   "cell_type": "code",
   "execution_count": 195,
   "id": "4d3c8796-c0ba-4048-a012-d57ee302479a",
   "metadata": {},
   "outputs": [
    {
     "data": {
      "text/plain": [
       "'A Diagnosis of Death'"
      ]
     },
     "execution_count": 195,
     "metadata": {},
     "output_type": "execute_result"
    }
   ],
   "source": [
    "still_unfound[11]['title']"
   ]
  },
  {
   "cell_type": "code",
   "execution_count": 199,
   "id": "e69dc1ea-57a6-437d-832f-d658eb8725f7",
   "metadata": {},
   "outputs": [],
   "source": [
    "# it exists but just can't seem to find it by computer"
   ]
  },
  {
   "cell_type": "code",
   "execution_count": 47,
   "id": "beea35b3-9bf5-4b85-9288-a6354d204023",
   "metadata": {},
   "outputs": [],
   "source": [
    "story = still_unfound[11]\n",
    "for item in BOOKS:\n",
    "    if item['title'] == \"A Diagnosis of Death\":\n",
    "        print(item['book_id'])\n",
    "        #new_ids = [item['book_id']]\n",
    "        #average_rating = item['average_rating']\n",
    "book = {\n",
    "    'id': [],\n",
    "    'title': story['title'],\n",
    "    'author': story['author'],\n",
    "    'story': story['text'],\n",
    "    'av_rating': 3.21,\n",
    "    'num_ratings':119,\n",
    "    'reviews': [{'rating':4, 'text':\"A very atmospheric and creepy story. Hawver meets a Dr who can foresee when death is coming. What about his own life? This gothic tale will run shivers down your spine. Really recommended!\"},\n",
    "               {'rating':3,'text':\"Good, but not great, and certainly with a few stylistic hiccups that I did not particularly care for; nonetheless, however- in concept especially- this is a perfectly pleasant little read. It just so happens to not be anything worth writing home about, in my opinion.\" },\n",
    "               {'rating':2,'text':\" This is such a short short-story that it doesn't have enough time to scare us!\"}\n",
    "               ]\n",
    "}\n",
    "\n",
    "#print(book)\n",
    "data_3.append(book)"
   ]
  },
  {
   "cell_type": "markdown",
   "id": "b6656e8a-3742-4789-a93f-cb7e53f2ff83",
   "metadata": {},
   "source": [
    "#### Praise the generous gods"
   ]
  },
  {
   "cell_type": "code",
   "execution_count": 204,
   "id": "c8d2dd24-c9e5-49b8-a632-fc54c7ad86fd",
   "metadata": {},
   "outputs": [
    {
     "data": {
      "text/plain": [
       "{'title': 'Praise the Generous Gods',\n",
       " 'author': 'William Ernest Henley',\n",
       " 'text': 'Praise the generous gods for giving\\n\\nIn a world of wrath and strife\\n\\nWith a little time for living,\\n\\nUnto all the joy of life.\\n\\nAt whatever source we drink it,\\n\\nArt or love or faith or wine,\\n\\nIn whatever terms we think it,\\n\\nIt is common and divine.\\n\\nPraise the high gods, for in giving\\n\\nThis to man, and this alone,\\n\\nThey have made his chance of living\\n\\nShine the equal of their own.',\n",
       " 'word_count': 75,\n",
       " 'url': 'https://www.libraryofshortstories.com/onlinereader/praise-the-generous-gods'}"
      ]
     },
     "execution_count": 204,
     "metadata": {},
     "output_type": "execute_result"
    }
   ],
   "source": [
    "still_unfound[12]"
   ]
  },
  {
   "cell_type": "markdown",
   "id": "07832352-46cb-425d-bd31-e34172a9f8da",
   "metadata": {},
   "source": [
    "#### The eagle and the fox"
   ]
  },
  {
   "cell_type": "code",
   "execution_count": 205,
   "id": "6353df1f-9f1c-4a8e-be62-80fad62c41b5",
   "metadata": {},
   "outputs": [
    {
     "data": {
      "text/plain": [
       "'The Eagle and the Fox'"
      ]
     },
     "execution_count": 205,
     "metadata": {},
     "output_type": "execute_result"
    }
   ],
   "source": [
    "still_unfound[13]['title']"
   ]
  },
  {
   "cell_type": "code",
   "execution_count": 48,
   "id": "9359b7e1-e227-4d0c-80a0-8c7747515599",
   "metadata": {},
   "outputs": [
    {
     "name": "stdout",
     "output_type": "stream",
     "text": [
      "[['Fox Tails: Four Fables from Aesop', '12710065'], ['The Fox and the Goat', '36437604'], ['The Fox And The Lion', '33131735'], ['The Fox And The Grapes', '33131659'], ['The Bear And The Fox', '36437784'], ['The Eagle And The Fox', '36434944'], ['The Lion And The Fox', '36448128'], ['What The Fox Learnt: Four Fables from Aesop', '12574862'], ['The Dog The Cock And The Fox', '32805954']]\n"
     ]
    }
   ],
   "source": [
    "ae = find_books_by_author('Aesop')\n",
    "matches = [s for s in ae if 'fox' in s[0].lower()]\n",
    "print(matches)"
   ]
  },
  {
   "cell_type": "code",
   "execution_count": 50,
   "id": "9e5e816d-4f3f-4f96-903f-f013c479277d",
   "metadata": {},
   "outputs": [
    {
     "name": "stdout",
     "output_type": "stream",
     "text": [
      "['Aesop']\n"
     ]
    }
   ],
   "source": [
    "for item in BOOKS:\n",
    "    if item['book_id'] =='36434944':\n",
    "        names = []\n",
    "        for aut_id in item['author_ids']:\n",
    "            name = find_name_by_id(aut_id)\n",
    "            names.append(name)\n",
    "print(names)"
   ]
  },
  {
   "cell_type": "code",
   "execution_count": 51,
   "id": "1d6525a3-5e04-44aa-b4f0-6a5cb16de77a",
   "metadata": {},
   "outputs": [
    {
     "name": "stdout",
     "output_type": "stream",
     "text": [
      "The Eagle and the Fox\n"
     ]
    }
   ],
   "source": [
    "new_ids = ['36434944']\n",
    "total_ratings = 0\n",
    "count = 0\n",
    "for id in new_ids:\n",
    "    for item in BOOKS:\n",
    "        if id == item['book_id']:\n",
    "            try:\n",
    "                rating_av = float(item['average_rating'])\n",
    "                num = int(item['ratings_count'])\n",
    "                total_ratings += rating_av * num\n",
    "                count += num\n",
    "            except (ValueError, TypeError, KeyError):\n",
    "                pass\n",
    "                    \n",
    "if count == 0:\n",
    "    average_rating = 0\n",
    "else:\n",
    "    average_rating = total_ratings / count\n",
    "\n",
    "story = still_unfound[13]\n",
    "print(story['title'])\n",
    "book_reviews = find_reviews_by_id(new_ids)\n",
    "\n",
    "# Combine into final record\n",
    "book = {\n",
    "    'id': new_ids,\n",
    "    'title': story['title'],\n",
    "    'author': story['author'],\n",
    "    'story': story['text'],\n",
    "    'av_rating': average_rating,\n",
    "    'num_ratings':count,\n",
    "    'reviews': book_reviews\n",
    "}\n",
    "\n",
    "data_3.append(book)"
   ]
  },
  {
   "cell_type": "markdown",
   "id": "853c1f5c-6023-429d-9c55-2881ed519177",
   "metadata": {},
   "source": [
    "#### The north wind and the sun"
   ]
  },
  {
   "cell_type": "code",
   "execution_count": 214,
   "id": "ef5fcfbc-e27a-4d6e-9b4c-bb87facb4f29",
   "metadata": {},
   "outputs": [
    {
     "data": {
      "text/plain": [
       "'The North Wind and the Sun'"
      ]
     },
     "execution_count": 214,
     "metadata": {},
     "output_type": "execute_result"
    }
   ],
   "source": [
    "still_unfound[14]['title']"
   ]
  },
  {
   "cell_type": "code",
   "execution_count": 215,
   "id": "8ce73dc2-b1d3-4a8d-b33d-2f90407bd9d4",
   "metadata": {},
   "outputs": [
    {
     "name": "stdout",
     "output_type": "stream",
     "text": [
      "[['The Wind and the Sun', '12728462']]\n"
     ]
    }
   ],
   "source": [
    "matches = [s for s in ae if 'sun' in s[0].lower()]\n",
    "print(matches)"
   ]
  },
  {
   "cell_type": "markdown",
   "id": "69dc5b44-42c1-451f-a617-ffc7abb48bc0",
   "metadata": {},
   "source": [
    "#### The crab and his mother"
   ]
  },
  {
   "cell_type": "code",
   "execution_count": 218,
   "id": "7f33f002-d3de-42d7-84d5-ec6f35ea15f9",
   "metadata": {},
   "outputs": [
    {
     "name": "stdout",
     "output_type": "stream",
     "text": [
      "[['The Crab And Its Mother', '36465981']]\n"
     ]
    }
   ],
   "source": [
    "still_unfound[15]['title']\n",
    "matches = [s for s in ae if 'crab' in s[0].lower()]\n",
    "print(matches)"
   ]
  },
  {
   "cell_type": "code",
   "execution_count": 52,
   "id": "20af31e6-19cb-40d6-a46a-ac11b7e49f7b",
   "metadata": {},
   "outputs": [
    {
     "name": "stdout",
     "output_type": "stream",
     "text": [
      "['Aesop']\n"
     ]
    }
   ],
   "source": [
    "for item in BOOKS:\n",
    "    if item['book_id'] =='36465981':\n",
    "        names = []\n",
    "        for aut_id in item['author_ids']:\n",
    "            name = find_name_by_id(aut_id)\n",
    "            names.append(name)\n",
    "print(names)"
   ]
  },
  {
   "cell_type": "code",
   "execution_count": 53,
   "id": "a6100dc7-577a-4505-a600-0922ea5773d7",
   "metadata": {},
   "outputs": [
    {
     "name": "stdout",
     "output_type": "stream",
     "text": [
      "The Crab and His Mother\n"
     ]
    }
   ],
   "source": [
    "new_ids = ['36465981']\n",
    "total_ratings = 0\n",
    "count = 0\n",
    "for id in new_ids:\n",
    "    for item in BOOKS:\n",
    "        if id == item['book_id']:\n",
    "            try:\n",
    "                rating_av = float(item['average_rating'])\n",
    "                num = int(item['ratings_count'])\n",
    "                total_ratings += rating_av * num\n",
    "                count += num\n",
    "            except (ValueError, TypeError, KeyError):\n",
    "                pass\n",
    "                    \n",
    "if count == 0:\n",
    "    average_rating = 0\n",
    "else:\n",
    "    average_rating = total_ratings / count\n",
    "\n",
    "story = still_unfound[15]\n",
    "print(story['title'])\n",
    "book_reviews = find_reviews_by_id(new_ids)\n",
    "\n",
    "# Combine into final record\n",
    "book = {\n",
    "    'id': new_ids,\n",
    "    'title': story['title'],\n",
    "    'author': story['author'],\n",
    "    'story': story['text'],\n",
    "    'av_rating': average_rating,\n",
    "    'num_ratings':count,\n",
    "    'reviews': book_reviews\n",
    "}\n",
    "\n",
    "data_3.append(book)"
   ]
  },
  {
   "cell_type": "markdown",
   "id": "6dba93b1-04c7-4ed0-8c17-ab69ca8e2b48",
   "metadata": {},
   "source": [
    "#### The leopard Man's Story"
   ]
  },
  {
   "cell_type": "code",
   "execution_count": 224,
   "id": "41518259-2390-487a-9926-2be218d5c3cd",
   "metadata": {},
   "outputs": [
    {
     "data": {
      "text/plain": [
       "'Jack London'"
      ]
     },
     "execution_count": 224,
     "metadata": {},
     "output_type": "execute_result"
    }
   ],
   "source": [
    "still_unfound[16]['author']"
   ]
  },
  {
   "cell_type": "code",
   "execution_count": 54,
   "id": "0c61cf82-9028-40eb-8172-1ff55b2e0fc2",
   "metadata": {},
   "outputs": [
    {
     "name": "stdout",
     "output_type": "stream",
     "text": [
      "[[\"The Leopard Man's Story and Other Stories\", '16393802'], ['Die Geschichte vom Leopardenmann', '24977753']]\n"
     ]
    }
   ],
   "source": [
    "jl = find_books_by_author('Jack London')\n",
    "matches = [s for s in jl if 'leopard' in s[0].lower()]\n",
    "print(matches)"
   ]
  },
  {
   "cell_type": "code",
   "execution_count": 55,
   "id": "63f8c118-02eb-4ba3-a0d7-46fb4c159aa6",
   "metadata": {},
   "outputs": [
    {
     "name": "stdout",
     "output_type": "stream",
     "text": [
      "The Leopard Man’s Story\n"
     ]
    }
   ],
   "source": [
    "story = still_unfound[16]\n",
    "print(story['title'])\n",
    "new_ids = ['16393802','24977753']\n",
    "total_ratings = 0\n",
    "count = 0\n",
    "for id in new_ids:\n",
    "    for item in BOOKS:\n",
    "        if id == item['book_id']:\n",
    "            try:\n",
    "                rating_av = float(item['average_rating'])\n",
    "                num = int(item['ratings_count'])\n",
    "                total_ratings += rating_av * num\n",
    "                count += num\n",
    "            except (ValueError, TypeError, KeyError):\n",
    "                pass\n",
    "                    \n",
    "if count == 0:\n",
    "    average_rating = 0\n",
    "else:\n",
    "    average_rating = total_ratings / count\n",
    "\n",
    "\n",
    "book_reviews = find_reviews_by_id(new_ids)\n",
    "\n",
    "# Combine into final record\n",
    "book = {\n",
    "    'id': new_ids,\n",
    "    'title': story['title'],\n",
    "    'author': story['author'],\n",
    "    'story': story['text'],\n",
    "    'av_rating': average_rating,\n",
    "    'num_ratings':count,\n",
    "    'reviews': book_reviews\n",
    "}\n",
    "data_3.append(book)"
   ]
  },
  {
   "cell_type": "markdown",
   "id": "238efcf0-2357-4d3f-9092-4f10612df3ec",
   "metadata": {},
   "source": [
    "#### The miller, his son and their ass"
   ]
  },
  {
   "cell_type": "code",
   "execution_count": 231,
   "id": "62c08984-3f3f-4d70-b0de-d4631ffb5205",
   "metadata": {},
   "outputs": [
    {
     "name": "stdout",
     "output_type": "stream",
     "text": [
      "[]\n"
     ]
    }
   ],
   "source": [
    "still_unfound[17]['title']\n",
    "matches = [s for s in ae if 'miller' in s[0].lower()]\n",
    "print(matches)"
   ]
  },
  {
   "cell_type": "markdown",
   "id": "215876df-0ebd-4189-84df-c71f186a8ad3",
   "metadata": {},
   "source": [
    "#### Mr. and Mrs. Vinegar"
   ]
  },
  {
   "cell_type": "code",
   "execution_count": 234,
   "id": "de448135-eadc-42e2-bd7d-b629d8e685c5",
   "metadata": {},
   "outputs": [
    {
     "data": {
      "text/plain": [
       "'Mr. and Mrs. Vinegar'"
      ]
     },
     "execution_count": 234,
     "metadata": {},
     "output_type": "execute_result"
    }
   ],
   "source": [
    "still_unfound[18]['title']"
   ]
  },
  {
   "cell_type": "code",
   "execution_count": 57,
   "id": "26825c93-36cf-48dd-8cbe-461a765a33b5",
   "metadata": {},
   "outputs": [
    {
     "name": "stdout",
     "output_type": "stream",
     "text": [
      "[]\n"
     ]
    }
   ],
   "source": [
    "fas = find_books_by_author('Flora Annie Steel')\n",
    "matches = [s for s in fas if 'vinegar' in s[0].lower()]\n",
    "print(matches)"
   ]
  },
  {
   "cell_type": "markdown",
   "id": "6b4d71ae-f0dc-4ad0-b6a3-aff0e061dd20",
   "metadata": {},
   "source": [
    "#### Demir-kayá"
   ]
  },
  {
   "cell_type": "code",
   "execution_count": 58,
   "id": "9f93547e-084c-49fa-b862-f63203570e07",
   "metadata": {},
   "outputs": [
    {
     "data": {
      "text/plain": [
       "'Demir-kayá'"
      ]
     },
     "execution_count": 58,
     "metadata": {},
     "output_type": "execute_result"
    }
   ],
   "source": [
    "still_unfound[19]['title']"
   ]
  },
  {
   "cell_type": "markdown",
   "id": "7d0378f0-229c-484a-88ab-cc253d8a0cee",
   "metadata": {},
   "source": [
    "#### The farmer and the fox"
   ]
  },
  {
   "cell_type": "code",
   "execution_count": 244,
   "id": "7b8de081-3918-47fc-b121-75080fb4e130",
   "metadata": {},
   "outputs": [
    {
     "data": {
      "text/plain": [
       "'The Farmer and the Fox'"
      ]
     },
     "execution_count": 244,
     "metadata": {},
     "output_type": "execute_result"
    }
   ],
   "source": [
    "still_unfound[20]['title']"
   ]
  },
  {
   "cell_type": "code",
   "execution_count": 246,
   "id": "b65a1a89-88e7-47f1-8513-0fbeadb85033",
   "metadata": {},
   "outputs": [
    {
     "name": "stdout",
     "output_type": "stream",
     "text": [
      "[['The Farmer And The Snake', '32808732']]\n"
     ]
    }
   ],
   "source": [
    "matches = [s for s in ae if 'farmer' in s[0].lower()]\n",
    "print(matches)"
   ]
  },
  {
   "cell_type": "markdown",
   "id": "23fa8ff3-8c12-4feb-829b-83b3a8b4cfe9",
   "metadata": {},
   "source": [
    "#### Come-By-Chance"
   ]
  },
  {
   "cell_type": "code",
   "execution_count": 249,
   "id": "f0fa0013-b63b-4b69-a0d0-195d1b9a54eb",
   "metadata": {},
   "outputs": [
    {
     "data": {
      "text/plain": [
       "'Come-By-Chance'"
      ]
     },
     "execution_count": 249,
     "metadata": {},
     "output_type": "execute_result"
    }
   ],
   "source": [
    "still_unfound[21]['title']"
   ]
  },
  {
   "cell_type": "code",
   "execution_count": 60,
   "id": "60f7d32b-f705-41f0-a49e-f3237edf2e5b",
   "metadata": {},
   "outputs": [
    {
     "name": "stdout",
     "output_type": "stream",
     "text": [
      "[['The Merino Sheep', '33391789'], ['Complete Poems', '745346'], ['Twas the Night Before Christmas and Other Christmas Stories', '8468620'], [\"We're All Australians Now\", '31847636'], ['Poems of Banjo Paterson', '20995192'], [\"We're All Australians Now\", '24358240'], ['The Cat', '23633435'], ['Waltzing Matilda', '111281'], ['The Best Of Banjo Patterson: An Illustrated Collection', '3172903'], ['The Man from Snowy River', '1841075'], ['Saltbush Bill, J. P', '12255399'], ['The Man From Snowy River', '6072732'], [\"The Banjo's Best-Loved Poems\", '11480077'], [\"Works of 'Banjo' Paterson\", '2746647'], ['The Man from Snowy River and Other Verses', '2725644'], [\"Mulga Bill's Bicycle\", '1651879'], ['The Man from Snowy River', '7902381'], ['An Outback Marriage', '6512349'], ['Clancy Of The Overflow', '397268'], ['Waltzing Matilda', '16074139']]\n",
      "[]\n"
     ]
    }
   ],
   "source": [
    "abp = find_books_by_author('Banjo Paterson')\n",
    "abp.extend(find_books_by_author('A B Paterson'))\n",
    "abp.extend(find_books_by_author('A.B. Paterson'))\n",
    "print(abp)\n",
    "matches = [s for s in abp if 'come' in s[0].lower()]\n",
    "print(matches)"
   ]
  },
  {
   "cell_type": "markdown",
   "id": "f5524458-16c8-4c66-b3d6-1c04ce14cc15",
   "metadata": {},
   "source": [
    "#### The Laidly Worm"
   ]
  },
  {
   "cell_type": "code",
   "execution_count": 254,
   "id": "3b38d282-f8f0-47c5-b74f-59c2af0f1aec",
   "metadata": {},
   "outputs": [
    {
     "data": {
      "text/plain": [
       "'The Laidly Worm'"
      ]
     },
     "execution_count": 254,
     "metadata": {},
     "output_type": "execute_result"
    }
   ],
   "source": [
    "still_unfound[22]['title']"
   ]
  },
  {
   "cell_type": "code",
   "execution_count": 258,
   "id": "d0bb28f9-0fc9-4e2d-8c87-daf655fa04c1",
   "metadata": {},
   "outputs": [
    {
     "name": "stdout",
     "output_type": "stream",
     "text": [
      "[]\n"
     ]
    }
   ],
   "source": [
    "matches = [s for s in fas if 'worm' in s[0].lower()]\n",
    "print(matches)"
   ]
  },
  {
   "cell_type": "markdown",
   "id": "d81398a6-3a91-4201-b3a7-be1257199bb5",
   "metadata": {},
   "source": [
    "#### The Boar-Pig"
   ]
  },
  {
   "cell_type": "code",
   "execution_count": 262,
   "id": "d36da845-e3c7-4b6e-94df-8c971b155f19",
   "metadata": {
    "scrolled": true
   },
   "outputs": [
    {
     "data": {
      "text/plain": [
       "'The Boar-Pig'"
      ]
     },
     "execution_count": 262,
     "metadata": {},
     "output_type": "execute_result"
    }
   ],
   "source": [
    "still_unfound[23]['title']"
   ]
  },
  {
   "cell_type": "code",
   "execution_count": 266,
   "id": "92eb5beb-2d27-4f7f-82b7-79060b1feeee",
   "metadata": {},
   "outputs": [],
   "source": [
    "# it does exist just can't find it by code "
   ]
  },
  {
   "cell_type": "code",
   "execution_count": 62,
   "id": "d4f0694a-1acc-4bb7-9821-55e829afeb29",
   "metadata": {},
   "outputs": [],
   "source": [
    "story = still_unfound[23]\n",
    "\n",
    "book = {\n",
    "    'id': [],\n",
    "    'title': story['title'],\n",
    "    'author': story['author'],\n",
    "    'story': story['text'],\n",
    "    'av_rating': 3.63,\n",
    "    'num_ratings':38,\n",
    "    'reviews': [{'rating':4, 'text':\"As is to be expected with Saki, the tone is everything, and the conglomeration of details and circumstances most pleasing.\"},\n",
    "               {'rating':5,'text':\"Another little gem and although it may not have the deliciously anarchic spirit of Saki's really great stories, like 'An Open Window' it is still wonderful, primarily for Matilda, one of the many splendid nieces who populate his stories. It is quite remarkable how often a niece is the agent of the chaos at the heart of Saki's stories, like in 'An Open Window'. Saki is so good on children, he is not a children's' or YA author but they would certainly appreciate his understanding of their devotion to a justice more literal and fierce then you will find in the Old Testament. His children are not 'innocent' in the wakish sense but they recognise and understand adult deceit and hypocrisy. His child characters are observant and understanding of their basic powerlessness but they know how to exploit adult mendacity for their benefit. That the story also punctures adult pomposity and social climbing is an added bonus.\"}\n",
    "               ]\n",
    "}\n",
    "\n",
    "#print(book)\n",
    "data_3.append(book)"
   ]
  },
  {
   "cell_type": "markdown",
   "id": "a27f592a-5cbe-4102-8fff-14bf5a0c66d0",
   "metadata": {},
   "source": [
    "#### The recovery"
   ]
  },
  {
   "cell_type": "code",
   "execution_count": 63,
   "id": "2fbb9cea-23cc-44f6-b4bd-fdf821c4a0e7",
   "metadata": {},
   "outputs": [
    {
     "data": {
      "text/plain": [
       "'The Recovery'"
      ]
     },
     "execution_count": 63,
     "metadata": {},
     "output_type": "execute_result"
    }
   ],
   "source": [
    "still_unfound[24]['title']"
   ]
  },
  {
   "cell_type": "markdown",
   "id": "387a4a48-0495-40ed-97a0-2ff50f8c7e54",
   "metadata": {},
   "source": [
    "#### a love by the sea"
   ]
  },
  {
   "cell_type": "code",
   "execution_count": 275,
   "id": "4b35a56f-2006-485d-9a64-8da9a26f0e5e",
   "metadata": {},
   "outputs": [
    {
     "data": {
      "text/plain": [
       "'A Love by The Sea'"
      ]
     },
     "execution_count": 275,
     "metadata": {},
     "output_type": "execute_result"
    }
   ],
   "source": [
    "still_unfound[25]['title']"
   ]
  },
  {
   "cell_type": "markdown",
   "id": "65bfb9ec-c883-4ca1-b148-0a2230f6895b",
   "metadata": {},
   "source": [
    "#### The wolf in sheeps clothing"
   ]
  },
  {
   "cell_type": "code",
   "execution_count": 276,
   "id": "f34fd2f4-b101-4b3c-a34a-a5a75877281e",
   "metadata": {},
   "outputs": [
    {
     "data": {
      "text/plain": [
       "{'title': 'The Wolf in Sheep’s Clothing',\n",
       " 'author': 'Aesop',\n",
       " 'text': 'AWolf resolved to disguise himself in order that he might prey upon a flock of sheep without fear of detection. So he clothed himself in a sheepskin, and slipped among the sheep when they were out at pasture. He completely deceived the shepherd, and when the flock was penned for the night he was shut in with the rest. But that very night as it happened, the shepherd, requiring a supply of mutton for the table, laid hands on the Wolf in mistake for a Sheep, and killed him with his knife on the spot.',\n",
       " 'word_count': 96,\n",
       " 'url': 'https://www.libraryofshortstories.com/onlinereader/the-wolf-in-sheeps-clothing'}"
      ]
     },
     "execution_count": 276,
     "metadata": {},
     "output_type": "execute_result"
    }
   ],
   "source": [
    "still_unfound[26]"
   ]
  },
  {
   "cell_type": "code",
   "execution_count": 278,
   "id": "9de75eb6-d714-48da-9de4-00db463f3964",
   "metadata": {},
   "outputs": [
    {
     "name": "stdout",
     "output_type": "stream",
     "text": [
      "[['The Domesticated Dog And The Wolf', '36448148'], ['The Wolf And The Lamb', '36437778'], ['The Boy Who Cried Wolf', '1133198'], ['The Town Mouse and the Country Mouse: The Boy Who Cried Wolf', '1275099'], ['The Kid And The Wolf', '33135874'], [\"The Wolf in Sheep's Clothing\", '24811399'], ['The Wolf And The Lamb', '36465970'], ['The Wolf And The Crane', '33216817']]\n"
     ]
    }
   ],
   "source": [
    "matches = [s for s in ae if 'wolf' in s[0].lower()]\n",
    "print(matches)"
   ]
  },
  {
   "cell_type": "code",
   "execution_count": 64,
   "id": "3b6bd9c1-7367-4d81-8d6d-1d3fcf53c09a",
   "metadata": {},
   "outputs": [
    {
     "name": "stdout",
     "output_type": "stream",
     "text": [
      "The Wolf in Sheep’s Clothing\n"
     ]
    }
   ],
   "source": [
    "story = still_unfound[26]\n",
    "print(story['title'])\n",
    "new_ids = ['24811399']\n",
    "total_ratings = 0\n",
    "count = 0\n",
    "for id in new_ids:\n",
    "    for item in BOOKS:\n",
    "        if id == item['book_id']:\n",
    "            try:\n",
    "                rating_av = float(item['average_rating'])\n",
    "                num = int(item['ratings_count'])\n",
    "                total_ratings += rating_av * num\n",
    "                count += num\n",
    "            except (ValueError, TypeError, KeyError):\n",
    "                pass\n",
    "                    \n",
    "if count == 0:\n",
    "    average_rating = 0\n",
    "else:\n",
    "    average_rating = total_ratings / count\n",
    "\n",
    "\n",
    "book_reviews= find_reviews_by_id(new_ids)\n",
    "\n",
    "# Combine into final record\n",
    "book = {\n",
    "    'id': new_ids,\n",
    "    'title': story['title'],\n",
    "    'author': story['author'],\n",
    "    'story': story['text'],\n",
    "    'av_rating': average_rating,\n",
    "    'num_ratings':count,\n",
    "    'reviews': book_reviews\n",
    "}\n",
    "#print(book)\n",
    "data_3.append(book)"
   ]
  },
  {
   "cell_type": "markdown",
   "id": "0c9689e1-1bb3-4548-a327-d6308995c950",
   "metadata": {},
   "source": [
    "#### The Last Incantation"
   ]
  },
  {
   "cell_type": "code",
   "execution_count": 282,
   "id": "7c6ba4ae-2ee1-4b8d-b84b-beccb0d94cff",
   "metadata": {},
   "outputs": [
    {
     "data": {
      "text/plain": [
       "'The Last Incantation'"
      ]
     },
     "execution_count": 282,
     "metadata": {},
     "output_type": "execute_result"
    }
   ],
   "source": [
    "still_unfound[27]['title']"
   ]
  },
  {
   "cell_type": "code",
   "execution_count": 65,
   "id": "3ac6b340-ef1c-4457-bb81-825b68544527",
   "metadata": {},
   "outputs": [
    {
     "name": "stdout",
     "output_type": "stream",
     "text": [
      "[['The Last Hieroglyph', '5238510'], ['The Last Hieroglyph', '30353483'], ['The Last Oblivion: Best Fantastic Poetry of Clark Ashton Smith', '102085']]\n"
     ]
    }
   ],
   "source": [
    "cas = find_books_by_author('Clark Ashton Smith')\n",
    "matches = [s for s in cas if 'last' in s[0].lower()]\n",
    "print(matches)"
   ]
  },
  {
   "cell_type": "code",
   "execution_count": 286,
   "id": "9673f490-b8f9-4fd8-92d8-f2f8e9fdfdab",
   "metadata": {},
   "outputs": [],
   "source": [
    "# it exists but can't find it"
   ]
  },
  {
   "cell_type": "code",
   "execution_count": 66,
   "id": "074af7eb-132f-4418-aa44-808cd3b7e78b",
   "metadata": {},
   "outputs": [],
   "source": [
    "story = still_unfound[27]\n",
    "for item in BOOKS:\n",
    "    if item['title'] == \"The Last Incantation\":\n",
    "        print(item['book_id'])\n",
    "        #new_ids = [item['book_id']]\n",
    "        #average_rating = item['average_rating']\n",
    "\n",
    "book = {\n",
    "    'id': [],\n",
    "    'title': story['title'],\n",
    "    'author': story['author'],\n",
    "    'story': story['text'],\n",
    "    'av_rating': 3.97,\n",
    "    'num_reviews':116,\n",
    "    'reviews': [{'rating':3, 'text':\"The story has a deep moral message about the burdens of change. Sometimes we distance ourselves from people and places that once filled us with feelings of joy because we feel like they've changed and they're not as they used to be. However, there are also times when we are the ones that changed without realising it, and people distance themselves away from us without us knowing why we went our separate ways. A harsh truth about growing old.\"},\n",
    "               {'rating':5, 'text':\" I finally picked up a collection of his stories at Abraxus books, a neat little used bookstore here in Ballard. The first story floored me, and the realization that I had my hands on a potential gem was confirmed by each successive tale. Smith is, first and foremost, a writer's writer. His prose is excellent. It is said that he wrote with an ear for oratory, and I agree: his writing carries a fine sound when read aloud. In comparison with contemporary writers, Smith really shines. He has a lucid style that conveys beautiful imagery in deft, single-sentence strokes. For those readers who, like me, are tired of 'doorstop' fantasy tomes, these tales are a delicious antidote. The tales themselves are packed with wonders and myths and mysteries. Some of them gave me the thrill that only a well-wrought idea can. The fecundity of Smith's imagination is just astounding. Each tale he wrote is a complete, self-contained story, and each contains enough material for a proper novel. Yet Smith never leaves you wanting for more except in the best sense; each tale lingers in the mind with a pleasant echo.\" }]\n",
    "}\n",
    "data_3.append(book)"
   ]
  },
  {
   "cell_type": "markdown",
   "id": "cc18e994-2073-4907-9087-3fa76d651a4b",
   "metadata": {},
   "source": [
    "#### Coming"
   ]
  },
  {
   "cell_type": "code",
   "execution_count": 292,
   "id": "796e4d22-d278-4884-b56e-a44d24468e1d",
   "metadata": {},
   "outputs": [
    {
     "data": {
      "text/plain": [
       "{'title': 'Coming',\n",
       " 'author': 'Charlotte Perkins Gilman',\n",
       " 'text': 'Because the time is ripe, the age is ready,\\n\\nBecause the world her woman’s help demands,\\n\\nOut of the long subjection and seclusion\\n\\nCome to our field of warfare and confusion\\n\\nThe mother’s heart and hands.\\n\\nLong has she stood aside, endured and waited,\\n\\nWhile man swung forward, toiling on alone;\\n\\nNow, for the weary man, so long ill-mated,\\n\\nNow, for the world for which she was created,\\n\\nComes woman to her own.\\n\\nNot for herself! though sweet the air of freedom;\\n\\nNot for herself, though dear the new-born power;\\n\\nBut for the child, who needs a nobler mother,\\n\\nFor the whole people, needing one another,\\n\\nComes woman to her hour.',\n",
       " 'word_count': 111,\n",
       " 'url': 'https://www.libraryofshortstories.com/onlinereader/coming'}"
      ]
     },
     "execution_count": 292,
     "metadata": {},
     "output_type": "execute_result"
    }
   ],
   "source": [
    "still_unfound[28]"
   ]
  },
  {
   "cell_type": "markdown",
   "id": "54649629-50e5-4779-b327-7bc407ccccf8",
   "metadata": {},
   "source": [
    "#### Jim Carew"
   ]
  },
  {
   "cell_type": "code",
   "execution_count": 294,
   "id": "8e248899-93b5-4326-92dc-3c2a33eb2f18",
   "metadata": {},
   "outputs": [
    {
     "data": {
      "text/plain": [
       "'Jim Carew'"
      ]
     },
     "execution_count": 294,
     "metadata": {},
     "output_type": "execute_result"
    }
   ],
   "source": [
    "still_unfound[29]['title']"
   ]
  },
  {
   "cell_type": "markdown",
   "id": "fa6b9f66-33e7-4639-8176-4910f34a6656",
   "metadata": {},
   "source": [
    "#### The Feast of Nemesis"
   ]
  },
  {
   "cell_type": "code",
   "execution_count": 297,
   "id": "55b2befc-8ec4-4955-9cc3-c9c9a4fdf1fc",
   "metadata": {},
   "outputs": [
    {
     "data": {
      "text/plain": [
       "'The Feast of Nemesis'"
      ]
     },
     "execution_count": 297,
     "metadata": {},
     "output_type": "execute_result"
    }
   ],
   "source": [
    "still_unfound[30]['title']"
   ]
  },
  {
   "cell_type": "code",
   "execution_count": 300,
   "id": "3628b0a8-12bc-44f8-93b8-67f04f5f1e12",
   "metadata": {},
   "outputs": [
    {
     "name": "stdout",
     "output_type": "stream",
     "text": [
      "[]\n"
     ]
    }
   ],
   "source": [
    "matches = [s for s in saki if 'feast' in s[0].lower()]\n",
    "print(matches)"
   ]
  },
  {
   "cell_type": "markdown",
   "id": "c55839db-e6ed-4e9d-bb1f-0bf3af39f6a9",
   "metadata": {},
   "source": [
    "#### The Fox and the Crow"
   ]
  },
  {
   "cell_type": "code",
   "execution_count": 303,
   "id": "0fb858bd-6188-4346-9a69-35e85dc759fe",
   "metadata": {},
   "outputs": [
    {
     "data": {
      "text/plain": [
       "'The Fox and the Crow'"
      ]
     },
     "execution_count": 303,
     "metadata": {},
     "output_type": "execute_result"
    }
   ],
   "source": [
    "still_unfound[31]['title']"
   ]
  },
  {
   "cell_type": "code",
   "execution_count": 305,
   "id": "88c7798d-c3b2-4e93-8799-88dc6d698700",
   "metadata": {},
   "outputs": [
    {
     "name": "stdout",
     "output_type": "stream",
     "text": [
      "[['Fox Tails: Four Fables from Aesop', '12710065'], ['The Fox and the Goat', '36437604'], ['The Fox And The Lion', '33131735'], ['The Fox And The Grapes', '33131659'], ['The Bear And The Fox', '36437784'], ['The Eagle And The Fox', '36434944'], ['The Lion And The Fox', '36448128'], ['What The Fox Learnt: Four Fables from Aesop', '12574862'], ['The Dog The Cock And The Fox', '32805954']]\n"
     ]
    }
   ],
   "source": [
    "matches = [s for s in ae if 'fox' in s[0].lower()]\n",
    "print(matches)"
   ]
  },
  {
   "cell_type": "markdown",
   "id": "c56bae91-743b-411c-b466-d0c3b6dbc49d",
   "metadata": {},
   "source": [
    "#### The Doer of Good"
   ]
  },
  {
   "cell_type": "code",
   "execution_count": 308,
   "id": "f0568645-f6e8-4324-ad20-349f420239da",
   "metadata": {},
   "outputs": [
    {
     "data": {
      "text/plain": [
       "'The Doer of Good'"
      ]
     },
     "execution_count": 308,
     "metadata": {},
     "output_type": "execute_result"
    }
   ],
   "source": [
    "still_unfound[32]['title']"
   ]
  },
  {
   "cell_type": "code",
   "execution_count": null,
   "id": "d73a3d29-50a9-4120-8284-ad445a9c61df",
   "metadata": {},
   "outputs": [],
   "source": [
    "#exists but can't find"
   ]
  },
  {
   "cell_type": "code",
   "execution_count": 67,
   "id": "e6abe713-b9a4-41c1-9a5b-c3a3375a694c",
   "metadata": {},
   "outputs": [],
   "source": [
    "story = still_unfound[32]\n",
    "book = {\n",
    "    'id': [],\n",
    "    'title': story['title'],\n",
    "    'author': story['author'],\n",
    "    'story': story['text'],\n",
    "    'av_rating': 3.85,\n",
    "    'reviews': [{'rating':5, 'text': \"A certain unexpected sincerity.\"},{'rating':5, 'text': \"Ooof. OOF. Wilde you magnificent son of a bitch.\"}]\n",
    "}\n",
    "#print(book)\n",
    "data_3.append(book)"
   ]
  },
  {
   "cell_type": "markdown",
   "id": "7d0b6648-4ff8-4f38-b75f-da21ceb6a590",
   "metadata": {},
   "source": [
    "#### The Oracle at the Private Bar"
   ]
  },
  {
   "cell_type": "code",
   "execution_count": 314,
   "id": "bd3dec7e-e695-444f-8254-3d5ec06ea641",
   "metadata": {},
   "outputs": [
    {
     "data": {
      "text/plain": [
       "'The Oracle at the Private Bar'"
      ]
     },
     "execution_count": 314,
     "metadata": {},
     "output_type": "execute_result"
    }
   ],
   "source": [
    "still_unfound[33]['title']"
   ]
  },
  {
   "cell_type": "markdown",
   "id": "ea8d5ba3-3b9e-4f57-9d81-e49d1c9559af",
   "metadata": {},
   "source": [
    "#### The boy and the filberts"
   ]
  },
  {
   "cell_type": "code",
   "execution_count": 319,
   "id": "ee6c35b4-592b-4ba4-9376-49a0f416260f",
   "metadata": {},
   "outputs": [
    {
     "data": {
      "text/plain": [
       "'The Boy and the Filberts'"
      ]
     },
     "execution_count": 319,
     "metadata": {},
     "output_type": "execute_result"
    }
   ],
   "source": [
    "still_unfound[34]['title']"
   ]
  },
  {
   "cell_type": "code",
   "execution_count": 320,
   "id": "152cb201-e831-4cf4-a7f8-2f6c6078cb67",
   "metadata": {},
   "outputs": [
    {
     "name": "stdout",
     "output_type": "stream",
     "text": [
      "[['The Boy Who Cried Wolf', '1133198'], ['The Town Mouse and the Country Mouse: The Boy Who Cried Wolf', '1275099'], ['The Boy And The Scorpion', '36434972']]\n"
     ]
    }
   ],
   "source": [
    "matches = [s for s in ae if 'boy' in s[0].lower()]\n",
    "print(matches)"
   ]
  },
  {
   "cell_type": "markdown",
   "id": "768e7a12-6209-48b7-9674-f1925d9d0d6a",
   "metadata": {},
   "source": [
    "#### Lost"
   ]
  },
  {
   "cell_type": "code",
   "execution_count": 322,
   "id": "295adc93-f6af-4a95-a4f0-21dbef34e070",
   "metadata": {},
   "outputs": [
    {
     "data": {
      "text/plain": [
       "'Lost'"
      ]
     },
     "execution_count": 322,
     "metadata": {},
     "output_type": "execute_result"
    }
   ],
   "source": [
    "still_unfound[35]['title']"
   ]
  },
  {
   "cell_type": "markdown",
   "id": "bc715c86-5e38-403d-b391-0fc86b355bbd",
   "metadata": {},
   "source": [
    "#### She walketh veiled and sleeping"
   ]
  },
  {
   "cell_type": "code",
   "execution_count": 324,
   "id": "94757055-db56-497c-8004-d767f8ea24bd",
   "metadata": {},
   "outputs": [
    {
     "data": {
      "text/plain": [
       "{'title': 'She Walketh Veiled and Sleeping',\n",
       " 'author': 'Charlotte Perkins Gilman',\n",
       " 'text': 'She walketh veiled and sleeping,\\n\\nFor she knoweth not her power;\\n\\nShe obeyeth but the pleading\\n\\nOf her heart, and the high leading\\n\\nOf her soul, unto this hour.\\n\\nSlow advancing, halting, creeping,\\n\\nComes the Woman to the hour!—\\n\\nShe walketh veiled and sleeping,\\n\\nFor she knoweth not her power.',\n",
       " 'word_count': 50,\n",
       " 'url': 'https://www.libraryofshortstories.com/onlinereader/she-walketh-veiled-and-sleeping'}"
      ]
     },
     "execution_count": 324,
     "metadata": {},
     "output_type": "execute_result"
    }
   ],
   "source": [
    "still_unfound[36]"
   ]
  },
  {
   "cell_type": "markdown",
   "id": "4960c104-cb5a-4885-95a0-9f64d2047035",
   "metadata": {},
   "source": [
    "#### A strange Story"
   ]
  },
  {
   "cell_type": "code",
   "execution_count": 68,
   "id": "af45fa2b-6f45-49c2-8ba8-bda526155f81",
   "metadata": {},
   "outputs": [],
   "source": [
    "still_unfound[37]['title']\n",
    "\n",
    "story = still_unfound[37]\n",
    "book = {\n",
    "    'id': [],\n",
    "    'title': story['title'],\n",
    "    'author': story['author'],\n",
    "    'story': story['text'],\n",
    "    'av_rating': 3.03,\n",
    "    'reviews': [{'rating':3, 'text': \"This was a well named story. I like to picture the father outside, with comically intense OCD, for years, waiting for the right moment to go inside. That may or may not be funny to some people.\"},\n",
    "                {'rating':3, 'text': \"Yup, strange indeed yet I loved it\"},\n",
    "               {'rating':3, 'text':\"Had it been a novel, it would have made for an interesting read for sure. The more I read O' Henry, the more I feel that somehow, this man tested his potential in briefing things. A girl's father missing and then returning to his home after years, that too under the same circumstances, though for a different person this time; in two pages, this man has wrapped up a novel of almost 150 pages. Wow! Some talent. This short read was good.\"}]\n",
    "}\n",
    "#print(book)\n",
    "data_3.append(book)"
   ]
  },
  {
   "cell_type": "markdown",
   "id": "8a804904-cf5a-4227-bbb0-60baebbda9c1",
   "metadata": {},
   "source": [
    "#### the mice and the weasels"
   ]
  },
  {
   "cell_type": "code",
   "execution_count": 331,
   "id": "278985a5-b9b8-4127-b5b4-3553c6b7403c",
   "metadata": {},
   "outputs": [
    {
     "data": {
      "text/plain": [
       "'The Mice and the Weasels'"
      ]
     },
     "execution_count": 331,
     "metadata": {},
     "output_type": "execute_result"
    }
   ],
   "source": [
    "still_unfound[38]['title']"
   ]
  },
  {
   "cell_type": "code",
   "execution_count": 335,
   "id": "1c72a712-47e0-47a8-98e0-3ff4bf887fe8",
   "metadata": {},
   "outputs": [
    {
     "name": "stdout",
     "output_type": "stream",
     "text": [
      "[]\n"
     ]
    }
   ],
   "source": [
    "matches = [s for s in ae if 'mice' in s[0].lower()]\n",
    "print(matches)"
   ]
  },
  {
   "cell_type": "markdown",
   "id": "a32d5acc-ec81-43ab-ab9d-d00cfe0cf733",
   "metadata": {},
   "source": [
    "#### The Amateur Rider"
   ]
  },
  {
   "cell_type": "code",
   "execution_count": 70,
   "id": "a0f7b3c4-345e-4244-b207-eef2136c44b8",
   "metadata": {},
   "outputs": [
    {
     "data": {
      "text/plain": [
       "'The Amateur Rider'"
      ]
     },
     "execution_count": 70,
     "metadata": {},
     "output_type": "execute_result"
    }
   ],
   "source": [
    "still_unfound[39]['title']"
   ]
  },
  {
   "cell_type": "code",
   "execution_count": 71,
   "id": "4e26eeea-4998-4cc6-9241-b7dfc4de724f",
   "metadata": {},
   "outputs": [
    {
     "name": "stdout",
     "output_type": "stream",
     "text": [
      "[['The Merino Sheep', '33391789'], ['Complete Poems', '745346'], ['Twas the Night Before Christmas and Other Christmas Stories', '8468620'], [\"We're All Australians Now\", '31847636'], ['Poems of Banjo Paterson', '20995192'], [\"We're All Australians Now\", '24358240'], ['The Cat', '23633435'], ['Waltzing Matilda', '111281'], ['The Best Of Banjo Patterson: An Illustrated Collection', '3172903'], ['The Man from Snowy River', '1841075'], ['Saltbush Bill, J. P', '12255399'], ['The Man From Snowy River', '6072732'], [\"The Banjo's Best-Loved Poems\", '11480077'], [\"Works of 'Banjo' Paterson\", '2746647'], ['The Man from Snowy River and Other Verses', '2725644'], [\"Mulga Bill's Bicycle\", '1651879'], ['The Man from Snowy River', '7902381'], ['An Outback Marriage', '6512349'], ['Clancy Of The Overflow', '397268'], ['Waltzing Matilda', '16074139']]\n"
     ]
    }
   ],
   "source": [
    "print(abp)"
   ]
  },
  {
   "cell_type": "markdown",
   "id": "43e15c07-5a3f-4849-97cf-ad68a994f938",
   "metadata": {},
   "source": [
    "#### Requiescat"
   ]
  },
  {
   "cell_type": "code",
   "execution_count": 340,
   "id": "3b082413-8e50-4c86-94bb-fb88e4d9c452",
   "metadata": {},
   "outputs": [
    {
     "data": {
      "text/plain": [
       "'Requiescat'"
      ]
     },
     "execution_count": 340,
     "metadata": {},
     "output_type": "execute_result"
    }
   ],
   "source": [
    "still_unfound[40]['title']"
   ]
  },
  {
   "cell_type": "code",
   "execution_count": 72,
   "id": "b265863c-c9ed-43e8-8b5e-57b0c1966440",
   "metadata": {},
   "outputs": [],
   "source": [
    "story = still_unfound[40]\n",
    "book = {\n",
    "    'id': [],\n",
    "    'title': story['title'],\n",
    "    'author': story['author'],\n",
    "    'story': story['text'],\n",
    "    'av_rating': 3.03,\n",
    "    'reviews': [{'rating':5, 'text': \"'Tread lightly, she is near' this was my instagram bio when i was sixteen because i love this poem so much. I’m not big on poetry, but this one feels like waking up on a crystal winter morning. very calm and serene.\"}]\n",
    "}\n",
    "#print(book)\n",
    "data_3.append(book)"
   ]
  },
  {
   "cell_type": "markdown",
   "id": "6b824f42-a29e-4c31-9841-d3d3ad319887",
   "metadata": {},
   "source": [
    "#### Saltbush Bill"
   ]
  },
  {
   "cell_type": "code",
   "execution_count": 345,
   "id": "31729ab8-5342-4240-8bd5-1d91766bcfc5",
   "metadata": {},
   "outputs": [
    {
     "data": {
      "text/plain": [
       "'Saltbush Bill'"
      ]
     },
     "execution_count": 345,
     "metadata": {},
     "output_type": "execute_result"
    }
   ],
   "source": [
    "still_unfound[41]['title']"
   ]
  },
  {
   "cell_type": "code",
   "execution_count": 73,
   "id": "1a29991b-de37-4775-b0b6-478da9c8b110",
   "metadata": {},
   "outputs": [
    {
     "name": "stdout",
     "output_type": "stream",
     "text": [
      "[['The Merino Sheep', '33391789'], ['Complete Poems', '745346'], ['Twas the Night Before Christmas and Other Christmas Stories', '8468620'], [\"We're All Australians Now\", '31847636'], ['Poems of Banjo Paterson', '20995192'], [\"We're All Australians Now\", '24358240'], ['The Cat', '23633435'], ['Waltzing Matilda', '111281'], ['The Best Of Banjo Patterson: An Illustrated Collection', '3172903'], ['The Man from Snowy River', '1841075'], ['Saltbush Bill, J. P', '12255399'], ['The Man From Snowy River', '6072732'], [\"The Banjo's Best-Loved Poems\", '11480077'], [\"Works of 'Banjo' Paterson\", '2746647'], ['The Man from Snowy River and Other Verses', '2725644'], [\"Mulga Bill's Bicycle\", '1651879'], ['The Man from Snowy River', '7902381'], ['An Outback Marriage', '6512349'], ['Clancy Of The Overflow', '397268'], ['Waltzing Matilda', '16074139']]\n"
     ]
    }
   ],
   "source": [
    "print(abp)"
   ]
  },
  {
   "cell_type": "code",
   "execution_count": 74,
   "id": "85ece67b-8da6-4179-8d4d-2b80882ac5bf",
   "metadata": {},
   "outputs": [
    {
     "name": "stdout",
     "output_type": "stream",
     "text": [
      "Saltbush Bill\n"
     ]
    }
   ],
   "source": [
    "story = still_unfound[41]\n",
    "print(story['title'])\n",
    "new_ids = ['12255399']\n",
    "total_ratings = 0\n",
    "count = 0\n",
    "for id in new_ids:\n",
    "    for item in BOOKS:\n",
    "        if id == item['book_id']:\n",
    "            try:\n",
    "                rating_av = float(item['average_rating'])\n",
    "                num = int(item['ratings_count'])\n",
    "                total_ratings += rating_av * num\n",
    "                count += num\n",
    "            except (ValueError, TypeError, KeyError):\n",
    "                pass\n",
    "                    \n",
    "if count == 0:\n",
    "    average_rating = 0\n",
    "else:\n",
    "    average_rating = total_ratings / count\n",
    "\n",
    "\n",
    "book_reviews = find_reviews_by_id(new_ids)\n",
    "\n",
    "# Combine into final record\n",
    "book = {\n",
    "    'id': new_ids,\n",
    "    'title': story['title'],\n",
    "    'author': story['author'],\n",
    "    'story': story['text'],\n",
    "    'av_rating': average_rating,\n",
    "    'num_reviews':count,\n",
    "    'reviews': book_reviews\n",
    "}\n",
    "#print(book)\n",
    "data_3.append(book)"
   ]
  },
  {
   "cell_type": "markdown",
   "id": "1bfec200-e3bf-4fb5-abc7-5fe4a4e9572f",
   "metadata": {},
   "source": [
    "#### The rose tree"
   ]
  },
  {
   "cell_type": "code",
   "execution_count": 352,
   "id": "5131d6af-ca4c-4ba8-9ce0-c75d6f941c67",
   "metadata": {},
   "outputs": [
    {
     "data": {
      "text/plain": [
       "'The Rose Tree'"
      ]
     },
     "execution_count": 352,
     "metadata": {},
     "output_type": "execute_result"
    }
   ],
   "source": [
    "still_unfound[42]['title']"
   ]
  },
  {
   "cell_type": "code",
   "execution_count": 357,
   "id": "436bfc85-3afe-4551-b3db-a42e7d519930",
   "metadata": {},
   "outputs": [
    {
     "name": "stdout",
     "output_type": "stream",
     "text": [
      "[]\n"
     ]
    }
   ],
   "source": [
    "matches = [s for s in fas if 'tree' in s[0].lower()]\n",
    "print(matches)"
   ]
  },
  {
   "cell_type": "markdown",
   "id": "6f0d86f3-b5f0-4415-b87e-9a63752dc0e1",
   "metadata": {},
   "source": [
    "#### Father and sons"
   ]
  },
  {
   "cell_type": "code",
   "execution_count": 359,
   "id": "c1f60c0b-6198-4aa8-bee0-9877d4ce40d1",
   "metadata": {},
   "outputs": [
    {
     "data": {
      "text/plain": [
       "'Father and Sons'"
      ]
     },
     "execution_count": 359,
     "metadata": {},
     "output_type": "execute_result"
    }
   ],
   "source": [
    "still_unfound[43]['title']"
   ]
  },
  {
   "cell_type": "code",
   "execution_count": 360,
   "id": "af831b4f-aced-4573-a573-8ff83304e571",
   "metadata": {},
   "outputs": [
    {
     "name": "stdout",
     "output_type": "stream",
     "text": [
      "[['Lessons from the Lion, the Ox and their little friends', '13556167'], ['Lessons from the Lion, the Ox and their little friends (illustrated)', '18601144'], ['Iliad, Odyssey, Aeneid, Oedipus, Jason and the Argonauts and 50+ Legendary Books', '12091515']]\n"
     ]
    }
   ],
   "source": [
    "matches = [s for s in ae if 'son' in s[0].lower()]\n",
    "print(matches)"
   ]
  },
  {
   "cell_type": "markdown",
   "id": "610d139c-61ad-4e75-a6fa-297e467e8afe",
   "metadata": {},
   "source": [
    "#### A Legend"
   ]
  },
  {
   "cell_type": "code",
   "execution_count": 363,
   "id": "19766f8c-5580-4925-9d0b-2676ba1cd83f",
   "metadata": {},
   "outputs": [
    {
     "data": {
      "text/plain": [
       "'A Legend'"
      ]
     },
     "execution_count": 363,
     "metadata": {},
     "output_type": "execute_result"
    }
   ],
   "source": [
    "still_unfound[44]['title']"
   ]
  },
  {
   "cell_type": "code",
   "execution_count": 366,
   "id": "ef299a44-18a3-490d-a6d9-87aba8ffad4f",
   "metadata": {},
   "outputs": [
    {
     "name": "stdout",
     "output_type": "stream",
     "text": [
      "[]\n"
     ]
    }
   ],
   "source": [
    "aik = find_books_by_author('Aleksandr I. Kuprin')\n",
    "print(aik)"
   ]
  },
  {
   "cell_type": "code",
   "execution_count": 75,
   "id": "7ae020b0-5c81-417a-856e-6f5aca8dbb77",
   "metadata": {},
   "outputs": [
    {
     "name": "stdout",
     "output_type": "stream",
     "text": [
      "[]\n"
     ]
    }
   ],
   "source": [
    "aik = find_books_by_author('Aleksandr Kuprin')\n",
    "print(aik)"
   ]
  },
  {
   "cell_type": "markdown",
   "id": "5537e835-5c35-4d8f-a1e1-4cebdd43b008",
   "metadata": {},
   "source": [
    "#### Lawkamercyme"
   ]
  },
  {
   "cell_type": "code",
   "execution_count": 369,
   "id": "e26a1601-204f-40d4-a49b-fb5c45429120",
   "metadata": {},
   "outputs": [
    {
     "data": {
      "text/plain": [
       "'Lawkamercyme'"
      ]
     },
     "execution_count": 369,
     "metadata": {},
     "output_type": "execute_result"
    }
   ],
   "source": [
    "still_unfound[45]['title']"
   ]
  },
  {
   "cell_type": "code",
   "execution_count": 373,
   "id": "6e09aa36-db18-4862-9d2d-9416957b8f10",
   "metadata": {},
   "outputs": [
    {
     "name": "stdout",
     "output_type": "stream",
     "text": [
      "[]\n"
     ]
    }
   ],
   "source": [
    "matches = [s for s in fas if 'law' in s[0].lower()]\n",
    "print(matches)"
   ]
  },
  {
   "cell_type": "markdown",
   "id": "daf23f2a-1412-45f6-9522-308159436ec5",
   "metadata": {},
   "source": [
    "#### Steelman's Pupil"
   ]
  },
  {
   "cell_type": "code",
   "execution_count": 376,
   "id": "98253a91-f93f-4cb3-aaf4-99c15eacc70e",
   "metadata": {},
   "outputs": [
    {
     "data": {
      "text/plain": [
       "'Steelman’s Pupil'"
      ]
     },
     "execution_count": 376,
     "metadata": {},
     "output_type": "execute_result"
    }
   ],
   "source": [
    "still_unfound[46]['title']"
   ]
  },
  {
   "cell_type": "code",
   "execution_count": 379,
   "id": "8a66112d-c955-4a00-b9af-4db82d8492d2",
   "metadata": {},
   "outputs": [
    {
     "name": "stdout",
     "output_type": "stream",
     "text": [
      "[]\n"
     ]
    }
   ],
   "source": [
    "hl = find_BOOKS_by_author('Henry Lawson')\n",
    "matches = [s for s in hl if 'steel' in s[0].lower()]\n",
    "print(matches)"
   ]
  },
  {
   "cell_type": "markdown",
   "id": "e7bb21c7-787f-4c10-a2fe-ec31b87a970c",
   "metadata": {},
   "source": [
    "#### The dog and the shadow"
   ]
  },
  {
   "cell_type": "code",
   "execution_count": 381,
   "id": "bb10fb86-59f5-4b91-b60d-7c05c11e2279",
   "metadata": {},
   "outputs": [
    {
     "data": {
      "text/plain": [
       "'The Dog and the Shadow'"
      ]
     },
     "execution_count": 381,
     "metadata": {},
     "output_type": "execute_result"
    }
   ],
   "source": [
    "still_unfound[47]['title']"
   ]
  },
  {
   "cell_type": "code",
   "execution_count": 76,
   "id": "37cafb22-f46b-45ac-a6fb-83b9af8e8f76",
   "metadata": {},
   "outputs": [
    {
     "name": "stdout",
     "output_type": "stream",
     "text": [
      "[['The Domesticated Dog And The Wolf', '36448148'], ['The Dog And The Shadow', '36454743'], ['The Dog The Cock And The Fox', '32805954']]\n"
     ]
    }
   ],
   "source": [
    "matches = [s for s in ae if 'dog' in s[0].lower()]\n",
    "print(matches)"
   ]
  },
  {
   "cell_type": "code",
   "execution_count": 78,
   "id": "d39690cb-e08f-4e2d-8a6a-44cfae436007",
   "metadata": {},
   "outputs": [
    {
     "name": "stdout",
     "output_type": "stream",
     "text": [
      "The Dog and the Shadow\n"
     ]
    }
   ],
   "source": [
    "story = still_unfound[47]\n",
    "print(story['title'])\n",
    "new_ids = ['36454743']\n",
    "total_ratings = 0\n",
    "count = 0\n",
    "for id in new_ids:\n",
    "    for item in BOOKS:\n",
    "        if id == item['book_id']:\n",
    "            try:\n",
    "                rating_av = float(item['average_rating'])\n",
    "                num = int(item['ratings_count'])\n",
    "                total_ratings += rating_av * num\n",
    "                count += num\n",
    "            except (ValueError, TypeError, KeyError):\n",
    "                pass\n",
    "                    \n",
    "if count == 0:\n",
    "    average_rating = 0\n",
    "else:\n",
    "    average_rating = total_ratings / count\n",
    "\n",
    "\n",
    "book_reviews = find_reviews_by_id(new_ids)\n",
    "\n",
    "# Combine into final record\n",
    "book = {\n",
    "    'id': new_ids,\n",
    "    'title': story['title'],\n",
    "    'author': story['author'],\n",
    "    'story': story['text'],\n",
    "    'av_rating': average_rating,\n",
    "    'num_ratings':count,\n",
    "    'reviews': book_reviews\n",
    "}\n",
    "#print(book)\n",
    "data_3.append(book)"
   ]
  },
  {
   "cell_type": "markdown",
   "id": "bf2be564-188e-4a39-857f-128225d2d66b",
   "metadata": {},
   "source": [
    "#### How the whale got his throat"
   ]
  },
  {
   "cell_type": "code",
   "execution_count": 386,
   "id": "c903f40a-bed4-4e7e-8f2f-d869d4e62b6f",
   "metadata": {},
   "outputs": [
    {
     "data": {
      "text/plain": [
       "'How The Whale Got His Throat'"
      ]
     },
     "execution_count": 386,
     "metadata": {},
     "output_type": "execute_result"
    }
   ],
   "source": [
    "still_unfound[48]['title']"
   ]
  },
  {
   "cell_type": "code",
   "execution_count": 80,
   "id": "8efd3e07-98f4-47f8-b1ba-d0b395404757",
   "metadata": {},
   "outputs": [
    {
     "name": "stdout",
     "output_type": "stream",
     "text": [
      "[['How the Whale Got His Throat', '1548238']]\n"
     ]
    }
   ],
   "source": [
    "rk = find_books_by_author('Rudyard Kipling')\n",
    "matches = [s for s in rk if 'whale' in s[0].lower()]\n",
    "print(matches)"
   ]
  },
  {
   "cell_type": "code",
   "execution_count": 392,
   "id": "62d16add-b636-40f0-b9f2-8c0842b197fa",
   "metadata": {},
   "outputs": [],
   "source": [
    "# not actually this text, has been retold, but there is another one "
   ]
  },
  {
   "cell_type": "code",
   "execution_count": 81,
   "id": "f6c8a221-02a1-42c2-9fe0-b6c07d18d224",
   "metadata": {},
   "outputs": [],
   "source": [
    "story = still_unfound[48]\n",
    "book = {\n",
    "    'id': [],\n",
    "    'title': story['title'],\n",
    "    'author': story['author'],\n",
    "    'story': story['text'],\n",
    "    'av_rating': 3.00,\n",
    "    'reviews': [{'rating':3,'text':\"A very amusing story by Kipling.\"}]\n",
    "}\n",
    "#print(book)\n",
    "data_3.append(book)"
   ]
  },
  {
   "cell_type": "markdown",
   "id": "a931a94a-63c4-40be-b938-99efa1114192",
   "metadata": {},
   "source": [
    "#### the story of a mouse that helped"
   ]
  },
  {
   "cell_type": "code",
   "execution_count": 396,
   "id": "74d827b4-3560-4fd1-b596-eed56af88496",
   "metadata": {},
   "outputs": [
    {
     "data": {
      "text/plain": [
       "'Filboid Studge, The Story of a Mouse that Helped'"
      ]
     },
     "execution_count": 396,
     "metadata": {},
     "output_type": "execute_result"
    }
   ],
   "source": [
    "still_unfound[49]['title']"
   ]
  },
  {
   "cell_type": "code",
   "execution_count": 397,
   "id": "6bf086c6-abfe-4837-b409-630337806695",
   "metadata": {},
   "outputs": [
    {
     "name": "stdout",
     "output_type": "stream",
     "text": [
      "[['The Mouse', '21567585'], ['The Open Window & The Mouse', '8744313'], ['Filboid Studge, The Story of a Mouse That Helped', '10548737'], ['The Mouse', '10548738']]\n"
     ]
    }
   ],
   "source": [
    "matches = [s for s in saki if 'mouse' in s[0].lower()]\n",
    "print(matches)"
   ]
  },
  {
   "cell_type": "code",
   "execution_count": 82,
   "id": "6addb9ba-3459-4116-aa0a-f76616073224",
   "metadata": {},
   "outputs": [
    {
     "name": "stdout",
     "output_type": "stream",
     "text": [
      "Filboid Studge, The Story of a Mouse that Helped\n"
     ]
    }
   ],
   "source": [
    "story = still_unfound[49]\n",
    "print(story['title'])\n",
    "new_ids = ['10548737']\n",
    "total_ratings = 0\n",
    "count = 0\n",
    "for id in new_ids:\n",
    "    for item in BOOKS:\n",
    "        if id == item['book_id']:\n",
    "            try:\n",
    "                rating_av = float(item['average_rating'])\n",
    "                num = int(item['ratings_count'])\n",
    "                total_ratings += rating_av * num\n",
    "                count += num\n",
    "            except (ValueError, TypeError, KeyError):\n",
    "                pass\n",
    "                    \n",
    "if count == 0:\n",
    "    average_rating = 0\n",
    "else:\n",
    "    average_rating = total_ratings / count\n",
    "\n",
    "book_reviews = find_reviews_by_id(new_ids)\n",
    "\n",
    "# Combine into final record\n",
    "book = {\n",
    "    'id': new_ids,\n",
    "    'title': story['title'],\n",
    "    'author': story['author'],\n",
    "    'story': story['text'],\n",
    "    'av_rating': average_rating,\n",
    "    'num_ratings':count,\n",
    "    'reviews': book_reviews\n",
    "}\n",
    "#print(book)\n",
    "data_3.append(book)"
   ]
  },
  {
   "cell_type": "markdown",
   "id": "e813e9f0-3810-46b9-bfc6-f868d4b2ee89",
   "metadata": {},
   "source": [
    "#### The emperors new clothes"
   ]
  },
  {
   "cell_type": "code",
   "execution_count": 401,
   "id": "9f1f8d17-115d-4f0a-abe7-84ec78fcdc3a",
   "metadata": {},
   "outputs": [
    {
     "data": {
      "text/plain": [
       "'The Emperor’s New Clothes'"
      ]
     },
     "execution_count": 401,
     "metadata": {},
     "output_type": "execute_result"
    }
   ],
   "source": [
    "still_unfound[50]['title']"
   ]
  },
  {
   "cell_type": "code",
   "execution_count": 83,
   "id": "07e0422c-cb5f-4c6c-820e-4e7b94c227fb",
   "metadata": {},
   "outputs": [
    {
     "name": "stdout",
     "output_type": "stream",
     "text": [
      "[[\"The Emperor's New Clothes\", '343002'], [\"The Emperor's New Clothes\", '343007'], [\"The Emperor's New Clothes\", '18484340'], [\"The emperor's new clothes\", '8460445'], [\"Pakaian Baru Kaisar = Emperor's New Clothes\", '10339960'], [\"The Emperor's New Clothes\", '5954303'], [\"Andersen's Fairy Tales: The Emperor's New Clothes/The Ugly Duckling/The Little Match Girl/Big Claus and Little Claus and Many More\", '6912928'], [\"The Emperor's new clothes and two other stories\", '6411029'], [\"The Emperor's New Clothes\", '343000'], [\"The Emperor's New Clothes\", '152465'], [\"The Emperor's New Clothes\", '1611857'], [\"The Emperor's New Clothes: The Graphic Novel\", '6702028'], [\"The Emperor's New Clothes\", '176774'], ['The Stories of Hans Christian Andersen: A New Translation from the Danish', '1123513'], [\"The Emperor's New Clothes\", '6124108'], [\"The Emperor's New Clothes\", '1094089'], [\"The Dinosaur's New Clothes\", '1201068'], [\"Hans Christian Andersen's the Emperor's New Clothes\", '6729778'], [\"The Emperor's New Clothes: A Tale Set in China\", '275698'], [\"The Emperor's New Clothes : An All-Star Retelling of the Classic Fairy Tale\", '275696'], [\"The Emperor's New Clothes and Other Stories\", '1137198'], [\"The Emperor's New Clothes\", '1872548'], [\"Classics Illustrated Junior 17 of 77 : 517 Emperor's New Clothes\", '18521165'], [\"The Emperor's New Clothes: The Graphic Novel\", '6731028'], [\"The Emperor's New Clothes\", '6687866']]\n"
     ]
    }
   ],
   "source": [
    "hca = find_books_by_author('Hans Christian Andersen')\n",
    "matches = [s for s in hca if 'new' in s[0].lower()]\n",
    "print(matches)"
   ]
  },
  {
   "cell_type": "code",
   "execution_count": 84,
   "id": "239d5d1f-518d-494b-9676-2f0be7328cc6",
   "metadata": {},
   "outputs": [
    {
     "name": "stdout",
     "output_type": "stream",
     "text": [
      "['Dorothee Duntze', 'Anthea Bell', 'Hans Christian Andersen'] 6687866\n"
     ]
    }
   ],
   "source": [
    "names = []\n",
    "id_ = '6687866'\n",
    "for item in BOOKS:\n",
    "    if item['book_id'] == id_:\n",
    "        for aut_id in item['author_ids']:\n",
    "            name = find_name_by_id(aut_id)\n",
    "            if name:\n",
    "                names.append(name)\n",
    "        print(names, id_)"
   ]
  },
  {
   "cell_type": "code",
   "execution_count": 88,
   "id": "f7615654-e8fc-4f0e-90fa-9259684acabb",
   "metadata": {},
   "outputs": [
    {
     "name": "stdout",
     "output_type": "stream",
     "text": [
      "The Emperor’s New Clothes\n"
     ]
    }
   ],
   "source": [
    "new_ids = ['343002','18484340','5954303','1094089']\n",
    "story = still_unfound[50]\n",
    "print(story['title'])\n",
    "total_ratings = 0\n",
    "count = 0\n",
    "for id in new_ids:\n",
    "    for item in BOOKS:\n",
    "        if id == item['book_id']:\n",
    "            try:\n",
    "                rating_av = float(item['average_rating'])\n",
    "                num = int(item['ratings_count'])\n",
    "                total_ratings += rating_av * num\n",
    "                count += num\n",
    "            except (ValueError, TypeError, KeyError):\n",
    "                pass\n",
    "                    \n",
    "if count == 0:\n",
    "    average_rating = 0\n",
    "else:\n",
    "    average_rating = total_ratings / count\n",
    "\n",
    "\n",
    "book_reviews = find_reviews_by_id(new_ids)\n",
    "\n",
    "# Combine into final record\n",
    "book = {\n",
    "    'id': new_ids,\n",
    "    'title': story['title'],\n",
    "    'author': story['author'],\n",
    "    'story': story['text'],\n",
    "    'av_rating': average_rating,\n",
    "    'num_ratings':count,\n",
    "    'reviews': book_reviews\n",
    "}\n",
    "#print(book)\n",
    "data_3.append(book)"
   ]
  },
  {
   "cell_type": "markdown",
   "id": "fc50fdad-29a4-423d-83bc-0eeba2d89e4f",
   "metadata": {},
   "source": [
    "#### The last parade"
   ]
  },
  {
   "cell_type": "code",
   "execution_count": 644,
   "id": "a8a6c4f1-1f45-44f2-8a80-782535bfcfea",
   "metadata": {},
   "outputs": [
    {
     "data": {
      "text/plain": [
       "'The Last Parade'"
      ]
     },
     "execution_count": 644,
     "metadata": {},
     "output_type": "execute_result"
    }
   ],
   "source": [
    "still_unfound[51]['title']"
   ]
  },
  {
   "cell_type": "markdown",
   "id": "e685ef73-60ff-4dac-8916-a67d05019e35",
   "metadata": {},
   "source": [
    "#### Chiming a Dream"
   ]
  },
  {
   "cell_type": "code",
   "execution_count": 440,
   "id": "e83101d2-37fa-4af8-a64a-da93382bb433",
   "metadata": {},
   "outputs": [
    {
     "data": {
      "text/plain": [
       "'Chiming a Dream'"
      ]
     },
     "execution_count": 440,
     "metadata": {},
     "output_type": "execute_result"
    }
   ],
   "source": [
    "still_unfound[52]['title']"
   ]
  },
  {
   "cell_type": "code",
   "execution_count": 439,
   "id": "c67357df-2b50-41ee-acd1-df1b659e45e1",
   "metadata": {},
   "outputs": [
    {
     "data": {
      "text/plain": [
       "[['One Hundred and One Famous Poems eith a Prose Supplement', '5956892'],\n",
       " ['One Hundred and One Famous Poems: With a Prose Supplement', '5956903'],\n",
       " ['Hawthorn and Lavender', '2486948'],\n",
       " ['One Hundred and One Famous Poems : With a Prose Supplement', '933483'],\n",
       " ['101 Famous Poems', '933482'],\n",
       " ['101 Famous Poems', '933481'],\n",
       " ['One Hundred and One Famous Poems: With a Prose Supplement', '304728'],\n",
       " ['101 Famous Poems: With a Prose Supplement', '11639267'],\n",
       " ['Beaten but Unbowed: Waking From The Nightmare Of Abuse', '34843589'],\n",
       " ['One Hundred And One Famous Poems', '1221921'],\n",
       " ['Invictus', '9465133'],\n",
       " ['Invictus', '20523478'],\n",
       " ['One Hundred And One Famous Poems', '1124927'],\n",
       " ['English Victorian Poetry: An Anthology', '729036'],\n",
       " ['The World Treasury of Modern Religious Thought', '763617']]"
      ]
     },
     "execution_count": 439,
     "metadata": {},
     "output_type": "execute_result"
    }
   ],
   "source": [
    "find_BOOKS_by_author('William Ernest Henley', BOOKS, AUTHORS)"
   ]
  },
  {
   "cell_type": "markdown",
   "id": "b797c57e-ad0a-4ef9-9b50-35a0b86ba989",
   "metadata": {},
   "source": [
    "#### the Frog prince"
   ]
  },
  {
   "cell_type": "code",
   "execution_count": 442,
   "id": "0bcd782b-4224-4f69-b856-5cac48c1e67d",
   "metadata": {},
   "outputs": [
    {
     "data": {
      "text/plain": [
       "'The Frog-Prince'"
      ]
     },
     "execution_count": 442,
     "metadata": {},
     "output_type": "execute_result"
    }
   ],
   "source": [
    "still_unfound[53]['title']"
   ]
  },
  {
   "cell_type": "code",
   "execution_count": 89,
   "id": "cbfe1140-8ba3-4497-8990-50226222d6a7",
   "metadata": {
    "scrolled": true
   },
   "outputs": [
    {
     "name": "stdout",
     "output_type": "stream",
     "text": [
      "6383800 Dragon Kiss (The Tales of the Frog Princess, #7) ['E.D. Baker']\n",
      "1118701 The Frog Prince ['Susanna Davidson']\n",
      "2174173 The Frog Prince, ['Jacob Grimm']\n",
      "28219800 Grimms Storytime Library Boxed Set (The Frog Prince,Rumpelstiltskin,The Brave Little Tailor,Snow White,Rapunzel) ['Robyn Bryant']\n",
      "9294411 The Frog Prince ['Elle Lothlorien']\n",
      "23936658 The Frog Prince ['Sophie Ranald']\n",
      "33607137 The Frog Prince: The Brothers Grimm Story Told as a Novella ['Mike Klaassen']\n",
      "137078 The Frog Prince ['Kathy-jo Wargin', 'Anne Yvonne Gilbert']\n",
      "137077 The Frog Prince ['Jan Ormerod']\n",
      "137075 The Frog Prince (We Both Read - Level 1-2) ['Sindy McKay', 'Jacob Grimm']\n",
      "137072 The Frog Prince ['Jane Porter']\n",
      "137073 The Frog Prince ['Edith H. Tarcov', 'James  Marshall', 'Edith H. Tarcov']\n",
      "1634608 The Frog Prince ['Hilary Robinson']\n",
      "17657680 Frankly, I Never Wanted to Kiss Anybody!: The Story of the Frog Prince as Told by the Frog ['Nancy Loewen', 'Denis Alonso']\n",
      "887501 The Frog Prince (To Catch a Prince, #2) ['Gillian McKnight']\n",
      "9743913 The Frog Prince and The Pear Tree ['Jacob Grimm']\n",
      "22084923 The Frog Prince (Fairest of Them All, #2) ['Adrianne Brooks']\n",
      "9199950 The Frog Princess ['E.D. Baker']\n",
      "488450 The Salamander Spell (Tales of the Frog Princess, #5) ['E.D. Baker']\n",
      "14378147 The Frog Prince ['Sally Gardner']\n",
      "31177846 The Frog Prince ['Ulf Stark', 'Silke Leffler']\n",
      "12513532 A Frog Prince ['Alix Berenzy', 'Jacob Grimm', 'Wilhelm Grimm']\n",
      "2974439 The Frog Prince ['Susanna Davidson', 'Mike Gordon', 'Carl Gordon']\n",
      "33542708 Alien Frog Prince (Star-Crossed Tales, #3) ['J.M.  Page', 'Juno Wells']\n",
      "8402367 The Frog Prince Hops To It ['Tony Bradman', 'Sarah Warburton']\n",
      "8037331 Death of a Frog Prince ['Dana Fitzsimons']\n",
      "10912746 The Frog Prince and Other Frog Tales from Around the World: Fairy Tales, Fables and Folklore about Frogs ['Heidi Anne Heiner']\n",
      "3073078 The Frog Prince ['Mary Lewis Wang', 'Gwen Connelly']\n",
      "1621624 Her Frog Prince: In a Fairy Tale World... ['Shirley Jump']\n",
      "36187636 Beastly Bride: A Frog Prince Retelling ['Cordelia Castel']\n",
      "8310853 Once Upon a Curse (The Tales of the Frog Princess, #3) ['E.D. Baker']\n",
      "2481885 Water Song: A Retelling of \"The Frog Prince\" ['Suzanne Weyn']\n",
      "24618104 The Frog Prince ['Ulf Stark']\n",
      "539113 The Frog Princess ['Laura Cecil']\n",
      "539112 Once Upon a Curse (Tales of the Frog Princess, #3) ['E.D. Baker']\n",
      "21243809 The Frog Prince ['Robert Coover', 'Melinda Beck']\n",
      "1293919 Once Upon a Curse (Tales of the Frog Princess, #3) ['E.D. Baker']\n",
      "65092 The Frog Princess ['Rosalind Allchin']\n",
      "19273851 Smooch! A Sexy BBW Frog Prince Fairy Tale ['Laura Marie Altom']\n",
      "1569733 The Frog Princess? ['Pamela Mann']\n",
      "22245972 The Frog Princess: A Russian Fairy Tale ['Alexander Afanasyev', 'Ivan Bilibin', 'Post Wheeler']\n",
      "25750275 Naked Eye - A Fucked Up Reality Show Dream: Romance Love, Life, & Death Frog Prince Sleeping Beauty Not A Grimm Fairy Tale (With Photos) Episode 1 (Naked Eye -From Teen Star To Porn Star) ['Michelangelo Free Lance']\n",
      "820075 The Frog Prince, Continued ['Jon Scieszka', 'Steve                   Johnson']\n",
      "8133836 My Dearest Frog Prince (Tongkat Ajaib Lolita, #2) ['Karla M. Nashar', 'Rosi L. Simamora']\n",
      "33981287 The Frog Prince: The Brothers Grimm Story Told as a Novella ['Mike Klaassen']\n",
      "137074 A Frog Prince ['Alix Berenzy', 'Jacob Grimm']\n",
      "137071 The Frog Prince: A Fairy Tale for Consenting Adults ['Stephen Mitchell']\n",
      "33123370 The Frog Prince ['Selena Kitt']\n",
      "10305724 The Salamander Spell (The Tales of the Frog Princess, #5) ['E.D. Baker']\n",
      "10871320 The Frog Princess (The Tales of the Frog Princess Series #1) ['E.D. Baker', 'Katherine Kellgren']\n",
      "688176 The Frog Princess (Tales of the Frog Princess, #1) ['E.D. Baker']\n",
      "8318884 The Frog Prince, Continued ['Jon Scieszka', 'Jacob Grimm', 'Wilhelm Grimm', 'Steve                   Johnson']\n",
      "12849323 The Golden Ball: The Fairy Tale of the Frog Prince and Why the Princess Kissed Him ['Katelyn Sinclair']\n",
      "1871338 The Frog Prince and Other Stories ['Walter Crane']\n",
      "2065251 Frog Prince ['Susannah Davidson']\n",
      "13416507 The Frog Prince ['Deanna Wadsworth']\n",
      "21534069 The Frog Prince ['Jane Porter']\n",
      "8568914 Water Song: A Retelling of The Frog Prince ['Suzanne Weyn']\n",
      "6430750 The Frog Prince ['Jan Ormerod', 'David   Lloyd', 'Jan Ormerod']\n",
      "13550560 The Frog Prince and Other Stories ['Walter Crane']\n",
      "1950193 The Frog Princess (Tales of the Frog Princess, #1) ['E.D. Baker']\n",
      "7896014 A Prince Among Frogs (Tales of the Frog Princess, # 8) ['E.D. Baker']\n",
      "783160 Dragon's Breath (Tales of the Frog Princess, #2) ['E.D. Baker']\n",
      "34734614 The Frog Prince ['Jacob Grimm', 'Wilhelm Grimm', 'Sybille Schenker']\n",
      "20889472 The Frog Princess (The Tales of the Frog Princess #1) ['E.D. Baker']\n",
      "292707 The Frog Prince ['Robyn Bryant']\n",
      "688178 Tales of the Frog Princess Box Set, Books 1-3 ['E.D. Baker']\n",
      "10233396 The Frog Prince And Other Stories ['Walter Crane']\n",
      "15774443 The Frog Princess ['Alexander Afanasyev', 'Ivan Bilibin']\n",
      "1206958 The Frog Prince: A Retelling of the Grimms' Fairy Tale ['Eric/Coughlan, Dan Blair']\n",
      "14321860 Frog Prince ['Eric Blair']\n",
      "26057579 The Frog Prince ['Christine Deverell']\n",
      "13218430 The Adventures of the Frog Prince ['J.R. Barker']\n",
      "9901796 Dragon's Breath: Tales of the Frog Princess Series, Book 2 ['E.D. Baker', 'Katherine Kellgren']\n",
      "36513159 The Frog Prince (Timeless Fairy Tales Book 9) ['K.M. Shea']\n",
      "18684826 The Frog Prince's Hair-Raising Predicament (A Tail Like No Other #3) ['Scarlet Hyacinth']\n",
      "6974959 The Frog Prince's Daughters ['Wendy Palmer']\n",
      "14769716 The Frog Princess ['Angie Beasley']\n",
      "885574 The Frog Prince, Continued ['Jon Scieszka', 'Steve                   Johnson']\n",
      "6856137 The Frog Princess (Tales of the Frog Princess, #1) ['E.D. Baker']\n",
      "65096 The Frog Princess: A Tlingit Legend from Alaska ['Eric A. Kimmel', 'Rosanne Litzinger']\n",
      "65094 No Place for Magic (The Tales of the Frog Princess, #4) ['E.D. Baker']\n",
      "65093 Dragon's Breath (Tales of the Frog Princess, #2) ['E.D. Baker']\n",
      "65091 The Frog Princess (Tales of the Frog Princess, #1) ['E.D. Baker']\n",
      "65099 The Frog Princess ['J. Patrick Lewis', 'Gennady Spirin']\n",
      "16121376 The Frog Prince ['A. Violet End']\n",
      "21353471 The Frog Prince ['Jacob Grimm', 'Wilhelm Grimm']\n",
      "17673256 The Frog Prince (Faerie Tale Collection, #8) ['Jenni James']\n",
      "2622695 The Frog Prince Or Iron Henry ['Jacob Grimm', 'Naomi Lewis', 'Binette Schroeder', 'Wilhelm Grimm']\n",
      "7294120 The Frog Princess (Tales of the Frog Princess, #1) ['E.D. Baker', 'Katherine Kellgren']\n",
      "20697813 The Frog Prince (Faerie Tale Collection, #8) ['Jenni James']\n",
      "31450941 The Frog Princess Returns (The Tales of the Frog Princess #9) ['E.D. Baker']\n",
      "725806 Water Song: A Retelling of The Frog Prince ['Suzanne Weyn']\n",
      "35596564 A Kiss to Break the Spell: The Frog Prince Retold ['Adelle Summers']\n",
      "9804341 The Frog Prince ['Elle Lothlorien']\n",
      "5495425 The Frog Prince ['Missy Lyons']\n",
      "17448274 ME Freaky Frog Princess YOU Kissable Curse Breaker ['Jorja Tabu']\n",
      "17658605 Frankly, I Never Wanted to Kiss Anybody!: The Story of the Frog Prince as Told by the Frog ['Nancy Loewen', 'Denis Alonso']\n",
      "17465338 The Frog Prince Or Iron Henry ['Jacob Grimm', 'Naomi Lewis', 'Binette Schroeder']\n",
      "36148019 The Green-Eyed Prince: A Retelling of The Frog Prince (The Classical Kingdoms Collection Novellas, #1) ['Brittany Fichter']\n",
      "8657642 Dragon's Breath (Tales of the Frog Princess, #2) ['E.D. Baker']\n",
      "10044485 To Catch a Prince: To Catch a Prince & The Frog Prince ['Gillian McKnight']\n",
      "8102956 The Frog Princess ['E.D. Baker', 'Khairi Rumantati']\n",
      "3416337 The Dragon Princess (Tales of the Frog Princess, #6) ['E.D. Baker']\n",
      "18521229 Classics Illustrated Junior 26 of 77 : 526 Frog Prince ['Traditional']\n",
      "15944114 The Frog Prince ['Susanna Davidson', 'Mike Gordon', 'Carl Gordon']\n"
     ]
    }
   ],
   "source": [
    "names = []\n",
    "for item in BOOKS:\n",
    "    if 'Frog Prince' in item['title']:\n",
    "        names = []\n",
    "        for aut_id in item['author_ids']:\n",
    "            name = find_name_by_id(aut_id)\n",
    "            if name:\n",
    "                names.append(name)\n",
    "        print(item['book_id'], item['title'], names)"
   ]
  },
  {
   "cell_type": "code",
   "execution_count": 91,
   "id": "172d68e7-aa65-47e2-a5a0-43154c549e1e",
   "metadata": {},
   "outputs": [
    {
     "name": "stdout",
     "output_type": "stream",
     "text": [
      "The Frog-Prince\n"
     ]
    }
   ],
   "source": [
    "new_ids = ['2174173','21353471']\n",
    "story = still_unfound[53]\n",
    "print(story['title'])\n",
    "total_ratings = 0\n",
    "count = 0\n",
    "for id in new_ids:\n",
    "    for item in BOOKS:\n",
    "        if id == item['book_id']:\n",
    "            try:\n",
    "                rating_av = float(item['average_rating'])\n",
    "                num = int(item['ratings_count'])\n",
    "                total_ratings += rating_av * num\n",
    "                count += num\n",
    "            except (ValueError, TypeError, KeyError):\n",
    "                pass\n",
    "                    \n",
    "if count == 0:\n",
    "    average_rating = 0\n",
    "else:\n",
    "    average_rating = total_ratings / count\n",
    "\n",
    "\n",
    "book_reviews = find_reviews_by_id(new_ids)\n",
    "\n",
    "# Combine into final record\n",
    "book = {\n",
    "    'id': new_ids,\n",
    "    'title': story['title'],\n",
    "    'author': story['author'],\n",
    "    'story': story['text'],\n",
    "    'av_rating': average_rating,\n",
    "    'num_ratings':count,\n",
    "    'reviews': book_reviews\n",
    "}\n",
    "#print(book)\n",
    "data_3.append(book)"
   ]
  },
  {
   "cell_type": "markdown",
   "id": "36ffc5a4-29da-4543-b629-ad57dbd65fab",
   "metadata": {},
   "source": [
    "#### Under the Shadow of Kiley’s Hill"
   ]
  },
  {
   "cell_type": "code",
   "execution_count": 460,
   "id": "d845b24d-b47a-43ae-9c3f-f8d7f8e75d98",
   "metadata": {},
   "outputs": [
    {
     "data": {
      "text/plain": [
       "'Under the Shadow of Kiley’s Hill'"
      ]
     },
     "execution_count": 460,
     "metadata": {},
     "output_type": "execute_result"
    }
   ],
   "source": [
    "still_unfound[54]['title']"
   ]
  },
  {
   "cell_type": "markdown",
   "id": "ffc00727-ae8e-434c-b09e-110613aa0609",
   "metadata": {},
   "source": [
    "#### In the Forest of Villefère"
   ]
  },
  {
   "cell_type": "code",
   "execution_count": 462,
   "id": "47f20567-a5f3-44c9-aeff-d7fffd5298fd",
   "metadata": {},
   "outputs": [
    {
     "data": {
      "text/plain": [
       "'In the Forest of Villefère'"
      ]
     },
     "execution_count": 462,
     "metadata": {},
     "output_type": "execute_result"
    }
   ],
   "source": [
    "still_unfound[55]['title']"
   ]
  },
  {
   "cell_type": "code",
   "execution_count": 92,
   "id": "5a45019d-3366-4b01-bdd7-5c20c55a2067",
   "metadata": {},
   "outputs": [
    {
     "name": "stdout",
     "output_type": "stream",
     "text": [
      "[['In The Forest Of Villefere', '7749021']]\n"
     ]
    }
   ],
   "source": [
    "reh = find_books_by_author('Robert E. Howard')\n",
    "matches = [s for s in reh if 'forest' in s[0].lower()]\n",
    "print(matches)"
   ]
  },
  {
   "cell_type": "code",
   "execution_count": 94,
   "id": "275b29f8-b1c9-4986-a561-2875bf8cee9d",
   "metadata": {},
   "outputs": [
    {
     "name": "stdout",
     "output_type": "stream",
     "text": [
      "In the Forest of Villefère\n"
     ]
    }
   ],
   "source": [
    "new_ids = ['7749021']\n",
    "story = still_unfound[55]\n",
    "print(story['title'])\n",
    "total_ratings = 0\n",
    "count = 0\n",
    "for id in new_ids:\n",
    "    for item in BOOKS:\n",
    "        if id == item['book_id']:\n",
    "            try:\n",
    "                rating_av = float(item['average_rating'])\n",
    "                num = int(item['ratings_count'])\n",
    "                total_ratings += rating_av * num\n",
    "                count += num\n",
    "            except (ValueError, TypeError, KeyError):\n",
    "                pass\n",
    "                    \n",
    "if count == 0:\n",
    "    average_rating = 0\n",
    "else:\n",
    "    average_rating = total_ratings / count\n",
    "\n",
    "\n",
    "book_reviews = find_reviews_by_id(new_ids)\n",
    "\n",
    "# Combine into final record\n",
    "book = {\n",
    "    'id': new_ids,\n",
    "    'title': story['title'],\n",
    "    'author': story['author'],\n",
    "    'story': story['text'],\n",
    "    'av_rating': average_rating,\n",
    "    'num_ratings':count,\n",
    "    'reviews': book_reviews\n",
    "}\n",
    "#print(book)\n",
    "data_3.append(book)"
   ]
  },
  {
   "cell_type": "markdown",
   "id": "8de3f9cc-ff88-450a-b0d9-0f1a4a92399f",
   "metadata": {},
   "source": [
    "#### The thief"
   ]
  },
  {
   "cell_type": "code",
   "execution_count": 468,
   "id": "d57eecbd-49cd-4a86-86d5-1bb34c69a47b",
   "metadata": {},
   "outputs": [
    {
     "data": {
      "text/plain": [
       "'The Thief'"
      ]
     },
     "execution_count": 468,
     "metadata": {},
     "output_type": "execute_result"
    }
   ],
   "source": [
    "still_unfound[56]['title']"
   ]
  },
  {
   "cell_type": "code",
   "execution_count": 470,
   "id": "a8081e85-66a6-44e3-b07d-4a4962573270",
   "metadata": {},
   "outputs": [
    {
     "data": {
      "text/plain": [
       "[]"
      ]
     },
     "execution_count": 470,
     "metadata": {},
     "output_type": "execute_result"
    }
   ],
   "source": [
    "find_BOOKS_by_author('Rene Maizeroy')"
   ]
  },
  {
   "cell_type": "markdown",
   "id": "ade83fbd-9cb9-4e34-95b3-f161274e6931",
   "metadata": {},
   "source": [
    "#### A Vision of Judgment"
   ]
  },
  {
   "cell_type": "code",
   "execution_count": 642,
   "id": "3840920f-da6e-48d3-8d33-2ca9b0f3cc57",
   "metadata": {},
   "outputs": [
    {
     "data": {
      "text/plain": [
       "'A Vision of Judgment'"
      ]
     },
     "execution_count": 642,
     "metadata": {},
     "output_type": "execute_result"
    }
   ],
   "source": [
    "still_unfound[57]['title']"
   ]
  },
  {
   "cell_type": "code",
   "execution_count": 95,
   "id": "e8f61883-f24b-4653-b3d0-52e961e87302",
   "metadata": {},
   "outputs": [],
   "source": [
    "for item in BOOKS:\n",
    "    if item['title'] == 'A Vision of Judgment':\n",
    "        print(item['book_id'])"
   ]
  },
  {
   "cell_type": "code",
   "execution_count": 96,
   "id": "7cc85631-591e-4760-aec6-347112d9c302",
   "metadata": {},
   "outputs": [
    {
     "name": "stdout",
     "output_type": "stream",
     "text": [
      "[['A Vision Of Judgment', '23355888'], ['Visions of Tomorrow: Science Fiction Predictions that Came True', '8387459'], ['Fantastic Tales: Visionary and Everyday', '135034']]\n"
     ]
    }
   ],
   "source": [
    "hgw =find_books_by_author('H.G. Wells')\n",
    "matches = [s for s in hgw if 'vision' in s[0].lower()]\n",
    "print(matches)"
   ]
  },
  {
   "cell_type": "code",
   "execution_count": 98,
   "id": "f17d1e04-f5d9-47d4-a274-be507417de39",
   "metadata": {},
   "outputs": [
    {
     "name": "stdout",
     "output_type": "stream",
     "text": [
      "A Vision of Judgment\n"
     ]
    }
   ],
   "source": [
    "new_ids = ['23355888']\n",
    "story = still_unfound[57]\n",
    "print(story['title'])\n",
    "total_ratings = 0\n",
    "count = 0\n",
    "for id in new_ids:\n",
    "    for item in BOOKS:\n",
    "        if id == item['book_id']:\n",
    "            try:\n",
    "                rating_av = float(item['average_rating'])\n",
    "                num = int(item['ratings_count'])\n",
    "                total_ratings += rating_av * num\n",
    "                count += num\n",
    "            except (ValueError, TypeError, KeyError):\n",
    "                pass\n",
    "                    \n",
    "if count == 0:\n",
    "    average_rating = 0\n",
    "else:\n",
    "    average_rating = total_ratings / count\n",
    "\n",
    "\n",
    "book_reviews = find_reviews_by_id(new_ids)\n",
    "\n",
    "# Combine into final record\n",
    "book = {\n",
    "    'id': new_ids,\n",
    "    'title': story['title'],\n",
    "    'author': story['author'],\n",
    "    'story': story['text'],\n",
    "    'av_rating': average_rating,\n",
    "    'num_ratings':count,\n",
    "    'reviews': book_reviews\n",
    "}\n",
    "#print(book)\n",
    "data_3.append(book)"
   ]
  },
  {
   "cell_type": "markdown",
   "id": "c021fcf8-e088-4533-a174-7b10a27f4cd0",
   "metadata": {},
   "source": [
    "#### In Defence of the Bush'"
   ]
  },
  {
   "cell_type": "code",
   "execution_count": 481,
   "id": "92eb58f4-c1a3-4cf8-8955-cda4f1c7fd54",
   "metadata": {},
   "outputs": [
    {
     "data": {
      "text/plain": [
       "'In Defence of the Bush'"
      ]
     },
     "execution_count": 481,
     "metadata": {},
     "output_type": "execute_result"
    }
   ],
   "source": [
    "still_unfound[58]['title']"
   ]
  },
  {
   "cell_type": "markdown",
   "id": "bd37251f-c292-49ca-b371-c52768ee95e8",
   "metadata": {},
   "source": [
    "#### Work, Death and Sickness"
   ]
  },
  {
   "cell_type": "code",
   "execution_count": 483,
   "id": "e9673993-d1f1-49d3-b9c7-c1d1b9eb35cb",
   "metadata": {},
   "outputs": [
    {
     "data": {
      "text/plain": [
       "'Work, Death and Sickness'"
      ]
     },
     "execution_count": 483,
     "metadata": {},
     "output_type": "execute_result"
    }
   ],
   "source": [
    "still_unfound[59]['title']"
   ]
  },
  {
   "cell_type": "code",
   "execution_count": 99,
   "id": "b5da7cda-c64e-47a3-99cb-9f67d397f24d",
   "metadata": {},
   "outputs": [
    {
     "name": "stdout",
     "output_type": "stream",
     "text": [
      "[]\n"
     ]
    }
   ],
   "source": [
    "lt =find_books_by_author('Leo Tolstoy')\n",
    "matches = [s for s in lt if 'sick' in s[0].lower()]\n",
    "print(matches)"
   ]
  },
  {
   "cell_type": "code",
   "execution_count": 100,
   "id": "27cd13a7-dead-4702-bf98-80b4a6ee85ee",
   "metadata": {},
   "outputs": [],
   "source": [
    "story = still_unfound[59]\n",
    "book = {\n",
    "    'id': new_ids,\n",
    "    'title': story['title'],\n",
    "    'author': story['author'],\n",
    "    'story': story['text'],\n",
    "    'av_rating': 3.4,\n",
    "    'num_ratings':110,\n",
    "    'reviews': [{'rating':5,'text':\"A simple story that tells how we should live...\"},\n",
    "               {'rating':4,'text':\"God works under trial and error\"},\n",
    "               {'rating':3, 'text':\"This is a cool and concise look at man’s purpose on earth. I enjoyed it.\"},\n",
    "               {'rating':4, 'text':\"Leo Tolstoy presented a fascinating and profound insight into the complexities of human societies.\"}]\n",
    "}\n",
    "#print(book)\n",
    "data_3.append(book)"
   ]
  },
  {
   "cell_type": "markdown",
   "id": "722501e1-91cf-4420-ac65-ae1b941b8cb5",
   "metadata": {},
   "source": [
    "#### The old woman and her pig"
   ]
  },
  {
   "cell_type": "code",
   "execution_count": 496,
   "id": "2f23441a-de39-4cef-837a-1939a2247ec1",
   "metadata": {},
   "outputs": [
    {
     "data": {
      "text/plain": [
       "'The Old Woman and Her Pig'"
      ]
     },
     "execution_count": 496,
     "metadata": {},
     "output_type": "execute_result"
    }
   ],
   "source": [
    "still_unfound[60]['title']"
   ]
  },
  {
   "cell_type": "code",
   "execution_count": 497,
   "id": "8ff29db2-d1f0-4246-ab7b-17a0d03c5c05",
   "metadata": {},
   "outputs": [
    {
     "name": "stdout",
     "output_type": "stream",
     "text": [
      "[]\n"
     ]
    }
   ],
   "source": [
    "matches = [s for s in fas if 'pig' in s[0].lower()]\n",
    "print(matches)"
   ]
  },
  {
   "cell_type": "markdown",
   "id": "8e46cfa6-cc9e-4c3a-aa0f-69589fbeb056",
   "metadata": {},
   "source": [
    "#### For all we have and are"
   ]
  },
  {
   "cell_type": "code",
   "execution_count": 500,
   "id": "a14afb4a-75e6-4696-838e-2337ddb13b16",
   "metadata": {},
   "outputs": [
    {
     "data": {
      "text/plain": [
       "'“For All We Have And Are”'"
      ]
     },
     "execution_count": 500,
     "metadata": {},
     "output_type": "execute_result"
    }
   ],
   "source": [
    "still_unfound[61]['title']"
   ]
  },
  {
   "cell_type": "code",
   "execution_count": 504,
   "id": "c972623e-04f1-4154-bef8-1007499d1b5a",
   "metadata": {},
   "outputs": [
    {
     "name": "stdout",
     "output_type": "stream",
     "text": [
      "[]\n"
     ]
    }
   ],
   "source": [
    "matches = [s for s in rk if 'have' in s[0].lower()]\n",
    "print(matches)"
   ]
  },
  {
   "cell_type": "code",
   "execution_count": 101,
   "id": "9d398b43-1cd1-4055-9e6a-8de2aca46cdf",
   "metadata": {},
   "outputs": [],
   "source": [
    "for item in BOOKS:\n",
    "    if item['title'] == 'For All We Have And Are':\n",
    "        print(item['book_id'])"
   ]
  },
  {
   "cell_type": "markdown",
   "id": "97319856-e1c4-4865-b83a-2cc067127054",
   "metadata": {},
   "source": [
    "#### The fox and the stork"
   ]
  },
  {
   "cell_type": "code",
   "execution_count": 507,
   "id": "ba25a4c7-9128-4b55-9112-0d8ff96858fc",
   "metadata": {},
   "outputs": [
    {
     "data": {
      "text/plain": [
       "'The Fox and the Stork'"
      ]
     },
     "execution_count": 507,
     "metadata": {},
     "output_type": "execute_result"
    }
   ],
   "source": [
    "still_unfound[62]['title']"
   ]
  },
  {
   "cell_type": "code",
   "execution_count": 509,
   "id": "ebf1efcd-a76e-4675-a066-dd27e6406378",
   "metadata": {},
   "outputs": [
    {
     "name": "stdout",
     "output_type": "stream",
     "text": [
      "[]\n"
     ]
    }
   ],
   "source": [
    "matches = [s for s in ae if 'stork' in s[0].lower()]\n",
    "print(matches)"
   ]
  },
  {
   "cell_type": "code",
   "execution_count": 102,
   "id": "557869ae-ec3f-446b-bd21-76d7afe78a9d",
   "metadata": {},
   "outputs": [
    {
     "name": "stdout",
     "output_type": "stream",
     "text": [
      "2546793 The Fox and the Stork ['Mairi Mackinnon', 'Rocio Martinez']\n",
      "35287270 The Fox and the Stork ['Beatrix Potter']\n",
      "3962938 The Fox and the Stork ['Gerald McDermott']\n"
     ]
    }
   ],
   "source": [
    "for item in BOOKS:\n",
    "    if item['title'] == 'The Fox and the Stork':\n",
    "        names = []\n",
    "        for aut_id in item['author_ids']:\n",
    "            name = find_name_by_id(aut_id)\n",
    "            if name:\n",
    "                names.append(name)\n",
    "        print(item['book_id'], item['title'], names)"
   ]
  },
  {
   "cell_type": "code",
   "execution_count": 103,
   "id": "263bcbaa-a0d7-4dd0-a5ac-c14ea2a0defd",
   "metadata": {},
   "outputs": [],
   "source": [
    "story = still_unfound[62]\n",
    "book = {\n",
    "    'id': new_ids,\n",
    "    'title': story['title'],\n",
    "    'author': story['author'],\n",
    "    'story': story['text'],\n",
    "    'av_rating': 3.68,\n",
    "    'num_ratings':22,\n",
    "    'reviews': [{'rating':5,'text':\"'Do not play tricks on your neighbors unless you can stand the same treatment yourself.'\"}]\n",
    "}\n",
    "#print(book)\n",
    "data_3.append(book)"
   ]
  },
  {
   "cell_type": "markdown",
   "id": "e2bf46b1-b7bb-4aff-b7c5-239302743ef1",
   "metadata": {},
   "source": [
    "#### On kiley's run"
   ]
  },
  {
   "cell_type": "code",
   "execution_count": 517,
   "id": "8efd0cb0-6904-4b54-ae0d-aefec98f8ab7",
   "metadata": {},
   "outputs": [
    {
     "data": {
      "text/plain": [
       "'On Kiley’s Run'"
      ]
     },
     "execution_count": 517,
     "metadata": {},
     "output_type": "execute_result"
    }
   ],
   "source": [
    "still_unfound[63]['title']"
   ]
  },
  {
   "cell_type": "markdown",
   "id": "ab573363-8c18-4073-ad68-eccee0bf3731",
   "metadata": {},
   "source": [
    "#### The relic"
   ]
  },
  {
   "cell_type": "code",
   "execution_count": 519,
   "id": "37ebb227-380c-4add-81d4-aab10d1de78b",
   "metadata": {},
   "outputs": [
    {
     "data": {
      "text/plain": [
       "'The Relic'"
      ]
     },
     "execution_count": 519,
     "metadata": {},
     "output_type": "execute_result"
    }
   ],
   "source": [
    "still_unfound[64]['title']"
   ]
  },
  {
   "cell_type": "markdown",
   "id": "2145de3c-52a2-4b6e-b0b8-ce9167afc9e9",
   "metadata": {},
   "source": [
    "#### the story-teller"
   ]
  },
  {
   "cell_type": "code",
   "execution_count": 521,
   "id": "ea9f1b9d-45c3-450f-9726-d82ed4d574c0",
   "metadata": {},
   "outputs": [
    {
     "data": {
      "text/plain": [
       "'The Story-Teller'"
      ]
     },
     "execution_count": 521,
     "metadata": {},
     "output_type": "execute_result"
    }
   ],
   "source": [
    "still_unfound[65]['title']"
   ]
  },
  {
   "cell_type": "code",
   "execution_count": 522,
   "id": "a6d61432-6fa6-42d8-8690-d766c079519d",
   "metadata": {},
   "outputs": [
    {
     "name": "stdout",
     "output_type": "stream",
     "text": [
      "[['Short Story Masterpieces', '259826'], ['The Sixth Ghost Story MEGAPACK: 25 Classic Ghost Stories', '25414261'], ['Short Story Masterpieces', '8643862'], ['The Storyteller', '27866029'], ['Filboid Studge, The Story of a Mouse That Helped', '10548737'], ['The Story-Teller: Thirteen Tales', '2573028'], ['Librivox Short Story Collection 029 (Librivox Short Stories, #29)', '22041396'], ['Horror Story Collection 001', '24131064']]\n"
     ]
    }
   ],
   "source": [
    "matches = [s for s in saki if 'story' in s[0].lower()]\n",
    "print(matches)"
   ]
  },
  {
   "cell_type": "code",
   "execution_count": 104,
   "id": "e8e263bd-6541-4a60-b32e-454b4d1b8b42",
   "metadata": {},
   "outputs": [
    {
     "name": "stdout",
     "output_type": "stream",
     "text": [
      "The Story-Teller\n"
     ]
    }
   ],
   "source": [
    "new_ids = ['27866029']\n",
    "story = still_unfound[65]\n",
    "print(story['title'])\n",
    "total_ratings = 0\n",
    "count = 0\n",
    "for id in new_ids:\n",
    "    for item in BOOKS:\n",
    "        if id == item['book_id']:\n",
    "            try:\n",
    "                rating_av = float(item['average_rating'])\n",
    "                num = int(item['ratings_count'])\n",
    "                total_ratings += rating_av * num\n",
    "                count += num\n",
    "            except (ValueError, TypeError, KeyError):\n",
    "                pass\n",
    "                    \n",
    "if count == 0:\n",
    "    average_rating = 0\n",
    "else:\n",
    "    average_rating = total_ratings / count\n",
    "\n",
    "\n",
    "book_reviews = find_reviews_by_id(new_ids)\n",
    "\n",
    "# Combine into final record\n",
    "book = {\n",
    "    'id': new_ids,\n",
    "    'title': story['title'],\n",
    "    'author': story['author'],\n",
    "    'story': story['text'],\n",
    "    'av_rating': average_rating,\n",
    "    'num_ratings':count,\n",
    "    'reviews': book_reviews\n",
    "}\n",
    "#print(book)\n",
    "data_3.append(book)"
   ]
  },
  {
   "cell_type": "markdown",
   "id": "f7166e85-6657-4cc1-bed1-84d2cd2bbd1b",
   "metadata": {},
   "source": [
    "#### The frogs asking for a king"
   ]
  },
  {
   "cell_type": "code",
   "execution_count": 532,
   "id": "d2679da6-ba84-49e6-8863-095c754f8d70",
   "metadata": {},
   "outputs": [
    {
     "data": {
      "text/plain": [
       "'The Frogs Asking for a King'"
      ]
     },
     "execution_count": 532,
     "metadata": {},
     "output_type": "execute_result"
    }
   ],
   "source": [
    "still_unfound[66]['title']"
   ]
  },
  {
   "cell_type": "code",
   "execution_count": 536,
   "id": "4cc19650-4025-4a3b-a41c-974d8f5488f8",
   "metadata": {},
   "outputs": [
    {
     "name": "stdout",
     "output_type": "stream",
     "text": [
      "[['The Creaking Wheels', '36448111']]\n"
     ]
    }
   ],
   "source": [
    "matches = [s for s in ae if 'king' in s[0].lower()]\n",
    "print(matches)"
   ]
  },
  {
   "cell_type": "markdown",
   "id": "92ea8835-ae50-4908-af59-61c31f70a7dc",
   "metadata": {},
   "source": [
    "#### the two sisters"
   ]
  },
  {
   "cell_type": "code",
   "execution_count": 538,
   "id": "29235e4f-59ef-409f-b790-d1eb73e58c63",
   "metadata": {},
   "outputs": [
    {
     "data": {
      "text/plain": [
       "'The Two Sisters'"
      ]
     },
     "execution_count": 538,
     "metadata": {},
     "output_type": "execute_result"
    }
   ],
   "source": [
    "still_unfound[67]['title']"
   ]
  },
  {
   "cell_type": "markdown",
   "id": "c6a8f7d0-bccf-4bf5-8c68-f77ad7aa2326",
   "metadata": {},
   "source": [
    "#### A Child’s Dream of a Star"
   ]
  },
  {
   "cell_type": "code",
   "execution_count": 540,
   "id": "5a32a09c-a482-44ed-9e92-b03e28c15c18",
   "metadata": {},
   "outputs": [
    {
     "data": {
      "text/plain": [
       "'A Child’s Dream of a Star'"
      ]
     },
     "execution_count": 540,
     "metadata": {},
     "output_type": "execute_result"
    }
   ],
   "source": [
    "still_unfound[68]['title']"
   ]
  },
  {
   "cell_type": "code",
   "execution_count": 543,
   "id": "ce42b6d9-79e0-4700-9a4d-5daa97e733e0",
   "metadata": {},
   "outputs": [
    {
     "name": "stdout",
     "output_type": "stream",
     "text": [
      "[[\"A Child's Dream of a Star\", '10975557'], [\"A Child's Dream of a Star\", '11271813'], ['Great Expectations (Classic Starts Series)', '6856992']]\n"
     ]
    }
   ],
   "source": [
    "matches = [s for s in chls_dic_bks if 'star' in s[0].lower()]\n",
    "print(matches)"
   ]
  },
  {
   "cell_type": "code",
   "execution_count": 105,
   "id": "a36c5bed-12f5-43f5-a6cd-af8c99bd0dfe",
   "metadata": {},
   "outputs": [
    {
     "name": "stdout",
     "output_type": "stream",
     "text": [
      "A Child’s Dream of a Star\n"
     ]
    }
   ],
   "source": [
    "new_ids = ['10975557','11271813']\n",
    "story = still_unfound[68]\n",
    "print(story['title'])\n",
    "total_ratings = 0\n",
    "count = 0\n",
    "for id in new_ids:\n",
    "    for item in BOOKS:\n",
    "        if id == item['book_id']:\n",
    "            try:\n",
    "                rating_av = float(item['average_rating'])\n",
    "                num = int(item['ratings_count'])\n",
    "                total_ratings += rating_av * num\n",
    "                count += num\n",
    "            except (ValueError, TypeError, KeyError):\n",
    "                pass\n",
    "                    \n",
    "if count == 0:\n",
    "    average_rating = 0\n",
    "else:\n",
    "    average_rating = total_ratings / count\n",
    "\n",
    "\n",
    "book_reviews = find_reviews_by_id(new_ids)\n",
    "\n",
    "# Combine into final record\n",
    "book = {\n",
    "    'id': new_ids,\n",
    "    'title': story['title'],\n",
    "    'author': story['author'],\n",
    "    'story': story['text'],\n",
    "    'av_rating': average_rating,\n",
    "    'num_ratings':count,\n",
    "    'reviews': book_reviews\n",
    "}\n",
    "#print(book)\n",
    "data_3.append(book)"
   ]
  },
  {
   "cell_type": "markdown",
   "id": "192f2e60-81d3-4fe3-8d40-1b53faf7ff6c",
   "metadata": {},
   "source": [
    "#### 'How Gilbert Died'"
   ]
  },
  {
   "cell_type": "code",
   "execution_count": 547,
   "id": "d2c20e3d-27f6-4d1d-bc9d-3b9403ba10fa",
   "metadata": {},
   "outputs": [
    {
     "data": {
      "text/plain": [
       "'How Gilbert Died'"
      ]
     },
     "execution_count": 547,
     "metadata": {},
     "output_type": "execute_result"
    }
   ],
   "source": [
    "still_unfound[69]['title']"
   ]
  },
  {
   "cell_type": "markdown",
   "id": "abff5e4d-639d-4ce8-8f4c-4b250ab30cdc",
   "metadata": {},
   "source": [
    "#### How the Camel got his hump"
   ]
  },
  {
   "cell_type": "code",
   "execution_count": 549,
   "id": "f001b842-ec63-4661-89f7-022b71e7ea05",
   "metadata": {},
   "outputs": [
    {
     "data": {
      "text/plain": [
       "'How The Camel Got His Hump'"
      ]
     },
     "execution_count": 549,
     "metadata": {},
     "output_type": "execute_result"
    }
   ],
   "source": [
    "still_unfound[70]['title']"
   ]
  },
  {
   "cell_type": "code",
   "execution_count": 550,
   "id": "598a2f4c-5c7b-49d9-9447-d3df0ed1344a",
   "metadata": {},
   "outputs": [
    {
     "name": "stdout",
     "output_type": "stream",
     "text": [
      "[['How the Camel Got His Hump', '3770446'], ['How The Camel Got His Hump (Just So Story Series)', '2572894'], ['How the Camel Got His Hump', '2572864'], ['How the Camel Got His Hump', '918375']]\n"
     ]
    }
   ],
   "source": [
    "matches = [s for s in rk if 'hump' in s[0].lower()]\n",
    "print(matches)"
   ]
  },
  {
   "cell_type": "code",
   "execution_count": 106,
   "id": "96ea3541-7b96-42aa-be6c-73fca95e57c1",
   "metadata": {},
   "outputs": [
    {
     "name": "stdout",
     "output_type": "stream",
     "text": [
      "918375 How the Camel Got His Hump ['Rudyard Kipling']\n"
     ]
    }
   ],
   "source": [
    "names = []\n",
    "for item in BOOKS:\n",
    "    if item['book_id'] == '918375':\n",
    "        names = []\n",
    "        for aut_id in item['author_ids']:\n",
    "            name = find_name_by_id(aut_id)\n",
    "            if name:\n",
    "                names.append(name)\n",
    "        print(item['book_id'], item['title'], names)"
   ]
  },
  {
   "cell_type": "code",
   "execution_count": 107,
   "id": "c2d74a70-85e7-4b6d-9676-4a17fa9eaf09",
   "metadata": {},
   "outputs": [
    {
     "data": {
      "text/plain": [
       "[{'rating': 2,\n",
       "  'text': \"This was boring. My students didn't understand what was going on and they didn't enjoy the illustrations of this book.\"}]"
      ]
     },
     "execution_count": 107,
     "metadata": {},
     "output_type": "execute_result"
    }
   ],
   "source": [
    "find_reviews_by_id(['918375'])"
   ]
  },
  {
   "cell_type": "code",
   "execution_count": 108,
   "id": "3b8f2447-b628-4bd0-8771-11b278c53504",
   "metadata": {},
   "outputs": [
    {
     "name": "stdout",
     "output_type": "stream",
     "text": [
      "How The Camel Got His Hump\n"
     ]
    }
   ],
   "source": [
    "new_ids = ['3770446','918375']\n",
    "story = still_unfound[70]\n",
    "print(story['title'])\n",
    "total_ratings = 0\n",
    "count = 0\n",
    "for id in new_ids:\n",
    "    for item in BOOKS:\n",
    "        if id == item['book_id']:\n",
    "            try:\n",
    "                rating_av = float(item['average_rating'])\n",
    "                num = int(item['ratings_count'])\n",
    "                total_ratings += rating_av * num\n",
    "                count += num\n",
    "            except (ValueError, TypeError, KeyError):\n",
    "                pass\n",
    "                    \n",
    "if count == 0:\n",
    "    average_rating = 0\n",
    "else:\n",
    "    average_rating = total_ratings / count\n",
    "\n",
    "\n",
    "book_reviews = find_reviews_by_id(new_ids)\n",
    "book_reviews.append({'rating':2, 'text':\"I didn't like this story as much as a child...I thought it was unfair that the camel should be forced to work for Man if he didn't want to. I guess I always had an egalitarian view of the animal world.\"})\n",
    "book_reviews.append({'rating':3, 'text':\"Well, I had to read this (extremely short) short story for an NGO that I had volunteered for. Story is not great, I didn't like the way it is written either. Maybe, kids might like it? Anyway, I liked the poem in the end.\"})\n",
    "\n",
    "# Combine into final record\n",
    "book = {\n",
    "    'id': new_ids,\n",
    "    'title': story['title'],\n",
    "    'author': story['author'],\n",
    "    'story': story['text'],\n",
    "    'av_rating': average_rating,\n",
    "    'num_ratings':count,\n",
    "    'reviews': book_reviews\n",
    "}\n",
    "#print(book)\n",
    "data_3.append(book)"
   ]
  },
  {
   "cell_type": "markdown",
   "id": "a59f21a6-6cf1-4ff7-a822-2f4d7c703d0a",
   "metadata": {},
   "source": [
    "#### 'Wit Inspirations of the “Two-Year-Olds”"
   ]
  },
  {
   "cell_type": "code",
   "execution_count": 561,
   "id": "090e4424-21a6-42ed-aa72-521fbb2f729e",
   "metadata": {},
   "outputs": [
    {
     "data": {
      "text/plain": [
       "'Wit Inspirations of the “Two-Year-Olds”'"
      ]
     },
     "execution_count": 561,
     "metadata": {},
     "output_type": "execute_result"
    }
   ],
   "source": [
    "still_unfound[71]['title']"
   ]
  },
  {
   "cell_type": "code",
   "execution_count": 565,
   "id": "05e8458b-5dfe-45bb-922f-f4d60fd954fb",
   "metadata": {},
   "outputs": [
    {
     "name": "stdout",
     "output_type": "stream",
     "text": [
      "[['The Years Between', '6640159']]\n"
     ]
    }
   ],
   "source": [
    "mt = find_BOOKS_by_author('Mark Twain',BOOKS,AUTHORS)\n",
    "matches = [s for s in rk if 'year' in s[0].lower()]\n",
    "print(matches)"
   ]
  },
  {
   "cell_type": "markdown",
   "id": "1e4f860f-d93d-49b2-a0dc-eed17593fa46",
   "metadata": {},
   "source": [
    "#### Faces inthe street"
   ]
  },
  {
   "cell_type": "code",
   "execution_count": 567,
   "id": "6519c59b-ddc5-4568-ac3e-2b79fdddb104",
   "metadata": {},
   "outputs": [
    {
     "data": {
      "text/plain": [
       "'Faces in the Street'"
      ]
     },
     "execution_count": 567,
     "metadata": {},
     "output_type": "execute_result"
    }
   ],
   "source": [
    "still_unfound[72]['title']"
   ]
  },
  {
   "cell_type": "code",
   "execution_count": 570,
   "id": "9d7243e5-bf88-4070-84e1-734b7b6a2198",
   "metadata": {},
   "outputs": [
    {
     "name": "stdout",
     "output_type": "stream",
     "text": [
      "[]\n"
     ]
    }
   ],
   "source": [
    "matches = [s for s in hl if 'face' in s[0].lower()]\n",
    "print(matches)"
   ]
  },
  {
   "cell_type": "markdown",
   "id": "107030d1-6c4a-48d4-a4c2-710b906b6775",
   "metadata": {},
   "source": [
    "#### The Cobbler Turned Doctor"
   ]
  },
  {
   "cell_type": "code",
   "execution_count": 572,
   "id": "7e51852b-9e3e-46e2-abc2-052afc0630b3",
   "metadata": {},
   "outputs": [
    {
     "data": {
      "text/plain": [
       "'The Cobbler Turned Doctor'"
      ]
     },
     "execution_count": 572,
     "metadata": {},
     "output_type": "execute_result"
    }
   ],
   "source": [
    "still_unfound[73]['title']"
   ]
  },
  {
   "cell_type": "code",
   "execution_count": 575,
   "id": "b0916f39-341f-4b39-a670-7f371d2ce488",
   "metadata": {},
   "outputs": [
    {
     "name": "stdout",
     "output_type": "stream",
     "text": [
      "[]\n"
     ]
    }
   ],
   "source": [
    "matches = [s for s in ae if 'cobbler' in s[0].lower()]\n",
    "print(matches)"
   ]
  },
  {
   "cell_type": "markdown",
   "id": "73c152e8-1f09-4b22-a789-9fc081eecab0",
   "metadata": {},
   "source": [
    "#### Magnetism"
   ]
  },
  {
   "cell_type": "code",
   "execution_count": 110,
   "id": "7f9fff73-34e6-4bfe-8943-fc7f5b339867",
   "metadata": {},
   "outputs": [
    {
     "data": {
      "text/plain": [
       "'Magnetism'"
      ]
     },
     "execution_count": 110,
     "metadata": {},
     "output_type": "execute_result"
    }
   ],
   "source": [
    "still_unfound[74]['title']"
   ]
  },
  {
   "cell_type": "code",
   "execution_count": 111,
   "id": "8a511ae3-ae71-4109-a703-53d24615f050",
   "metadata": {},
   "outputs": [],
   "source": [
    "story = still_unfound[74]\n",
    "book = {\n",
    "    'id': new_ids,\n",
    "    'title': story['title'],\n",
    "    'author': story['author'],\n",
    "    'story': story['text'],\n",
    "    'av_rating': 3.29,\n",
    "    'num_ratings':45,\n",
    "    'reviews': [{'rating':3,'text':\"One who doubts telepathy (magnetism) is one who has never experienced the level of emotion necessary for its transmission or receipt.\"},\n",
    "               {'rating':3,'text':\"3,5\"}]\n",
    "}\n",
    "#print(book)\n",
    "data_3.append(book)"
   ]
  },
  {
   "cell_type": "markdown",
   "id": "2ba63177-6596-47aa-a4b9-4040e224fde2",
   "metadata": {},
   "source": [
    "#### the milkmaide and her pail"
   ]
  },
  {
   "cell_type": "code",
   "execution_count": 581,
   "id": "1a8638d5-85be-4726-ab09-e4a717590dbd",
   "metadata": {},
   "outputs": [
    {
     "data": {
      "text/plain": [
       "'The Milkmaid and Her Pail'"
      ]
     },
     "execution_count": 581,
     "metadata": {},
     "output_type": "execute_result"
    }
   ],
   "source": [
    "still_unfound[75]['title']"
   ]
  },
  {
   "cell_type": "code",
   "execution_count": 583,
   "id": "13d5b5ea-4159-4725-bb02-888740e844d7",
   "metadata": {},
   "outputs": [
    {
     "name": "stdout",
     "output_type": "stream",
     "text": [
      "[]\n"
     ]
    }
   ],
   "source": [
    "matches = [s for s in ae if 'milk' in s[0].lower()]\n",
    "print(matches)"
   ]
  },
  {
   "cell_type": "markdown",
   "id": "514035d7-3ba0-463c-8c07-89442c51321f",
   "metadata": {},
   "source": [
    "#### An Astrologer’s Song"
   ]
  },
  {
   "cell_type": "code",
   "execution_count": 585,
   "id": "85e1b121-3bf7-43f2-83f3-c8157a3ed1c9",
   "metadata": {},
   "outputs": [
    {
     "data": {
      "text/plain": [
       "'An Astrologer’s Song'"
      ]
     },
     "execution_count": 585,
     "metadata": {},
     "output_type": "execute_result"
    }
   ],
   "source": [
    "still_unfound[76]['title']"
   ]
  },
  {
   "cell_type": "code",
   "execution_count": 588,
   "id": "84d89e2e-c417-46f9-bbc4-52dd7a290acc",
   "metadata": {},
   "outputs": [
    {
     "name": "stdout",
     "output_type": "stream",
     "text": [
      "[['A Song of the English (1912)', '6265380']]\n"
     ]
    }
   ],
   "source": [
    "matches = [s for s in rk if 'song' in s[0].lower()]\n",
    "print(matches)"
   ]
  },
  {
   "cell_type": "markdown",
   "id": "81359976-8191-4d3b-b7bc-127a99037fd6",
   "metadata": {},
   "source": [
    "#### The farmer and his sons"
   ]
  },
  {
   "cell_type": "code",
   "execution_count": 590,
   "id": "ac80cab2-9dab-427a-a784-553863e82ebf",
   "metadata": {},
   "outputs": [
    {
     "data": {
      "text/plain": [
       "'The Farmer and His Sons'"
      ]
     },
     "execution_count": 590,
     "metadata": {},
     "output_type": "execute_result"
    }
   ],
   "source": [
    "still_unfound[77]['title']"
   ]
  },
  {
   "cell_type": "code",
   "execution_count": 592,
   "id": "2e13a9c1-8efb-4f09-bc6f-55d6830e5521",
   "metadata": {},
   "outputs": [
    {
     "name": "stdout",
     "output_type": "stream",
     "text": [
      "[['The Farmer And The Snake', '32808732']]\n"
     ]
    }
   ],
   "source": [
    "matches = [s for s in ae if 'farmer' in s[0].lower()]\n",
    "print(matches)"
   ]
  },
  {
   "cell_type": "markdown",
   "id": "3c192776-8846-47ed-8399-c29bdbff7351",
   "metadata": {},
   "source": [
    "#### the shirt collar"
   ]
  },
  {
   "cell_type": "code",
   "execution_count": 594,
   "id": "b773272b-a452-4201-8899-8f309833a122",
   "metadata": {},
   "outputs": [
    {
     "data": {
      "text/plain": [
       "'The Shirt-Collar'"
      ]
     },
     "execution_count": 594,
     "metadata": {},
     "output_type": "execute_result"
    }
   ],
   "source": [
    "still_unfound[78]['title']"
   ]
  },
  {
   "cell_type": "code",
   "execution_count": 596,
   "id": "1afe543d-530e-455a-bac6-196b87967e4b",
   "metadata": {},
   "outputs": [
    {
     "name": "stdout",
     "output_type": "stream",
     "text": [
      "[['The Shirt Collar', '12078265']]\n"
     ]
    }
   ],
   "source": [
    "matches = [s for s in hca if 'shirt' in s[0].lower()]\n",
    "print(matches)"
   ]
  },
  {
   "cell_type": "code",
   "execution_count": 112,
   "id": "6dcf3558-62d8-4780-b090-736fa6b8b82e",
   "metadata": {},
   "outputs": [
    {
     "name": "stdout",
     "output_type": "stream",
     "text": [
      "The Shirt-Collar\n"
     ]
    }
   ],
   "source": [
    "new_ids = ['12078265']\n",
    "story = still_unfound[78]\n",
    "print(story['title'])\n",
    "total_ratings = 0\n",
    "count = 0\n",
    "for id in new_ids:\n",
    "    for item in BOOKS:\n",
    "        if id == item['book_id']:\n",
    "            try:\n",
    "                rating_av = float(item['average_rating'])\n",
    "                num = int(item['ratings_count'])\n",
    "                total_ratings += rating_av * num\n",
    "                count += num\n",
    "            except (ValueError, TypeError, KeyError):\n",
    "                pass\n",
    "                    \n",
    "if count == 0:\n",
    "    average_rating = 0\n",
    "else:\n",
    "    average_rating = total_ratings / count\n",
    "\n",
    "\n",
    "book_reviews = find_reviews_by_id(new_ids)\n",
    "\n",
    "# Combine into final record\n",
    "book = {\n",
    "    'id': new_ids,\n",
    "    'title': story['title'],\n",
    "    'author': story['author'],\n",
    "    'story': story['text'],\n",
    "    'av_rating': average_rating,\n",
    "    'num_ratings':count,\n",
    "    'reviews': book_reviews\n",
    "}\n",
    "#print(book)\n",
    "data_3.append(book)"
   ]
  },
  {
   "cell_type": "markdown",
   "id": "61a2afd9-c979-429a-9ad5-8e9fe5901e8e",
   "metadata": {},
   "source": [
    "#### The Oracle at the Races"
   ]
  },
  {
   "cell_type": "code",
   "execution_count": 601,
   "id": "4db7342e-410d-4c5f-a12c-7643333094a1",
   "metadata": {},
   "outputs": [
    {
     "data": {
      "text/plain": [
       "'The Oracle at the Races'"
      ]
     },
     "execution_count": 601,
     "metadata": {},
     "output_type": "execute_result"
    }
   ],
   "source": [
    "still_unfound[79]['title']"
   ]
  },
  {
   "cell_type": "markdown",
   "id": "b54cdaa9-d0fd-4612-8aed-24cd11497b7f",
   "metadata": {},
   "source": [
    "#### locked Inside"
   ]
  },
  {
   "cell_type": "code",
   "execution_count": 603,
   "id": "e006428c-1542-47e5-9010-9c3630f6e60f",
   "metadata": {},
   "outputs": [
    {
     "data": {
      "text/plain": [
       "'Locked Inside'"
      ]
     },
     "execution_count": 603,
     "metadata": {},
     "output_type": "execute_result"
    }
   ],
   "source": [
    "still_unfound[80]['title']"
   ]
  },
  {
   "cell_type": "markdown",
   "id": "5f6144b9-3020-4344-94d7-5ead52b6083e",
   "metadata": {},
   "source": [
    "#### A  Voice from the Town"
   ]
  },
  {
   "cell_type": "code",
   "execution_count": 605,
   "id": "f8628270-4f25-4b73-9359-acc778d4228c",
   "metadata": {},
   "outputs": [
    {
     "data": {
      "text/plain": [
       "'A Voice from the Town'"
      ]
     },
     "execution_count": 605,
     "metadata": {},
     "output_type": "execute_result"
    }
   ],
   "source": [
    "still_unfound[81]['title']"
   ]
  },
  {
   "cell_type": "markdown",
   "id": "c46a850c-e67e-4759-9529-dc96df9ff47a",
   "metadata": {},
   "source": [
    "#### How The Rhinocerous Got His Skin'"
   ]
  },
  {
   "cell_type": "code",
   "execution_count": 607,
   "id": "a58aae9e-760c-4d11-9723-51a6213a219b",
   "metadata": {},
   "outputs": [
    {
     "data": {
      "text/plain": [
       "'How The Rhinocerous Got His Skin'"
      ]
     },
     "execution_count": 607,
     "metadata": {},
     "output_type": "execute_result"
    }
   ],
   "source": [
    "still_unfound[82]['title']"
   ]
  },
  {
   "cell_type": "code",
   "execution_count": 608,
   "id": "3611355d-876d-45eb-bbc7-e04585f368b7",
   "metadata": {},
   "outputs": [
    {
     "name": "stdout",
     "output_type": "stream",
     "text": [
      "[['How the Rhinoceros Got His Skin', '181491'], ['How The Rhinoceros Got His Skin', '7050817'], ['How the Rhinoceros Got His Skin: The Graphic Novel', '12463323'], ['How The Rhinoceros Got His Skin', '10682618']]\n"
     ]
    }
   ],
   "source": [
    "matches = [s for s in rk if 'skin' in s[0].lower()]\n",
    "print(matches)"
   ]
  },
  {
   "cell_type": "code",
   "execution_count": 113,
   "id": "91851fd6-b877-4bc7-b266-5330a07b7d66",
   "metadata": {},
   "outputs": [
    {
     "name": "stdout",
     "output_type": "stream",
     "text": [
      "10682618 How The Rhinoceros Got His Skin ['Heather Adams', 'Rudyard Kipling']\n"
     ]
    }
   ],
   "source": [
    "names = []\n",
    "for item in BOOKS:\n",
    "    if item['book_id'] == '10682618':\n",
    "        names = []\n",
    "        for aut_id in item['author_ids']:\n",
    "            name = find_name_by_id(aut_id,)\n",
    "            if name:\n",
    "                names.append(name)\n",
    "        print(item['book_id'], item['title'], names)"
   ]
  },
  {
   "cell_type": "markdown",
   "id": "154138a4-d6ea-4263-8a82-e9e894efce0c",
   "metadata": {},
   "source": [
    "#### How Jack Went Out To Seek His Fortune"
   ]
  },
  {
   "cell_type": "code",
   "execution_count": 613,
   "id": "8a1b4e8a-3598-4724-b07e-345c7d445ca6",
   "metadata": {},
   "outputs": [
    {
     "data": {
      "text/plain": [
       "'How Jack Went Out To Seek His Fortune'"
      ]
     },
     "execution_count": 613,
     "metadata": {},
     "output_type": "execute_result"
    }
   ],
   "source": [
    "still_unfound[83]['title']"
   ]
  },
  {
   "cell_type": "code",
   "execution_count": 619,
   "id": "84a6c05f-df86-497a-a0fa-6f46ed2793a2",
   "metadata": {},
   "outputs": [
    {
     "name": "stdout",
     "output_type": "stream",
     "text": [
      "[]\n"
     ]
    }
   ],
   "source": [
    "matches = [s for s in fas if 'jack' in s[0].lower()]\n",
    "print(matches)"
   ]
  },
  {
   "cell_type": "markdown",
   "id": "fd50c250-2ff4-4a83-bc4d-58b3579b2d28",
   "metadata": {},
   "source": [
    "#### The two devines"
   ]
  },
  {
   "cell_type": "code",
   "execution_count": 621,
   "id": "12ca8bf7-df30-4f33-9e81-78b1dbd2732b",
   "metadata": {},
   "outputs": [
    {
     "data": {
      "text/plain": [
       "'The Two Devines'"
      ]
     },
     "execution_count": 621,
     "metadata": {},
     "output_type": "execute_result"
    }
   ],
   "source": [
    "still_unfound[84]['title']"
   ]
  },
  {
   "cell_type": "markdown",
   "id": "6c3bc58d-f9bb-4dcd-aa6c-054cce9040c9",
   "metadata": {},
   "source": [
    "#### The Birds, the Beasts, and the Bat"
   ]
  },
  {
   "cell_type": "code",
   "execution_count": 623,
   "id": "e04637ef-9c69-4e0e-bed5-181dd95e5911",
   "metadata": {},
   "outputs": [
    {
     "data": {
      "text/plain": [
       "'The Birds, the Beasts, and the Bat'"
      ]
     },
     "execution_count": 623,
     "metadata": {},
     "output_type": "execute_result"
    }
   ],
   "source": [
    "still_unfound[85]['title']"
   ]
  },
  {
   "cell_type": "code",
   "execution_count": 624,
   "id": "212dc454-0d6b-49b1-9076-216c8e3a9b7b",
   "metadata": {},
   "outputs": [
    {
     "name": "stdout",
     "output_type": "stream",
     "text": [
      "[]\n"
     ]
    }
   ],
   "source": [
    "matches = [s for s in ae if 'bat' in s[0].lower()]\n",
    "print(matches)"
   ]
  },
  {
   "cell_type": "markdown",
   "id": "fc1cda80-541a-446a-a72d-34132c351d63",
   "metadata": {},
   "source": [
    "#### A vendetta"
   ]
  },
  {
   "cell_type": "code",
   "execution_count": 627,
   "id": "e4a3ea82-5acf-434c-b1c9-de714cc3ff4d",
   "metadata": {},
   "outputs": [
    {
     "data": {
      "text/plain": [
       "'A Vendetta'"
      ]
     },
     "execution_count": 627,
     "metadata": {},
     "output_type": "execute_result"
    }
   ],
   "source": [
    "still_unfound[86]['title']"
   ]
  },
  {
   "cell_type": "code",
   "execution_count": 628,
   "id": "49b7f17b-d7ed-491e-a88e-b2346a344b47",
   "metadata": {},
   "outputs": [],
   "source": [
    "for item in BOOKS:\n",
    "    if item['title'] == 'Une Vendetta':\n",
    "        print(item['book_id'])"
   ]
  },
  {
   "cell_type": "code",
   "execution_count": 115,
   "id": "43f74ee8-e29e-4040-b3fd-eed5520b6b9a",
   "metadata": {},
   "outputs": [
    {
     "name": "stdout",
     "output_type": "stream",
     "text": [
      "[['La Vendetta', '6270962']]\n"
     ]
    }
   ],
   "source": [
    "gdm = find_books_by_author('Guy de Maupassant',)\n",
    "matches = [s for s in gdm if 'vendetta' in s[0].lower()]\n",
    "print(matches)"
   ]
  },
  {
   "cell_type": "code",
   "execution_count": 116,
   "id": "1605636d-c595-4109-beb2-396aa53ff5d6",
   "metadata": {},
   "outputs": [
    {
     "data": {
      "text/plain": [
       "[{'rating': 4,\n",
       "  'text': 'This story takes you down a fairly dark corridor if you stop to think about it. My haiku doesn\\'t do it justice, but I\\'ve arranged my thoughts into one all the same: \\n \"Internalizing \\n Pangs of hunger and remorse, \\n In the name of love.\"'},\n",
       " {'rating': 4, 'text': ''}]"
      ]
     },
     "execution_count": 116,
     "metadata": {},
     "output_type": "execute_result"
    }
   ],
   "source": [
    "find_reviews_by_id(['6270962'],)"
   ]
  },
  {
   "cell_type": "code",
   "execution_count": 117,
   "id": "0b61bd69-7596-4d7b-a216-a40531faa070",
   "metadata": {},
   "outputs": [
    {
     "name": "stdout",
     "output_type": "stream",
     "text": [
      "A Vendetta\n"
     ]
    }
   ],
   "source": [
    "new_ids = ['6270962']\n",
    "story = still_unfound[86]\n",
    "print(story['title'])\n",
    "total_ratings = 0\n",
    "count = 0\n",
    "for id in new_ids:\n",
    "    for item in BOOKS:\n",
    "        if id == item['book_id']:\n",
    "            try:\n",
    "                rating_av = float(item['average_rating'])\n",
    "                num = int(item['ratings_count'])\n",
    "                total_ratings += rating_av * num\n",
    "                count += num\n",
    "            except (ValueError, TypeError, KeyError):\n",
    "                pass\n",
    "                    \n",
    "if count == 0:\n",
    "    average_rating = 0\n",
    "else:\n",
    "    average_rating = total_ratings / count\n",
    "\n",
    "\n",
    "book_reviews = find_reviews_by_id(new_ids,)\n",
    "\n",
    "# Combine into final record\n",
    "book = {\n",
    "    'id': new_ids,\n",
    "    'title': story['title'],\n",
    "    'author': story['author'],\n",
    "    'story': story['text'],\n",
    "    'av_rating': average_rating,\n",
    "    'num_ratings':count,\n",
    "    'reviews': book_reviews\n",
    "}\n",
    "#print(book)\n",
    "data_3.append(book)"
   ]
  },
  {
   "cell_type": "markdown",
   "id": "11caafda-250b-4098-b201-6d3b42262e78",
   "metadata": {},
   "source": [
    "#### The Bogey-Beast"
   ]
  },
  {
   "cell_type": "code",
   "execution_count": 640,
   "id": "950650e1-6ef7-48e4-b41a-e121c58181a5",
   "metadata": {},
   "outputs": [
    {
     "data": {
      "text/plain": [
       "'The Bogey-Beast'"
      ]
     },
     "execution_count": 640,
     "metadata": {},
     "output_type": "execute_result"
    }
   ],
   "source": [
    "still_unfound[87]['title']"
   ]
  },
  {
   "cell_type": "markdown",
   "id": "6f5d69d0-daa3-4e76-8910-1f564f158177",
   "metadata": {},
   "source": [
    "#### Between the Dusk of a Summer Night"
   ]
  },
  {
   "cell_type": "code",
   "execution_count": 647,
   "id": "e01c3e69-ca4e-4506-88d4-43a3d75f01b9",
   "metadata": {},
   "outputs": [
    {
     "data": {
      "text/plain": [
       "{'title': 'Between the Dusk of a Summer Night',\n",
       " 'author': 'William Ernest Henley',\n",
       " 'text': 'Between the dusk of a summer night\\n\\nAnd the dawn of a summer day,\\n\\nWe caught at a mood as it passed in flight,\\n\\nAnd we bade it stoop and stay.\\n\\nAnd what with the dawn of night began\\n\\nWith the dusk of day was done;\\n\\nFor that is the way of woman and man,\\n\\nWhen a hazard has made them one.\\n\\nArc upon arc, from shade to shine,\\n\\nThe World went thundering free;\\n\\nAnd what was his errand but hers and mine —\\n\\nThe lords of him, I and she?\\n\\nO, it’s die we must, but it’s live we can,\\n\\nAnd the marvel of earth and sun\\n\\nIs all for the joy of woman and man\\n\\nAnd the longing that makes them one.',\n",
       " 'word_count': 124,\n",
       " 'url': 'https://www.libraryofshortstories.com/onlinereader/between-the-dusk-of-a-summer-night'}"
      ]
     },
     "execution_count": 647,
     "metadata": {},
     "output_type": "execute_result"
    }
   ],
   "source": [
    "still_unfound[88]#['title']"
   ]
  },
  {
   "cell_type": "code",
   "execution_count": 654,
   "id": "deb1bfcd-3d78-439e-aec8-eb790aceab9b",
   "metadata": {},
   "outputs": [
    {
     "name": "stdout",
     "output_type": "stream",
     "text": [
      "[]\n"
     ]
    }
   ],
   "source": [
    "weh = find_BOOKS_by_author('William Ernest Henley', BOOKS, AUTHORS)\n",
    "matches = [s for s in weh if 'dusk' in s[0].lower()]\n",
    "print(matches)"
   ]
  },
  {
   "cell_type": "markdown",
   "id": "42c7aad5-2c71-4eac-a8d2-e14cfac6a1bd",
   "metadata": {},
   "source": [
    "#### The bee and jupiter"
   ]
  },
  {
   "cell_type": "code",
   "execution_count": 656,
   "id": "ae37a4f7-1f6d-48c8-9000-1aae8b960d1a",
   "metadata": {},
   "outputs": [
    {
     "data": {
      "text/plain": [
       "'The Bee and Jupiter'"
      ]
     },
     "execution_count": 656,
     "metadata": {},
     "output_type": "execute_result"
    }
   ],
   "source": [
    "still_unfound[89]['title']"
   ]
  },
  {
   "cell_type": "code",
   "execution_count": 657,
   "id": "5721238e-cb1f-48e3-9302-e9d9613e064e",
   "metadata": {},
   "outputs": [
    {
     "name": "stdout",
     "output_type": "stream",
     "text": [
      "[]\n"
     ]
    }
   ],
   "source": [
    "matches = [s for s in ae if 'bee' in s[0].lower()]\n",
    "print(matches)"
   ]
  },
  {
   "cell_type": "markdown",
   "id": "09f2b711-e006-4457-b843-7163e38a755e",
   "metadata": {},
   "source": [
    "#### Tje clockmaker"
   ]
  },
  {
   "cell_type": "code",
   "execution_count": 660,
   "id": "7a5f0e01-36a5-495b-a1bc-0842b3714914",
   "metadata": {},
   "outputs": [
    {
     "data": {
      "text/plain": [
       "'The Clockmaker'"
      ]
     },
     "execution_count": 660,
     "metadata": {},
     "output_type": "execute_result"
    }
   ],
   "source": [
    "still_unfound[90]['title']"
   ]
  },
  {
   "cell_type": "code",
   "execution_count": 659,
   "id": "a8dd817c-84f2-4f6c-8311-0f4b44bc69e2",
   "metadata": {},
   "outputs": [
    {
     "name": "stdout",
     "output_type": "stream",
     "text": [
      "[]\n"
     ]
    }
   ],
   "source": [
    "rls = find_BOOKS_by_author('Robert Louis Stevenson', BOOKS, AUTHORS)\n",
    "matches = [s for s in rls if 'clock' in s[0].lower()]\n",
    "print(matches)"
   ]
  },
  {
   "cell_type": "markdown",
   "id": "feddf07b-7df9-421e-950b-748b960e0b3b",
   "metadata": {},
   "source": [
    "#### Those names"
   ]
  },
  {
   "cell_type": "code",
   "execution_count": 662,
   "id": "8b4750ea-47a9-440c-aa36-a49e50262491",
   "metadata": {},
   "outputs": [
    {
     "data": {
      "text/plain": [
       "'Those Names'"
      ]
     },
     "execution_count": 662,
     "metadata": {},
     "output_type": "execute_result"
    }
   ],
   "source": [
    "still_unfound[91]['title']"
   ]
  },
  {
   "cell_type": "markdown",
   "id": "31f5c03b-5877-495e-9ac9-afbe66029ed4",
   "metadata": {},
   "source": [
    "#### the winds message"
   ]
  },
  {
   "cell_type": "code",
   "execution_count": 664,
   "id": "cea72307-146f-4e6e-9aaf-537656511a77",
   "metadata": {},
   "outputs": [
    {
     "data": {
      "text/plain": [
       "'The Wind’s Message'"
      ]
     },
     "execution_count": 664,
     "metadata": {},
     "output_type": "execute_result"
    }
   ],
   "source": [
    "still_unfound[92]['title']"
   ]
  },
  {
   "cell_type": "markdown",
   "id": "c4d094fd-ad84-4198-a1da-b6824bd3268f",
   "metadata": {},
   "source": [
    "#### ambition and art"
   ]
  },
  {
   "cell_type": "code",
   "execution_count": 666,
   "id": "e9003978-7f5e-4997-bfd0-c6b64aa55f31",
   "metadata": {},
   "outputs": [
    {
     "data": {
      "text/plain": [
       "'Ambition and Art'"
      ]
     },
     "execution_count": 666,
     "metadata": {},
     "output_type": "execute_result"
    }
   ],
   "source": [
    "still_unfound[93]['title']"
   ]
  },
  {
   "cell_type": "markdown",
   "id": "4ba83ec8-1d27-413c-be43-5a5ffbbe1841",
   "metadata": {},
   "source": [
    "#### A mother of monsters"
   ]
  },
  {
   "cell_type": "code",
   "execution_count": 668,
   "id": "3400f19b-65e0-48df-a72b-04b2f4e49a8f",
   "metadata": {},
   "outputs": [
    {
     "data": {
      "text/plain": [
       "'A Mother of Monsters'"
      ]
     },
     "execution_count": 668,
     "metadata": {},
     "output_type": "execute_result"
    }
   ],
   "source": [
    "still_unfound[94]['title']"
   ]
  },
  {
   "cell_type": "code",
   "execution_count": 669,
   "id": "259e3a7a-fbfa-4c8f-bb5d-6b3345563919",
   "metadata": {},
   "outputs": [
    {
     "name": "stdout",
     "output_type": "stream",
     "text": [
      "[['A Mother of Monsters:', '22528441']]\n"
     ]
    }
   ],
   "source": [
    "matches = [s for s in gdm if 'mother' in s[0].lower()]\n",
    "print(matches)"
   ]
  },
  {
   "cell_type": "code",
   "execution_count": 118,
   "id": "8dff7c8f-e1a6-42c7-b34d-da0d9a41f360",
   "metadata": {},
   "outputs": [
    {
     "name": "stdout",
     "output_type": "stream",
     "text": [
      "A Mother of Monsters\n"
     ]
    }
   ],
   "source": [
    "new_ids = ['22528441']\n",
    "story = still_unfound[94]\n",
    "print(story['title'])\n",
    "total_ratings = 0\n",
    "count = 0\n",
    "for id in new_ids:\n",
    "    for item in BOOKS:\n",
    "        if id == item['book_id']:\n",
    "            try:\n",
    "                rating_av = float(item['average_rating'])\n",
    "                num = int(item['ratings_count'])\n",
    "                total_ratings += rating_av * num\n",
    "                count += num\n",
    "            except (ValueError, TypeError, KeyError):\n",
    "                pass\n",
    "                    \n",
    "if count == 0:\n",
    "    average_rating = 0\n",
    "else:\n",
    "    average_rating = total_ratings / count\n",
    "\n",
    "\n",
    "book_reviews = find_reviews_by_id(new_ids,)\n",
    "\n",
    "# Combine into final record\n",
    "book = {\n",
    "    'id': new_ids,\n",
    "    'title': story['title'],\n",
    "    'author': story['author'],\n",
    "    'story': story['text'],\n",
    "    'av_rating': average_rating,\n",
    "    'num_ratings':count,\n",
    "    'reviews': book_reviews\n",
    "}\n",
    "#print(book)\n",
    "data_3.append(book)"
   ]
  },
  {
   "cell_type": "markdown",
   "id": "b93e0c8d-26e3-4676-8031-76749a396462",
   "metadata": {},
   "source": [
    "#### Life is bitter "
   ]
  },
  {
   "cell_type": "code",
   "execution_count": 673,
   "id": "42f28107-33a2-465f-8ca4-ff0c1e602d77",
   "metadata": {},
   "outputs": [
    {
     "data": {
      "text/plain": [
       "'Life is Bitter'"
      ]
     },
     "execution_count": 673,
     "metadata": {},
     "output_type": "execute_result"
    }
   ],
   "source": [
    "still_unfound[95]['title']"
   ]
  },
  {
   "cell_type": "code",
   "execution_count": 676,
   "id": "b2f60763-8e43-413a-8997-2e28dde23493",
   "metadata": {},
   "outputs": [
    {
     "name": "stdout",
     "output_type": "stream",
     "text": [
      "[]\n"
     ]
    }
   ],
   "source": [
    "matches = [s for s in weh if 'life' in s[0].lower()]\n",
    "print(matches)"
   ]
  },
  {
   "cell_type": "markdown",
   "id": "1e71a5df-0266-4e9e-8342-679d5ed7a19f",
   "metadata": {},
   "source": [
    "#### justice"
   ]
  },
  {
   "cell_type": "code",
   "execution_count": 678,
   "id": "8a1ab03c-ca3f-4c1a-b900-a0718da87899",
   "metadata": {},
   "outputs": [
    {
     "data": {
      "text/plain": [
       "'Justice'"
      ]
     },
     "execution_count": 678,
     "metadata": {},
     "output_type": "execute_result"
    }
   ],
   "source": [
    "still_unfound[96]['title']"
   ]
  },
  {
   "cell_type": "code",
   "execution_count": 681,
   "id": "83488e75-9602-4c8d-9bf6-9009f305db40",
   "metadata": {},
   "outputs": [
    {
     "name": "stdout",
     "output_type": "stream",
     "text": [
      "[]\n"
     ]
    }
   ],
   "source": [
    "matches = [s for s in rk if 'justice' in s[0].lower()]\n",
    "print(matches)"
   ]
  },
  {
   "cell_type": "markdown",
   "id": "54df655b-3d00-46ed-ba38-c917d367a591",
   "metadata": {},
   "source": [
    "#### the history of the necronomicon"
   ]
  },
  {
   "cell_type": "code",
   "execution_count": 683,
   "id": "5ecff6b2-2a2f-4363-840e-959199cd7028",
   "metadata": {},
   "outputs": [
    {
     "data": {
      "text/plain": [
       "'The History of the Necronomicon'"
      ]
     },
     "execution_count": 683,
     "metadata": {},
     "output_type": "execute_result"
    }
   ],
   "source": [
    "still_unfound[97]['title']"
   ]
  },
  {
   "cell_type": "code",
   "execution_count": 119,
   "id": "81f010b2-86b9-4257-aaa6-ff77978a1e0f",
   "metadata": {},
   "outputs": [
    {
     "name": "stdout",
     "output_type": "stream",
     "text": [
      "324636\n"
     ]
    }
   ],
   "source": [
    "for item in BOOKS:\n",
    "    if item['title'] == 'History of the Necronomicon':\n",
    "        print(item['book_id'])"
   ]
  },
  {
   "cell_type": "code",
   "execution_count": 120,
   "id": "50c9a731-92eb-43e3-bb36-68583ba8d385",
   "metadata": {},
   "outputs": [
    {
     "name": "stdout",
     "output_type": "stream",
     "text": [
      "The History of the Necronomicon\n"
     ]
    }
   ],
   "source": [
    "new_ids = ['324636']\n",
    "story = still_unfound[97]\n",
    "print(story['title'])\n",
    "total_ratings = 0\n",
    "count = 0\n",
    "for id in new_ids:\n",
    "    for item in BOOKS:\n",
    "        if id == item['book_id']:\n",
    "            try:\n",
    "                rating_av = float(item['average_rating'])\n",
    "                num = int(item['ratings_count'])\n",
    "                total_ratings += rating_av * num\n",
    "                count += num\n",
    "            except (ValueError, TypeError, KeyError):\n",
    "                pass\n",
    "                    \n",
    "if count == 0:\n",
    "    average_rating = 0\n",
    "else:\n",
    "    average_rating = total_ratings / count\n",
    "\n",
    "book_reviews = find_reviews_by_id(new_ids,)\n",
    "\n",
    "# Combine into final record\n",
    "book = {\n",
    "    'id': new_ids,\n",
    "    'title': story['title'],\n",
    "    'author': story['author'],\n",
    "    'story': story['text'],\n",
    "    'av_rating': average_rating,\n",
    "    'num_ratings':count,\n",
    "    'reviews': book_reviews\n",
    "}\n",
    "#print(book)\n",
    "data_3.append(book)"
   ]
  },
  {
   "cell_type": "markdown",
   "id": "40719866-6795-4559-a48d-2ff279785017",
   "metadata": {},
   "source": [
    "#### The orator"
   ]
  },
  {
   "cell_type": "code",
   "execution_count": 690,
   "id": "7d6b26f4-2b6d-4f5a-8211-07ea86dcefec",
   "metadata": {},
   "outputs": [
    {
     "data": {
      "text/plain": [
       "'The Orator'"
      ]
     },
     "execution_count": 690,
     "metadata": {},
     "output_type": "execute_result"
    }
   ],
   "source": [
    "still_unfound[98]['title']"
   ]
  },
  {
   "cell_type": "code",
   "execution_count": 692,
   "id": "e20e6e8b-78ca-4506-a523-080a18a316e0",
   "metadata": {},
   "outputs": [
    {
     "name": "stdout",
     "output_type": "stream",
     "text": [
      "15806323 ['Edgar Wallace']\n"
     ]
    }
   ],
   "source": [
    "for item in BOOKS:\n",
    "    if item['title'] == 'The Orator':\n",
    "        names = []\n",
    "        for aut_id in item['author_ids']:\n",
    "            name = find_name_by_id(aut_id)\n",
    "            if name:\n",
    "                names.append(name)\n",
    "        print(item['book_id'], names)"
   ]
  },
  {
   "cell_type": "code",
   "execution_count": 121,
   "id": "0b254186-211a-4caa-8002-d456003b8440",
   "metadata": {},
   "outputs": [
    {
     "name": "stdout",
     "output_type": "stream",
     "text": [
      "[]\n"
     ]
    }
   ],
   "source": [
    "ac = find_books_by_author('Anton Chekhov',)\n",
    "matches = [s for s in ac if 'orator' in s[0].lower()]\n",
    "print(matches)"
   ]
  },
  {
   "cell_type": "markdown",
   "id": "97420627-1793-492d-be3e-3109a960afe5",
   "metadata": {},
   "source": [
    "#### The Past Was Goodly Once"
   ]
  },
  {
   "cell_type": "code",
   "execution_count": 699,
   "id": "40ea439c-fcbd-4098-b34e-8b00afa33801",
   "metadata": {},
   "outputs": [
    {
     "data": {
      "text/plain": [
       "'The Past Was Goodly Once'"
      ]
     },
     "execution_count": 699,
     "metadata": {},
     "output_type": "execute_result"
    }
   ],
   "source": [
    "still_unfound[99]['title']"
   ]
  },
  {
   "cell_type": "code",
   "execution_count": 703,
   "id": "6d942026-79ef-40cf-bfaf-ac3f2b07478e",
   "metadata": {},
   "outputs": [
    {
     "name": "stdout",
     "output_type": "stream",
     "text": [
      "[]\n"
     ]
    }
   ],
   "source": [
    "matches = [s for s in weh if 'once' in s[0].lower()]\n",
    "print(matches)"
   ]
  },
  {
   "cell_type": "markdown",
   "id": "3f069ae7-019e-4e10-9329-88061875897c",
   "metadata": {},
   "source": [
    "#### The Wee Bannock"
   ]
  },
  {
   "cell_type": "code",
   "execution_count": 705,
   "id": "065ea1fa-e0b9-42a7-a868-e8ff90fa077e",
   "metadata": {},
   "outputs": [
    {
     "data": {
      "text/plain": [
       "'The Wee Bannock'"
      ]
     },
     "execution_count": 705,
     "metadata": {},
     "output_type": "execute_result"
    }
   ],
   "source": [
    "still_unfound[100]['title']"
   ]
  },
  {
   "cell_type": "code",
   "execution_count": 706,
   "id": "e55565f2-6743-42c7-98e3-9bb6247067c8",
   "metadata": {},
   "outputs": [],
   "source": [
    "with open(\"all_data_together_data3_100.jsonl\", \"w\", encoding=\"utf-8\") as f:\n",
    "        for book in data_3:\n",
    "            f.write(json.dumps(book, ensure_ascii=False) + \"\\n\")"
   ]
  },
  {
   "cell_type": "markdown",
   "id": "674ca987-b87f-4da7-a3fa-c56f6779e7d5",
   "metadata": {},
   "source": [
    "#### A Bush Christening"
   ]
  },
  {
   "cell_type": "code",
   "execution_count": 708,
   "id": "ef9bab90-186e-4d3e-a202-3aaea9b84b11",
   "metadata": {},
   "outputs": [
    {
     "data": {
      "text/plain": [
       "'A Bush Christening'"
      ]
     },
     "execution_count": 708,
     "metadata": {},
     "output_type": "execute_result"
    }
   ],
   "source": [
    "still_unfound[101]['title']"
   ]
  },
  {
   "cell_type": "markdown",
   "id": "7fd54144-24f2-49ef-908f-5db6ecf86184",
   "metadata": {},
   "source": [
    "#### The pendulum"
   ]
  },
  {
   "cell_type": "code",
   "execution_count": 710,
   "id": "fb2476b4-d336-4c88-8b42-d404e4cc2b58",
   "metadata": {},
   "outputs": [
    {
     "data": {
      "text/plain": [
       "'The Pendulum'"
      ]
     },
     "execution_count": 710,
     "metadata": {},
     "output_type": "execute_result"
    }
   ],
   "source": [
    "still_unfound[102]['title']"
   ]
  },
  {
   "cell_type": "code",
   "execution_count": 122,
   "id": "b2f84cce-6173-46da-94cb-06a74c5c4e46",
   "metadata": {},
   "outputs": [
    {
     "name": "stdout",
     "output_type": "stream",
     "text": [
      "11543875 ['Anne Elizabeth']\n"
     ]
    }
   ],
   "source": [
    "for item in BOOKS:\n",
    "    if item['title'] == 'The Pendulum':\n",
    "        names = []\n",
    "        for aut_id in item['author_ids']:\n",
    "            name = find_name_by_id(aut_id)\n",
    "            if name:\n",
    "                names.append(name)\n",
    "        print(item['book_id'], names)"
   ]
  },
  {
   "cell_type": "code",
   "execution_count": 123,
   "id": "25c89ac3-c5bd-4184-805a-2f3aa45271a6",
   "metadata": {},
   "outputs": [
    {
     "name": "stdout",
     "output_type": "stream",
     "text": [
      "[['The Penguin Book of Horror Stories', '1161149'], ['The Penguin Book of Ghost Stories', '697429'], ['Dark Forces: New Stories of Suspense and Supernatural Horror', '973196'], ['Pendulum', '15711977']]\n"
     ]
    }
   ],
   "source": [
    "rb =find_books_by_author('Ray Bradbury',)\n",
    "matches = [s for s in rb if 'pen' in s[0].lower()]\n",
    "print(matches) "
   ]
  },
  {
   "cell_type": "code",
   "execution_count": 124,
   "id": "2328943f-9bce-4448-8d8c-9e5fe7841b18",
   "metadata": {},
   "outputs": [
    {
     "name": "stdout",
     "output_type": "stream",
     "text": [
      "The Pendulum\n"
     ]
    }
   ],
   "source": [
    "new_ids = ['15711977']\n",
    "story = still_unfound[102]\n",
    "print(story['title'])\n",
    "total_ratings = 0\n",
    "count = 0\n",
    "for id in new_ids:\n",
    "    for item in BOOKS:\n",
    "        if id == item['book_id']:\n",
    "            try:\n",
    "                rating_av = float(item['average_rating'])\n",
    "                num = int(item['ratings_count'])\n",
    "                total_ratings += rating_av * num\n",
    "                count += num\n",
    "            except (ValueError, TypeError, KeyError):\n",
    "                pass\n",
    "                    \n",
    "if count == 0:\n",
    "    average_rating = 0\n",
    "else:\n",
    "    average_rating = total_ratings / count\n",
    "\n",
    "\n",
    "book_reviews = find_reviews_by_id(new_ids,)\n",
    "\n",
    "# Combine into final record\n",
    "book = {\n",
    "    'id': new_ids,\n",
    "    'title': story['title'],\n",
    "    'author': story['author'],\n",
    "    'story': story['text'],\n",
    "    'av_rating': average_rating,\n",
    "    'num_ratings':count,\n",
    "    'reviews': book_reviews\n",
    "}\n",
    "#print(book)\n",
    "data_3.append(book)"
   ]
  },
  {
   "cell_type": "markdown",
   "id": "e3df1be3-c1e3-4301-8d86-88246f4e0637",
   "metadata": {},
   "source": [
    "#### The eagle the cat and the wild sow"
   ]
  },
  {
   "cell_type": "code",
   "execution_count": 717,
   "id": "16626497-a2de-44aa-8d60-c67ff6c8d673",
   "metadata": {},
   "outputs": [
    {
     "data": {
      "text/plain": [
       "'The Eagle, the Cat, and the Wild Sow'"
      ]
     },
     "execution_count": 717,
     "metadata": {},
     "output_type": "execute_result"
    }
   ],
   "source": [
    "still_unfound[103]['title']"
   ]
  },
  {
   "cell_type": "code",
   "execution_count": 718,
   "id": "07a3ec6a-8a45-4933-bdf0-114648a84928",
   "metadata": {},
   "outputs": [
    {
     "name": "stdout",
     "output_type": "stream",
     "text": [
      "[['The Tortoise And The Eagle', '36465817'], ['The Fighting Cocks And The Eagle', '32808763'], ['The Eagle And The Fox', '36434944']]\n"
     ]
    }
   ],
   "source": [
    "matches = [s for s in ae if 'eagle' in s[0].lower()]\n",
    "print(matches) "
   ]
  },
  {
   "cell_type": "markdown",
   "id": "6c6a79a1-7285-497b-b56f-ffa3d9eff179",
   "metadata": {},
   "source": [
    "#### A dream lies dead"
   ]
  },
  {
   "cell_type": "code",
   "execution_count": 719,
   "id": "f45b834e-7edf-4a47-9fe0-beac26d70ac8",
   "metadata": {},
   "outputs": [
    {
     "data": {
      "text/plain": [
       "{'title': 'A Dream Lies Dead',\n",
       " 'author': 'Dorothy Parker',\n",
       " 'text': 'A dream lies dead here. May you softly go\\n\\nBefore this place, and turn away your eyes,\\n\\nNor seek to know the look of that which dies\\n\\nImportuning Life for life. Walk not in woe,\\n\\nBut, for a little, let your step be slow.\\n\\nAnd, of your mercy, be not sweetly wise\\n\\nWith words of hope and Spring and tenderer skies.\\n\\nA dream lies dead; and this all mourners know:\\n\\nWhenever one drifted petal leaves the tree-\\n\\nThough white of bloom as it had been before\\n\\nAnd proudly waitful of fecundity-\\n\\nOne little loveliness can be no more;\\n\\nAnd so must Beauty bow her imperfect head\\n\\nBecause a dream has joined the wistful dead!',\n",
       " 'word_count': 114,\n",
       " 'url': 'https://www.libraryofshortstories.com/onlinereader/a-dream-lies-dead'}"
      ]
     },
     "execution_count": 719,
     "metadata": {},
     "output_type": "execute_result"
    }
   ],
   "source": [
    "still_unfound[104]#['title']"
   ]
  },
  {
   "cell_type": "code",
   "execution_count": 126,
   "id": "05e5b99b-e75a-49d4-b125-7782279efac7",
   "metadata": {},
   "outputs": [
    {
     "name": "stdout",
     "output_type": "stream",
     "text": [
      "[['Here Lies: The Collected Stories of Dorothy Parker', '98856']]\n"
     ]
    }
   ],
   "source": [
    "dp = find_books_by_author('Dorothy Parker',)\n",
    "matches = [s for s in dp if 'lies' in s[0].lower()]\n",
    "print(matches) "
   ]
  },
  {
   "cell_type": "markdown",
   "id": "399c0f42-a26b-4e7b-acc3-3637d919699f",
   "metadata": {},
   "source": [
    "#### The Man Who Was Away"
   ]
  },
  {
   "cell_type": "code",
   "execution_count": 724,
   "id": "e327b897-3892-4b46-95ab-363167b4e3c5",
   "metadata": {},
   "outputs": [
    {
     "data": {
      "text/plain": [
       "'The Man Who Was Away'"
      ]
     },
     "execution_count": 724,
     "metadata": {},
     "output_type": "execute_result"
    }
   ],
   "source": [
    "still_unfound[105]['title']"
   ]
  },
  {
   "cell_type": "markdown",
   "id": "83db970f-a6fd-48d8-9903-fcd2a5c7215c",
   "metadata": {},
   "source": [
    "#### The Detective Detector"
   ]
  },
  {
   "cell_type": "code",
   "execution_count": 726,
   "id": "a1f15b1f-0052-42a3-8ec9-8405cbe66006",
   "metadata": {},
   "outputs": [
    {
     "data": {
      "text/plain": [
       "'The Detective Detector'"
      ]
     },
     "execution_count": 726,
     "metadata": {},
     "output_type": "execute_result"
    }
   ],
   "source": [
    "still_unfound[106]['title']"
   ]
  },
  {
   "cell_type": "code",
   "execution_count": 730,
   "id": "4c9d1e6b-e0cb-47de-a08a-ef5d3d68c4fd",
   "metadata": {},
   "outputs": [
    {
     "name": "stdout",
     "output_type": "stream",
     "text": [
      "[['Detectives y ladrones', '30770027']]\n"
     ]
    }
   ],
   "source": [
    "oh = find_BOOKS_by_author('O. Henry',BOOKS, AUTHORS)\n",
    "matches = [s for s in oh if 'det' in s[0].lower()]\n",
    "print(matches) "
   ]
  },
  {
   "cell_type": "markdown",
   "id": "112fee7f-9ca5-4718-9b6c-46312352d306",
   "metadata": {},
   "source": [
    "#### Hunting the deceitful turkey"
   ]
  },
  {
   "cell_type": "code",
   "execution_count": 732,
   "id": "ac484f50-6f99-4c34-b626-587693751c64",
   "metadata": {},
   "outputs": [
    {
     "data": {
      "text/plain": [
       "'Hunting the Deceitful Turkey'"
      ]
     },
     "execution_count": 732,
     "metadata": {},
     "output_type": "execute_result"
    }
   ],
   "source": [
    "still_unfound[107]['title']"
   ]
  },
  {
   "cell_type": "code",
   "execution_count": 735,
   "id": "12326b83-1a16-4bcf-ac6f-61efadb8292c",
   "metadata": {},
   "outputs": [
    {
     "name": "stdout",
     "output_type": "stream",
     "text": [
      "[]\n"
     ]
    }
   ],
   "source": [
    "matches = [s for s in mt if 'turkey' in s[0].lower()]\n",
    "print(matches) "
   ]
  },
  {
   "cell_type": "markdown",
   "id": "7824b50f-9e8e-47c9-95e9-19f32f3398ed",
   "metadata": {},
   "source": [
    "#### A death bed"
   ]
  },
  {
   "cell_type": "code",
   "execution_count": 737,
   "id": "2269d3a2-425c-4ea5-84b0-75593c0968fe",
   "metadata": {},
   "outputs": [
    {
     "data": {
      "text/plain": [
       "'A Death Bed'"
      ]
     },
     "execution_count": 737,
     "metadata": {},
     "output_type": "execute_result"
    }
   ],
   "source": [
    "still_unfound[108]['title']"
   ]
  },
  {
   "cell_type": "code",
   "execution_count": 739,
   "id": "2c744fb0-0cab-4aae-91e1-74f6d7c635ef",
   "metadata": {},
   "outputs": [
    {
     "name": "stdout",
     "output_type": "stream",
     "text": [
      "[['The Butterfly That Stamped (Kipling, Rudyard, Just So Stories (Peter Bedrick Books).)', '490113']]\n"
     ]
    }
   ],
   "source": [
    "matches = [s for s in rk if 'bed' in s[0].lower()]\n",
    "print(matches) "
   ]
  },
  {
   "cell_type": "markdown",
   "id": "01687b95-3f55-43e9-a260-a4f4fd33ffe4",
   "metadata": {},
   "source": [
    "#### The Bear and the Travellers"
   ]
  },
  {
   "cell_type": "code",
   "execution_count": 741,
   "id": "8910d88c-e130-46d4-a029-9fe71f90be83",
   "metadata": {},
   "outputs": [
    {
     "data": {
      "text/plain": [
       "'The Bear and the Travellers'"
      ]
     },
     "execution_count": 741,
     "metadata": {},
     "output_type": "execute_result"
    }
   ],
   "source": [
    "still_unfound[109]['title']"
   ]
  },
  {
   "cell_type": "code",
   "execution_count": 742,
   "id": "0ba84e43-a917-4207-a1aa-913e8d890103",
   "metadata": {},
   "outputs": [
    {
     "name": "stdout",
     "output_type": "stream",
     "text": [
      "[['The Bear And The Fox', '36437784']]\n"
     ]
    }
   ],
   "source": [
    "matches = [s for s in ae if 'bear' in s[0].lower()]\n",
    "print(matches) "
   ]
  },
  {
   "cell_type": "markdown",
   "id": "7da7661b-d9bd-496c-ac6a-615b1bff0943",
   "metadata": {},
   "source": [
    "#### The Bat, the Bramble, and the Seagull"
   ]
  },
  {
   "cell_type": "code",
   "execution_count": 744,
   "id": "80d9d107-72de-42c1-bda4-2ff01f7b5736",
   "metadata": {},
   "outputs": [
    {
     "data": {
      "text/plain": [
       "'The Bat, the Bramble, and the Seagull'"
      ]
     },
     "execution_count": 744,
     "metadata": {},
     "output_type": "execute_result"
    }
   ],
   "source": [
    "still_unfound[110]['title']"
   ]
  },
  {
   "cell_type": "code",
   "execution_count": 745,
   "id": "f442177d-8817-4583-8600-9e865095bb18",
   "metadata": {},
   "outputs": [
    {
     "name": "stdout",
     "output_type": "stream",
     "text": [
      "[]\n"
     ]
    }
   ],
   "source": [
    "matches = [s for s in ae if 'bat' in s[0].lower()]\n",
    "print(matches) "
   ]
  },
  {
   "cell_type": "markdown",
   "id": "6ec0e897-512b-4172-8d67-7ee5eab17a2e",
   "metadata": {},
   "source": [
    "#### an incident"
   ]
  },
  {
   "cell_type": "code",
   "execution_count": 748,
   "id": "e473e0d3-f62e-4961-b67e-302ffae91f0e",
   "metadata": {},
   "outputs": [
    {
     "data": {
      "text/plain": [
       "'An Incident'"
      ]
     },
     "execution_count": 748,
     "metadata": {},
     "output_type": "execute_result"
    }
   ],
   "source": [
    "still_unfound[111]['title']"
   ]
  },
  {
   "cell_type": "code",
   "execution_count": 750,
   "id": "6c4d97b1-3898-4da6-9607-b31a0059adfc",
   "metadata": {},
   "outputs": [
    {
     "name": "stdout",
     "output_type": "stream",
     "text": [
      "[]\n"
     ]
    }
   ],
   "source": [
    "matches = [s for s in ac if 'incident' in s[0].lower()]\n",
    "print(matches) "
   ]
  },
  {
   "cell_type": "markdown",
   "id": "0ff40dd0-fbf4-4fcd-a459-79789d067c4b",
   "metadata": {},
   "source": [
    "#### Mesopotamia"
   ]
  },
  {
   "cell_type": "code",
   "execution_count": 753,
   "id": "c9a6da1e-84a5-4d6b-9dd6-a6d76ec150c2",
   "metadata": {},
   "outputs": [
    {
     "data": {
      "text/plain": [
       "'Mesopotamia'"
      ]
     },
     "execution_count": 753,
     "metadata": {},
     "output_type": "execute_result"
    }
   ],
   "source": [
    "still_unfound[112]['title']"
   ]
  },
  {
   "cell_type": "code",
   "execution_count": 755,
   "id": "dde2b92c-464e-4258-9bc0-18eeea429dd7",
   "metadata": {},
   "outputs": [
    {
     "name": "stdout",
     "output_type": "stream",
     "text": [
      "[]\n"
     ]
    }
   ],
   "source": [
    "matches = [s for s in rk if 'meso' in s[0].lower()]\n",
    "print(matches) "
   ]
  },
  {
   "cell_type": "markdown",
   "id": "2f4b44fa-4eec-4067-8afd-fbadb7a3d46d",
   "metadata": {},
   "source": [
    "#### the drover's sweetheart"
   ]
  },
  {
   "cell_type": "code",
   "execution_count": 757,
   "id": "e6c0adfc-a9d5-475d-ac6a-7e9b266b889c",
   "metadata": {},
   "outputs": [
    {
     "data": {
      "text/plain": [
       "'The Drover’s Sweetheart'"
      ]
     },
     "execution_count": 757,
     "metadata": {},
     "output_type": "execute_result"
    }
   ],
   "source": [
    "still_unfound[113]['title']"
   ]
  },
  {
   "cell_type": "code",
   "execution_count": 760,
   "id": "5f11c9e9-58b7-4f08-829a-5e7e81a5a0e1",
   "metadata": {},
   "outputs": [
    {
     "name": "stdout",
     "output_type": "stream",
     "text": [
      "[]\n"
     ]
    }
   ],
   "source": [
    "matches = [s for s in hl if 'sweet' in s[0].lower()]\n",
    "print(matches) "
   ]
  },
  {
   "cell_type": "markdown",
   "id": "a0c59c1f-b435-4495-934a-8f2fb694d5f5",
   "metadata": {},
   "source": [
    "#### the Daylight Is Dying"
   ]
  },
  {
   "cell_type": "code",
   "execution_count": 762,
   "id": "24343a81-b9f7-4bc9-9bcc-827646f2f406",
   "metadata": {},
   "outputs": [
    {
     "data": {
      "text/plain": [
       "'The Daylight Is Dying'"
      ]
     },
     "execution_count": 762,
     "metadata": {},
     "output_type": "execute_result"
    }
   ],
   "source": [
    "still_unfound[114]['title']"
   ]
  },
  {
   "cell_type": "markdown",
   "id": "8791843f-596f-40fd-b430-d433552d4b6e",
   "metadata": {},
   "source": [
    "#### Song of the Future"
   ]
  },
  {
   "cell_type": "code",
   "execution_count": 764,
   "id": "61962f45-4472-44fa-8d0e-19dca1a771ac",
   "metadata": {},
   "outputs": [
    {
     "data": {
      "text/plain": [
       "'Song of the Future'"
      ]
     },
     "execution_count": 764,
     "metadata": {},
     "output_type": "execute_result"
    }
   ],
   "source": [
    "still_unfound[115]['title']"
   ]
  },
  {
   "cell_type": "markdown",
   "id": "df917a1d-fbd1-4084-8bca-1cf4591e40a3",
   "metadata": {},
   "source": [
    "#### a chameleon"
   ]
  },
  {
   "cell_type": "code",
   "execution_count": 767,
   "id": "692e2778-0e20-499f-a572-52efb403f1b8",
   "metadata": {},
   "outputs": [
    {
     "data": {
      "text/plain": [
       "'A Chameleon'"
      ]
     },
     "execution_count": 767,
     "metadata": {},
     "output_type": "execute_result"
    }
   ],
   "source": [
    "still_unfound[116]['title']"
   ]
  },
  {
   "cell_type": "code",
   "execution_count": 127,
   "id": "dad37d25-6d11-4eb6-b653-f21bcf29a0a5",
   "metadata": {},
   "outputs": [
    {
     "name": "stdout",
     "output_type": "stream",
     "text": [
      "[['Champagne', '18142691'], ['Chameleon', '16170403'], ['The Chameleon and Other Stories (with notes and biography) (illustrated)', '24993017']]\n"
     ]
    }
   ],
   "source": [
    "matches = [s for s in ac if 'cham' in s[0].lower()]\n",
    "print(matches) "
   ]
  },
  {
   "cell_type": "code",
   "execution_count": 128,
   "id": "2db6b713-ac1b-4f57-8533-53f52ce6803c",
   "metadata": {},
   "outputs": [
    {
     "name": "stdout",
     "output_type": "stream",
     "text": [
      "A Chameleon\n"
     ]
    }
   ],
   "source": [
    "new_ids = ['16170403']\n",
    "story = still_unfound[116]\n",
    "print(story['title'])\n",
    "total_ratings = 0\n",
    "count = 0\n",
    "for id in new_ids:\n",
    "    for item in BOOKS:\n",
    "        if id == item['book_id']:\n",
    "            try:\n",
    "                rating_av = float(item['average_rating'])\n",
    "                num = int(item['ratings_count'])\n",
    "                total_ratings += rating_av * num\n",
    "                count += num\n",
    "            except (ValueError, TypeError, KeyError):\n",
    "                pass\n",
    "                    \n",
    "if count == 0:\n",
    "    average_rating = 0\n",
    "else:\n",
    "    average_rating = total_ratings / count\n",
    "\n",
    "book_reviews = find_reviews_by_id(new_ids,)\n",
    "\n",
    "# Combine into final record\n",
    "book = {\n",
    "    'id': new_ids,\n",
    "    'title': story['title'],\n",
    "    'author': story['author'],\n",
    "    'story': story['text'],\n",
    "    'av_rating': average_rating,\n",
    "    'num_ratings':count,\n",
    "    'reviews': book_reviews\n",
    "}\n",
    "#print(book)\n",
    "data_3.append(book)"
   ]
  },
  {
   "cell_type": "markdown",
   "id": "cb8bb0be-1205-4e1f-a0e5-9212615c311a",
   "metadata": {},
   "source": [
    "#### fhe Open Steeplechase"
   ]
  },
  {
   "cell_type": "code",
   "execution_count": 774,
   "id": "63637e50-2fc5-4ce6-ab3f-a08c8e3295cb",
   "metadata": {},
   "outputs": [
    {
     "data": {
      "text/plain": [
       "'The Open Steeplechase'"
      ]
     },
     "execution_count": 774,
     "metadata": {},
     "output_type": "execute_result"
    }
   ],
   "source": [
    "still_unfound[117]['title']"
   ]
  },
  {
   "cell_type": "markdown",
   "id": "edd4999d-39e6-4b44-b74f-005302f59bd6",
   "metadata": {},
   "source": [
    "#### the old australian ways"
   ]
  },
  {
   "cell_type": "code",
   "execution_count": 776,
   "id": "611c4eb6-22e7-4948-b5a5-df7f7ab88163",
   "metadata": {},
   "outputs": [
    {
     "data": {
      "text/plain": [
       "'The Old Australian Ways'"
      ]
     },
     "execution_count": 776,
     "metadata": {},
     "output_type": "execute_result"
    }
   ],
   "source": [
    "still_unfound[118]['title']"
   ]
  },
  {
   "cell_type": "code",
   "execution_count": 876,
   "id": "daf6cbb7-a17f-4354-8749-a7963a3221e0",
   "metadata": {},
   "outputs": [
    {
     "name": "stdout",
     "output_type": "stream",
     "text": [
      "[['The Merino Sheep', '33391789'], ['Complete Poems', '745346'], ['Twas the Night Before Christmas and Other Christmas Stories', '8468620'], [\"We're All Australians Now\", '31847636'], ['Poems of Banjo Paterson', '20995192'], [\"We're All Australians Now\", '24358240'], ['The Cat', '23633435'], ['Waltzing Matilda', '111281'], ['The Best Of Banjo Patterson: An Illustrated Collection', '3172903'], ['The Man from Snowy River', '1841075'], ['Saltbush Bill, J. P', '12255399'], ['The Man From Snowy River', '6072732'], [\"The Banjo's Best-Loved Poems\", '11480077'], [\"Works of 'Banjo' Paterson\", '2746647'], ['The Man from Snowy River and Other Verses', '2725644'], [\"Mulga Bill's Bicycle\", '1651879'], ['The Man from Snowy River', '7902381'], ['An Outback Marriage', '6512349'], ['Clancy Of The Overflow', '397268'], ['Waltzing Matilda', '16074139'], ['The Merino Sheep', '33391789'], ['Complete Poems', '745346'], ['Twas the Night Before Christmas and Other Christmas Stories', '8468620'], [\"We're All Australians Now\", '31847636'], ['Poems of Banjo Paterson', '20995192'], [\"We're All Australians Now\", '24358240'], ['The Cat', '23633435'], ['Waltzing Matilda', '111281'], ['The Best Of Banjo Patterson: An Illustrated Collection', '3172903'], ['The Man from Snowy River', '1841075'], ['Saltbush Bill, J. P', '12255399'], ['The Man From Snowy River', '6072732'], [\"The Banjo's Best-Loved Poems\", '11480077'], [\"Works of 'Banjo' Paterson\", '2746647'], ['The Man from Snowy River and Other Verses', '2725644'], [\"Mulga Bill's Bicycle\", '1651879'], ['The Man from Snowy River', '7902381'], ['An Outback Marriage', '6512349'], ['Clancy Of The Overflow', '397268'], ['Waltzing Matilda', '16074139']]\n"
     ]
    }
   ],
   "source": [
    "matches = [s for s in abp if 'way' in s[0].lower()]\n",
    "print(abp)"
   ]
  },
  {
   "cell_type": "markdown",
   "id": "8442d169-fc6f-43f5-ba1a-ee21072f69b2",
   "metadata": {},
   "source": [
    "#### the poets of the tomb"
   ]
  },
  {
   "cell_type": "code",
   "execution_count": 781,
   "id": "db02fd5d-8109-400e-894b-ac3958571d42",
   "metadata": {},
   "outputs": [
    {
     "data": {
      "text/plain": [
       "'The Poets of the Tomb'"
      ]
     },
     "execution_count": 781,
     "metadata": {},
     "output_type": "execute_result"
    }
   ],
   "source": [
    "still_unfound[119]['title']"
   ]
  },
  {
   "cell_type": "code",
   "execution_count": 783,
   "id": "a26d4dce-b99b-44d3-992b-3e98f3d2c6b7",
   "metadata": {},
   "outputs": [
    {
     "name": "stdout",
     "output_type": "stream",
     "text": [
      "[['Henry Lawson Illustrated Poems', '4279459'], ['Poetical Works', '8486481']]\n"
     ]
    }
   ],
   "source": [
    "matches = [s for s in hl if 'poe' in s[0].lower()]\n",
    "print(matches) "
   ]
  },
  {
   "cell_type": "markdown",
   "id": "4927464c-8a12-4c2d-a264-81210edadce3",
   "metadata": {},
   "source": [
    "#### The mystery of dave regan"
   ]
  },
  {
   "cell_type": "code",
   "execution_count": 786,
   "id": "d8bb2a45-2aac-4cc7-a4d7-70883d23bb9d",
   "metadata": {},
   "outputs": [
    {
     "data": {
      "text/plain": [
       "'The Mystery of Dave Regan'"
      ]
     },
     "execution_count": 786,
     "metadata": {},
     "output_type": "execute_result"
    }
   ],
   "source": [
    "still_unfound[120]['title']"
   ]
  },
  {
   "cell_type": "code",
   "execution_count": 788,
   "id": "ce27a421-c721-4994-922e-cdb2b4af1fbc",
   "metadata": {},
   "outputs": [
    {
     "name": "stdout",
     "output_type": "stream",
     "text": [
      "[]\n"
     ]
    }
   ],
   "source": [
    "matches = [s for s in hl if 'dave' in s[0].lower()]\n",
    "print(matches) "
   ]
  },
  {
   "cell_type": "markdown",
   "id": "c6f1d559-e302-4bec-8ed5-b76836ba9268",
   "metadata": {},
   "source": [
    "#### Tattercoats"
   ]
  },
  {
   "cell_type": "code",
   "execution_count": 790,
   "id": "d4d5093c-9088-462d-9ccd-784b55ea2e00",
   "metadata": {},
   "outputs": [
    {
     "data": {
      "text/plain": [
       "'Tattercoats'"
      ]
     },
     "execution_count": 790,
     "metadata": {},
     "output_type": "execute_result"
    }
   ],
   "source": [
    "still_unfound[121]['title']"
   ]
  },
  {
   "cell_type": "code",
   "execution_count": 791,
   "id": "280afe51-a3ed-4e29-a41a-aafb0ee4ea80",
   "metadata": {},
   "outputs": [
    {
     "name": "stdout",
     "output_type": "stream",
     "text": [
      "[]\n"
     ]
    }
   ],
   "source": [
    "matches = [s for s in fas if 'tat' in s[0].lower()]\n",
    "print(matches) "
   ]
  },
  {
   "cell_type": "markdown",
   "id": "fa6e2a2b-ce4e-4cc7-a154-6aa9f5b64a73",
   "metadata": {},
   "source": [
    "#### johnson's antidote"
   ]
  },
  {
   "cell_type": "code",
   "execution_count": 793,
   "id": "ad169049-4c51-4d50-a46a-d44ece8dd466",
   "metadata": {},
   "outputs": [
    {
     "data": {
      "text/plain": [
       "'Johnson’s Antidote'"
      ]
     },
     "execution_count": 793,
     "metadata": {},
     "output_type": "execute_result"
    }
   ],
   "source": [
    "still_unfound[122]['title']"
   ]
  },
  {
   "cell_type": "markdown",
   "id": "7cdd7063-3755-45d5-8d91-06342de46291",
   "metadata": {},
   "source": [
    "#### been there before"
   ]
  },
  {
   "cell_type": "code",
   "execution_count": 795,
   "id": "f0351ea6-2cc5-4a44-a0fa-3d6c3c510929",
   "metadata": {},
   "outputs": [
    {
     "data": {
      "text/plain": [
       "'Been There Before'"
      ]
     },
     "execution_count": 795,
     "metadata": {},
     "output_type": "execute_result"
    }
   ],
   "source": [
    "still_unfound[123]['title']"
   ]
  },
  {
   "cell_type": "markdown",
   "id": "42a1e2f1-94b6-4e80-927a-22cc1f6cab24",
   "metadata": {},
   "source": [
    "#### clair de lune"
   ]
  },
  {
   "cell_type": "code",
   "execution_count": 797,
   "id": "f1ba5978-2178-4676-8b14-cd36830033fc",
   "metadata": {},
   "outputs": [
    {
     "data": {
      "text/plain": [
       "'Clair De Lune'"
      ]
     },
     "execution_count": 797,
     "metadata": {},
     "output_type": "execute_result"
    }
   ],
   "source": [
    "still_unfound[124]['title']"
   ]
  },
  {
   "cell_type": "code",
   "execution_count": 129,
   "id": "5497c1eb-9350-4acd-8d90-190d14909a8f",
   "metadata": {},
   "outputs": [
    {
     "name": "stdout",
     "output_type": "stream",
     "text": [
      "[['Clair de lune et autres nouvelles', '6011897'], [\"Clair de lune : Clair de lune - Un coup d'Etat - Le loup - L'enfant - Conte de Noël - La reine Hortense - Le pardon - La légende du Mont Saint-Michel - ... - Nos lettres - La nuit\", '19020055'], ['Clair de Lune', '27421730'], ['Clair de lune et autres nouvelles', '1667107']]\n"
     ]
    }
   ],
   "source": [
    "matches = [s for s in gdm if 'lune' in s[0].lower()]\n",
    "print(matches)"
   ]
  },
  {
   "cell_type": "code",
   "execution_count": 130,
   "id": "f0a15e58-b994-457f-aae3-fb19408ff072",
   "metadata": {},
   "outputs": [
    {
     "name": "stdout",
     "output_type": "stream",
     "text": [
      "Clair De Lune\n"
     ]
    }
   ],
   "source": [
    "new_ids = ['27421730']\n",
    "story = still_unfound[124]\n",
    "print(story['title'])\n",
    "total_ratings = 0\n",
    "count = 0\n",
    "for id in new_ids:\n",
    "    for item in BOOKS:\n",
    "        if id == item['book_id']:\n",
    "            try:\n",
    "                rating_av = float(item['average_rating'])\n",
    "                num = int(item['ratings_count'])\n",
    "                total_ratings += rating_av * num\n",
    "                count += num\n",
    "            except (ValueError, TypeError, KeyError):\n",
    "                pass\n",
    "                    \n",
    "if count == 0:\n",
    "    average_rating = 0\n",
    "else:\n",
    "    average_rating = total_ratings / count\n",
    "\n",
    "\n",
    "book_reviews = find_reviews_by_id(new_ids,)\n",
    "\n",
    "# Combine into final record\n",
    "book = {\n",
    "    'id': new_ids,\n",
    "    'title': story['title'],\n",
    "    'author': story['author'],\n",
    "    'story': story['text'],\n",
    "    'av_rating': average_rating,\n",
    "    'num_ratings':count,\n",
    "    'reviews': book_reviews\n",
    "}\n",
    "#print(book)\n",
    "data_3.append(book)"
   ]
  },
  {
   "cell_type": "markdown",
   "id": "9121ca8b-ce41-474e-81d1-ca050f13f79d",
   "metadata": {},
   "source": [
    "#### roaring days"
   ]
  },
  {
   "cell_type": "code",
   "execution_count": 803,
   "id": "9b80509c-32bf-41bc-aebd-e65331896129",
   "metadata": {},
   "outputs": [
    {
     "data": {
      "text/plain": [
       "'The Roaring Days'"
      ]
     },
     "execution_count": 803,
     "metadata": {},
     "output_type": "execute_result"
    }
   ],
   "source": [
    "still_unfound[125]['title']"
   ]
  },
  {
   "cell_type": "code",
   "execution_count": 807,
   "id": "4a1f0f00-a2a9-4075-9fae-0fbd4cd50ea1",
   "metadata": {},
   "outputs": [
    {
     "name": "stdout",
     "output_type": "stream",
     "text": [
      "[]\n"
     ]
    }
   ],
   "source": [
    "matches = [s for s in hl if 'roar' in s[0].lower()]\n",
    "print(matches)"
   ]
  },
  {
   "cell_type": "markdown",
   "id": "56bc108c-3515-4334-964d-c100a1646a07",
   "metadata": {},
   "source": [
    "#### The female of the species"
   ]
  },
  {
   "cell_type": "code",
   "execution_count": 809,
   "id": "33fa9a83-8918-4dd5-aee0-077d4df0ccac",
   "metadata": {},
   "outputs": [
    {
     "data": {
      "text/plain": [
       "'The Female of the Species'"
      ]
     },
     "execution_count": 809,
     "metadata": {},
     "output_type": "execute_result"
    }
   ],
   "source": [
    "still_unfound[126]['title']"
   ]
  },
  {
   "cell_type": "code",
   "execution_count": 812,
   "id": "dfbc28d3-244e-439a-b55d-9c8939098d40",
   "metadata": {},
   "outputs": [
    {
     "name": "stdout",
     "output_type": "stream",
     "text": [
      "[['Kim - Rudyard Kipling [Special edition] (Annotated)', '36149221']]\n"
     ]
    }
   ],
   "source": [
    "matches = [s for s in rk if 'spec' in s[0].lower()]\n",
    "print(matches)"
   ]
  },
  {
   "cell_type": "markdown",
   "id": "c358e812-b0aa-4530-a04d-3182a4a0ed9b",
   "metadata": {},
   "source": [
    "#### Happiness"
   ]
  },
  {
   "cell_type": "code",
   "execution_count": 814,
   "id": "50d979dd-8a8f-42b0-b3e2-11d82092aebf",
   "metadata": {},
   "outputs": [
    {
     "data": {
      "text/plain": [
       "'Happiness'"
      ]
     },
     "execution_count": 814,
     "metadata": {},
     "output_type": "execute_result"
    }
   ],
   "source": [
    "still_unfound[127]['title']"
   ]
  },
  {
   "cell_type": "markdown",
   "id": "c697edcb-efa7-49e6-8b98-2d15278751a9",
   "metadata": {},
   "source": [
    "#### Only a jockey"
   ]
  },
  {
   "cell_type": "code",
   "execution_count": 816,
   "id": "f0efb459-18a8-4f39-a393-22eb7e731f63",
   "metadata": {},
   "outputs": [
    {
     "data": {
      "text/plain": [
       "'Only a Jockey'"
      ]
     },
     "execution_count": 816,
     "metadata": {},
     "output_type": "execute_result"
    }
   ],
   "source": [
    "still_unfound[128]['title']"
   ]
  },
  {
   "cell_type": "markdown",
   "id": "de438d0e-f8bf-4183-adf3-2f1605fc8324",
   "metadata": {},
   "source": [
    "#### the red ettin'"
   ]
  },
  {
   "cell_type": "code",
   "execution_count": 818,
   "id": "e441683b-aed5-4e49-b6ec-da0af9b1811b",
   "metadata": {},
   "outputs": [
    {
     "data": {
      "text/plain": [
       "'The Red Ettin'"
      ]
     },
     "execution_count": 818,
     "metadata": {},
     "output_type": "execute_result"
    }
   ],
   "source": [
    "still_unfound[129]['title']"
   ]
  },
  {
   "cell_type": "markdown",
   "id": "109ccb02-2641-4a0b-9e34-4078955720e5",
   "metadata": {},
   "source": [
    "#### the geebung polo club"
   ]
  },
  {
   "cell_type": "code",
   "execution_count": 820,
   "id": "59647e94-d144-406f-b700-44687fe93e4b",
   "metadata": {},
   "outputs": [
    {
     "data": {
      "text/plain": [
       "'The Geebung Polo Club'"
      ]
     },
     "execution_count": 820,
     "metadata": {},
     "output_type": "execute_result"
    }
   ],
   "source": [
    "still_unfound[130]['title']"
   ]
  },
  {
   "cell_type": "markdown",
   "id": "5ee3d661-f913-452a-afbd-9cef3d6b5b2f",
   "metadata": {},
   "source": [
    "#### henny penny"
   ]
  },
  {
   "cell_type": "code",
   "execution_count": 822,
   "id": "abe555c5-e9ac-4b12-afcf-4f1aff305c79",
   "metadata": {},
   "outputs": [
    {
     "data": {
      "text/plain": [
       "'Henny Penny'"
      ]
     },
     "execution_count": 822,
     "metadata": {},
     "output_type": "execute_result"
    }
   ],
   "source": [
    "still_unfound[131]['title']"
   ]
  },
  {
   "cell_type": "code",
   "execution_count": 830,
   "id": "7e65fa2d-8491-4207-88f2-eb2efb7077e1",
   "metadata": {},
   "outputs": [
    {
     "name": "stdout",
     "output_type": "stream",
     "text": [
      "[]\n"
     ]
    }
   ],
   "source": [
    "matches = [s for s in fas if 'hen' in s[0].lower()]\n",
    "print(matches)"
   ]
  },
  {
   "cell_type": "markdown",
   "id": "eb1c62a5-cc8a-485e-82e6-ba03686b10f9",
   "metadata": {},
   "source": [
    "#### the belly and the members"
   ]
  },
  {
   "cell_type": "code",
   "execution_count": 825,
   "id": "81aa403f-1b1e-4f30-acb0-4d2a8955043f",
   "metadata": {},
   "outputs": [
    {
     "data": {
      "text/plain": [
       "'The Belly and the Members'"
      ]
     },
     "execution_count": 825,
     "metadata": {},
     "output_type": "execute_result"
    }
   ],
   "source": [
    "still_unfound[132]['title']"
   ]
  },
  {
   "cell_type": "code",
   "execution_count": 827,
   "id": "19526f37-d8e9-4f80-8453-d063b38bc7fe",
   "metadata": {},
   "outputs": [
    {
     "name": "stdout",
     "output_type": "stream",
     "text": [
      "[]\n"
     ]
    }
   ],
   "source": [
    "matches = [s for s in ae if 'belly' in s[0].lower()]\n",
    "print(matches)"
   ]
  },
  {
   "cell_type": "markdown",
   "id": "5527726d-4697-4215-840b-b56407ed4f25",
   "metadata": {},
   "source": [
    "#### the wise men of gotham"
   ]
  },
  {
   "cell_type": "code",
   "execution_count": 831,
   "id": "f9791d84-2251-4654-9b5f-7efe9a3a3805",
   "metadata": {},
   "outputs": [
    {
     "data": {
      "text/plain": [
       "'The Wise Men Of Gotham'"
      ]
     },
     "execution_count": 831,
     "metadata": {},
     "output_type": "execute_result"
    }
   ],
   "source": [
    "still_unfound[133]['title']"
   ]
  },
  {
   "cell_type": "markdown",
   "id": "de146ac1-ab64-415c-a2e7-4198f02a3b46",
   "metadata": {},
   "source": [
    "#### the great calamity"
   ]
  },
  {
   "cell_type": "code",
   "execution_count": 833,
   "id": "e45334b3-a362-4361-9186-84649db7bf01",
   "metadata": {},
   "outputs": [
    {
     "data": {
      "text/plain": [
       "'The Great Calamity'"
      ]
     },
     "execution_count": 833,
     "metadata": {},
     "output_type": "execute_result"
    }
   ],
   "source": [
    "still_unfound[134]['title']"
   ]
  },
  {
   "cell_type": "markdown",
   "id": "0831cc21-c7eb-4cdd-b57c-17e6eb0ec2d0",
   "metadata": {},
   "source": [
    "#### oh the public"
   ]
  },
  {
   "cell_type": "code",
   "execution_count": 835,
   "id": "ba96447d-f63d-4bdd-86bf-b91be5dbd53f",
   "metadata": {},
   "outputs": [
    {
     "data": {
      "text/plain": [
       "'Oh! The Public'"
      ]
     },
     "execution_count": 835,
     "metadata": {},
     "output_type": "execute_result"
    }
   ],
   "source": [
    "still_unfound[135]['title']"
   ]
  },
  {
   "cell_type": "code",
   "execution_count": 837,
   "id": "e25cb92b-b99a-4da7-95c3-8502e1638777",
   "metadata": {},
   "outputs": [
    {
     "name": "stdout",
     "output_type": "stream",
     "text": [
      "[]\n"
     ]
    }
   ],
   "source": [
    "matches = [s for s in ac if 'public' in s[0].lower()]\n",
    "print(matches)"
   ]
  },
  {
   "cell_type": "markdown",
   "id": "7d005492-2789-4a79-8454-94053a6d4521",
   "metadata": {},
   "source": [
    "#### bill the ventriloquial rooster"
   ]
  },
  {
   "cell_type": "code",
   "execution_count": 839,
   "id": "ed62d936-6cc9-4e35-948b-b088e2bd4f0b",
   "metadata": {},
   "outputs": [
    {
     "data": {
      "text/plain": [
       "'Bill, the Ventriloquial Rooster'"
      ]
     },
     "execution_count": 839,
     "metadata": {},
     "output_type": "execute_result"
    }
   ],
   "source": [
    "still_unfound[136]['title']"
   ]
  },
  {
   "cell_type": "code",
   "execution_count": 840,
   "id": "4f2ee6b2-966b-4aea-b558-d9dcd1ce6d2b",
   "metadata": {},
   "outputs": [
    {
     "name": "stdout",
     "output_type": "stream",
     "text": [
      "[['While the Billy Boils', '9282840'], ['While the Billy Boils', '18668111']]\n"
     ]
    }
   ],
   "source": [
    "matches = [s for s in hl if 'bill' in s[0].lower()]\n",
    "print(matches)"
   ]
  },
  {
   "cell_type": "markdown",
   "id": "b7168320-5ae3-4b7b-b6bd-c2b7a8b9152c",
   "metadata": {},
   "source": [
    "#### the brogue"
   ]
  },
  {
   "cell_type": "code",
   "execution_count": 842,
   "id": "e1c8e19d-d2a0-42d1-9a37-c5793be5ffc0",
   "metadata": {},
   "outputs": [
    {
     "data": {
      "text/plain": [
       "'The Brogue'"
      ]
     },
     "execution_count": 842,
     "metadata": {},
     "output_type": "execute_result"
    }
   ],
   "source": [
    "still_unfound[137]['title']"
   ]
  },
  {
   "cell_type": "code",
   "execution_count": 844,
   "id": "db24a753-f37b-4aa1-b297-64f1a73f7a25",
   "metadata": {},
   "outputs": [
    {
     "name": "stdout",
     "output_type": "stream",
     "text": [
      "[]\n"
     ]
    }
   ],
   "source": [
    "matches = [s for s in saki if 'brog' in s[0].lower()]\n",
    "print(matches)"
   ]
  },
  {
   "cell_type": "markdown",
   "id": "8de74434-bfd6-40f3-846a-4d3a9cae87b5",
   "metadata": {},
   "source": [
    "#### a fairly sad tale"
   ]
  },
  {
   "cell_type": "code",
   "execution_count": 846,
   "id": "6b4d3164-1414-48a2-a90b-0d765253c5c7",
   "metadata": {},
   "outputs": [
    {
     "data": {
      "text/plain": [
       "'A Fairly Sad Tale'"
      ]
     },
     "execution_count": 846,
     "metadata": {},
     "output_type": "execute_result"
    }
   ],
   "source": [
    "still_unfound[138]['title']"
   ]
  },
  {
   "cell_type": "code",
   "execution_count": 849,
   "id": "d05ebbf9-f543-4f95-9fd8-70ee4b4b494e",
   "metadata": {},
   "outputs": [
    {
     "name": "stdout",
     "output_type": "stream",
     "text": [
      "[]\n"
     ]
    }
   ],
   "source": [
    "matches = [s for s in dp if 'sad' in s[0].lower()]\n",
    "print(matches)"
   ]
  },
  {
   "cell_type": "markdown",
   "id": "758b6254-a50a-499a-b3e2-be86cff7ea23",
   "metadata": {},
   "source": [
    "#### a mountain station"
   ]
  },
  {
   "cell_type": "code",
   "execution_count": 851,
   "id": "bdc3f581-7c80-4248-993f-18222573f808",
   "metadata": {},
   "outputs": [
    {
     "data": {
      "text/plain": [
       "'A Mountain Station'"
      ]
     },
     "execution_count": 851,
     "metadata": {},
     "output_type": "execute_result"
    }
   ],
   "source": [
    "still_unfound[139]['title']"
   ]
  },
  {
   "cell_type": "markdown",
   "id": "9c7243a4-2064-4494-a7ba-d0bb1ff8c03a",
   "metadata": {},
   "source": [
    "#### the spring my dear"
   ]
  },
  {
   "cell_type": "code",
   "execution_count": 853,
   "id": "b9766b7d-1a60-440d-8cdf-d255d9caee5b",
   "metadata": {},
   "outputs": [
    {
     "data": {
      "text/plain": [
       "'The Spring My Dear'"
      ]
     },
     "execution_count": 853,
     "metadata": {},
     "output_type": "execute_result"
    }
   ],
   "source": [
    "still_unfound[140]['title']"
   ]
  },
  {
   "cell_type": "code",
   "execution_count": 855,
   "id": "d3fd7ab3-d139-4eea-b664-118f6da10a83",
   "metadata": {},
   "outputs": [
    {
     "name": "stdout",
     "output_type": "stream",
     "text": [
      "[]\n"
     ]
    }
   ],
   "source": [
    "matches = [s for s in weh if 'spring' in s[0].lower()]\n",
    "print(matches)"
   ]
  },
  {
   "cell_type": "markdown",
   "id": "45cb96b9-04fb-4550-931c-b2fc27b47f46",
   "metadata": {},
   "source": [
    "#### little red riding hood"
   ]
  },
  {
   "cell_type": "code",
   "execution_count": 857,
   "id": "5c89b2a2-80ba-42b0-9b8b-c21d10a3f2ab",
   "metadata": {},
   "outputs": [
    {
     "data": {
      "text/plain": [
       "'Little Red Riding-Hood'"
      ]
     },
     "execution_count": 857,
     "metadata": {},
     "output_type": "execute_result"
    }
   ],
   "source": [
    "still_unfound[141]['title']"
   ]
  },
  {
   "cell_type": "markdown",
   "id": "24e02a2f-da1d-444e-bb3b-8792b4a509c6",
   "metadata": {},
   "source": [
    "#### lazy jack"
   ]
  },
  {
   "cell_type": "code",
   "execution_count": 860,
   "id": "759b498a-05f8-4dfd-b832-4a8c3088397e",
   "metadata": {},
   "outputs": [
    {
     "data": {
      "text/plain": [
       "'Lazy Jack'"
      ]
     },
     "execution_count": 860,
     "metadata": {},
     "output_type": "execute_result"
    }
   ],
   "source": [
    "still_unfound[142]['title']"
   ]
  },
  {
   "cell_type": "markdown",
   "id": "1a56b80f-5335-45ab-90bb-f42ec42a073c",
   "metadata": {},
   "source": [
    "#### the three sillies"
   ]
  },
  {
   "cell_type": "code",
   "execution_count": 863,
   "id": "9a833505-a49f-4601-9491-4cf29727595d",
   "metadata": {},
   "outputs": [
    {
     "data": {
      "text/plain": [
       "'The Three Sillies'"
      ]
     },
     "execution_count": 863,
     "metadata": {},
     "output_type": "execute_result"
    }
   ],
   "source": [
    "still_unfound[143]['title']"
   ]
  },
  {
   "cell_type": "markdown",
   "id": "db321d69-c9c4-45ab-9d32-c6e7884bafce",
   "metadata": {},
   "source": [
    "#### our new horse"
   ]
  },
  {
   "cell_type": "code",
   "execution_count": 873,
   "id": "0a18bd19-f1ba-4338-a632-46221737ffc8",
   "metadata": {},
   "outputs": [
    {
     "name": "stdout",
     "output_type": "stream",
     "text": [
      "[]\n"
     ]
    }
   ],
   "source": [
    "still_unfound[144]['title']\n",
    "matches = [s for s in abp if 'horse' in s[0].lower()]\n",
    "print(matches)"
   ]
  },
  {
   "cell_type": "markdown",
   "id": "96b722ce-6c0d-4f06-8f77-2e769cba001a",
   "metadata": {},
   "source": [
    "#### the man from ironbark"
   ]
  },
  {
   "cell_type": "code",
   "execution_count": 867,
   "id": "dc92306d-a9c7-4601-a31d-fd38d7c70ad2",
   "metadata": {},
   "outputs": [
    {
     "data": {
      "text/plain": [
       "'The Man from Ironbark'"
      ]
     },
     "execution_count": 867,
     "metadata": {},
     "output_type": "execute_result"
    }
   ],
   "source": [
    "still_unfound[145]['title']"
   ]
  },
  {
   "cell_type": "code",
   "execution_count": 872,
   "id": "a7822ad6-15d7-4df4-9d6b-7efe13b36c40",
   "metadata": {},
   "outputs": [
    {
     "name": "stdout",
     "output_type": "stream",
     "text": [
      "[['The Man from Snowy River', '1841075'], ['The Man From Snowy River', '6072732'], ['The Man from Snowy River and Other Verses', '2725644'], ['The Man from Snowy River', '7902381'], ['The Man from Snowy River', '1841075'], ['The Man From Snowy River', '6072732'], ['The Man from Snowy River and Other Verses', '2725644'], ['The Man from Snowy River', '7902381']]\n"
     ]
    }
   ],
   "source": [
    "abp.extend(find_BOOKS_by_author('A.B. Paterson', BOOKS,AUTHORS))\n",
    "matches = [s for s in abp if 'man' in s[0].lower()]\n",
    "print(matches)"
   ]
  },
  {
   "cell_type": "markdown",
   "id": "01e30743-0d40-41fb-8749-cafa18fafbb3",
   "metadata": {},
   "source": [
    "#### how the favourite beat us up"
   ]
  },
  {
   "cell_type": "code",
   "execution_count": 878,
   "id": "2ab60384-5894-46ec-b68b-55849aeaefe9",
   "metadata": {},
   "outputs": [
    {
     "data": {
      "text/plain": [
       "'How the Favourite Beat Us'"
      ]
     },
     "execution_count": 878,
     "metadata": {},
     "output_type": "execute_result"
    }
   ],
   "source": [
    "still_unfound[146]['title']"
   ]
  },
  {
   "cell_type": "code",
   "execution_count": 880,
   "id": "74e82b09-6a0f-4bf8-9bf1-e5dc09cf7213",
   "metadata": {},
   "outputs": [
    {
     "name": "stdout",
     "output_type": "stream",
     "text": [
      "[]\n"
     ]
    }
   ],
   "source": [
    "matches = [s for s in abp if 'how' in s[0].lower()]\n",
    "print(matches)"
   ]
  },
  {
   "cell_type": "markdown",
   "id": "f3cb0269-4368-4563-bb68-f47bfe04c316",
   "metadata": {},
   "source": [
    "#### a certain lady"
   ]
  },
  {
   "cell_type": "code",
   "execution_count": 882,
   "id": "a3ca7a88-b182-4f4d-a6ad-5924305d7c63",
   "metadata": {},
   "outputs": [
    {
     "data": {
      "text/plain": [
       "'A Certain Lady'"
      ]
     },
     "execution_count": 882,
     "metadata": {},
     "output_type": "execute_result"
    }
   ],
   "source": [
    "still_unfound[147]['title']"
   ]
  },
  {
   "cell_type": "code",
   "execution_count": 883,
   "id": "409739e0-1386-4a19-ae2c-ba41ac81fa18",
   "metadata": {},
   "outputs": [
    {
     "name": "stdout",
     "output_type": "stream",
     "text": [
      "[]\n"
     ]
    }
   ],
   "source": [
    "matches = [s for s in dp if 'lady' in s[0].lower()]\n",
    "print(matches)"
   ]
  },
  {
   "cell_type": "markdown",
   "id": "331e1d5c-0067-4d17-80d7-8b9903bc0956",
   "metadata": {},
   "source": [
    "#### how mginnis went missing"
   ]
  },
  {
   "cell_type": "code",
   "execution_count": 885,
   "id": "7b9390ef-e86f-4583-84da-926fd71a1102",
   "metadata": {},
   "outputs": [
    {
     "data": {
      "text/plain": [
       "'How M’Ginnis Went Missing'"
      ]
     },
     "execution_count": 885,
     "metadata": {},
     "output_type": "execute_result"
    }
   ],
   "source": [
    "still_unfound[148]['title']"
   ]
  },
  {
   "cell_type": "code",
   "execution_count": 886,
   "id": "35cbab74-8055-4dc7-b506-a001de7dc2a7",
   "metadata": {},
   "outputs": [
    {
     "name": "stdout",
     "output_type": "stream",
     "text": [
      "[]\n"
     ]
    }
   ],
   "source": [
    "matches = [s for s in abp if 'went' in s[0].lower()]\n",
    "print(matches)"
   ]
  },
  {
   "cell_type": "markdown",
   "id": "822dd041-9d3b-4801-97ed-35a6f4698b0e",
   "metadata": {},
   "source": [
    "#### to the sun"
   ]
  },
  {
   "cell_type": "code",
   "execution_count": 888,
   "id": "7d65d7f0-33b8-4467-8b3f-7b0872fe2339",
   "metadata": {},
   "outputs": [
    {
     "data": {
      "text/plain": [
       "'To the Sun'"
      ]
     },
     "execution_count": 888,
     "metadata": {},
     "output_type": "execute_result"
    }
   ],
   "source": [
    "still_unfound[149]['title']"
   ]
  },
  {
   "cell_type": "code",
   "execution_count": 131,
   "id": "176fe2e3-7020-487b-bcea-61dec52d396e",
   "metadata": {},
   "outputs": [
    {
     "name": "stdout",
     "output_type": "stream",
     "text": [
      "[]\n"
     ]
    }
   ],
   "source": [
    "ash = find_books_by_author('Clark Ashton Smith')\n",
    "matches = [s for s in ash if 'sun' in s[0].lower()]\n",
    "print(matches)"
   ]
  },
  {
   "cell_type": "markdown",
   "id": "85414a3c-baa7-48e0-84a3-63c34baeef47",
   "metadata": {},
   "source": [
    "#### the puppet show man"
   ]
  },
  {
   "cell_type": "code",
   "execution_count": 894,
   "id": "84c1fed9-abd1-4740-b3f6-9f40c08ab347",
   "metadata": {},
   "outputs": [
    {
     "data": {
      "text/plain": [
       "'The Puppet-show Man'"
      ]
     },
     "execution_count": 894,
     "metadata": {},
     "output_type": "execute_result"
    }
   ],
   "source": [
    "still_unfound[150]['title']"
   ]
  },
  {
   "cell_type": "code",
   "execution_count": 896,
   "id": "19e1d3e6-c53c-4a1a-b675-84d9997c8d7c",
   "metadata": {},
   "outputs": [
    {
     "name": "stdout",
     "output_type": "stream",
     "text": [
      "[]\n"
     ]
    }
   ],
   "source": [
    "matches = [s for s in hca if 'puppet' in s[0].lower()]\n",
    "print(matches)"
   ]
  },
  {
   "cell_type": "markdown",
   "id": "6d9067e5-d1ee-419e-ac3a-5d383dbddaa4",
   "metadata": {},
   "source": [
    "#### the fish and the ring"
   ]
  },
  {
   "cell_type": "code",
   "execution_count": 898,
   "id": "3460484e-97d4-4a02-9adb-eb32b6d951b5",
   "metadata": {},
   "outputs": [
    {
     "data": {
      "text/plain": [
       "'The Fish and the Ring'"
      ]
     },
     "execution_count": 898,
     "metadata": {},
     "output_type": "execute_result"
    }
   ],
   "source": [
    "still_unfound[151]['title']"
   ]
  },
  {
   "cell_type": "markdown",
   "id": "86e31ec0-babb-42a4-af96-35b5c0de486b",
   "metadata": {},
   "source": [
    "#### last week"
   ]
  },
  {
   "cell_type": "code",
   "execution_count": 900,
   "id": "30094fc1-acf4-41dd-a356-1ed50e5b2dbe",
   "metadata": {},
   "outputs": [
    {
     "data": {
      "text/plain": [
       "'Last Week'"
      ]
     },
     "execution_count": 900,
     "metadata": {},
     "output_type": "execute_result"
    }
   ],
   "source": [
    "still_unfound[152]['title']"
   ]
  },
  {
   "cell_type": "code",
   "execution_count": 901,
   "id": "9e5b6e57-c2da-4812-9193-0d9acb9a432a",
   "metadata": {},
   "outputs": [
    {
     "name": "stdout",
     "output_type": "stream",
     "text": [
      "[]\n"
     ]
    }
   ],
   "source": [
    "matches = [s for s in abp if 'last' in s[0].lower()]\n",
    "print(matches)"
   ]
  },
  {
   "cell_type": "markdown",
   "id": "d1710321-bbe8-4475-91de-7572ccf87dbb",
   "metadata": {},
   "source": [
    "#### the ant"
   ]
  },
  {
   "cell_type": "code",
   "execution_count": 906,
   "id": "372e6d93-1da0-49c4-bda0-d15765a7002e",
   "metadata": {},
   "outputs": [
    {
     "data": {
      "text/plain": [
       "'The Ant'"
      ]
     },
     "execution_count": 906,
     "metadata": {},
     "output_type": "execute_result"
    }
   ],
   "source": [
    "still_unfound[153]['title']"
   ]
  },
  {
   "cell_type": "code",
   "execution_count": 904,
   "id": "d75bdaf0-47dd-4a8e-93b7-d48e9afff624",
   "metadata": {},
   "outputs": [
    {
     "name": "stdout",
     "output_type": "stream",
     "text": [
      "[['The Ants And The Grasshopper', '31861954'], [\"Walt Disney's: The Grasshopper and the Ants\", '237374'], ['The Ant and the Grasshopper', '584042'], ['The Ant And The Grasshopper', '584049']]\n"
     ]
    }
   ],
   "source": [
    "matches = [s for s in ae if 'ant' in s[0].lower()]\n",
    "print(matches)"
   ]
  },
  {
   "cell_type": "markdown",
   "id": "bd5ffb6a-f402-4afb-828d-2243fc688711",
   "metadata": {},
   "source": [
    "#### the flying gang"
   ]
  },
  {
   "cell_type": "code",
   "execution_count": 908,
   "id": "a644556c-45bd-4158-b7a9-e1172c5dcfc4",
   "metadata": {},
   "outputs": [
    {
     "data": {
      "text/plain": [
       "'The Flying Gang'"
      ]
     },
     "execution_count": 908,
     "metadata": {},
     "output_type": "execute_result"
    }
   ],
   "source": [
    "still_unfound[154]['title']"
   ]
  },
  {
   "cell_type": "code",
   "execution_count": 909,
   "id": "a7f6dc1b-8ba7-43fb-bc0f-f9c27d590443",
   "metadata": {},
   "outputs": [
    {
     "name": "stdout",
     "output_type": "stream",
     "text": [
      "[]\n"
     ]
    }
   ],
   "source": [
    "matches = [s for s in abp if 'gang' in s[0].lower()]\n",
    "print(matches)"
   ]
  },
  {
   "cell_type": "markdown",
   "id": "d2b8ef56-6cbd-4b48-915d-88eff4c92fb7",
   "metadata": {},
   "source": [
    "#### mrs packletides tiger"
   ]
  },
  {
   "cell_type": "code",
   "execution_count": 911,
   "id": "4e33fb31-3e02-460f-a12f-2a392483c340",
   "metadata": {},
   "outputs": [
    {
     "data": {
      "text/plain": [
       "'Mrs. Packletide’s Tiger'"
      ]
     },
     "execution_count": 911,
     "metadata": {},
     "output_type": "execute_result"
    }
   ],
   "source": [
    "still_unfound[155]['title']"
   ]
  },
  {
   "cell_type": "code",
   "execution_count": 912,
   "id": "0fe91b13-8053-46cc-9b87-40e4571ef51e",
   "metadata": {},
   "outputs": [
    {
     "name": "stdout",
     "output_type": "stream",
     "text": [
      "[[\"Mrs. Packletide's Tiger\", '1882973'], [\"Mrs. Packletide's Tiger\", '21642850']]\n"
     ]
    }
   ],
   "source": [
    "matches = [s for s in saki if 'tiger' in s[0].lower()]\n",
    "print(matches)"
   ]
  },
  {
   "cell_type": "code",
   "execution_count": 132,
   "id": "41c87dbb-5ed1-4ca2-848e-34b462b9b724",
   "metadata": {},
   "outputs": [
    {
     "name": "stdout",
     "output_type": "stream",
     "text": [
      "['Saki'] 21642850\n"
     ]
    }
   ],
   "source": [
    "for item in BOOKS:\n",
    "    if item['book_id'] == '21642850':\n",
    "        names = []\n",
    "        for aut_id in item['author_ids']:\n",
    "            name =find_name_by_id(aut_id)\n",
    "            names.append(name)\n",
    "        print(names, item['book_id'])"
   ]
  },
  {
   "cell_type": "code",
   "execution_count": 133,
   "id": "fb9dbe02-ccf8-477f-9108-a4c0d0a60220",
   "metadata": {},
   "outputs": [
    {
     "name": "stdout",
     "output_type": "stream",
     "text": [
      "Mrs. Packletide’s Tiger\n"
     ]
    }
   ],
   "source": [
    "new_ids = ['21642850']\n",
    "story = still_unfound[155]\n",
    "print(story['title'])\n",
    "total_ratings = 0\n",
    "count = 0\n",
    "for id in new_ids:\n",
    "    for item in BOOKS:\n",
    "        if id == item['book_id']:\n",
    "            try:\n",
    "                rating_av = float(item['average_rating'])\n",
    "                num = int(item['ratings_count'])\n",
    "                total_ratings += rating_av * num\n",
    "                count += num\n",
    "            except (ValueError, TypeError, KeyError):\n",
    "                pass\n",
    "                    \n",
    "if count == 0:\n",
    "    average_rating = 0\n",
    "else:\n",
    "    average_rating = total_ratings / count\n",
    "\n",
    "\n",
    "book_reviews = find_reviews_by_id(new_ids,)\n",
    "\n",
    "# Combine into final record\n",
    "book = {\n",
    "    'id': new_ids,\n",
    "    'title': story['title'],\n",
    "    'author': story['author'],\n",
    "    'story': story['text'],\n",
    "    'av_rating': average_rating,\n",
    "    'num_ratings':count,\n",
    "    'reviews': book_reviews\n",
    "}\n",
    "#print(book)\n",
    "data_3.append(book)"
   ]
  },
  {
   "cell_type": "markdown",
   "id": "66f3363f-c6a8-4891-9efd-8a3d56e7412e",
   "metadata": {},
   "source": [
    "#### the triumphs of a taxidermist"
   ]
  },
  {
   "cell_type": "code",
   "execution_count": 919,
   "id": "51ae31b8-8e59-4d74-a897-89df6254dd77",
   "metadata": {},
   "outputs": [
    {
     "data": {
      "text/plain": [
       "'The Triumphs of a Taxidermist'"
      ]
     },
     "execution_count": 919,
     "metadata": {},
     "output_type": "execute_result"
    }
   ],
   "source": [
    "still_unfound[156]['title']"
   ]
  },
  {
   "cell_type": "code",
   "execution_count": 920,
   "id": "48f620b2-ca75-43c4-86f0-a86f82bc11c1",
   "metadata": {},
   "outputs": [],
   "source": [
    "for item in BOOKS:\n",
    "    if item['title'] == 'The Triumphs of a Taxidermist':\n",
    "        print(item['book_id'])"
   ]
  },
  {
   "cell_type": "code",
   "execution_count": 134,
   "id": "996fb945-689e-44f0-87b7-4e1e637a1500",
   "metadata": {},
   "outputs": [],
   "source": [
    "story = still_unfound[156]\n",
    "\n",
    "# Combine into final record\n",
    "book = {\n",
    "    'id': new_ids,\n",
    "    'title': story['title'],\n",
    "    'author': story['author'],\n",
    "    'story': story['text'],\n",
    "    'av_rating': 3.05,\n",
    "    'num_ratings':39,\n",
    "    'reviews': [{'rating':4,'text':\"The rich can get anything they want...hahaha! Pretty cool story.\"},\n",
    "               {'rating':3,'text':\"Very short. Clever, punchy, amusing... a good intro. for ppl. who aren't aware how good Wells could be at either short stories or humor.\"},\n",
    "               {'rating':2,'text':\"Most forgettable story by him so far.\"}]\n",
    "}\n",
    "#print(book)\n",
    "data_3.append(book)"
   ]
  },
  {
   "cell_type": "markdown",
   "id": "c1c70159-2a19-431d-830c-4f1905c7b426",
   "metadata": {},
   "source": [
    "#### the lion and the mouse"
   ]
  },
  {
   "cell_type": "code",
   "execution_count": 924,
   "id": "c0c92d06-e75c-4729-9a9c-226e35d62b9d",
   "metadata": {},
   "outputs": [
    {
     "data": {
      "text/plain": [
       "'The Lion and the Mouse'"
      ]
     },
     "execution_count": 924,
     "metadata": {},
     "output_type": "execute_result"
    }
   ],
   "source": [
    "still_unfound[157]['title']"
   ]
  },
  {
   "cell_type": "code",
   "execution_count": 927,
   "id": "4808ca4f-9e3d-4edc-b6b5-cdb2b6f0562b",
   "metadata": {},
   "outputs": [
    {
     "name": "stdout",
     "output_type": "stream",
     "text": [
      "[['The Country Mouse And The Town Mouse', '36454719'], ['Town Mouse & Country Mouse', '1827075'], ['The Town Mouse and the Country Mouse: The Boy Who Cried Wolf', '1275099'], ['The Town Mouse and the Country Mouse', '5449950']]\n"
     ]
    }
   ],
   "source": [
    "matches = [s for s in ae if 'mouse' in s[0].lower()]\n",
    "print(matches)"
   ]
  },
  {
   "cell_type": "markdown",
   "id": "aad5904f-9721-45cc-a141-42fea898d0aa",
   "metadata": {},
   "source": [
    "#### conroy's gap"
   ]
  },
  {
   "cell_type": "code",
   "execution_count": 929,
   "id": "334c45ed-6257-486f-aa47-e2925b78e0c1",
   "metadata": {},
   "outputs": [
    {
     "data": {
      "text/plain": [
       "'Conroy’s Gap'"
      ]
     },
     "execution_count": 929,
     "metadata": {},
     "output_type": "execute_result"
    }
   ],
   "source": [
    "still_unfound[158]['title']"
   ]
  },
  {
   "cell_type": "code",
   "execution_count": 930,
   "id": "c71876e3-7baa-42d2-afbd-97903b6f2d32",
   "metadata": {},
   "outputs": [
    {
     "name": "stdout",
     "output_type": "stream",
     "text": [
      "[]\n"
     ]
    }
   ],
   "source": [
    "matches = [s for s in abp if 'gap' in s[0].lower()]\n",
    "print(matches)"
   ]
  },
  {
   "cell_type": "markdown",
   "id": "5a199f9b-9147-4185-b2e7-4f88c541c9d7",
   "metadata": {},
   "source": [
    "#### the eagle and the cocks"
   ]
  },
  {
   "cell_type": "code",
   "execution_count": 932,
   "id": "18a0b9a6-b5a7-4ea6-9ed8-df329939f720",
   "metadata": {},
   "outputs": [
    {
     "data": {
      "text/plain": [
       "'The Eagle and the Cocks'"
      ]
     },
     "execution_count": 932,
     "metadata": {},
     "output_type": "execute_result"
    }
   ],
   "source": [
    "still_unfound[159]['title']"
   ]
  },
  {
   "cell_type": "code",
   "execution_count": 933,
   "id": "0d5a5225-46f5-4a84-8f2e-82f1f6bc1e70",
   "metadata": {},
   "outputs": [
    {
     "name": "stdout",
     "output_type": "stream",
     "text": [
      "[['The Tortoise And The Eagle', '36465817'], ['The Fighting Cocks And The Eagle', '32808763'], ['The Eagle And The Fox', '36434944']]\n"
     ]
    }
   ],
   "source": [
    "matches = [s for s in ae if 'eagle' in s[0].lower()]\n",
    "print(matches)"
   ]
  },
  {
   "cell_type": "code",
   "execution_count": 135,
   "id": "3a96daa7-aff0-4d16-b698-acc70068a41d",
   "metadata": {},
   "outputs": [
    {
     "name": "stdout",
     "output_type": "stream",
     "text": [
      "The Eagle and the Cocks\n"
     ]
    }
   ],
   "source": [
    "new_ids = ['32808763']\n",
    "story = still_unfound[159]\n",
    "print(story['title'])\n",
    "total_ratings = 0\n",
    "count = 0\n",
    "for id in new_ids:\n",
    "    for item in BOOKS:\n",
    "        if id == item['book_id']:\n",
    "            try:\n",
    "                rating_av = float(item['average_rating'])\n",
    "                num = int(item['ratings_count'])\n",
    "                total_ratings += rating_av * num\n",
    "                count += num\n",
    "            except (ValueError, TypeError, KeyError):\n",
    "                pass\n",
    "                    \n",
    "if count == 0:\n",
    "    average_rating = 0\n",
    "else:\n",
    "    average_rating = total_ratings / count\n",
    "\n",
    "\n",
    "book_reviews = find_reviews_by_id(new_ids,)\n",
    "\n",
    "# Combine into final record\n",
    "book = {\n",
    "    'id': new_ids,\n",
    "    'title': story['title'],\n",
    "    'author': story['author'],\n",
    "    'story': story['text'],\n",
    "    'av_rating': average_rating,\n",
    "    'num_ratings':count,\n",
    "    'reviews': book_reviews\n",
    "}\n",
    "#print(book)\n",
    "data_3.append(book)"
   ]
  },
  {
   "cell_type": "markdown",
   "id": "890f4843-1bdc-4863-81a2-818d11db9939",
   "metadata": {},
   "source": [
    "#### the boston massacre"
   ]
  },
  {
   "cell_type": "code",
   "execution_count": 937,
   "id": "376bad17-1382-4fa5-a498-844b18de4873",
   "metadata": {},
   "outputs": [
    {
     "data": {
      "text/plain": [
       "'The Boston Massacre'"
      ]
     },
     "execution_count": 937,
     "metadata": {},
     "output_type": "execute_result"
    }
   ],
   "source": [
    "still_unfound[160]['title']"
   ]
  },
  {
   "cell_type": "code",
   "execution_count": 940,
   "id": "b8daff5b-a888-411f-9c0a-0472183a590b",
   "metadata": {},
   "outputs": [
    {
     "name": "stdout",
     "output_type": "stream",
     "text": [
      "[]\n"
     ]
    }
   ],
   "source": [
    "nh=find_BOOKS_by_author('Nathaniel Hawthorne',BOOKS,AUTHORS)\n",
    "matches = [s for s in nh if 'boston' in s[0].lower()]\n",
    "print(matches)"
   ]
  },
  {
   "cell_type": "markdown",
   "id": "0b84832f-b027-4127-b388-acfefa1f171c",
   "metadata": {},
   "source": [
    "#### the story of the three bears"
   ]
  },
  {
   "cell_type": "code",
   "execution_count": 942,
   "id": "31c33d4f-091c-4693-89c8-589cf3433934",
   "metadata": {},
   "outputs": [
    {
     "data": {
      "text/plain": [
       "'The Story Of The Three Bears'"
      ]
     },
     "execution_count": 942,
     "metadata": {},
     "output_type": "execute_result"
    }
   ],
   "source": [
    "still_unfound[161]['title']"
   ]
  },
  {
   "cell_type": "code",
   "execution_count": 943,
   "id": "4078bd5f-8905-459c-b96c-5e777dedf826",
   "metadata": {},
   "outputs": [
    {
     "name": "stdout",
     "output_type": "stream",
     "text": [
      "[['Goldilocks and the Three Bears', '20556960']]\n"
     ]
    }
   ],
   "source": [
    "matches = [s for s in fas if 'bears' in s[0].lower()]\n",
    "print(matches)"
   ]
  },
  {
   "cell_type": "code",
   "execution_count": 136,
   "id": "439bbae8-9b35-4dfe-870c-a9502346e8c2",
   "metadata": {},
   "outputs": [
    {
     "name": "stdout",
     "output_type": "stream",
     "text": [
      "The Story Of The Three Bears\n"
     ]
    }
   ],
   "source": [
    "new_ids = ['20556960']\n",
    "story = still_unfound[161]\n",
    "print(story['title'])\n",
    "total_ratings = 0\n",
    "count = 0\n",
    "for id in new_ids:\n",
    "    for item in BOOKS:\n",
    "        if id == item['book_id']:\n",
    "            try:\n",
    "                rating_av = float(item['average_rating'])\n",
    "                num = int(item['ratings_count'])\n",
    "                total_ratings += rating_av * num\n",
    "                count += num\n",
    "            except (ValueError, TypeError, KeyError):\n",
    "                pass\n",
    "                    \n",
    "if count == 0:\n",
    "    average_rating = 0\n",
    "else:\n",
    "    average_rating = total_ratings / count\n",
    "\n",
    "\n",
    "book_reviews = find_reviews_by_id(new_ids,)\n",
    "\n",
    "# Combine into final record\n",
    "book = {\n",
    "    'id': new_ids,\n",
    "    'title': story['title'],\n",
    "    'author': story['author'],\n",
    "    'story': story['text'],\n",
    "    'av_rating': average_rating,\n",
    "    'num_ratings':count,\n",
    "    'reviews': book_reviews\n",
    "}\n",
    "#print(book)\n",
    "data_3.append(book)"
   ]
  },
  {
   "cell_type": "markdown",
   "id": "608d826f-6822-40f8-b783-d7c0280bd89e",
   "metadata": {},
   "source": [
    "#### in answer to various bards"
   ]
  },
  {
   "cell_type": "code",
   "execution_count": 947,
   "id": "fa8ae653-18c1-4dbb-9740-d0a160dc08ae",
   "metadata": {},
   "outputs": [
    {
     "data": {
      "text/plain": [
       "'In Answer to Various Bards'"
      ]
     },
     "execution_count": 947,
     "metadata": {},
     "output_type": "execute_result"
    }
   ],
   "source": [
    "still_unfound[162]['title']"
   ]
  },
  {
   "cell_type": "code",
   "execution_count": 948,
   "id": "6e6575b7-8db1-4021-9b02-d65f4b1c8e6a",
   "metadata": {},
   "outputs": [
    {
     "name": "stdout",
     "output_type": "stream",
     "text": [
      "[]\n"
     ]
    }
   ],
   "source": [
    "matches = [s for s in abp if 'bards' in s[0].lower()]\n",
    "print(matches)"
   ]
  },
  {
   "cell_type": "markdown",
   "id": "60570b11-f65f-40d7-b727-0a6e934068dd",
   "metadata": {},
   "source": [
    "#### shearing at castlereagh"
   ]
  },
  {
   "cell_type": "code",
   "execution_count": 950,
   "id": "eebc5144-b8e7-4907-ad6d-2201d625f8bb",
   "metadata": {},
   "outputs": [
    {
     "data": {
      "text/plain": [
       "'Shearing at Castlereagh'"
      ]
     },
     "execution_count": 950,
     "metadata": {},
     "output_type": "execute_result"
    }
   ],
   "source": [
    "still_unfound[163]['title']"
   ]
  },
  {
   "cell_type": "code",
   "execution_count": 951,
   "id": "c446a2c4-7c70-4154-a6e5-d74fc208a93e",
   "metadata": {},
   "outputs": [
    {
     "name": "stdout",
     "output_type": "stream",
     "text": [
      "[]\n"
     ]
    }
   ],
   "source": [
    "matches = [s for s in abp if 'shear' in s[0].lower()]\n",
    "print(matches)"
   ]
  },
  {
   "cell_type": "markdown",
   "id": "e8150b5d-2aa2-4eeb-9dd5-df0735fc9d20",
   "metadata": {},
   "source": [
    "#### the all right un"
   ]
  },
  {
   "cell_type": "code",
   "execution_count": 954,
   "id": "8ce5a6d0-181f-44e6-8f6b-05a53107001b",
   "metadata": {},
   "outputs": [
    {
     "data": {
      "text/plain": [
       "'The All Right ’Un'"
      ]
     },
     "execution_count": 954,
     "metadata": {},
     "output_type": "execute_result"
    }
   ],
   "source": [
    "still_unfound[164]['title']"
   ]
  },
  {
   "cell_type": "code",
   "execution_count": 955,
   "id": "ab72ddef-a421-4e76-bc9f-8297e4f6c109",
   "metadata": {},
   "outputs": [
    {
     "name": "stdout",
     "output_type": "stream",
     "text": [
      "[[\"We're All Australians Now\", '31847636'], [\"We're All Australians Now\", '24358240'], [\"We're All Australians Now\", '31847636'], [\"We're All Australians Now\", '24358240']]\n"
     ]
    }
   ],
   "source": [
    "matches = [s for s in abp if 'all' in s[0].lower()]\n",
    "print(matches)"
   ]
  },
  {
   "cell_type": "markdown",
   "id": "69168c34-371f-4ac5-80c0-2fb84eb0e7dd",
   "metadata": {},
   "source": [
    "#### a deal in ostriches"
   ]
  },
  {
   "cell_type": "code",
   "execution_count": 957,
   "id": "3c512004-7797-4ab7-b690-cf56bc9080c5",
   "metadata": {},
   "outputs": [
    {
     "data": {
      "text/plain": [
       "'A Deal In Ostriches'"
      ]
     },
     "execution_count": 957,
     "metadata": {},
     "output_type": "execute_result"
    }
   ],
   "source": [
    "still_unfound[165]['title']"
   ]
  },
  {
   "cell_type": "code",
   "execution_count": 962,
   "id": "cf31c1df-2642-445f-a9a8-57482fe90d4a",
   "metadata": {},
   "outputs": [
    {
     "name": "stdout",
     "output_type": "stream",
     "text": [
      "32877355\n"
     ]
    }
   ],
   "source": [
    "for item in BOOKS:\n",
    "    if item['title'] == 'A Deal in Ostriches':\n",
    "        print(item['book_id'])"
   ]
  },
  {
   "cell_type": "code",
   "execution_count": 961,
   "id": "c1eb152c-3f05-411c-ace7-292646591af2",
   "metadata": {},
   "outputs": [
    {
     "name": "stdout",
     "output_type": "stream",
     "text": [
      "[['A Deal in Ostriches', '32877355']]\n"
     ]
    }
   ],
   "source": [
    "matches = [s for s in hgw if 'deal' in s[0].lower()]\n",
    "print(matches)"
   ]
  },
  {
   "cell_type": "code",
   "execution_count": 137,
   "id": "0ad84628-6674-4451-8e1f-8708937d994e",
   "metadata": {},
   "outputs": [
    {
     "name": "stdout",
     "output_type": "stream",
     "text": [
      "A Deal In Ostriches\n"
     ]
    }
   ],
   "source": [
    "new_ids = ['32877355']\n",
    "story = still_unfound[165]\n",
    "print(story['title'])\n",
    "total_ratings = 0\n",
    "count = 0\n",
    "for id in new_ids:\n",
    "    for item in BOOKS:\n",
    "        if id == item['book_id']:\n",
    "            try:\n",
    "                rating_av = float(item['average_rating'])\n",
    "                num = int(item['ratings_count'])\n",
    "                total_ratings += rating_av * num\n",
    "                count += num\n",
    "            except (ValueError, TypeError, KeyError):\n",
    "                pass\n",
    "                    \n",
    "if count == 0:\n",
    "    average_rating = 0\n",
    "else:\n",
    "    average_rating = total_ratings / count\n",
    "\n",
    "\n",
    "book_reviews = find_reviews_by_id(new_ids,)\n",
    "\n",
    "# Combine into final record\n",
    "book = {\n",
    "    'id': new_ids,\n",
    "    'title': story['title'],\n",
    "    'author': story['author'],\n",
    "    'story': story['text'],\n",
    "    'av_rating': average_rating,\n",
    "    'num_ratings':count,\n",
    "    'reviews': book_reviews\n",
    "}\n",
    "#print(book)\n",
    "data_3.append(book)"
   ]
  },
  {
   "cell_type": "markdown",
   "id": "4cbb04be-f730-41d9-8a0f-45f4b220744d",
   "metadata": {},
   "source": [
    "#### the hen"
   ]
  },
  {
   "cell_type": "code",
   "execution_count": 966,
   "id": "3ceb49f5-6b29-4edf-9c19-784edbff7ae3",
   "metadata": {},
   "outputs": [
    {
     "data": {
      "text/plain": [
       "'The Hen'"
      ]
     },
     "execution_count": 966,
     "metadata": {},
     "output_type": "execute_result"
    }
   ],
   "source": [
    "still_unfound[166]['title']"
   ]
  },
  {
   "cell_type": "code",
   "execution_count": 967,
   "id": "fe8e64f5-8752-4207-af28-4cd3b80cb4c7",
   "metadata": {},
   "outputs": [
    {
     "name": "stdout",
     "output_type": "stream",
     "text": [
      "[['When William Came', '525598']]\n"
     ]
    }
   ],
   "source": [
    "matches = [s for s in saki if 'hen' in s[0].lower()]\n",
    "print(matches)"
   ]
  },
  {
   "cell_type": "markdown",
   "id": "f8c1e398-711a-4164-a090-c71164ae466b",
   "metadata": {},
   "source": [
    "#### the eagle and the beetle"
   ]
  },
  {
   "cell_type": "code",
   "execution_count": 969,
   "id": "504f1b2e-f310-4280-95a5-bcd463487b97",
   "metadata": {},
   "outputs": [
    {
     "data": {
      "text/plain": [
       "'The Eagle and the Beetle'"
      ]
     },
     "execution_count": 969,
     "metadata": {},
     "output_type": "execute_result"
    }
   ],
   "source": [
    "still_unfound[167]['title']"
   ]
  },
  {
   "cell_type": "code",
   "execution_count": 970,
   "id": "3f080e42-7bd7-4de3-825f-988b5a10ba41",
   "metadata": {},
   "outputs": [
    {
     "name": "stdout",
     "output_type": "stream",
     "text": [
      "[['The Tortoise And The Eagle', '36465817'], ['The Fighting Cocks And The Eagle', '32808763'], ['The Eagle And The Fox', '36434944']]\n"
     ]
    }
   ],
   "source": [
    "matches = [s for s in ae if 'eagle' in s[0].lower()]\n",
    "print(matches)"
   ]
  },
  {
   "cell_type": "markdown",
   "id": "391840df-6e95-41d2-884a-a22ef5a67ff3",
   "metadata": {},
   "source": [
    "#### a bunch of roses"
   ]
  },
  {
   "cell_type": "code",
   "execution_count": 972,
   "id": "0a911db9-0786-414c-852c-0f81d4a04c43",
   "metadata": {},
   "outputs": [
    {
     "data": {
      "text/plain": [
       "'A Bunch of Roses'"
      ]
     },
     "execution_count": 972,
     "metadata": {},
     "output_type": "execute_result"
    }
   ],
   "source": [
    "still_unfound[168]['title']"
   ]
  },
  {
   "cell_type": "code",
   "execution_count": 973,
   "id": "e3df64e7-558b-4acb-823b-14c62c448918",
   "metadata": {},
   "outputs": [
    {
     "name": "stdout",
     "output_type": "stream",
     "text": [
      "[]\n"
     ]
    }
   ],
   "source": [
    "matches = [s for s in abp if 'rose' in s[0].lower()]\n",
    "print(matches)"
   ]
  },
  {
   "cell_type": "markdown",
   "id": "6cba6d8c-f364-4bc9-be9d-d3adc302bf86",
   "metadata": {},
   "source": [
    "#### a bushman's song"
   ]
  },
  {
   "cell_type": "code",
   "execution_count": 975,
   "id": "adbb44b7-1230-427c-849c-45afbf7a331d",
   "metadata": {},
   "outputs": [
    {
     "data": {
      "text/plain": [
       "'A Bushman’s Song'"
      ]
     },
     "execution_count": 975,
     "metadata": {},
     "output_type": "execute_result"
    }
   ],
   "source": [
    "still_unfound[169]['title']"
   ]
  },
  {
   "cell_type": "code",
   "execution_count": 976,
   "id": "1b5f4676-48ad-4c14-a122-b3f8957b3207",
   "metadata": {},
   "outputs": [
    {
     "name": "stdout",
     "output_type": "stream",
     "text": [
      "[]\n"
     ]
    }
   ],
   "source": [
    "matches = [s for s in abp if 'song' in s[0].lower()]\n",
    "print(matches)"
   ]
  },
  {
   "cell_type": "markdown",
   "id": "ae29a71e-878a-43c2-bfe7-c1f35a7ec814",
   "metadata": {},
   "source": [
    "#### an extinct angel"
   ]
  },
  {
   "cell_type": "code",
   "execution_count": 978,
   "id": "3385465c-e15d-42eb-a0ec-a4015508d5c1",
   "metadata": {},
   "outputs": [
    {
     "data": {
      "text/plain": [
       "'An Extinct Angel'"
      ]
     },
     "execution_count": 978,
     "metadata": {},
     "output_type": "execute_result"
    }
   ],
   "source": [
    "still_unfound[170]['title']"
   ]
  },
  {
   "cell_type": "code",
   "execution_count": 980,
   "id": "0bfd28f6-a6c8-4906-9fdd-e95f09cf0c68",
   "metadata": {},
   "outputs": [],
   "source": [
    "for item in BOOKS:\n",
    "    if item['title'] == 'An extinct Angel':\n",
    "        print(item['book_id'])"
   ]
  },
  {
   "cell_type": "code",
   "execution_count": 982,
   "id": "83a6dc3a-b286-4305-a531-c34987ba9fe0",
   "metadata": {},
   "outputs": [],
   "source": [
    "cpg=find_BOOKS_by_author('Charlotte Perkins Gilman',BOOKS,AUTHORS)"
   ]
  },
  {
   "cell_type": "code",
   "execution_count": 139,
   "id": "a86fee7a-d874-4f81-a953-2c2f2da18068",
   "metadata": {},
   "outputs": [],
   "source": [
    "story = still_unfound[170]\n",
    "# Combine into final record\n",
    "book = {\n",
    "    'id': new_ids,\n",
    "    'title': story['title'],\n",
    "    'author': story['author'],\n",
    "    'story': story['text'],\n",
    "    'av_rating': 3.65,\n",
    "    'num_ratings': 74,\n",
    "    'reviews': [{'rating':3,'text':\"Pulled the expectations of the patriarchy into sight, but lacked subtlety and insight. It seems awful to be nitpicking at the writing, but while the subject and jibes were spot on, but the reading experience did not leave me with any new perspective.\"},\n",
    "               {'rating':3,'text':\"3.25 An Extinct Angel is definitely a feminist writing, not really a short story at all. It has an undertone of humorous bitterness that I enjoyed. However it didn't really strike me as incredibly powerful or moving (coming from someone who really enjoys feminist material). Taking into consideration the time it was written, this was likely very unique and daring for the time, but in more modern times, it's now become a little tame. It doesn't dive very deep nor was there much I felt a deep connection to. There's nothing wrong with it at all, but it probably won't stick with me. It was just okay!\"},\n",
    "               {'rating':4,'text':\"'he never assisted the angel to rise, but got out from under and resumed his way, leaving her in the mud. she was a great convenience to walk on, and, as was stoutly maintained by the human creature, helped to keep the other angels clean' i teared up reading that part\"},]\n",
    "}\n",
    "#print(book)\n",
    "data_3.append(book)"
   ]
  },
  {
   "cell_type": "markdown",
   "id": "21c1b402-0208-4f40-bbee-86c6316bcb1c",
   "metadata": {},
   "source": [
    "#### the ass and the mule"
   ]
  },
  {
   "cell_type": "code",
   "execution_count": 987,
   "id": "eb4dd78d-2e22-4ae9-a0c4-ff3febdc8ef3",
   "metadata": {},
   "outputs": [
    {
     "data": {
      "text/plain": [
       "'The Ass and the Mule'"
      ]
     },
     "execution_count": 987,
     "metadata": {},
     "output_type": "execute_result"
    }
   ],
   "source": [
    "still_unfound[171]['title']"
   ]
  },
  {
   "cell_type": "code",
   "execution_count": 989,
   "id": "7c450080-bce7-4569-bdb0-ca00724b5277",
   "metadata": {},
   "outputs": [
    {
     "name": "stdout",
     "output_type": "stream",
     "text": [
      "[['The Mule', '33141885']]\n"
     ]
    }
   ],
   "source": [
    "matches = [s for s in ae if 'mule' in s[0].lower()]\n",
    "print(matches)"
   ]
  },
  {
   "cell_type": "markdown",
   "id": "5ae3a204-ea02-4e2b-bebb-4aeb6229272b",
   "metadata": {},
   "source": [
    "#### the well of the world's end"
   ]
  },
  {
   "cell_type": "code",
   "execution_count": 991,
   "id": "39d5c0ee-b87b-4935-92d8-501440319e7a",
   "metadata": {},
   "outputs": [
    {
     "data": {
      "text/plain": [
       "'The Well of the World’s End'"
      ]
     },
     "execution_count": 991,
     "metadata": {},
     "output_type": "execute_result"
    }
   ],
   "source": [
    "still_unfound[172]['title']"
   ]
  },
  {
   "cell_type": "markdown",
   "id": "ac6cea0c-f74f-422a-aec0-b965fb518e60",
   "metadata": {},
   "source": [
    "#### over the range"
   ]
  },
  {
   "cell_type": "code",
   "execution_count": 993,
   "id": "70cdf38a-b8ca-4e0c-a9dd-7d0b5e237020",
   "metadata": {},
   "outputs": [
    {
     "data": {
      "text/plain": [
       "'Over the Range'"
      ]
     },
     "execution_count": 993,
     "metadata": {},
     "output_type": "execute_result"
    }
   ],
   "source": [
    "still_unfound[173]['title']"
   ]
  },
  {
   "cell_type": "code",
   "execution_count": 994,
   "id": "ec60be78-e162-4430-8eec-57150e5f73af",
   "metadata": {},
   "outputs": [
    {
     "name": "stdout",
     "output_type": "stream",
     "text": [
      "[]\n"
     ]
    }
   ],
   "source": [
    "matches = [s for s in abp if 'range' in s[0].lower()]\n",
    "print(matches)"
   ]
  },
  {
   "cell_type": "markdown",
   "id": "0c0e23af-1025-4578-a235-f392ef3d2f29",
   "metadata": {},
   "source": [
    "#### Allez"
   ]
  },
  {
   "cell_type": "code",
   "execution_count": 996,
   "id": "2185f71d-21f0-4756-b6c9-cd57bea7305f",
   "metadata": {},
   "outputs": [
    {
     "data": {
      "text/plain": [
       "'“allez!”'"
      ]
     },
     "execution_count": 996,
     "metadata": {},
     "output_type": "execute_result"
    }
   ],
   "source": [
    "still_unfound[174]['title']"
   ]
  },
  {
   "cell_type": "code",
   "execution_count": 1000,
   "id": "17f8c1ae-b622-4ee1-bbff-bb5f55ffc810",
   "metadata": {},
   "outputs": [
    {
     "name": "stdout",
     "output_type": "stream",
     "text": [
      "[]\n"
     ]
    }
   ],
   "source": [
    "aik.extend(find_BOOKS_by_author('Aleksandr Kuprin',BOOKS,AUTHORS))\n",
    "matches = [s for s in aik if 'al' in s[0].lower()]\n",
    "print(aik)"
   ]
  },
  {
   "cell_type": "code",
   "execution_count": 141,
   "id": "af142ba8-523c-418b-b126-0e9693bedf0d",
   "metadata": {},
   "outputs": [],
   "source": [
    "story = still_unfound[174]\n",
    "# Combine into final record\n",
    "book = {\n",
    "    'id': [],\n",
    "    'title': 'Allez!',\n",
    "    'author': story['author'],\n",
    "    'story': story['text'],\n",
    "    'av_rating': 4.33,\n",
    "    'reviews': [{'rating':4,'text':\"Allez!\"}]\n",
    "}\n",
    "#print(book)\n",
    "data_3.append(book)"
   ]
  },
  {
   "cell_type": "markdown",
   "id": "458008dd-c5a6-4a2c-8656-56dbf54ae49e",
   "metadata": {},
   "source": [
    "#### in the droving days"
   ]
  },
  {
   "cell_type": "code",
   "execution_count": 1007,
   "id": "2ba90601-e9af-44ba-ab55-4f15f92f145f",
   "metadata": {},
   "outputs": [
    {
     "data": {
      "text/plain": [
       "'In the Droving Days'"
      ]
     },
     "execution_count": 1007,
     "metadata": {},
     "output_type": "execute_result"
    }
   ],
   "source": [
    "still_unfound[175]['title']"
   ]
  },
  {
   "cell_type": "code",
   "execution_count": 1008,
   "id": "76e408c2-ec01-4f6c-90b8-699afbec664b",
   "metadata": {},
   "outputs": [
    {
     "name": "stdout",
     "output_type": "stream",
     "text": [
      "[]\n"
     ]
    }
   ],
   "source": [
    "matches = [s for s in abp if 'day' in s[0].lower()]\n",
    "print(matches)"
   ]
  },
  {
   "cell_type": "markdown",
   "id": "6427e4de-6488-4f9f-a567-4265da2a470d",
   "metadata": {},
   "source": [
    "#### A tent in agony"
   ]
  },
  {
   "cell_type": "code",
   "execution_count": 1010,
   "id": "54d39de7-d0d7-4750-b016-04caa1d681bf",
   "metadata": {},
   "outputs": [
    {
     "data": {
      "text/plain": [
       "'A Tent in Agony'"
      ]
     },
     "execution_count": 1010,
     "metadata": {},
     "output_type": "execute_result"
    }
   ],
   "source": [
    "still_unfound[176]['title']"
   ]
  },
  {
   "cell_type": "markdown",
   "id": "4e716f1d-9e19-45a2-b633-4804eb801ec0",
   "metadata": {},
   "source": [
    "#### the garden of the holy virgin"
   ]
  },
  {
   "cell_type": "code",
   "execution_count": 1012,
   "id": "5771ed72-9f98-44a0-b17f-5b5c786958f5",
   "metadata": {},
   "outputs": [
    {
     "data": {
      "text/plain": [
       "'The Garden Of The Holy Virgin'"
      ]
     },
     "execution_count": 1012,
     "metadata": {},
     "output_type": "execute_result"
    }
   ],
   "source": [
    "still_unfound[177]['title']"
   ]
  },
  {
   "cell_type": "markdown",
   "id": "21acbaa7-cb64-43e8-80d8-15e9cb186a26",
   "metadata": {},
   "source": [
    "#### the golden ball"
   ]
  },
  {
   "cell_type": "code",
   "execution_count": 1014,
   "id": "6681013a-9fde-4ce4-baa6-aaf20e65c85d",
   "metadata": {},
   "outputs": [
    {
     "data": {
      "text/plain": [
       "'The Golden Ball'"
      ]
     },
     "execution_count": 1014,
     "metadata": {},
     "output_type": "execute_result"
    }
   ],
   "source": [
    "still_unfound[178]['title']"
   ]
  },
  {
   "cell_type": "code",
   "execution_count": 1015,
   "id": "18399a84-7c6c-4f5f-baae-3c8759352552",
   "metadata": {},
   "outputs": [
    {
     "name": "stdout",
     "output_type": "stream",
     "text": [
      "[]\n"
     ]
    }
   ],
   "source": [
    "matches = [s for s in fas if 'ball' in s[0].lower()]\n",
    "print(matches)"
   ]
  },
  {
   "cell_type": "markdown",
   "id": "61cad5d8-ded1-42ac-b1ca-53f8d2ec72e5",
   "metadata": {},
   "source": [
    "#### 'Sez You"
   ]
  },
  {
   "cell_type": "code",
   "execution_count": 1018,
   "id": "6ed2e642-5173-4639-9d53-bc7168af291d",
   "metadata": {},
   "outputs": [
    {
     "data": {
      "text/plain": [
       "'‘Sez You’'"
      ]
     },
     "execution_count": 1018,
     "metadata": {},
     "output_type": "execute_result"
    }
   ],
   "source": [
    "still_unfound[179]['title']"
   ]
  },
  {
   "cell_type": "code",
   "execution_count": 1020,
   "id": "0afbe924-99fa-4a48-927a-bec15ae51034",
   "metadata": {},
   "outputs": [
    {
     "name": "stdout",
     "output_type": "stream",
     "text": [
      "[]\n"
     ]
    }
   ],
   "source": [
    "matches = [s for s in hl if 'you' in s[0].lower()]\n",
    "print(matches)"
   ]
  },
  {
   "cell_type": "markdown",
   "id": "63c38f1e-1703-48a3-aa33-49948fb7431c",
   "metadata": {},
   "source": [
    "#### the fox and the grapes"
   ]
  },
  {
   "cell_type": "code",
   "execution_count": 1022,
   "id": "aba67ccd-1663-415d-bcc7-b77821b3e824",
   "metadata": {},
   "outputs": [
    {
     "data": {
      "text/plain": [
       "'The Fox and the Grapes'"
      ]
     },
     "execution_count": 1022,
     "metadata": {},
     "output_type": "execute_result"
    }
   ],
   "source": [
    "still_unfound[180]['title']"
   ]
  },
  {
   "cell_type": "code",
   "execution_count": 1023,
   "id": "a7882bf7-0b25-43dd-94a8-475f0804c4a2",
   "metadata": {},
   "outputs": [
    {
     "name": "stdout",
     "output_type": "stream",
     "text": [
      "[['The Fox And The Grapes', '33131659']]\n"
     ]
    }
   ],
   "source": [
    "matches = [s for s in ae if 'grape' in s[0].lower()]\n",
    "print(matches)"
   ]
  },
  {
   "cell_type": "code",
   "execution_count": 142,
   "id": "8c578f29-b15a-455e-ad02-6364b4519b7f",
   "metadata": {},
   "outputs": [
    {
     "name": "stdout",
     "output_type": "stream",
     "text": [
      "['Aesop']\n"
     ]
    }
   ],
   "source": [
    "for item in BOOKS:\n",
    "    names = []\n",
    "    if item['book_id'] == '33131659':\n",
    "        for id in item['author_ids']:\n",
    "            name = find_name_by_id(id,)\n",
    "            names.append(name)\n",
    "        print(names)"
   ]
  },
  {
   "cell_type": "code",
   "execution_count": 143,
   "id": "0ad37cb8-166f-44a3-b2ba-9963eac72b5f",
   "metadata": {},
   "outputs": [
    {
     "name": "stdout",
     "output_type": "stream",
     "text": [
      "The Fox and the Grapes\n"
     ]
    }
   ],
   "source": [
    "new_ids = ['33131659']\n",
    "story = still_unfound[180]\n",
    "print(story['title'])\n",
    "total_ratings = 0\n",
    "count = 0\n",
    "for id in new_ids:\n",
    "    for item in BOOKS:\n",
    "        if id == item['book_id']:\n",
    "            try:\n",
    "                rating_av = float(item['average_rating'])\n",
    "                num = int(item['ratings_count'])\n",
    "                total_ratings += rating_av * num\n",
    "                count += num\n",
    "            except (ValueError, TypeError, KeyError):\n",
    "                pass\n",
    "                    \n",
    "if count == 0:\n",
    "    average_rating = 0\n",
    "else:\n",
    "    average_rating = total_ratings / count\n",
    "\n",
    "\n",
    "book_reviews = find_reviews_by_id(new_ids,)\n",
    "\n",
    "# Combine into final record\n",
    "book = {\n",
    "    'id': new_ids,\n",
    "    'title': story['title'],\n",
    "    'author': story['author'],\n",
    "    'story': story['text'],\n",
    "    'av_rating': average_rating,\n",
    "    'num_ratings':count,\n",
    "    'reviews': book_reviews\n",
    "}\n",
    "#print(book)\n",
    "data_3.append(book)"
   ]
  },
  {
   "cell_type": "markdown",
   "id": "70df4634-0c11-4552-a2c4-d369847cb147",
   "metadata": {},
   "source": [
    "#### the boss of the admiral lynch"
   ]
  },
  {
   "cell_type": "code",
   "execution_count": 1029,
   "id": "50f1cbd9-cd70-4799-93bd-aa1bb1fce451",
   "metadata": {},
   "outputs": [
    {
     "data": {
      "text/plain": [
       "'The Boss of the ‘Admiral Lynch’'"
      ]
     },
     "execution_count": 1029,
     "metadata": {},
     "output_type": "execute_result"
    }
   ],
   "source": [
    "still_unfound[181]['title']"
   ]
  },
  {
   "cell_type": "code",
   "execution_count": 1030,
   "id": "5aa207d8-091b-4212-bfe7-93fa3b7a88a2",
   "metadata": {},
   "outputs": [
    {
     "name": "stdout",
     "output_type": "stream",
     "text": [
      "[]\n"
     ]
    }
   ],
   "source": [
    "matches = [s for s in abp if 'boss' in s[0].lower()]\n",
    "print(matches)"
   ]
  },
  {
   "cell_type": "markdown",
   "id": "1490b7a5-3dbc-4a79-85c9-973f60b73f58",
   "metadata": {},
   "source": [
    "#### the city bushman"
   ]
  },
  {
   "cell_type": "code",
   "execution_count": 1032,
   "id": "eff62bed-c780-4084-a12e-dee63b1694a5",
   "metadata": {},
   "outputs": [
    {
     "data": {
      "text/plain": [
       "'The City Bushman'"
      ]
     },
     "execution_count": 1032,
     "metadata": {},
     "output_type": "execute_result"
    }
   ],
   "source": [
    "still_unfound[182]['title']"
   ]
  },
  {
   "cell_type": "code",
   "execution_count": 1033,
   "id": "fa5ae571-54bd-4b4d-8f61-7a23d0a4ca47",
   "metadata": {},
   "outputs": [
    {
     "name": "stdout",
     "output_type": "stream",
     "text": [
      "[]\n"
     ]
    }
   ],
   "source": [
    "matches = [s for s in hl if 'bush' in s[0].lower()]\n",
    "print(matches)"
   ]
  },
  {
   "cell_type": "markdown",
   "id": "6ffa7304-dd18-4d79-9b57-b20b482b4636",
   "metadata": {},
   "source": [
    "#### a defenceless creature"
   ]
  },
  {
   "cell_type": "code",
   "execution_count": 1035,
   "id": "543b94e7-9de8-4151-b8a4-0b1a574cfc44",
   "metadata": {},
   "outputs": [
    {
     "data": {
      "text/plain": [
       "'A Defenceless Creature'"
      ]
     },
     "execution_count": 1035,
     "metadata": {},
     "output_type": "execute_result"
    }
   ],
   "source": [
    "still_unfound[183]['title']"
   ]
  },
  {
   "cell_type": "code",
   "execution_count": 1038,
   "id": "22ec7006-4b40-4db8-bb30-1b3ba1f43f58",
   "metadata": {},
   "outputs": [
    {
     "name": "stdout",
     "output_type": "stream",
     "text": [
      "[]\n"
     ]
    }
   ],
   "source": [
    "matches = [s for s in ac if 'creature' in s[0].lower()]\n",
    "print(matches)"
   ]
  },
  {
   "cell_type": "markdown",
   "id": "18387ccf-00da-49d7-a7e3-2453be2551cb",
   "metadata": {},
   "source": [
    "#### a charm"
   ]
  },
  {
   "cell_type": "code",
   "execution_count": 1042,
   "id": "44e77ef5-c5b2-4332-9f00-88532f574123",
   "metadata": {},
   "outputs": [
    {
     "data": {
      "text/plain": [
       "'A Charm'"
      ]
     },
     "execution_count": 1042,
     "metadata": {},
     "output_type": "execute_result"
    }
   ],
   "source": [
    "still_unfound[184]['title']"
   ]
  },
  {
   "cell_type": "code",
   "execution_count": 1044,
   "id": "59ad3f87-f20e-45f8-896f-ffd78fbf42c0",
   "metadata": {},
   "outputs": [
    {
     "name": "stdout",
     "output_type": "stream",
     "text": [
      "[]\n"
     ]
    }
   ],
   "source": [
    "matches = [s for s in rk if 'charm' in s[0].lower()]\n",
    "print(matches)"
   ]
  },
  {
   "cell_type": "markdown",
   "id": "9e179585-a30b-4e4f-bba1-b4c82278fee7",
   "metadata": {},
   "source": [
    "#### 39"
   ]
  },
  {
   "cell_type": "code",
   "execution_count": 1046,
   "id": "e85c24a7-c459-45a2-83b9-373a930cf5eb",
   "metadata": {},
   "outputs": [
    {
     "data": {
      "text/plain": [
       "'39'"
      ]
     },
     "execution_count": 1046,
     "metadata": {},
     "output_type": "execute_result"
    }
   ],
   "source": [
    "still_unfound[185]['title']"
   ]
  },
  {
   "cell_type": "code",
   "execution_count": 1047,
   "id": "4b3cc7b1-b032-46b8-80aa-d17536eaa3cf",
   "metadata": {},
   "outputs": [
    {
     "name": "stdout",
     "output_type": "stream",
     "text": [
      "[]\n"
     ]
    }
   ],
   "source": [
    "matches = [s for s in hl if '39' in s[0].lower()]\n",
    "print(matches)"
   ]
  },
  {
   "cell_type": "markdown",
   "id": "e80b4363-eabc-44cd-8fd4-13f761a73ee0",
   "metadata": {},
   "source": [
    "#### the swagman's rest"
   ]
  },
  {
   "cell_type": "code",
   "execution_count": 1049,
   "id": "a2cb27b8-a911-49cf-865c-1773493126a3",
   "metadata": {},
   "outputs": [
    {
     "data": {
      "text/plain": [
       "'The Swagman’s Rest'"
      ]
     },
     "execution_count": 1049,
     "metadata": {},
     "output_type": "execute_result"
    }
   ],
   "source": [
    "still_unfound[186]['title']"
   ]
  },
  {
   "cell_type": "code",
   "execution_count": 1050,
   "id": "0130e8df-0b2a-411b-9562-a2974edf94f3",
   "metadata": {},
   "outputs": [
    {
     "name": "stdout",
     "output_type": "stream",
     "text": [
      "[]\n"
     ]
    }
   ],
   "source": [
    "matches = [s for s in abp if 'rest' in s[0].lower()]\n",
    "print(matches)"
   ]
  },
  {
   "cell_type": "markdown",
   "id": "e1704900-f007-408e-bad6-85871a846439",
   "metadata": {},
   "source": [
    "#### the temptation of harringay"
   ]
  },
  {
   "cell_type": "code",
   "execution_count": 1052,
   "id": "58f29469-7ca1-4bf8-af85-660dd42410a9",
   "metadata": {},
   "outputs": [
    {
     "data": {
      "text/plain": [
       "'The Temptation of Harringay'"
      ]
     },
     "execution_count": 1052,
     "metadata": {},
     "output_type": "execute_result"
    }
   ],
   "source": [
    "still_unfound[187]['title']"
   ]
  },
  {
   "cell_type": "code",
   "execution_count": 1056,
   "id": "be286e42-59fe-454f-94a6-679c4eda7866",
   "metadata": {},
   "outputs": [
    {
     "name": "stdout",
     "output_type": "stream",
     "text": [
      "[]\n"
     ]
    }
   ],
   "source": [
    "matches = [s for s in hgw if 'tempt' in s[0].lower()]\n",
    "print(matches)"
   ]
  },
  {
   "cell_type": "code",
   "execution_count": 1057,
   "id": "5bfab94c-e63a-48d3-b37f-0a5144bdcd3a",
   "metadata": {},
   "outputs": [],
   "source": [
    "for item in BOOKS:\n",
    "    if item['title'] == 'The Temptation of Harringay':\n",
    "        print(item['book_id'])"
   ]
  },
  {
   "cell_type": "markdown",
   "id": "5c1576fd-7620-4835-a5ca-a6014cac5ad8",
   "metadata": {},
   "source": [
    "#### the travelling post office"
   ]
  },
  {
   "cell_type": "code",
   "execution_count": 1061,
   "id": "142a9947-8f23-4d7b-9b2e-a39eacd375d3",
   "metadata": {},
   "outputs": [
    {
     "data": {
      "text/plain": [
       "'The Travelling Post Office'"
      ]
     },
     "execution_count": 1061,
     "metadata": {},
     "output_type": "execute_result"
    }
   ],
   "source": [
    "still_unfound[188]['title']"
   ]
  },
  {
   "cell_type": "code",
   "execution_count": 1062,
   "id": "6ec55fbb-7a82-4d4d-ba1e-f2f0c50fa11f",
   "metadata": {},
   "outputs": [
    {
     "name": "stdout",
     "output_type": "stream",
     "text": [
      "[]\n"
     ]
    }
   ],
   "source": [
    "matches = [s for s in abp if 'post' in s[0].lower()]\n",
    "print(matches)"
   ]
  },
  {
   "cell_type": "markdown",
   "id": "9b2c986b-4458-4c24-94fa-9ebb07c61a99",
   "metadata": {},
   "source": [
    "#### babes in the wood"
   ]
  },
  {
   "cell_type": "code",
   "execution_count": 1064,
   "id": "08e05166-60b8-4bc5-bc61-9d3e8fd14bdc",
   "metadata": {},
   "outputs": [
    {
     "data": {
      "text/plain": [
       "'The Babes In The Wood'"
      ]
     },
     "execution_count": 1064,
     "metadata": {},
     "output_type": "execute_result"
    }
   ],
   "source": [
    "still_unfound[189]['title']"
   ]
  },
  {
   "cell_type": "markdown",
   "id": "0c91a6e7-533b-4a1b-9cc9-51a916ca44f1",
   "metadata": {},
   "source": [
    "#### mr fox"
   ]
  },
  {
   "cell_type": "code",
   "execution_count": 1066,
   "id": "29ab6d53-698c-4833-8412-007148692b1b",
   "metadata": {},
   "outputs": [
    {
     "data": {
      "text/plain": [
       "'Mr. Fox'"
      ]
     },
     "execution_count": 1066,
     "metadata": {},
     "output_type": "execute_result"
    }
   ],
   "source": [
    "still_unfound[190]['title']"
   ]
  },
  {
   "cell_type": "code",
   "execution_count": 1069,
   "id": "e8f69fa7-3d22-4e3b-b8e1-98b15b61605d",
   "metadata": {},
   "outputs": [
    {
     "name": "stdout",
     "output_type": "stream",
     "text": [
      "[]\n"
     ]
    }
   ],
   "source": [
    "matches = [s for s in fas if 'fox' in s[0].lower()]\n",
    "print(matches)"
   ]
  },
  {
   "cell_type": "markdown",
   "id": "467d85c0-ba3c-4f57-ae2f-207c4d9402e2",
   "metadata": {},
   "source": [
    "#### The song and the dance"
   ]
  },
  {
   "cell_type": "code",
   "execution_count": 1073,
   "id": "e286da00-89a5-47fa-a0e4-b8b6b2888b8b",
   "metadata": {},
   "outputs": [
    {
     "data": {
      "text/plain": [
       "'The Song And The Dance'"
      ]
     },
     "execution_count": 1073,
     "metadata": {},
     "output_type": "execute_result"
    }
   ],
   "source": [
    "still_unfound[191]['title']"
   ]
  },
  {
   "cell_type": "markdown",
   "id": "70afff59-4225-4114-9441-f88a7f789e56",
   "metadata": {},
   "source": [
    "#### the three little pigs"
   ]
  },
  {
   "cell_type": "code",
   "execution_count": 1075,
   "id": "79df373c-e167-41fb-ba81-69012992d86d",
   "metadata": {},
   "outputs": [
    {
     "data": {
      "text/plain": [
       "'The Three Little Pigs'"
      ]
     },
     "execution_count": 1075,
     "metadata": {},
     "output_type": "execute_result"
    }
   ],
   "source": [
    "still_unfound[192]['title']"
   ]
  },
  {
   "cell_type": "markdown",
   "id": "1fd9ed26-1e77-4b08-ae84-1c704b75fcf3",
   "metadata": {},
   "source": [
    "#### the amateur gardener"
   ]
  },
  {
   "cell_type": "code",
   "execution_count": 1077,
   "id": "643d0b74-e395-4847-bfa7-eeae36fce56b",
   "metadata": {},
   "outputs": [
    {
     "data": {
      "text/plain": [
       "'The Amateur Gardener'"
      ]
     },
     "execution_count": 1077,
     "metadata": {},
     "output_type": "execute_result"
    }
   ],
   "source": [
    "still_unfound[193]['title']"
   ]
  },
  {
   "cell_type": "code",
   "execution_count": 1078,
   "id": "a8228323-01bb-41d4-b228-cd5f43dbb8a9",
   "metadata": {},
   "outputs": [
    {
     "name": "stdout",
     "output_type": "stream",
     "text": [
      "[]\n"
     ]
    }
   ],
   "source": [
    "matches = [s for s in abp if 'gard' in s[0].lower()]\n",
    "print(matches)"
   ]
  },
  {
   "cell_type": "markdown",
   "id": "ed891909-3e33-4be3-9623-f42ef7612f57",
   "metadata": {},
   "source": [
    "#### borderland"
   ]
  },
  {
   "cell_type": "code",
   "execution_count": 1080,
   "id": "5231a989-0b47-41a9-b763-16ae7cfb0e21",
   "metadata": {},
   "outputs": [
    {
     "data": {
      "text/plain": [
       "'Borderland'"
      ]
     },
     "execution_count": 1080,
     "metadata": {},
     "output_type": "execute_result"
    }
   ],
   "source": [
    "still_unfound[194]['title']"
   ]
  },
  {
   "cell_type": "code",
   "execution_count": 1081,
   "id": "94a3823d-051e-4657-b90e-b5870e9c6ebe",
   "metadata": {},
   "outputs": [
    {
     "name": "stdout",
     "output_type": "stream",
     "text": [
      "[]\n"
     ]
    }
   ],
   "source": [
    "matches = [s for s in hl if 'land' in s[0].lower()]\n",
    "print(matches)"
   ]
  },
  {
   "cell_type": "code",
   "execution_count": null,
   "id": "110ad03d-99db-45b7-b0ca-51fe923da3d8",
   "metadata": {},
   "outputs": [],
   "source": [
    "still_unfound[195]['title']"
   ]
  },
  {
   "cell_type": "markdown",
   "id": "8cab2cf6-c4c6-4ae6-985f-84c06f5d8301",
   "metadata": {},
   "source": [
    "#### save data"
   ]
  },
  {
   "cell_type": "code",
   "execution_count": 144,
   "id": "a962b123-f772-4dd4-8a88-55521ed773f3",
   "metadata": {},
   "outputs": [
    {
     "data": {
      "text/plain": [
       "124"
      ]
     },
     "execution_count": 144,
     "metadata": {},
     "output_type": "execute_result"
    }
   ],
   "source": [
    "len(data_3)"
   ]
  },
  {
   "cell_type": "code",
   "execution_count": 153,
   "id": "933aa72c-712b-47e7-9e49-30c8db4a5874",
   "metadata": {},
   "outputs": [],
   "source": [
    "def has_repeated_dict(list_of_dicts):\n",
    "    seen_dicts = set()\n",
    "    for d in list_of_dicts:\n",
    "        title = d['title']\n",
    "        if title in seen_dicts:\n",
    "            return True, title\n",
    "        seen_dicts.add(title)\n",
    "    return False"
   ]
  },
  {
   "cell_type": "code",
   "execution_count": 152,
   "id": "7c203a52-b48a-41a7-8f38-042101ef4a01",
   "metadata": {},
   "outputs": [
    {
     "data": {
      "text/plain": [
       "(True, 'Hans Christian Andersen')"
      ]
     },
     "execution_count": 152,
     "metadata": {},
     "output_type": "execute_result"
    }
   ],
   "source": [
    "has_repeated_dict(data_3)"
   ]
  },
  {
   "cell_type": "code",
   "execution_count": 154,
   "id": "b7ef0829-de8c-40bd-aff2-91414b497e9f",
   "metadata": {},
   "outputs": [],
   "source": [
    "with open(\"all_data_together_with_counts.jsonl\", \"w\", encoding=\"utf-8\") as f:\n",
    "        for book in data_3:\n",
    "            f.write(json.dumps(book, ensure_ascii=False) + \"\\n\")"
   ]
  }
 ],
 "metadata": {
  "kernelspec": {
   "display_name": "Python 3 (ipykernel)",
   "language": "python",
   "name": "python3"
  },
  "language_info": {
   "codemirror_mode": {
    "name": "ipython",
    "version": 3
   },
   "file_extension": ".py",
   "mimetype": "text/x-python",
   "name": "python",
   "nbconvert_exporter": "python",
   "pygments_lexer": "ipython3",
   "version": "3.10.18"
  }
 },
 "nbformat": 4,
 "nbformat_minor": 5
}
